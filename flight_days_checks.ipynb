{
 "cells": [
  {
   "cell_type": "code",
   "execution_count": 26,
   "metadata": {},
   "outputs": [
    {
     "name": "stdout",
     "output_type": "stream",
     "text": [
      "          strength wind_alignment precip\n",
      "meas_hour       13             13     13\n",
      "meas_day                                \n",
      "20190106       4.6       0.969846    0.0\n",
      "20190113       8.4       0.750000    0.8\n",
      "20190120       3.0       0.586824    0.0\n",
      "20190127       7.2       0.030154    0.0\n",
      "20190203       4.8       0.883022    0.0\n",
      "['21.04.2024', '31.03.2024', '10.02.2024', '09.09.2023', '11.08.2023', '05.08.2023', '07.07.2023', '18.06.2023', '10.06.2023', '04.06.2023', '03.06.2023', '28.05.2023', '27.05.2023', '18.05.2023', '30.04.2023', '23.04.2023', '07.04.2023', '18.03.2023', '30.10.2022', '09.10.2022', '30.09.2022', '21.08.2022', '02.07.2022', '04.06.2022', '03.06.2022', '18.04.2022', '06.03.2022', '15.01.2022', '24.10.2021', '17.10.2021', '10.10.2021', '02.10.2021', '21.08.2021', '12.08.2021', '25.07.2021', '10.07.2021', '04.07.2021', '27.06.2021', '26.06.2021', '01.06.2021', '30.05.2021', '08.05.2021', '01.05.2021', '17.10.2020', '20.09.2020', '17.09.2020', '19.08.2020', '09.08.2020', '25.07.2020', '18.07.2020', '24.06.2020', '02.06.2020', '01.06.2020', '30.05.2020', '29.05.2020', '21.05.2020', '14.05.2020', '01.01.2020', '31.10.2019', '21.09.2019', '14.09.2019', '08.09.2019', '30.08.2019', '25.08.2019', '23.08.2019', '22.08.2019', '04.08.2019', '22.06.2019', '16.06.2019', '09.06.2019', '19.05.2019', '20.04.2019', '10.04.2019', '08.04.2019', '29.03.2019', '24.03.2019', '02.03.2019', '24.02.2019', '17.02.2019', '16.02.2019', '18.11.2018', '03.11.2018', '21.10.2018', '19.10.2018', '13.10.2018', '12.10.2018', '07.10.2018', '16.09.2018', '14.09.2018', '09.09.2018', '02.09.2018', '01.09.2018', '12.08.2018', '07.08.2018', '22.07.2018', '15.07.2018', '02.07.2018', '01.07.2018', '16.06.2018', '15.06.2018', '09.06.2018', '27.05.2018', '26.05.2018', '19.05.2018', '11.05.2018', '04.05.2018', '20.04.2018', '08.04.2018', '02.04.2018', '25.03.2018', '24.03.2018', '25.02.2018', '23.02.2018', '17.12.2017', '04.11.2017', '15.10.2017', '01.10.2017', '23.09.2017', '22.09.2017', '17.09.2017', '16.09.2017', '10.09.2017', '03.09.2017', '13.08.2017', '09.07.2017', '11.06.2017', '05.06.2017', '02.06.2017', '21.05.2017', '14.05.2017', '13.05.2017', '20.04.2017', '09.04.2017', '26.03.2017', '25.03.2017', '16.03.2017', '11.03.2017', '28.01.2017', '16.10.2016', '24.09.2016', '18.09.2016', '10.09.2016', '19.08.2016', '17.08.2016', '24.07.2016', '11.06.2016', '05.06.2016', '04.06.2016', '27.05.2016', '21.05.2016', '13.05.2016', '05.05.2016', '09.04.2016', '03.04.2016', '01.04.2016', '28.02.2016', '27.02.2016', '24.10.2015', '26.09.2015', '21.08.2015', '09.08.2015', '02.08.2015', '11.07.2015', '24.05.2015', '02.05.2015', '19.04.2015', '18.04.2015', '06.04.2015', '05.04.2015', '04.04.2015', '22.03.2015', '07.03.2015', '05.10.2014', '28.09.2014', '27.09.2014', '06.09.2014', '26.07.2014', '12.07.2014', '15.06.2014', '08.06.2014', '07.06.2014', '29.05.2014', '25.05.2014', '24.05.2014', '18.05.2014', '17.05.2014', '03.05.2014', '26.04.2014', '12.04.2014', '06.04.2014', '30.03.2014', '23.03.2014', '08.03.2014', '02.03.2014', '13.10.2013', '28.09.2013', '15.09.2013', '04.08.2013', '20.07.2013', '06.07.2013', '07.06.2013', '19.05.2013', '05.05.2013', '01.05.2013', '28.04.2013', '21.04.2013', '23.09.2012', '16.09.2012', '18.08.2012', '01.07.2012', '30.06.2012', '01.05.2012', '14.04.2012', '25.09.2011', '03.09.2011', '13.08.2011', '04.06.2011', '03.06.2011', '02.06.2011', '21.05.2011', '25.04.2011', '24.04.2011', '22.04.2011', '05.09.2010', '21.08.2010', '31.07.2010']\n"
     ]
    }
   ],
   "source": [
    "import numpy as np\n",
    "import pandas as pd\n",
    "from dotenv import load_dotenv\n",
    "\n",
    "from xcontest.xcontest import login, flight_days\n",
    "from wetter.wetter import get_combined_data\n",
    "\n",
    "load_dotenv()\n",
    "\n",
    "timeframe_start,timeframe_end = 2019010100,2023123123\n",
    "\n",
    "df = get_combined_data(timeframe_start,timeframe_end, 'Sun',13, 13)\n",
    "\n",
    "print(df.head())\n",
    "\n",
    "driver = login()\n",
    "\n",
    "flight_day_list= flight_days(driver, 'Metzingen')"
   ]
  },
  {
   "cell_type": "code",
   "execution_count": 38,
   "metadata": {},
   "outputs": [
    {
     "name": "stdout",
     "output_type": "stream",
     "text": [
      "          strength wind_alignment precip is_flight_day  knn\n",
      "meas_hour       13             13     13                   \n",
      "meas_day                                                   \n",
      "20191229       3.6       0.413176    0.0             0  0.5\n",
      "20211128       2.4       0.586824    0.0             0  0.5\n",
      "20230205       2.5       0.586824    0.0             0  0.5\n"
     ]
    }
   ],
   "source": [
    "from datetime import datetime\n",
    "from sklearn.neighbors import KNeighborsRegressor\n",
    "\n",
    "flight_day_as_mess_date = [int(datetime.strftime(datetime.strptime(d,'%d.%m.%Y'), '%Y%m%d')) for d in flight_day_list]\n",
    "\n",
    "df['is_flight_day'] = df.apply(lambda row: 1 if int(row.name) in flight_day_as_mess_date else 0, axis=1)\n",
    "#print(df.head(10))\n",
    "\n",
    "X, y = df[['strength','wind_alignment','precip']].to_numpy(), df['is_flight_day'].to_numpy() # features and labels\n",
    "#print(X.shape, y.shape)\n",
    "\n",
    "# perceptron ?  https://en.wikipedia.org/wiki/Perceptron - no separating hyperplane\n",
    "# kNN ?\n",
    "neigh = KNeighborsRegressor(n_neighbors=5, weights= 'distance')\n",
    "neigh.fit(X, y)\n",
    "\n",
    "#ytilde = pd.Series(neigh.predict(X),name='knn')\n",
    "df['knn'] =  df.apply(lambda row:  neigh.predict([[row['strength',13],row['wind_alignment',13],row['precip',13]]])[0], axis=1)\n",
    "#print(df.head(50))\n",
    "\n",
    "df_actual = df[(df['is_flight_day']==1)].copy()\n",
    "df_missed = df[(df['knn']>= 0.4) & (df['is_flight_day']==0)].copy()\n",
    "print(df_missed.head())"
   ]
  },
  {
   "cell_type": "code",
   "execution_count": 13,
   "metadata": {},
   "outputs": [
    {
     "name": "stdout",
     "output_type": "stream",
     "text": [
      "[[0.95454545 0.        ]\n",
      " [0.         0.04545455]]\n",
      "3 1452 100 2\n",
      "0.34597330314034813\n",
      "0.34597334553932013\n",
      "0.34597338522077287\n",
      "0.34597342223309985\n",
      "0.3459734566462403\n",
      "0.3459734885483026\n",
      "0.345973518041899\n",
      "0.34597354524052304\n",
      "0.34597357026517356\n",
      "0.3459735932413418\n",
      "[1.         0.00137775 0.0013768 ]\n",
      "[1.         0.00137778 0.00137683]\n",
      "[1.         0.0013778  0.00137685]\n",
      "[1.         0.00137787 0.00137693]\n",
      "[1.         0.00137777 0.00137681]\n",
      "[1.         0.00137775 0.00137679]\n",
      "[1.         0.00137777 0.00137682]\n",
      "[1.         0.00137776 0.00137681]\n",
      "[1.         0.00137782 0.00137687]\n",
      "[1.         0.00137787 0.00137693]\n",
      "[1.         0.00137776 0.00137681]\n"
     ]
    }
   ],
   "source": [
    "from datetime import datetime\n",
    "from sklearn.model_selection import train_test_split\n",
    "from scipy.special import softmax\n",
    "\n",
    "flight_day_as_mess_date = [int(datetime.strftime(datetime.strptime(d,'%d.%m.%Y'), '%Y%m%d13')) for d in flight_day_list]\n",
    "\n",
    "df_wind['is_flight_day'] = df_wind.apply(lambda row: 1 if row['MESS_DATUM'] in flight_day_as_mess_date else 0, axis=1)\n",
    "# \n",
    "df_wind_train, df_wind_test = train_test_split(df_wind, test_size=0.2 )\n",
    "X, y = df_wind_train[['strength','wind_alignment','precip']].to_numpy().T, df_wind_train['is_flight_day'].to_numpy() # features and labels\n",
    "Y = np.asarray([[1,0] if f else [0,1] for f in y]).T\n",
    "class_weights =np.diag( [1.0-s/len(y) for s in Y.sum(axis=1)])\n",
    "\n",
    "print(class_weights)\n",
    "\n",
    "nx, m = np.shape(X)\n",
    "nh = 100 # number of hidden units\n",
    "ny = 2 # number of classes\n",
    "assert(np.shape(Y)==(ny,m))\n",
    "print(nx,m,nh,ny)\n",
    "\n",
    "alpha = 0.1\n",
    "\n",
    "# define activation and derivative\n",
    "# LeRU\n",
    "f = np.vectorize(lambda x: x if x > 0 else 0)\n",
    "fprime = np.vectorize(lambda x: 1 if x > 0 else 0)\n",
    "\n",
    "# init \n",
    "Xtilde = np.vstack((np.asarray([1 for _ in range(m)]) , X ))\n",
    "#print(np.shape(Xtilde))\n",
    "W1, W2 = 0.001* np.random.random_sample(size=((nh,nx+1))),  0.001*np.random.random_sample(size=((ny,nh+1)))\n",
    "\n",
    "# loop\n",
    "for _ in range(10):\n",
    "    alpha = 0.9*alpha\n",
    "    # FW \n",
    "    Z1 = W1.dot(Xtilde)\n",
    "    A1 = f(np.array(Z1))\n",
    "    #print(np.shape(A1))\n",
    "    A1tilde =  np.vstack((np.asarray([1 for _ in range(m)]) , A1 ))\n",
    "    Z2 = W2.dot(A1tilde)\n",
    "    #print(np.shape(Z2))\n",
    "    A2 = softmax(Z2)\n",
    "    #print(np.shape(A2))\n",
    "    loss = - np.sum(class_weights.dot(Y) * np.log(A2))/m/ny\n",
    "    print(loss)\n",
    "\n",
    "    # backpropagation\n",
    "    dZ2 =(np.eye(ny)-class_weights).dot(A2) - class_weights.dot(Y) + A2*Y # imbalanced classes\n",
    "    dW2 = (dZ2.dot(A1tilde.T))/m \n",
    "    #print(np.shape(dW2))\n",
    "    dZ1tilde = W2.T.dot( dZ2) * fprime(np.vstack((np.asarray([1 for _ in range(m)]) , Z1 ))) # last term is Z1-prime\n",
    "    dW1 = dZ1tilde[1:,:].dot(Xtilde.T)/m\n",
    "\n",
    "    # step\n",
    "    W1 += -alpha*dW1\n",
    "    W2 += -alpha*dW2\n",
    "\n",
    "# test\n",
    "Xtest, ytest = df_wind_test[['strength','wind_alignment','precip']].to_numpy().T, df_wind_test['is_flight_day'].to_numpy() \n",
    "Xtilde = np.vstack((np.asarray([1 for _ in range(len(ytest))]) , Xtest ))\n",
    "Z1 = W1.dot(Xtilde)\n",
    "A1 = f(np.array(Z1))\n",
    "A1tilde =  np.vstack((np.asarray([1 for _ in range(len(ytest))]) , A1 ))\n",
    "Z2 = W2.dot(A1tilde)\n",
    "A2 = softmax(Z2)\n",
    "\n",
    "for r in (np.vstack((ytest , A2)).T):\n",
    "    if r[0]:\n",
    "        print(r)\n"
   ]
  },
  {
   "cell_type": "code",
   "execution_count": null,
   "metadata": {},
   "outputs": [],
   "source": [
    ")"
   ]
  }
 ],
 "metadata": {
  "kernelspec": {
   "display_name": "Python 3",
   "language": "python",
   "name": "python3"
  },
  "language_info": {
   "codemirror_mode": {
    "name": "ipython",
    "version": 3
   },
   "file_extension": ".py",
   "mimetype": "text/x-python",
   "name": "python",
   "nbconvert_exporter": "python",
   "pygments_lexer": "ipython3",
   "version": "3.11.8"
  }
 },
 "nbformat": 4,
 "nbformat_minor": 2
}
