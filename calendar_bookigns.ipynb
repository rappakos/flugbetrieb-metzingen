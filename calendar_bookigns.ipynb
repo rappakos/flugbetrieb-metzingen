{
 "cells": [
  {
   "cell_type": "code",
   "execution_count": 23,
   "metadata": {},
   "outputs": [
    {
     "name": "stdout",
     "output_type": "stream",
     "text": [
      "object of type 'phpobject' has no len()\n"
     ]
    }
   ],
   "source": [
    "import json \n",
    "from phpserialize import unserialize, load, phpobject\n",
    "\n",
    "\n",
    "try:\n",
    "    with open('./data/bereitschaften_20241117.dump', 'rb') as f:\n",
    "        #print(type(f))\n",
    "        #data = unserialize(f)\n",
    "        data = load(f, object_hook=phpobject)\n",
    "        \n",
    "\n",
    "    print(len(data))\n",
    "except Exception as x:\n",
    "    print(x)"
   ]
  }
 ],
 "metadata": {
  "kernelspec": {
   "display_name": "Python 3",
   "language": "python",
   "name": "python3"
  },
  "language_info": {
   "codemirror_mode": {
    "name": "ipython",
    "version": 3
   },
   "file_extension": ".py",
   "mimetype": "text/x-python",
   "name": "python",
   "nbconvert_exporter": "python",
   "pygments_lexer": "ipython3",
   "version": "3.11.8"
  }
 },
 "nbformat": 4,
 "nbformat_minor": 2
}
