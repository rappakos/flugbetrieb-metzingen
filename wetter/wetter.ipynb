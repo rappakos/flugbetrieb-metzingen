{
 "cells": [
  {
   "cell_type": "markdown",
   "metadata": {},
   "source": [
    "Windwerte und Niederschlag historisch und aktuell aus https://www.dwd.de/DE/leistungen/klimadatendeutschland/klarchivstunden.html\n",
    "\n",
    "* stundenwerte_FF_02014_akt.zip (Wind, Hannover, aktuell)\n",
    "* stundenwerte_FF_02014_hist.zip (Wind, Hannover, historisch)\n",
    "* stundenwerte_RR_02014_akt.zip (Niederschlag, Hannover, aktuell)\n",
    "* stundenwerte_RR_02014_hist.zip (Niederschlag, Hannover, historisch)"
   ]
  },
  {
   "cell_type": "code",
   "execution_count": 2,
   "metadata": {},
   "outputs": [
    {
     "data": {
      "text/html": [
       "<div>\n",
       "<style scoped>\n",
       "    .dataframe tbody tr th:only-of-type {\n",
       "        vertical-align: middle;\n",
       "    }\n",
       "\n",
       "    .dataframe tbody tr th {\n",
       "        vertical-align: top;\n",
       "    }\n",
       "\n",
       "    .dataframe thead th {\n",
       "        text-align: right;\n",
       "    }\n",
       "</style>\n",
       "<table border=\"1\" class=\"dataframe\">\n",
       "  <thead>\n",
       "    <tr style=\"text-align: right;\">\n",
       "      <th></th>\n",
       "      <th>STATIONS_ID</th>\n",
       "      <th>MESS_DATUM</th>\n",
       "      <th>QN_3</th>\n",
       "      <th>F</th>\n",
       "      <th>D</th>\n",
       "      <th>eor</th>\n",
       "    </tr>\n",
       "  </thead>\n",
       "  <tbody>\n",
       "    <tr>\n",
       "      <th>639312</th>\n",
       "      <td>2014</td>\n",
       "      <td>2022123119</td>\n",
       "      <td>3</td>\n",
       "      <td>6.1</td>\n",
       "      <td>220</td>\n",
       "      <td>eor</td>\n",
       "    </tr>\n",
       "    <tr>\n",
       "      <th>639313</th>\n",
       "      <td>2014</td>\n",
       "      <td>2022123120</td>\n",
       "      <td>3</td>\n",
       "      <td>7.8</td>\n",
       "      <td>210</td>\n",
       "      <td>eor</td>\n",
       "    </tr>\n",
       "    <tr>\n",
       "      <th>639314</th>\n",
       "      <td>2014</td>\n",
       "      <td>2022123121</td>\n",
       "      <td>3</td>\n",
       "      <td>8.0</td>\n",
       "      <td>220</td>\n",
       "      <td>eor</td>\n",
       "    </tr>\n",
       "    <tr>\n",
       "      <th>639315</th>\n",
       "      <td>2014</td>\n",
       "      <td>2022123122</td>\n",
       "      <td>3</td>\n",
       "      <td>7.7</td>\n",
       "      <td>220</td>\n",
       "      <td>eor</td>\n",
       "    </tr>\n",
       "    <tr>\n",
       "      <th>639316</th>\n",
       "      <td>2014</td>\n",
       "      <td>2022123123</td>\n",
       "      <td>3</td>\n",
       "      <td>8.9</td>\n",
       "      <td>230</td>\n",
       "      <td>eor</td>\n",
       "    </tr>\n",
       "  </tbody>\n",
       "</table>\n",
       "</div>"
      ],
      "text/plain": [
       "        STATIONS_ID  MESS_DATUM  QN_3     F     D  eor\n",
       "639312         2014  2022123119     3   6.1   220  eor\n",
       "639313         2014  2022123120     3   7.8   210  eor\n",
       "639314         2014  2022123121     3   8.0   220  eor\n",
       "639315         2014  2022123122     3   7.7   220  eor\n",
       "639316         2014  2022123123     3   8.9   230  eor"
      ]
     },
     "execution_count": 2,
     "metadata": {},
     "output_type": "execute_result"
    }
   ],
   "source": [
    "import pandas as pd\n",
    "from dotenv import load_dotenv\n",
    "\n",
    "from wetter import load_raw_dataframes,get_wind_data,get_rain_data\n",
    "\n",
    "\n",
    "load_dotenv()\n",
    " \n",
    "raw_dataframes = load_raw_dataframes()\n",
    "\n",
    "raw_dataframes['FF']['hist'].tail() # wind historic data sample"
   ]
  },
  {
   "cell_type": "code",
   "execution_count": 1,
   "metadata": {},
   "outputs": [
    {
     "ename": "NameError",
     "evalue": "name 'get_wind_data' is not defined",
     "output_type": "error",
     "traceback": [
      "\u001b[1;31m---------------------------------------------------------------------------\u001b[0m",
      "\u001b[1;31mNameError\u001b[0m                                 Traceback (most recent call last)",
      "Cell \u001b[1;32mIn[1], line 7\u001b[0m\n\u001b[0;32m      3\u001b[0m FLUGBAHN_DIR \u001b[38;5;241m=\u001b[39m \u001b[38;5;241m30\u001b[39m \u001b[38;5;66;03m# 03 & 21\u001b[39;00m\n\u001b[0;32m      5\u001b[0m timeframe_start,timeframe_end \u001b[38;5;241m=\u001b[39m \u001b[38;5;241m2023010100\u001b[39m,\u001b[38;5;241m2023070100\u001b[39m\n\u001b[1;32m----> 7\u001b[0m df_wind \u001b[38;5;241m=\u001b[39m \u001b[43mget_wind_data\u001b[49m(timeframe_start,timeframe_end ,\u001b[38;5;241m13\u001b[39m)\n\u001b[0;32m      8\u001b[0m df_rain \u001b[38;5;241m=\u001b[39m get_rain_data(timeframe_start,timeframe_end , \u001b[38;5;241m13\u001b[39m)\n\u001b[0;32m     10\u001b[0m df_wind \u001b[38;5;241m=\u001b[39m df_wind\u001b[38;5;241m.\u001b[39mjoin(df_rain\u001b[38;5;241m.\u001b[39mset_index(\u001b[38;5;124m\"\u001b[39m\u001b[38;5;124mMESS_DATUM\u001b[39m\u001b[38;5;124m\"\u001b[39m), on\u001b[38;5;241m=\u001b[39m\u001b[38;5;124m\"\u001b[39m\u001b[38;5;124mMESS_DATUM\u001b[39m\u001b[38;5;124m\"\u001b[39m, validate\u001b[38;5;241m=\u001b[39m\u001b[38;5;124m\"\u001b[39m\u001b[38;5;124m1:1\u001b[39m\u001b[38;5;124m\"\u001b[39m )\n",
      "\u001b[1;31mNameError\u001b[0m: name 'get_wind_data' is not defined"
     ]
    }
   ],
   "source": [
    "import numpy as np\n",
    "\n",
    "FLUGBAHN_DIR = 30 # 03 & 21\n",
    "\n",
    "timeframe_start,timeframe_end = 2021010100,2021123123\n",
    "\n",
    "df_wind = get_wind_data(timeframe_start,timeframe_end ,13)\n",
    "df_rain = get_rain_data(timeframe_start,timeframe_end , 13)\n",
    "\n",
    "df_wind = df_wind.join(df_rain.set_index(\"MESS_DATUM\"), on=\"MESS_DATUM\", validate=\"1:1\" )\n",
    "\n",
    "#print(df_wind.columns)\n",
    "# \n",
    "df_wind['wind_alignment'] = df_wind.apply(lambda row: np.sin((row['direction'] - FLUGBAHN_DIR )* np.pi / 180.)**2 , axis=1)\n",
    "\n",
    "df_wind.head()\n",
    "\n"
   ]
  }
 ],
 "metadata": {
  "kernelspec": {
   "display_name": "Python 3",
   "language": "python",
   "name": "python3"
  },
  "language_info": {
   "codemirror_mode": {
    "name": "ipython",
    "version": 3
   },
   "file_extension": ".py",
   "mimetype": "text/x-python",
   "name": "python",
   "nbconvert_exporter": "python",
   "pygments_lexer": "ipython3",
   "version": "3.11.8"
  }
 },
 "nbformat": 4,
 "nbformat_minor": 2
}
