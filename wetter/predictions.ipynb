{
 "cells": [
  {
   "cell_type": "markdown",
   "metadata": {},
   "source": [
    "## Load OpenMeteo Daily Data"
   ]
  },
  {
   "cell_type": "code",
   "execution_count": 1,
   "metadata": {},
   "outputs": [
    {
     "name": "stdout",
     "output_type": "stream",
     "text": [
      "time iso8601\n",
      "sunshine_duration s\n",
      "rain_sum mm\n",
      "wind_speed_10m_max km/h\n",
      "wind_gusts_10m_max km/h\n",
      "wind_direction_10m_dominant °\n"
     ]
    },
    {
     "data": {
      "text/html": [
       "<div>\n",
       "<style scoped>\n",
       "    .dataframe tbody tr th:only-of-type {\n",
       "        vertical-align: middle;\n",
       "    }\n",
       "\n",
       "    .dataframe tbody tr th {\n",
       "        vertical-align: top;\n",
       "    }\n",
       "\n",
       "    .dataframe thead th {\n",
       "        text-align: right;\n",
       "    }\n",
       "</style>\n",
       "<table border=\"1\" class=\"dataframe\">\n",
       "  <thead>\n",
       "    <tr style=\"text-align: right;\">\n",
       "      <th></th>\n",
       "      <th>time</th>\n",
       "      <th>sunshine_duration</th>\n",
       "      <th>rain_sum</th>\n",
       "      <th>wind_speed_10m_max</th>\n",
       "      <th>wind_gusts_10m_max</th>\n",
       "      <th>wind_direction_10m_dominant</th>\n",
       "    </tr>\n",
       "  </thead>\n",
       "  <tbody>\n",
       "    <tr>\n",
       "      <th>0</th>\n",
       "      <td>2022-01-01</td>\n",
       "      <td>0.00</td>\n",
       "      <td>0.5</td>\n",
       "      <td>22.1</td>\n",
       "      <td>42.5</td>\n",
       "      <td>241</td>\n",
       "    </tr>\n",
       "    <tr>\n",
       "      <th>1</th>\n",
       "      <td>2022-01-02</td>\n",
       "      <td>5070.98</td>\n",
       "      <td>2.5</td>\n",
       "      <td>28.7</td>\n",
       "      <td>56.2</td>\n",
       "      <td>232</td>\n",
       "    </tr>\n",
       "    <tr>\n",
       "      <th>2</th>\n",
       "      <td>2022-01-03</td>\n",
       "      <td>15384.78</td>\n",
       "      <td>7.4</td>\n",
       "      <td>33.0</td>\n",
       "      <td>69.8</td>\n",
       "      <td>249</td>\n",
       "    </tr>\n",
       "    <tr>\n",
       "      <th>3</th>\n",
       "      <td>2022-01-04</td>\n",
       "      <td>0.00</td>\n",
       "      <td>4.0</td>\n",
       "      <td>17.6</td>\n",
       "      <td>35.6</td>\n",
       "      <td>245</td>\n",
       "    </tr>\n",
       "    <tr>\n",
       "      <th>4</th>\n",
       "      <td>2022-01-05</td>\n",
       "      <td>3574.57</td>\n",
       "      <td>1.2</td>\n",
       "      <td>30.2</td>\n",
       "      <td>65.2</td>\n",
       "      <td>254</td>\n",
       "    </tr>\n",
       "  </tbody>\n",
       "</table>\n",
       "</div>"
      ],
      "text/plain": [
       "         time  sunshine_duration  rain_sum  wind_speed_10m_max  \\\n",
       "0  2022-01-01               0.00       0.5                22.1   \n",
       "1  2022-01-02            5070.98       2.5                28.7   \n",
       "2  2022-01-03           15384.78       7.4                33.0   \n",
       "3  2022-01-04               0.00       4.0                17.6   \n",
       "4  2022-01-05            3574.57       1.2                30.2   \n",
       "\n",
       "   wind_gusts_10m_max  wind_direction_10m_dominant  \n",
       "0                42.5                          241  \n",
       "1                56.2                          232  \n",
       "2                69.8                          249  \n",
       "3                35.6                          245  \n",
       "4                65.2                          254  "
      ]
     },
     "execution_count": 1,
     "metadata": {},
     "output_type": "execute_result"
    }
   ],
   "source": [
    "import requests\n",
    "import pandas as pd\n",
    "\n",
    "locations = {\n",
    "    'Metzingen' : {'lat':52.67057, 'long':10.37136},\n",
    "    'Hannover Station 2014':  {'lat':52.4644, 'long':9.6779}\n",
    "    }\n",
    "\n",
    "dates = {\n",
    "      'StartDate': '2022-01-01',\n",
    "      'EndDate': '2024-11-11'\n",
    "    }\n",
    "\n",
    "loc = 'Metzingen'\n",
    "\n",
    "openmeteo = f'https://archive-api.open-meteo.com/v1/archive?latitude={locations[loc][\"lat\"]}&longitude={locations[loc][\"long\"]}&start_date={dates[\"StartDate\"]}&end_date={dates[\"EndDate\"]}&daily=sunshine_duration,rain_sum,wind_speed_10m_max,wind_gusts_10m_max,wind_direction_10m_dominant&timezone=GMT'\n",
    "\n",
    "res = requests.get(openmeteo)\n",
    "if res.status_code == 200:\n",
    "  data = res.json()\n",
    "\n",
    "\n",
    "\n",
    "for k in data['daily_units']:\n",
    "  print(k,data['daily_units'][k])\n",
    "\n",
    "\n",
    "df = pd.DataFrame(data['daily'], columns= data['daily_units'])\n",
    "\n",
    "df.head()\n"
   ]
  },
  {
   "cell_type": "markdown",
   "metadata": {},
   "source": [
    "## DWD - OpenMeteo comparison moved\n",
    "\n",
    "* new [notebook](./compare_DWD_OpenMeteo.ipynb)"
   ]
  },
  {
   "cell_type": "markdown",
   "metadata": {},
   "source": []
  },
  {
   "cell_type": "markdown",
   "metadata": {},
   "source": [
    "## Get DHV XC flight data\n",
    "\n",
    "* Metzingen\n",
    "* Lüdingen\n",
    "* Leese, Estorf (GC Landesbergen)"
   ]
  },
  {
   "cell_type": "code",
   "execution_count": 2,
   "metadata": {},
   "outputs": [
    {
     "name": "stdout",
     "output_type": "stream",
     "text": [
      "4000\n"
     ]
    },
    {
     "data": {
      "text/html": [
       "<div>\n",
       "<style scoped>\n",
       "    .dataframe tbody tr th:only-of-type {\n",
       "        vertical-align: middle;\n",
       "    }\n",
       "\n",
       "    .dataframe tbody tr th {\n",
       "        vertical-align: top;\n",
       "    }\n",
       "\n",
       "    .dataframe thead th {\n",
       "        text-align: right;\n",
       "    }\n",
       "</style>\n",
       "<table border=\"1\" class=\"dataframe\">\n",
       "  <thead>\n",
       "    <tr style=\"text-align: right;\">\n",
       "      <th></th>\n",
       "      <th>FlightDate</th>\n",
       "      <th>Takeoff</th>\n",
       "      <th>Glider</th>\n",
       "      <th>Duration</th>\n",
       "      <th>UtcOffset</th>\n",
       "      <th>FlightStartTime</th>\n",
       "    </tr>\n",
       "  </thead>\n",
       "  <tbody>\n",
       "    <tr>\n",
       "      <th>3995</th>\n",
       "      <td>2021-04-20</td>\n",
       "      <td>Lüdingen</td>\n",
       "      <td>Arriba 3 S</td>\n",
       "      <td>513</td>\n",
       "      <td>2</td>\n",
       "      <td>2021-04-20 16:43:38</td>\n",
       "    </tr>\n",
       "    <tr>\n",
       "      <th>3996</th>\n",
       "      <td>2021-04-20</td>\n",
       "      <td>Lüdingen</td>\n",
       "      <td>MiuraRS - ML [LTF A]</td>\n",
       "      <td>516</td>\n",
       "      <td>2</td>\n",
       "      <td>2021-04-20 20:02:08</td>\n",
       "    </tr>\n",
       "    <tr>\n",
       "      <th>3997</th>\n",
       "      <td>2021-04-20</td>\n",
       "      <td>Lüdingen</td>\n",
       "      <td>BuzzZ5</td>\n",
       "      <td>576</td>\n",
       "      <td>2</td>\n",
       "      <td>2021-04-20 13:36:34</td>\n",
       "    </tr>\n",
       "    <tr>\n",
       "      <th>3998</th>\n",
       "      <td>2021-04-20</td>\n",
       "      <td>Lüdingen</td>\n",
       "      <td>MiuraRS - ML [LTF A]</td>\n",
       "      <td>477</td>\n",
       "      <td>2</td>\n",
       "      <td>2021-04-20 15:39:31</td>\n",
       "    </tr>\n",
       "    <tr>\n",
       "      <th>3999</th>\n",
       "      <td>2021-04-20</td>\n",
       "      <td>Lüdingen</td>\n",
       "      <td>Alpha 6</td>\n",
       "      <td>533</td>\n",
       "      <td>2</td>\n",
       "      <td>2021-04-20 15:50:03</td>\n",
       "    </tr>\n",
       "  </tbody>\n",
       "</table>\n",
       "</div>"
      ],
      "text/plain": [
       "      FlightDate   Takeoff                Glider Duration UtcOffset  \\\n",
       "3995  2021-04-20  Lüdingen            Arriba 3 S      513         2   \n",
       "3996  2021-04-20  Lüdingen  MiuraRS - ML [LTF A]      516         2   \n",
       "3997  2021-04-20  Lüdingen                BuzzZ5      576         2   \n",
       "3998  2021-04-20  Lüdingen  MiuraRS - ML [LTF A]      477         2   \n",
       "3999  2021-04-20  Lüdingen               Alpha 6      533         2   \n",
       "\n",
       "          FlightStartTime  \n",
       "3995  2021-04-20 16:43:38  \n",
       "3996  2021-04-20 20:02:08  \n",
       "3997  2021-04-20 13:36:34  \n",
       "3998  2021-04-20 15:39:31  \n",
       "3999  2021-04-20 15:50:03  "
      ]
     },
     "execution_count": 2,
     "metadata": {},
     "output_type": "execute_result"
    }
   ],
   "source": [
    "import requests\n",
    "import urllib\n",
    "import pandas as pd\n",
    "\n",
    "PAGE_SIZE = 500\n",
    "\n",
    "places = {\n",
    "    'Metzingen':11185,\n",
    "    'Rammelsberg': 9427,\n",
    "    'Estorf': 11001,\n",
    "    'Leese': 10746,\n",
    "    'Porta': 9712,\n",
    "    'Lüdingen':9759,\n",
    "    'Brunsberg': 9844,\n",
    "    'Kella': 9521,\n",
    "    'Börry': 9403\n",
    "}\n",
    "\n",
    "results = []\n",
    "for place in ['Metzingen','Estorf','Leese','Lüdingen']:\n",
    "#for place in ['Metzingen']:\n",
    "    limit = PAGE_SIZE\n",
    "    for start in [0,PAGE_SIZE]:\n",
    "        query = {\"navpars\":{\"start\":start,\"limit\":limit,\"sort\":[{\"field\":\"FlightDate\",\"dir\":-1},{\"field\":\"BestTaskPoints\",\"dir\":-1}]}}\n",
    "        # for some reason, \" is replaced by ' and spaces are added which is replaced by +\n",
    "        decoded_url = f\"https://de.dhv-xc.de/api/fli/flights?s?fkcat%5B%5D=1&fkto%5B%5D={places[place]}&{urllib.parse.urlencode(query,quote_via=urllib.parse.quote_plus).replace('%27', '%22').replace('+', '')}\"\n",
    "        #print(decoded_url)\n",
    "        r = requests.get(decoded_url)\n",
    "        if r.status_code==200:\n",
    "            response = r.json()\n",
    "            df0 = pd.DataFrame(response['data'])\n",
    "            #print(df.columns.values)\n",
    "            results.extend(df0[['FlightDate', 'TakeoffWaypointName' , 'Glider' ,'FlightDuration','UtcOffset', 'FlightStartTime']].values)\n",
    "\n",
    "\n",
    "df_results = pd.DataFrame(results,columns=['FlightDate','Takeoff', 'Glider' ,'Duration','UtcOffset', 'FlightStartTime'])\n",
    "print(len(df_results))\n",
    "df_results.tail()"
   ]
  },
  {
   "cell_type": "markdown",
   "metadata": {},
   "source": [
    "## Merge weather and flight data for training and testing\n",
    "\n",
    "* Weather data : OpenMeteo daily @ Hannover\n",
    "* Flight data: Sundays and Saturdays, all 4 locations\n",
    "\n",
    "* Training data < 2024\n",
    "* Test data >= 2024"
   ]
  },
  {
   "cell_type": "code",
   "execution_count": 3,
   "metadata": {},
   "outputs": [
    {
     "name": "stdout",
     "output_type": "stream",
     "text": [
      "Metzingen {'lat': 52.67057, 'long': 10.37136}\n"
     ]
    }
   ],
   "source": [
    "import numpy as np\n",
    "from datetime import datetime\n",
    "print(loc, locations[loc])\n",
    "df['Weekday'] = df.apply(lambda row:datetime.strftime(datetime.strptime(row['time'],'%Y-%m-%d'),'%a'), axis=1)\n",
    "df['alignment'] =  df.apply(lambda row: np.cos(row['wind_direction_10m_dominant']*np.pi/180.)**2,axis=1)\n",
    "df = df[df['Weekday'].isin(['Sat','Sun'])]\n",
    "#print(df.head())\n",
    "\n",
    "dhv_aggr = df_results[df_results['FlightDate'] >= '2022-01-01'].groupby('FlightDate')['Duration'].count().reset_index()\n",
    "dhv_aggr['Weekday'] = dhv_aggr.apply(lambda row:  datetime.strftime(datetime.strptime(row['FlightDate'],'%Y-%m-%d'),'%a'), axis=1)\n",
    "dhv_aggr.rename(columns={'FlightDate':'time'},inplace=True)\n",
    "#dhv_aggr.head()\n",
    "\n",
    "dfm = df.merge(dhv_aggr, on='time', how='left')\n",
    "dfm.rename(columns={'sunshine_duration':'sun','rain_sum':'rain','wind_speed_10m_max':'wind','wind_gusts_10m_max':'gust','wind_direction_10m_dominant':'dir','Duration':'flights'},inplace=True)\n",
    "dfm = dfm.drop(['Weekday_y'] ,axis=1).fillna(0)"
   ]
  },
  {
   "cell_type": "code",
   "execution_count": 4,
   "metadata": {},
   "outputs": [
    {
     "data": {
      "image/svg+xml": [
       "<svg class=\"main-svg\" xmlns=\"http://www.w3.org/2000/svg\" xmlns:xlink=\"http://www.w3.org/1999/xlink\" width=\"700\" height=\"500\" style=\"\" viewBox=\"0 0 700 500\"><rect x=\"0\" y=\"0\" width=\"700\" height=\"500\" style=\"fill: rgb(255, 255, 255); fill-opacity: 1;\"/><defs id=\"defs-493b24\"><g class=\"clips\"><clipPath id=\"clip493b24xyplot\" class=\"plotclip\"><rect width=\"532\" height=\"360\"/></clipPath><clipPath class=\"axesclip\" id=\"clip493b24x\"><rect x=\"80\" y=\"0\" width=\"532\" height=\"500\"/></clipPath><clipPath class=\"axesclip\" id=\"clip493b24y\"><rect x=\"0\" y=\"60\" width=\"700\" height=\"360\"/></clipPath><clipPath class=\"axesclip\" id=\"clip493b24xy\"><rect x=\"80\" y=\"60\" width=\"532\" height=\"360\"/></clipPath></g><g class=\"gradients\"><linearGradient x1=\"0\" y1=\"1\" x2=\"0\" y2=\"0\" gradientUnits=\"objectBoundingBox\" id=\"g493b24-cbcoloraxis\"><stop offset=\"0%\" stop-color=\"rgb(13, 8, 135)\" stop-opacity=\"1\"/><stop offset=\"11.111111%\" stop-color=\"rgb(70, 3, 159)\" stop-opacity=\"1\"/><stop offset=\"22.222222%\" stop-color=\"rgb(114, 1, 168)\" stop-opacity=\"1\"/><stop offset=\"33.333333%\" stop-color=\"rgb(156, 23, 158)\" stop-opacity=\"1\"/><stop offset=\"44.444444%\" stop-color=\"rgb(189, 55, 134)\" stop-opacity=\"1\"/><stop offset=\"55.555556%\" stop-color=\"rgb(216, 87, 107)\" stop-opacity=\"1\"/><stop offset=\"66.666667%\" stop-color=\"rgb(237, 121, 83)\" stop-opacity=\"1\"/><stop offset=\"77.777778%\" stop-color=\"rgb(251, 159, 58)\" stop-opacity=\"1\"/><stop offset=\"88.888889%\" stop-color=\"rgb(253, 202, 38)\" stop-opacity=\"1\"/><stop offset=\"100%\" stop-color=\"rgb(240, 249, 33)\" stop-opacity=\"1\"/></linearGradient></g><g class=\"patterns\"/></defs><g class=\"bglayer\"><rect class=\"bg\" x=\"80\" y=\"60\" width=\"532\" height=\"360\" style=\"fill: rgb(229, 236, 246); fill-opacity: 1; stroke-width: 0;\"/></g><g class=\"layer-below\"><g class=\"imagelayer\"/><g class=\"shapelayer\"/></g><g class=\"cartesianlayer\"><g class=\"subplot xy\"><g class=\"layer-subplot\"><g class=\"shapelayer\"/><g class=\"imagelayer\"/></g><g class=\"minor-gridlayer\"><g class=\"x\"/><g class=\"y\"/></g><g class=\"gridlayer\"><g class=\"x\"><path class=\"xgrid crisp\" transform=\"translate(170.86,0)\" d=\"M0,60v360\" style=\"stroke: rgb(255, 255, 255); stroke-opacity: 1; stroke-width: 1px;\"/><path class=\"xgrid crisp\" transform=\"translate(304.05,0)\" d=\"M0,60v360\" style=\"stroke: rgb(255, 255, 255); stroke-opacity: 1; stroke-width: 1px;\"/><path class=\"xgrid crisp\" transform=\"translate(437.23,0)\" d=\"M0,60v360\" style=\"stroke: rgb(255, 255, 255); stroke-opacity: 1; stroke-width: 1px;\"/><path class=\"xgrid crisp\" transform=\"translate(570.4100000000001,0)\" d=\"M0,60v360\" style=\"stroke: rgb(255, 255, 255); stroke-opacity: 1; stroke-width: 1px;\"/></g><g class=\"y\"><path class=\"ygrid crisp\" transform=\"translate(0,342.84)\" d=\"M80,0h532\" style=\"stroke: rgb(255, 255, 255); stroke-opacity: 1; stroke-width: 1px;\"/><path class=\"ygrid crisp\" transform=\"translate(0,286.68)\" d=\"M80,0h532\" style=\"stroke: rgb(255, 255, 255); stroke-opacity: 1; stroke-width: 1px;\"/><path class=\"ygrid crisp\" transform=\"translate(0,230.52)\" d=\"M80,0h532\" style=\"stroke: rgb(255, 255, 255); stroke-opacity: 1; stroke-width: 1px;\"/><path class=\"ygrid crisp\" transform=\"translate(0,174.35)\" d=\"M80,0h532\" style=\"stroke: rgb(255, 255, 255); stroke-opacity: 1; stroke-width: 1px;\"/><path class=\"ygrid crisp\" transform=\"translate(0,118.19)\" d=\"M80,0h532\" style=\"stroke: rgb(255, 255, 255); stroke-opacity: 1; stroke-width: 1px;\"/><path class=\"ygrid crisp\" transform=\"translate(0,62.03)\" d=\"M80,0h532\" style=\"stroke: rgb(255, 255, 255); stroke-opacity: 1; stroke-width: 1px;\"/></g></g><g class=\"zerolinelayer\"><path class=\"yzl zl crisp\" transform=\"translate(0,399)\" d=\"M80,0h532\" style=\"stroke: rgb(255, 255, 255); stroke-opacity: 1; stroke-width: 2px;\"/></g><g class=\"layer-between\"><g class=\"shapelayer\"/><g class=\"imagelayer\"/></g><path class=\"xlines-below\"/><path class=\"ylines-below\"/><g class=\"overlines-below\"/><g class=\"xaxislayer-below\"/><g class=\"yaxislayer-below\"/><g class=\"overaxes-below\"/><g class=\"overplot\"><g class=\"xy\" transform=\"translate(80,60)\" clip-path=\"url(#clip493b24xyplot)\"><g class=\"scatterlayer mlayer\"><g class=\"trace scatter trace34232e\" style=\"stroke-miterlimit: 2; opacity: 1;\"><g class=\"fills\"/><g class=\"errorbars\"/><g class=\"lines\"/><g class=\"points\"><path class=\"point plotly-customdata\" transform=\"translate(252.02,339)\" d=\"M1.77,0A1.77,1.77 0 1,1 0,-1.77A1.77,1.77 0 0,1 1.77,0Z\" style=\"opacity: 0.7; stroke-width: 1px; fill: rgb(13, 8, 135); fill-opacity: 1; stroke: rgb(255, 255, 255); stroke-opacity: 1;\"/><path class=\"point plotly-customdata\" transform=\"translate(339.92,310.52)\" d=\"M1.77,0A1.77,1.77 0 1,1 0,-1.77A1.77,1.77 0 0,1 1.77,0Z\" style=\"opacity: 0.7; stroke-width: 1px; fill: rgb(13, 8, 135); fill-opacity: 1; stroke: rgb(255, 255, 255); stroke-opacity: 1;\"/><path class=\"point plotly-customdata\" transform=\"translate(221.38,208.73)\" d=\"M1.77,0A1.77,1.77 0 1,1 0,-1.77A1.77,1.77 0 0,1 1.77,0Z\" style=\"opacity: 0.7; stroke-width: 1px; fill: rgb(13, 8, 135); fill-opacity: 1; stroke: rgb(255, 255, 255); stroke-opacity: 1;\"/><path class=\"point plotly-customdata\" transform=\"translate(217.39,339)\" d=\"M1.77,0A1.77,1.77 0 1,1 0,-1.77A1.77,1.77 0 0,1 1.77,0Z\" style=\"opacity: 0.7; stroke-width: 1px; fill: rgb(13, 8, 135); fill-opacity: 1; stroke: rgb(255, 255, 255); stroke-opacity: 1;\"/><path class=\"point plotly-customdata\" transform=\"translate(88.2,327.53)\" d=\"M6.85,0A6.85,6.85 0 1,1 0,-6.85A6.85,6.85 0 0,1 6.85,0Z\" style=\"opacity: 0.7; stroke-width: 1px; fill: rgb(114, 1, 168); fill-opacity: 1; stroke: rgb(255, 255, 255); stroke-opacity: 1;\"/><path class=\"point plotly-customdata\" transform=\"translate(269.33,339)\" d=\"M1.77,0A1.77,1.77 0 1,1 0,-1.77A1.77,1.77 0 0,1 1.77,0Z\" style=\"opacity: 0.7; stroke-width: 1px; fill: rgb(13, 8, 135); fill-opacity: 1; stroke: rgb(255, 255, 255); stroke-opacity: 1;\"/><path class=\"point plotly-customdata\" transform=\"translate(224.05,339)\" d=\"M1.77,0A1.77,1.77 0 1,1 0,-1.77A1.77,1.77 0 0,1 1.77,0Z\" style=\"opacity: 0.7; stroke-width: 1px; fill: rgb(13, 8, 135); fill-opacity: 1; stroke: rgb(255, 255, 255); stroke-opacity: 1;\"/><path class=\"point plotly-customdata\" transform=\"translate(152.13,339)\" d=\"M1.77,0A1.77,1.77 0 1,1 0,-1.77A1.77,1.77 0 0,1 1.77,0Z\" style=\"opacity: 0.7; stroke-width: 1px; fill: rgb(13, 8, 135); fill-opacity: 1; stroke: rgb(255, 255, 255); stroke-opacity: 1;\"/><path class=\"point plotly-customdata\" transform=\"translate(454.45,339)\" d=\"M1.77,0A1.77,1.77 0 1,1 0,-1.77A1.77,1.77 0 0,1 1.77,0Z\" style=\"opacity: 0.7; stroke-width: 1px; fill: rgb(13, 8, 135); fill-opacity: 1; stroke: rgb(255, 255, 255); stroke-opacity: 1;\"/><path class=\"point plotly-customdata\" transform=\"translate(458.45,202.98)\" d=\"M1.77,0A1.77,1.77 0 1,1 0,-1.77A1.77,1.77 0 0,1 1.77,0Z\" style=\"opacity: 0.7; stroke-width: 1px; fill: rgb(13, 8, 135); fill-opacity: 1; stroke: rgb(255, 255, 255); stroke-opacity: 1;\"/><path class=\"point plotly-customdata\" transform=\"translate(347.91,208.13)\" d=\"M1.77,0A1.77,1.77 0 1,1 0,-1.77A1.77,1.77 0 0,1 1.77,0Z\" style=\"opacity: 0.7; stroke-width: 1px; fill: rgb(13, 8, 135); fill-opacity: 1; stroke: rgb(255, 255, 255); stroke-opacity: 1;\"/><path class=\"point plotly-customdata\" transform=\"translate(415.83,339)\" d=\"M1.77,0A1.77,1.77 0 1,1 0,-1.77A1.77,1.77 0 0,1 1.77,0Z\" style=\"opacity: 0.7; stroke-width: 1px; fill: rgb(13, 8, 135); fill-opacity: 1; stroke: rgb(255, 255, 255); stroke-opacity: 1;\"/><path class=\"point plotly-customdata\" transform=\"translate(198.74,166.92)\" d=\"M1.77,0A1.77,1.77 0 1,1 0,-1.77A1.77,1.77 0 0,1 1.77,0Z\" style=\"opacity: 0.7; stroke-width: 1px; fill: rgb(13, 8, 135); fill-opacity: 1; stroke: rgb(255, 255, 255); stroke-opacity: 1;\"/><path class=\"point plotly-customdata\" transform=\"translate(269.33,165.52)\" d=\"M1.77,0A1.77,1.77 0 1,1 0,-1.77A1.77,1.77 0 0,1 1.77,0Z\" style=\"opacity: 0.7; stroke-width: 1px; fill: rgb(13, 8, 135); fill-opacity: 1; stroke: rgb(255, 255, 255); stroke-opacity: 1;\"/><path class=\"point plotly-customdata\" transform=\"translate(502.4,217.69)\" d=\"M1.77,0A1.77,1.77 0 1,1 0,-1.77A1.77,1.77 0 0,1 1.77,0Z\" style=\"opacity: 0.7; stroke-width: 1px; fill: rgb(13, 8, 135); fill-opacity: 1; stroke: rgb(255, 255, 255); stroke-opacity: 1;\"/><path class=\"point plotly-customdata\" transform=\"translate(435.81,339)\" d=\"M1.77,0A1.77,1.77 0 1,1 0,-1.77A1.77,1.77 0 0,1 1.77,0Z\" style=\"opacity: 0.7; stroke-width: 1px; fill: rgb(13, 8, 135); fill-opacity: 1; stroke: rgb(255, 255, 255); stroke-opacity: 1;\"/><path class=\"point plotly-customdata\" transform=\"translate(220.05,151.79)\" d=\"M9.01,0A9.01,9.01 0 1,1 0,-9.01A9.01,9.01 0 0,1 9.01,0Z\" style=\"opacity: 0.7; stroke-width: 1px; fill: rgb(175, 41, 144); fill-opacity: 1; stroke: rgb(255, 255, 255); stroke-opacity: 1;\"/><path class=\"point plotly-customdata\" transform=\"translate(188.09,152.64)\" d=\"M4.33,0A4.33,4.33 0 1,1 0,-4.33A4.33,4.33 0 0,1 4.33,0Z\" style=\"opacity: 0.7; stroke-width: 1px; fill: rgb(54, 4, 152); fill-opacity: 1; stroke: rgb(255, 255, 255); stroke-opacity: 1;\"/><path class=\"point plotly-customdata\" transform=\"translate(138.81,167.83)\" d=\"M5,0A5,5 0 1,1 0,-5A5,5 0 0,1 5,0Z\" style=\"opacity: 0.7; stroke-width: 1px; fill: rgb(70, 3, 159); fill-opacity: 1; stroke: rgb(255, 255, 255); stroke-opacity: 1;\"/><path class=\"point plotly-customdata\" transform=\"translate(125.49,284.86)\" d=\"M10.46,0A10.46,10.46 0 1,1 0,-10.46A10.46,10.46 0 0,1 10.46,0Z\" style=\"opacity: 0.7; stroke-width: 1px; fill: rgb(212, 82, 111); fill-opacity: 1; stroke: rgb(255, 255, 255); stroke-opacity: 1;\"/><path class=\"point plotly-customdata\" transform=\"translate(237.37,126.58)\" d=\"M1.77,0A1.77,1.77 0 1,1 0,-1.77A1.77,1.77 0 0,1 1.77,0Z\" style=\"opacity: 0.7; stroke-width: 1px; fill: rgb(13, 8, 135); fill-opacity: 1; stroke: rgb(255, 255, 255); stroke-opacity: 1;\"/><path class=\"point plotly-customdata\" transform=\"translate(204.07,125.14)\" d=\"M1.77,0A1.77,1.77 0 1,1 0,-1.77A1.77,1.77 0 0,1 1.77,0Z\" style=\"opacity: 0.7; stroke-width: 1px; fill: rgb(13, 8, 135); fill-opacity: 1; stroke: rgb(255, 255, 255); stroke-opacity: 1;\"/><path class=\"point plotly-customdata\" transform=\"translate(289.31,128.2)\" d=\"M1.77,0A1.77,1.77 0 1,1 0,-1.77A1.77,1.77 0 0,1 1.77,0Z\" style=\"opacity: 0.7; stroke-width: 1px; fill: rgb(13, 8, 135); fill-opacity: 1; stroke: rgb(255, 255, 255); stroke-opacity: 1;\"/><path class=\"point plotly-customdata\" transform=\"translate(342.58,117.14)\" d=\"M1.77,0A1.77,1.77 0 1,1 0,-1.77A1.77,1.77 0 0,1 1.77,0Z\" style=\"opacity: 0.7; stroke-width: 1px; fill: rgb(13, 8, 135); fill-opacity: 1; stroke: rgb(255, 255, 255); stroke-opacity: 1;\"/><path class=\"point plotly-customdata\" transform=\"translate(220.05,131.78)\" d=\"M1.77,0A1.77,1.77 0 1,1 0,-1.77A1.77,1.77 0 0,1 1.77,0Z\" style=\"opacity: 0.7; stroke-width: 1px; fill: rgb(13, 8, 135); fill-opacity: 1; stroke: rgb(255, 255, 255); stroke-opacity: 1;\"/><path class=\"point plotly-customdata\" transform=\"translate(97.52,115.79)\" d=\"M1.77,0A1.77,1.77 0 1,1 0,-1.77A1.77,1.77 0 0,1 1.77,0Z\" style=\"opacity: 0.7; stroke-width: 1px; fill: rgb(13, 8, 135); fill-opacity: 1; stroke: rgb(255, 255, 255); stroke-opacity: 1;\"/><path class=\"point plotly-customdata\" transform=\"translate(268,249.89)\" d=\"M1.77,0A1.77,1.77 0 1,1 0,-1.77A1.77,1.77 0 0,1 1.77,0Z\" style=\"opacity: 0.7; stroke-width: 1px; fill: rgb(13, 8, 135); fill-opacity: 1; stroke: rgb(255, 255, 255); stroke-opacity: 1;\"/><path class=\"point plotly-customdata\" transform=\"translate(188.09,124.2)\" d=\"M1.77,0A1.77,1.77 0 1,1 0,-1.77A1.77,1.77 0 0,1 1.77,0Z\" style=\"opacity: 0.7; stroke-width: 1px; fill: rgb(13, 8, 135); fill-opacity: 1; stroke: rgb(255, 255, 255); stroke-opacity: 1;\"/><path class=\"point plotly-customdata\" transform=\"translate(342.58,120.92)\" d=\"M1.77,0A1.77,1.77 0 1,1 0,-1.77A1.77,1.77 0 0,1 1.77,0Z\" style=\"opacity: 0.7; stroke-width: 1px; fill: rgb(13, 8, 135); fill-opacity: 1; stroke: rgb(255, 255, 255); stroke-opacity: 1;\"/><path class=\"point plotly-customdata\" transform=\"translate(281.32,151.12)\" d=\"M1.77,0A1.77,1.77 0 1,1 0,-1.77A1.77,1.77 0 0,1 1.77,0Z\" style=\"opacity: 0.7; stroke-width: 1px; fill: rgb(13, 8, 135); fill-opacity: 1; stroke: rgb(255, 255, 255); stroke-opacity: 1;\"/><path class=\"point plotly-customdata\" transform=\"translate(154.79,81.26)\" d=\"M1.77,0A1.77,1.77 0 1,1 0,-1.77A1.77,1.77 0 0,1 1.77,0Z\" style=\"opacity: 0.7; stroke-width: 1px; fill: rgb(13, 8, 135); fill-opacity: 1; stroke: rgb(255, 255, 255); stroke-opacity: 1;\"/><path class=\"point plotly-customdata\" transform=\"translate(120.16,80.11)\" d=\"M7.71,0A7.71,7.71 0 1,1 0,-7.71A7.71,7.71 0 0,1 7.71,0Z\" style=\"opacity: 0.7; stroke-width: 1px; fill: rgb(138, 14, 162); fill-opacity: 1; stroke: rgb(255, 255, 255); stroke-opacity: 1;\"/><path class=\"point plotly-customdata\" transform=\"translate(245.36,72.48)\" d=\"M1.77,0A1.77,1.77 0 1,1 0,-1.77A1.77,1.77 0 0,1 1.77,0Z\" style=\"opacity: 0.7; stroke-width: 1px; fill: rgb(13, 8, 135); fill-opacity: 1; stroke: rgb(255, 255, 255); stroke-opacity: 1;\"/><path class=\"point plotly-customdata\" transform=\"translate(237.37,106.18)\" d=\"M1.77,0A1.77,1.77 0 1,1 0,-1.77A1.77,1.77 0 0,1 1.77,0Z\" style=\"opacity: 0.7; stroke-width: 1px; fill: rgb(13, 8, 135); fill-opacity: 1; stroke: rgb(255, 255, 255); stroke-opacity: 1;\"/><path class=\"point plotly-customdata\" transform=\"translate(124.16,120.78)\" d=\"M5.3,0A5.3,5.3 0 1,1 0,-5.3A5.3,5.3 0 0,1 5.3,0Z\" style=\"opacity: 0.7; stroke-width: 1px; fill: rgb(76, 3, 160); fill-opacity: 1; stroke: rgb(255, 255, 255); stroke-opacity: 1;\"/><path class=\"point plotly-customdata\" transform=\"translate(102.85,284.04)\" d=\"M9.01,0A9.01,9.01 0 1,1 0,-9.01A9.01,9.01 0 0,1 9.01,0Z\" style=\"opacity: 0.7; stroke-width: 1px; fill: rgb(175, 41, 144); fill-opacity: 1; stroke: rgb(255, 255, 255); stroke-opacity: 1;\"/><path class=\"point plotly-customdata\" transform=\"translate(158.79,80.22)\" d=\"M1.77,0A1.77,1.77 0 1,1 0,-1.77A1.77,1.77 0 0,1 1.77,0Z\" style=\"opacity: 0.7; stroke-width: 1px; fill: rgb(13, 8, 135); fill-opacity: 1; stroke: rgb(255, 255, 255); stroke-opacity: 1;\"/><path class=\"point plotly-customdata\" transform=\"translate(138.81,55.86)\" d=\"M8.84,0A8.84,8.84 0 1,1 0,-8.84A8.84,8.84 0 0,1 8.84,0Z\" style=\"opacity: 0.7; stroke-width: 1px; fill: rgb(170, 37, 148); fill-opacity: 1; stroke: rgb(255, 255, 255); stroke-opacity: 1;\"/><path class=\"point plotly-customdata\" transform=\"translate(261.34,94.35)\" d=\"M1.77,0A1.77,1.77 0 1,1 0,-1.77A1.77,1.77 0 0,1 1.77,0Z\" style=\"opacity: 0.7; stroke-width: 1px; fill: rgb(13, 8, 135); fill-opacity: 1; stroke: rgb(255, 255, 255); stroke-opacity: 1;\"/><path class=\"point plotly-customdata\" transform=\"translate(145.47,50.1)\" d=\"M7.71,0A7.71,7.71 0 1,1 0,-7.71A7.71,7.71 0 0,1 7.71,0Z\" style=\"opacity: 0.7; stroke-width: 1px; fill: rgb(138, 14, 162); fill-opacity: 1; stroke: rgb(255, 255, 255); stroke-opacity: 1;\"/><path class=\"point plotly-customdata\" transform=\"translate(347.91,102.24)\" d=\"M1.77,0A1.77,1.77 0 1,1 0,-1.77A1.77,1.77 0 0,1 1.77,0Z\" style=\"opacity: 0.7; stroke-width: 1px; fill: rgb(13, 8, 135); fill-opacity: 1; stroke: rgb(255, 255, 255); stroke-opacity: 1;\"/><path class=\"point plotly-customdata\" transform=\"translate(90.86,59.04)\" d=\"M5.86,0A5.86,5.86 0 1,1 0,-5.86A5.86,5.86 0 0,1 5.86,0Z\" style=\"opacity: 0.7; stroke-width: 1px; fill: rgb(89, 2, 163); fill-opacity: 1; stroke: rgb(255, 255, 255); stroke-opacity: 1;\"/><path class=\"point plotly-customdata\" transform=\"translate(382.54,87.17)\" d=\"M1.77,0A1.77,1.77 0 1,1 0,-1.77A1.77,1.77 0 0,1 1.77,0Z\" style=\"opacity: 0.7; stroke-width: 1px; fill: rgb(13, 8, 135); fill-opacity: 1; stroke: rgb(255, 255, 255); stroke-opacity: 1;\"/><path class=\"point plotly-customdata\" transform=\"translate(212.06,277.96)\" d=\"M1.77,0A1.77,1.77 0 1,1 0,-1.77A1.77,1.77 0 0,1 1.77,0Z\" style=\"opacity: 0.7; stroke-width: 1px; fill: rgb(13, 8, 135); fill-opacity: 1; stroke: rgb(255, 255, 255); stroke-opacity: 1;\"/><path class=\"point plotly-customdata\" transform=\"translate(169.44,37.6)\" d=\"M10.46,0A10.46,10.46 0 1,1 0,-10.46A10.46,10.46 0 0,1 10.46,0Z\" style=\"opacity: 0.7; stroke-width: 1px; fill: rgb(212, 82, 111); fill-opacity: 1; stroke: rgb(255, 255, 255); stroke-opacity: 1;\"/><path class=\"point plotly-customdata\" transform=\"translate(188.09,113.39)\" d=\"M1.77,0A1.77,1.77 0 1,1 0,-1.77A1.77,1.77 0 0,1 1.77,0Z\" style=\"opacity: 0.7; stroke-width: 1px; fill: rgb(13, 8, 135); fill-opacity: 1; stroke: rgb(255, 255, 255); stroke-opacity: 1;\"/><path class=\"point plotly-customdata\" transform=\"translate(270.66,62.57)\" d=\"M1.77,0A1.77,1.77 0 1,1 0,-1.77A1.77,1.77 0 0,1 1.77,0Z\" style=\"opacity: 0.7; stroke-width: 1px; fill: rgb(13, 8, 135); fill-opacity: 1; stroke: rgb(255, 255, 255); stroke-opacity: 1;\"/><path class=\"point plotly-customdata\" transform=\"translate(213.39,96.79)\" d=\"M1.77,0A1.77,1.77 0 1,1 0,-1.77A1.77,1.77 0 0,1 1.77,0Z\" style=\"opacity: 0.7; stroke-width: 1px; fill: rgb(13, 8, 135); fill-opacity: 1; stroke: rgb(255, 255, 255); stroke-opacity: 1;\"/><path class=\"point plotly-customdata\" transform=\"translate(196.08,51.13)\" d=\"M1.77,0A1.77,1.77 0 1,1 0,-1.77A1.77,1.77 0 0,1 1.77,0Z\" style=\"opacity: 0.7; stroke-width: 1px; fill: rgb(13, 8, 135); fill-opacity: 1; stroke: rgb(255, 255, 255); stroke-opacity: 1;\"/><path class=\"point plotly-customdata\" transform=\"translate(186.76,146.83)\" d=\"M1.77,0A1.77,1.77 0 1,1 0,-1.77A1.77,1.77 0 0,1 1.77,0Z\" style=\"opacity: 0.7; stroke-width: 1px; fill: rgb(13, 8, 135); fill-opacity: 1; stroke: rgb(255, 255, 255); stroke-opacity: 1;\"/><path class=\"point plotly-customdata\" transform=\"translate(97.52,67.31)\" d=\"M4.33,0A4.33,4.33 0 1,1 0,-4.33A4.33,4.33 0 0,1 4.33,0Z\" style=\"opacity: 0.7; stroke-width: 1px; fill: rgb(54, 4, 152); fill-opacity: 1; stroke: rgb(255, 255, 255); stroke-opacity: 1;\"/><path class=\"point plotly-customdata\" transform=\"translate(192.08,71.1)\" d=\"M1.77,0A1.77,1.77 0 1,1 0,-1.77A1.77,1.77 0 0,1 1.77,0Z\" style=\"opacity: 0.7; stroke-width: 1px; fill: rgb(13, 8, 135); fill-opacity: 1; stroke: rgb(255, 255, 255); stroke-opacity: 1;\"/><path class=\"point plotly-customdata\" transform=\"translate(142.81,33.81)\" d=\"M14.14,0A14.14,14.14 0 1,1 0,-14.14A14.14,14.14 0 0,1 14.14,0Z\" style=\"opacity: 0.7; stroke-width: 1px; fill: rgb(240, 249, 33); fill-opacity: 1; stroke: rgb(255, 255, 255); stroke-opacity: 1;\"/><path class=\"point plotly-customdata\" transform=\"translate(185.42,34.95)\" d=\"M7.5,0A7.5,7.5 0 1,1 0,-7.5A7.5,7.5 0 0,1 7.5,0Z\" style=\"opacity: 0.7; stroke-width: 1px; fill: rgb(132, 10, 164); fill-opacity: 1; stroke: rgb(255, 255, 255); stroke-opacity: 1;\"/><path class=\"point plotly-customdata\" transform=\"translate(260.01,161.25)\" d=\"M1.77,0A1.77,1.77 0 1,1 0,-1.77A1.77,1.77 0 0,1 1.77,0Z\" style=\"opacity: 0.7; stroke-width: 1px; fill: rgb(13, 8, 135); fill-opacity: 1; stroke: rgb(255, 255, 255); stroke-opacity: 1;\"/><path class=\"point plotly-customdata\" transform=\"translate(294.63,61.91)\" d=\"M1.77,0A1.77,1.77 0 1,1 0,-1.77A1.77,1.77 0 0,1 1.77,0Z\" style=\"opacity: 0.7; stroke-width: 1px; fill: rgb(13, 8, 135); fill-opacity: 1; stroke: rgb(255, 255, 255); stroke-opacity: 1;\"/><path class=\"point plotly-customdata\" transform=\"translate(278.65,57.9)\" d=\"M1.77,0A1.77,1.77 0 1,1 0,-1.77A1.77,1.77 0 0,1 1.77,0Z\" style=\"opacity: 0.7; stroke-width: 1px; fill: rgb(13, 8, 135); fill-opacity: 1; stroke: rgb(255, 255, 255); stroke-opacity: 1;\"/><path class=\"point plotly-customdata\" transform=\"translate(97.52,76.29)\" d=\"M5.3,0A5.3,5.3 0 1,1 0,-5.3A5.3,5.3 0 0,1 5.3,0Z\" style=\"opacity: 0.7; stroke-width: 1px; fill: rgb(76, 3, 160); fill-opacity: 1; stroke: rgb(255, 255, 255); stroke-opacity: 1;\"/><path class=\"point plotly-customdata\" transform=\"translate(224.05,70.75)\" d=\"M1.77,0A1.77,1.77 0 1,1 0,-1.77A1.77,1.77 0 0,1 1.77,0Z\" style=\"opacity: 0.7; stroke-width: 1px; fill: rgb(13, 8, 135); fill-opacity: 1; stroke: rgb(255, 255, 255); stroke-opacity: 1;\"/><path class=\"point plotly-customdata\" transform=\"translate(205.4,41.92)\" d=\"M8.1,0A8.1,8.1 0 1,1 0,-8.1A8.1,8.1 0 0,1 8.1,0Z\" style=\"opacity: 0.7; stroke-width: 1px; fill: rgb(150, 20, 159); fill-opacity: 1; stroke: rgb(255, 255, 255); stroke-opacity: 1;\"/><path class=\"point plotly-customdata\" transform=\"translate(225.38,79.42)\" d=\"M1.77,0A1.77,1.77 0 1,1 0,-1.77A1.77,1.77 0 0,1 1.77,0Z\" style=\"opacity: 0.7; stroke-width: 1px; fill: rgb(13, 8, 135); fill-opacity: 1; stroke: rgb(255, 255, 255); stroke-opacity: 1;\"/><path class=\"point plotly-customdata\" transform=\"translate(194.75,134.25)\" d=\"M1.77,0A1.77,1.77 0 1,1 0,-1.77A1.77,1.77 0 0,1 1.77,0Z\" style=\"opacity: 0.7; stroke-width: 1px; fill: rgb(13, 8, 135); fill-opacity: 1; stroke: rgb(255, 255, 255); stroke-opacity: 1;\"/><path class=\"point plotly-customdata\" transform=\"translate(126.82,115.15)\" d=\"M1.77,0A1.77,1.77 0 1,1 0,-1.77A1.77,1.77 0 0,1 1.77,0Z\" style=\"opacity: 0.7; stroke-width: 1px; fill: rgb(13, 8, 135); fill-opacity: 1; stroke: rgb(255, 255, 255); stroke-opacity: 1;\"/><path class=\"point plotly-customdata\" transform=\"translate(84.21,80.48)\" d=\"M7.91,0A7.91,7.91 0 1,1 0,-7.91A7.91,7.91 0 0,1 7.91,0Z\" style=\"opacity: 0.7; stroke-width: 1px; fill: rgb(144, 17, 161); fill-opacity: 1; stroke: rgb(255, 255, 255); stroke-opacity: 1;\"/><path class=\"point plotly-customdata\" transform=\"translate(197.41,76.68)\" d=\"M1.77,0A1.77,1.77 0 1,1 0,-1.77A1.77,1.77 0 0,1 1.77,0Z\" style=\"opacity: 0.7; stroke-width: 1px; fill: rgb(13, 8, 135); fill-opacity: 1; stroke: rgb(255, 255, 255); stroke-opacity: 1;\"/><path class=\"point plotly-customdata\" transform=\"translate(172.11,76.16)\" d=\"M1.77,0A1.77,1.77 0 1,1 0,-1.77A1.77,1.77 0 0,1 1.77,0Z\" style=\"opacity: 0.7; stroke-width: 1px; fill: rgb(13, 8, 135); fill-opacity: 1; stroke: rgb(255, 255, 255); stroke-opacity: 1;\"/><path class=\"point plotly-customdata\" transform=\"translate(122.83,168.31)\" d=\"M1.77,0A1.77,1.77 0 1,1 0,-1.77A1.77,1.77 0 0,1 1.77,0Z\" style=\"opacity: 0.7; stroke-width: 1px; fill: rgb(13, 8, 135); fill-opacity: 1; stroke: rgb(255, 255, 255); stroke-opacity: 1;\"/><path class=\"point plotly-customdata\" transform=\"translate(132.15,76.04)\" d=\"M7.71,0A7.71,7.71 0 1,1 0,-7.71A7.71,7.71 0 0,1 7.71,0Z\" style=\"opacity: 0.7; stroke-width: 1px; fill: rgb(138, 14, 162); fill-opacity: 1; stroke: rgb(255, 255, 255); stroke-opacity: 1;\"/><path class=\"point plotly-customdata\" transform=\"translate(181.43,273.46)\" d=\"M1.77,0A1.77,1.77 0 1,1 0,-1.77A1.77,1.77 0 0,1 1.77,0Z\" style=\"opacity: 0.7; stroke-width: 1px; fill: rgb(13, 8, 135); fill-opacity: 1; stroke: rgb(255, 255, 255); stroke-opacity: 1;\"/><path class=\"point plotly-customdata\" transform=\"translate(213.39,82.22)\" d=\"M1.77,0A1.77,1.77 0 1,1 0,-1.77A1.77,1.77 0 0,1 1.77,0Z\" style=\"opacity: 0.7; stroke-width: 1px; fill: rgb(13, 8, 135); fill-opacity: 1; stroke: rgb(255, 255, 255); stroke-opacity: 1;\"/><path class=\"point plotly-customdata\" transform=\"translate(222.72,93.6)\" d=\"M1.77,0A1.77,1.77 0 1,1 0,-1.77A1.77,1.77 0 0,1 1.77,0Z\" style=\"opacity: 0.7; stroke-width: 1px; fill: rgb(13, 8, 135); fill-opacity: 1; stroke: rgb(255, 255, 255); stroke-opacity: 1;\"/><path class=\"point plotly-customdata\" transform=\"translate(174.77,158.65)\" d=\"M7.29,0A7.29,7.29 0 1,1 0,-7.29A7.29,7.29 0 0,1 7.29,0Z\" style=\"opacity: 0.7; stroke-width: 1px; fill: rgb(126, 7, 165); fill-opacity: 1; stroke: rgb(255, 255, 255); stroke-opacity: 1;\"/><path class=\"point plotly-customdata\" transform=\"translate(122.83,111.55)\" d=\"M1.77,0A1.77,1.77 0 1,1 0,-1.77A1.77,1.77 0 0,1 1.77,0Z\" style=\"opacity: 0.7; stroke-width: 1px; fill: rgb(13, 8, 135); fill-opacity: 1; stroke: rgb(255, 255, 255); stroke-opacity: 1;\"/><path class=\"point plotly-customdata\" transform=\"translate(128.16,204.45)\" d=\"M6.61,0A6.61,6.61 0 1,1 0,-6.61A6.61,6.61 0 0,1 6.61,0Z\" style=\"opacity: 0.7; stroke-width: 1px; fill: rgb(108, 1, 167); fill-opacity: 1; stroke: rgb(255, 255, 255); stroke-opacity: 1;\"/><path class=\"point plotly-customdata\" transform=\"translate(323.93,198.4)\" d=\"M1.77,0A1.77,1.77 0 1,1 0,-1.77A1.77,1.77 0 0,1 1.77,0Z\" style=\"opacity: 0.7; stroke-width: 1px; fill: rgb(13, 8, 135); fill-opacity: 1; stroke: rgb(255, 255, 255); stroke-opacity: 1;\"/><path class=\"point plotly-customdata\" transform=\"translate(295.97,171.73)\" d=\"M1.77,0A1.77,1.77 0 1,1 0,-1.77A1.77,1.77 0 0,1 1.77,0Z\" style=\"opacity: 0.7; stroke-width: 1px; fill: rgb(13, 8, 135); fill-opacity: 1; stroke: rgb(255, 255, 255); stroke-opacity: 1;\"/><path class=\"point plotly-customdata\" transform=\"translate(53.57,339)\" d=\"M1.77,0A1.77,1.77 0 1,1 0,-1.77A1.77,1.77 0 0,1 1.77,0Z\" style=\"opacity: 0.7; stroke-width: 1px; fill: rgb(13, 8, 135); fill-opacity: 1; stroke: rgb(255, 255, 255); stroke-opacity: 1;\"/><path class=\"point plotly-customdata\" transform=\"translate(148.13,229.31)\" d=\"M1.77,0A1.77,1.77 0 1,1 0,-1.77A1.77,1.77 0 0,1 1.77,0Z\" style=\"opacity: 0.7; stroke-width: 1px; fill: rgb(13, 8, 135); fill-opacity: 1; stroke: rgb(255, 255, 255); stroke-opacity: 1;\"/><path class=\"point plotly-customdata\" transform=\"translate(290.64,274.07)\" d=\"M1.77,0A1.77,1.77 0 1,1 0,-1.77A1.77,1.77 0 0,1 1.77,0Z\" style=\"opacity: 0.7; stroke-width: 1px; fill: rgb(13, 8, 135); fill-opacity: 1; stroke: rgb(255, 255, 255); stroke-opacity: 1;\"/><path class=\"point plotly-customdata\" transform=\"translate(281.32,165.96)\" d=\"M1.77,0A1.77,1.77 0 1,1 0,-1.77A1.77,1.77 0 0,1 1.77,0Z\" style=\"opacity: 0.7; stroke-width: 1px; fill: rgb(13, 8, 135); fill-opacity: 1; stroke: rgb(255, 255, 255); stroke-opacity: 1;\"/><path class=\"point plotly-customdata\" transform=\"translate(241.36,197.43)\" d=\"M1.77,0A1.77,1.77 0 1,1 0,-1.77A1.77,1.77 0 0,1 1.77,0Z\" style=\"opacity: 0.7; stroke-width: 1px; fill: rgb(13, 8, 135); fill-opacity: 1; stroke: rgb(255, 255, 255); stroke-opacity: 1;\"/><path class=\"point plotly-customdata\" transform=\"translate(152.13,139.16)\" d=\"M8.1,0A8.1,8.1 0 1,1 0,-8.1A8.1,8.1 0 0,1 8.1,0Z\" style=\"opacity: 0.7; stroke-width: 1px; fill: rgb(150, 20, 159); fill-opacity: 1; stroke: rgb(255, 255, 255); stroke-opacity: 1;\"/><path class=\"point plotly-customdata\" transform=\"translate(170.77,252.09)\" d=\"M1.77,0A1.77,1.77 0 1,1 0,-1.77A1.77,1.77 0 0,1 1.77,0Z\" style=\"opacity: 0.7; stroke-width: 1px; fill: rgb(13, 8, 135); fill-opacity: 1; stroke: rgb(255, 255, 255); stroke-opacity: 1;\"/><path class=\"point plotly-customdata\" transform=\"translate(250.68,161.49)\" d=\"M1.77,0A1.77,1.77 0 1,1 0,-1.77A1.77,1.77 0 0,1 1.77,0Z\" style=\"opacity: 0.7; stroke-width: 1px; fill: rgb(13, 8, 135); fill-opacity: 1; stroke: rgb(255, 255, 255); stroke-opacity: 1;\"/><path class=\"point plotly-customdata\" transform=\"translate(154.79,190.9)\" d=\"M1.77,0A1.77,1.77 0 1,1 0,-1.77A1.77,1.77 0 0,1 1.77,0Z\" style=\"opacity: 0.7; stroke-width: 1px; fill: rgb(13, 8, 135); fill-opacity: 1; stroke: rgb(255, 255, 255); stroke-opacity: 1;\"/><path class=\"point plotly-customdata\" transform=\"translate(134.81,241.27)\" d=\"M1.77,0A1.77,1.77 0 1,1 0,-1.77A1.77,1.77 0 0,1 1.77,0Z\" style=\"opacity: 0.7; stroke-width: 1px; fill: rgb(13, 8, 135); fill-opacity: 1; stroke: rgb(255, 255, 255); stroke-opacity: 1;\"/><path class=\"point plotly-customdata\" transform=\"translate(121.5,235.14)\" d=\"M6.12,0A6.12,6.12 0 1,1 0,-6.12A6.12,6.12 0 0,1 6.12,0Z\" style=\"opacity: 0.7; stroke-width: 1px; fill: rgb(95, 2, 164); fill-opacity: 1; stroke: rgb(255, 255, 255); stroke-opacity: 1;\"/><path class=\"point plotly-customdata\" transform=\"translate(120.16,174.03)\" d=\"M6.85,0A6.85,6.85 0 1,1 0,-6.85A6.85,6.85 0 0,1 6.85,0Z\" style=\"opacity: 0.7; stroke-width: 1px; fill: rgb(114, 1, 168); fill-opacity: 1; stroke: rgb(255, 255, 255); stroke-opacity: 1;\"/><path class=\"point plotly-customdata\" transform=\"translate(182.76,177.24)\" d=\"M1.77,0A1.77,1.77 0 1,1 0,-1.77A1.77,1.77 0 0,1 1.77,0Z\" style=\"opacity: 0.7; stroke-width: 1px; fill: rgb(13, 8, 135); fill-opacity: 1; stroke: rgb(255, 255, 255); stroke-opacity: 1;\"/><path class=\"point plotly-customdata\" transform=\"translate(228.04,177.98)\" d=\"M1.77,0A1.77,1.77 0 1,1 0,-1.77A1.77,1.77 0 0,1 1.77,0Z\" style=\"opacity: 0.7; stroke-width: 1px; fill: rgb(13, 8, 135); fill-opacity: 1; stroke: rgb(255, 255, 255); stroke-opacity: 1;\"/><path class=\"point plotly-customdata\" transform=\"translate(97.52,185.63)\" d=\"M8.1,0A8.1,8.1 0 1,1 0,-8.1A8.1,8.1 0 0,1 8.1,0Z\" style=\"opacity: 0.7; stroke-width: 1px; fill: rgb(150, 20, 159); fill-opacity: 1; stroke: rgb(255, 255, 255); stroke-opacity: 1;\"/><path class=\"point plotly-customdata\" transform=\"translate(189.42,223.3)\" d=\"M1.77,0A1.77,1.77 0 1,1 0,-1.77A1.77,1.77 0 0,1 1.77,0Z\" style=\"opacity: 0.7; stroke-width: 1px; fill: rgb(13, 8, 135); fill-opacity: 1; stroke: rgb(255, 255, 255); stroke-opacity: 1;\"/><path class=\"point plotly-customdata\" transform=\"translate(77.55,194.22)\" d=\"M1.77,0A1.77,1.77 0 1,1 0,-1.77A1.77,1.77 0 0,1 1.77,0Z\" style=\"opacity: 0.7; stroke-width: 1px; fill: rgb(13, 8, 135); fill-opacity: 1; stroke: rgb(255, 255, 255); stroke-opacity: 1;\"/><path class=\"point plotly-customdata\" transform=\"translate(120.16,265.66)\" d=\"M1.77,0A1.77,1.77 0 1,1 0,-1.77A1.77,1.77 0 0,1 1.77,0Z\" style=\"opacity: 0.7; stroke-width: 1px; fill: rgb(13, 8, 135); fill-opacity: 1; stroke: rgb(255, 255, 255); stroke-opacity: 1;\"/><path class=\"point plotly-customdata\" transform=\"translate(128.16,260.43)\" d=\"M1.77,0A1.77,1.77 0 1,1 0,-1.77A1.77,1.77 0 0,1 1.77,0Z\" style=\"opacity: 0.7; stroke-width: 1px; fill: rgb(13, 8, 135); fill-opacity: 1; stroke: rgb(255, 255, 255); stroke-opacity: 1;\"/><path class=\"point plotly-customdata\" transform=\"translate(122.83,305.96)\" d=\"M1.77,0A1.77,1.77 0 1,1 0,-1.77A1.77,1.77 0 0,1 1.77,0Z\" style=\"opacity: 0.7; stroke-width: 1px; fill: rgb(13, 8, 135); fill-opacity: 1; stroke: rgb(255, 255, 255); stroke-opacity: 1;\"/><path class=\"point plotly-customdata\" transform=\"translate(156.12,336.44)\" d=\"M1.77,0A1.77,1.77 0 1,1 0,-1.77A1.77,1.77 0 0,1 1.77,0Z\" style=\"opacity: 0.7; stroke-width: 1px; fill: rgb(13, 8, 135); fill-opacity: 1; stroke: rgb(255, 255, 255); stroke-opacity: 1;\"/><path class=\"point plotly-customdata\" transform=\"translate(177.43,339)\" d=\"M1.77,0A1.77,1.77 0 1,1 0,-1.77A1.77,1.77 0 0,1 1.77,0Z\" style=\"opacity: 0.7; stroke-width: 1px; fill: rgb(13, 8, 135); fill-opacity: 1; stroke: rgb(255, 255, 255); stroke-opacity: 1;\"/><path class=\"point plotly-customdata\" transform=\"translate(54.9,339)\" d=\"M1.77,0A1.77,1.77 0 1,1 0,-1.77A1.77,1.77 0 0,1 1.77,0Z\" style=\"opacity: 0.7; stroke-width: 1px; fill: rgb(13, 8, 135); fill-opacity: 1; stroke: rgb(255, 255, 255); stroke-opacity: 1;\"/><path class=\"point plotly-customdata\" transform=\"translate(29.6,229.11)\" d=\"M1.77,0A1.77,1.77 0 1,1 0,-1.77A1.77,1.77 0 0,1 1.77,0Z\" style=\"opacity: 0.7; stroke-width: 1px; fill: rgb(13, 8, 135); fill-opacity: 1; stroke: rgb(255, 255, 255); stroke-opacity: 1;\"/><path class=\"point plotly-customdata\" transform=\"translate(74.88,297.95)\" d=\"M1.77,0A1.77,1.77 0 1,1 0,-1.77A1.77,1.77 0 0,1 1.77,0Z\" style=\"opacity: 0.7; stroke-width: 1px; fill: rgb(13, 8, 135); fill-opacity: 1; stroke: rgb(255, 255, 255); stroke-opacity: 1;\"/><path class=\"point plotly-customdata\" transform=\"translate(185.42,221.65)\" d=\"M3.06,0A3.06,3.06 0 1,1 0,-3.06A3.06,3.06 0 0,1 3.06,0Z\" style=\"opacity: 0.7; stroke-width: 1px; fill: rgb(29, 7, 142); fill-opacity: 1; stroke: rgb(255, 255, 255); stroke-opacity: 1;\"/><path class=\"point plotly-customdata\" transform=\"translate(248.02,255.16)\" d=\"M1.77,0A1.77,1.77 0 1,1 0,-1.77A1.77,1.77 0 0,1 1.77,0Z\" style=\"opacity: 0.7; stroke-width: 1px; fill: rgb(13, 8, 135); fill-opacity: 1; stroke: rgb(255, 255, 255); stroke-opacity: 1;\"/><path class=\"point plotly-customdata\" transform=\"translate(161.45,339)\" d=\"M1.77,0A1.77,1.77 0 1,1 0,-1.77A1.77,1.77 0 0,1 1.77,0Z\" style=\"opacity: 0.7; stroke-width: 1px; fill: rgb(13, 8, 135); fill-opacity: 1; stroke: rgb(255, 255, 255); stroke-opacity: 1;\"/><path class=\"point plotly-customdata\" transform=\"translate(395.85,339)\" d=\"M1.77,0A1.77,1.77 0 1,1 0,-1.77A1.77,1.77 0 0,1 1.77,0Z\" style=\"opacity: 0.7; stroke-width: 1px; fill: rgb(13, 8, 135); fill-opacity: 1; stroke: rgb(255, 255, 255); stroke-opacity: 1;\"/><path class=\"point plotly-customdata\" transform=\"translate(377.21,285.23)\" d=\"M1.77,0A1.77,1.77 0 1,1 0,-1.77A1.77,1.77 0 0,1 1.77,0Z\" style=\"opacity: 0.7; stroke-width: 1px; fill: rgb(13, 8, 135); fill-opacity: 1; stroke: rgb(255, 255, 255); stroke-opacity: 1;\"/><path class=\"point plotly-customdata\" transform=\"translate(174.77,239.07)\" d=\"M1.77,0A1.77,1.77 0 1,1 0,-1.77A1.77,1.77 0 0,1 1.77,0Z\" style=\"opacity: 0.7; stroke-width: 1px; fill: rgb(13, 8, 135); fill-opacity: 1; stroke: rgb(255, 255, 255); stroke-opacity: 1;\"/><path class=\"point plotly-customdata\" transform=\"translate(177.43,300.87)\" d=\"M1.77,0A1.77,1.77 0 1,1 0,-1.77A1.77,1.77 0 0,1 1.77,0Z\" style=\"opacity: 0.7; stroke-width: 1px; fill: rgb(13, 8, 135); fill-opacity: 1; stroke: rgb(255, 255, 255); stroke-opacity: 1;\"/><path class=\"point plotly-customdata\" transform=\"translate(321.27,320.97)\" d=\"M1.77,0A1.77,1.77 0 1,1 0,-1.77A1.77,1.77 0 0,1 1.77,0Z\" style=\"opacity: 0.7; stroke-width: 1px; fill: rgb(13, 8, 135); fill-opacity: 1; stroke: rgb(255, 255, 255); stroke-opacity: 1;\"/><path class=\"point plotly-customdata\" transform=\"translate(431.81,234.19)\" d=\"M1.77,0A1.77,1.77 0 1,1 0,-1.77A1.77,1.77 0 0,1 1.77,0Z\" style=\"opacity: 0.7; stroke-width: 1px; fill: rgb(13, 8, 135); fill-opacity: 1; stroke: rgb(255, 255, 255); stroke-opacity: 1;\"/><path class=\"point plotly-customdata\" transform=\"translate(260.01,287.65)\" d=\"M1.77,0A1.77,1.77 0 1,1 0,-1.77A1.77,1.77 0 0,1 1.77,0Z\" style=\"opacity: 0.7; stroke-width: 1px; fill: rgb(13, 8, 135); fill-opacity: 1; stroke: rgb(255, 255, 255); stroke-opacity: 1;\"/><path class=\"point plotly-customdata\" transform=\"translate(266.67,339)\" d=\"M1.77,0A1.77,1.77 0 1,1 0,-1.77A1.77,1.77 0 0,1 1.77,0Z\" style=\"opacity: 0.7; stroke-width: 1px; fill: rgb(13, 8, 135); fill-opacity: 1; stroke: rgb(255, 255, 255); stroke-opacity: 1;\"/><path class=\"point plotly-customdata\" transform=\"translate(126.82,201.34)\" d=\"M1.77,0A1.77,1.77 0 1,1 0,-1.77A1.77,1.77 0 0,1 1.77,0Z\" style=\"opacity: 0.7; stroke-width: 1px; fill: rgb(13, 8, 135); fill-opacity: 1; stroke: rgb(255, 255, 255); stroke-opacity: 1;\"/><path class=\"point plotly-customdata\" transform=\"translate(305.29,339)\" d=\"M1.77,0A1.77,1.77 0 1,1 0,-1.77A1.77,1.77 0 0,1 1.77,0Z\" style=\"opacity: 0.7; stroke-width: 1px; fill: rgb(13, 8, 135); fill-opacity: 1; stroke: rgb(255, 255, 255); stroke-opacity: 1;\"/><path class=\"point plotly-customdata\" transform=\"translate(184.09,217.44)\" d=\"M5.3,0A5.3,5.3 0 1,1 0,-5.3A5.3,5.3 0 0,1 5.3,0Z\" style=\"opacity: 0.7; stroke-width: 1px; fill: rgb(76, 3, 160); fill-opacity: 1; stroke: rgb(255, 255, 255); stroke-opacity: 1;\"/><path class=\"point plotly-customdata\" transform=\"translate(134.81,283.5)\" d=\"M1.77,0A1.77,1.77 0 1,1 0,-1.77A1.77,1.77 0 0,1 1.77,0Z\" style=\"opacity: 0.7; stroke-width: 1px; fill: rgb(13, 8, 135); fill-opacity: 1; stroke: rgb(255, 255, 255); stroke-opacity: 1;\"/><path class=\"point plotly-customdata\" transform=\"translate(289.31,339)\" d=\"M1.77,0A1.77,1.77 0 1,1 0,-1.77A1.77,1.77 0 0,1 1.77,0Z\" style=\"opacity: 0.7; stroke-width: 1px; fill: rgb(13, 8, 135); fill-opacity: 1; stroke: rgb(255, 255, 255); stroke-opacity: 1;\"/><path class=\"point plotly-customdata\" transform=\"translate(134.81,339)\" d=\"M1.77,0A1.77,1.77 0 1,1 0,-1.77A1.77,1.77 0 0,1 1.77,0Z\" style=\"opacity: 0.7; stroke-width: 1px; fill: rgb(13, 8, 135); fill-opacity: 1; stroke: rgb(255, 255, 255); stroke-opacity: 1;\"/><path class=\"point plotly-customdata\" transform=\"translate(409.17,332.42)\" d=\"M1.77,0A1.77,1.77 0 1,1 0,-1.77A1.77,1.77 0 0,1 1.77,0Z\" style=\"opacity: 0.7; stroke-width: 1px; fill: rgb(13, 8, 135); fill-opacity: 1; stroke: rgb(255, 255, 255); stroke-opacity: 1;\"/><path class=\"point plotly-customdata\" transform=\"translate(180.1,195.89)\" d=\"M1.77,0A1.77,1.77 0 1,1 0,-1.77A1.77,1.77 0 0,1 1.77,0Z\" style=\"opacity: 0.7; stroke-width: 1px; fill: rgb(13, 8, 135); fill-opacity: 1; stroke: rgb(255, 255, 255); stroke-opacity: 1;\"/><path class=\"point plotly-customdata\" transform=\"translate(307.95,222.54)\" d=\"M1.77,0A1.77,1.77 0 1,1 0,-1.77A1.77,1.77 0 0,1 1.77,0Z\" style=\"opacity: 0.7; stroke-width: 1px; fill: rgb(13, 8, 135); fill-opacity: 1; stroke: rgb(255, 255, 255); stroke-opacity: 1;\"/><path class=\"point plotly-customdata\" transform=\"translate(212.06,208.17)\" d=\"M1.77,0A1.77,1.77 0 1,1 0,-1.77A1.77,1.77 0 0,1 1.77,0Z\" style=\"opacity: 0.7; stroke-width: 1px; fill: rgb(13, 8, 135); fill-opacity: 1; stroke: rgb(255, 255, 255); stroke-opacity: 1;\"/><path class=\"point plotly-customdata\" transform=\"translate(281.32,335.01)\" d=\"M1.77,0A1.77,1.77 0 1,1 0,-1.77A1.77,1.77 0 0,1 1.77,0Z\" style=\"opacity: 0.7; stroke-width: 1px; fill: rgb(13, 8, 135); fill-opacity: 1; stroke: rgb(255, 255, 255); stroke-opacity: 1;\"/><path class=\"point plotly-customdata\" transform=\"translate(226.71,219.59)\" d=\"M1.77,0A1.77,1.77 0 1,1 0,-1.77A1.77,1.77 0 0,1 1.77,0Z\" style=\"opacity: 0.7; stroke-width: 1px; fill: rgb(13, 8, 135); fill-opacity: 1; stroke: rgb(255, 255, 255); stroke-opacity: 1;\"/><path class=\"point plotly-customdata\" transform=\"translate(273.33,212.86)\" d=\"M1.77,0A1.77,1.77 0 1,1 0,-1.77A1.77,1.77 0 0,1 1.77,0Z\" style=\"opacity: 0.7; stroke-width: 1px; fill: rgb(13, 8, 135); fill-opacity: 1; stroke: rgb(255, 255, 255); stroke-opacity: 1;\"/><path class=\"point plotly-customdata\" transform=\"translate(221.38,335.93)\" d=\"M1.77,0A1.77,1.77 0 1,1 0,-1.77A1.77,1.77 0 0,1 1.77,0Z\" style=\"opacity: 0.7; stroke-width: 1px; fill: rgb(13, 8, 135); fill-opacity: 1; stroke: rgb(255, 255, 255); stroke-opacity: 1;\"/><path class=\"point plotly-customdata\" transform=\"translate(205.4,175.89)\" d=\"M6.61,0A6.61,6.61 0 1,1 0,-6.61A6.61,6.61 0 0,1 6.61,0Z\" style=\"opacity: 0.7; stroke-width: 1px; fill: rgb(108, 1, 167); fill-opacity: 1; stroke: rgb(255, 255, 255); stroke-opacity: 1;\"/><path class=\"point plotly-customdata\" transform=\"translate(113.51,182.27)\" d=\"M1.77,0A1.77,1.77 0 1,1 0,-1.77A1.77,1.77 0 0,1 1.77,0Z\" style=\"opacity: 0.7; stroke-width: 1px; fill: rgb(13, 8, 135); fill-opacity: 1; stroke: rgb(255, 255, 255); stroke-opacity: 1;\"/><path class=\"point plotly-customdata\" transform=\"translate(371.88,143.2)\" d=\"M1.77,0A1.77,1.77 0 1,1 0,-1.77A1.77,1.77 0 0,1 1.77,0Z\" style=\"opacity: 0.7; stroke-width: 1px; fill: rgb(13, 8, 135); fill-opacity: 1; stroke: rgb(255, 255, 255); stroke-opacity: 1;\"/><path class=\"point plotly-customdata\" transform=\"translate(241.36,313.7)\" d=\"M1.77,0A1.77,1.77 0 1,1 0,-1.77A1.77,1.77 0 0,1 1.77,0Z\" style=\"opacity: 0.7; stroke-width: 1px; fill: rgb(13, 8, 135); fill-opacity: 1; stroke: rgb(255, 255, 255); stroke-opacity: 1;\"/><path class=\"point plotly-customdata\" transform=\"translate(273.33,331.48)\" d=\"M1.77,0A1.77,1.77 0 1,1 0,-1.77A1.77,1.77 0 0,1 1.77,0Z\" style=\"opacity: 0.7; stroke-width: 1px; fill: rgb(13, 8, 135); fill-opacity: 1; stroke: rgb(255, 255, 255); stroke-opacity: 1;\"/><path class=\"point plotly-customdata\" transform=\"translate(264,163.51)\" d=\"M1.77,0A1.77,1.77 0 1,1 0,-1.77A1.77,1.77 0 0,1 1.77,0Z\" style=\"opacity: 0.7; stroke-width: 1px; fill: rgb(13, 8, 135); fill-opacity: 1; stroke: rgb(255, 255, 255); stroke-opacity: 1;\"/><path class=\"point plotly-customdata\" transform=\"translate(113.51,321.46)\" d=\"M1.77,0A1.77,1.77 0 1,1 0,-1.77A1.77,1.77 0 0,1 1.77,0Z\" style=\"opacity: 0.7; stroke-width: 1px; fill: rgb(13, 8, 135); fill-opacity: 1; stroke: rgb(255, 255, 255); stroke-opacity: 1;\"/><path class=\"point plotly-customdata\" transform=\"translate(112.17,146.58)\" d=\"M5.86,0A5.86,5.86 0 1,1 0,-5.86A5.86,5.86 0 0,1 5.86,0Z\" style=\"opacity: 0.7; stroke-width: 1px; fill: rgb(89, 2, 163); fill-opacity: 1; stroke: rgb(255, 255, 255); stroke-opacity: 1;\"/><path class=\"point plotly-customdata\" transform=\"translate(202.74,337.59)\" d=\"M1.77,0A1.77,1.77 0 1,1 0,-1.77A1.77,1.77 0 0,1 1.77,0Z\" style=\"opacity: 0.7; stroke-width: 1px; fill: rgb(13, 8, 135); fill-opacity: 1; stroke: rgb(255, 255, 255); stroke-opacity: 1;\"/><path class=\"point plotly-customdata\" transform=\"translate(164.11,315.74)\" d=\"M1.77,0A1.77,1.77 0 1,1 0,-1.77A1.77,1.77 0 0,1 1.77,0Z\" style=\"opacity: 0.7; stroke-width: 1px; fill: rgb(13, 8, 135); fill-opacity: 1; stroke: rgb(255, 255, 255); stroke-opacity: 1;\"/><path class=\"point plotly-customdata\" transform=\"translate(208.07,75.15)\" d=\"M1.77,0A1.77,1.77 0 1,1 0,-1.77A1.77,1.77 0 0,1 1.77,0Z\" style=\"opacity: 0.7; stroke-width: 1px; fill: rgb(13, 8, 135); fill-opacity: 1; stroke: rgb(255, 255, 255); stroke-opacity: 1;\"/><path class=\"point plotly-customdata\" transform=\"translate(154.79,165.69)\" d=\"M6.12,0A6.12,6.12 0 1,1 0,-6.12A6.12,6.12 0 0,1 6.12,0Z\" style=\"opacity: 0.7; stroke-width: 1px; fill: rgb(95, 2, 164); fill-opacity: 1; stroke: rgb(255, 255, 255); stroke-opacity: 1;\"/><path class=\"point plotly-customdata\" transform=\"translate(208.07,101.58)\" d=\"M1.77,0A1.77,1.77 0 1,1 0,-1.77A1.77,1.77 0 0,1 1.77,0Z\" style=\"opacity: 0.7; stroke-width: 1px; fill: rgb(13, 8, 135); fill-opacity: 1; stroke: rgb(255, 255, 255); stroke-opacity: 1;\"/><path class=\"point plotly-customdata\" transform=\"translate(93.53,64.28)\" d=\"M12.87,0A12.87,12.87 0 1,1 0,-12.87A12.87,12.87 0 0,1 12.87,0Z\" style=\"opacity: 0.7; stroke-width: 1px; fill: rgb(252, 177, 49); fill-opacity: 1; stroke: rgb(255, 255, 255); stroke-opacity: 1;\"/><path class=\"point plotly-customdata\" transform=\"translate(150.8,185.36)\" d=\"M1.77,0A1.77,1.77 0 1,1 0,-1.77A1.77,1.77 0 0,1 1.77,0Z\" style=\"opacity: 0.7; stroke-width: 1px; fill: rgb(13, 8, 135); fill-opacity: 1; stroke: rgb(255, 255, 255); stroke-opacity: 1;\"/><path class=\"point plotly-customdata\" transform=\"translate(245.36,152.16)\" d=\"M1.77,0A1.77,1.77 0 1,1 0,-1.77A1.77,1.77 0 0,1 1.77,0Z\" style=\"opacity: 0.7; stroke-width: 1px; fill: rgb(13, 8, 135); fill-opacity: 1; stroke: rgb(255, 255, 255); stroke-opacity: 1;\"/><path class=\"point plotly-customdata\" transform=\"translate(232.04,49.15)\" d=\"M1.77,0A1.77,1.77 0 1,1 0,-1.77A1.77,1.77 0 0,1 1.77,0Z\" style=\"opacity: 0.7; stroke-width: 1px; fill: rgb(13, 8, 135); fill-opacity: 1; stroke: rgb(255, 255, 255); stroke-opacity: 1;\"/><path class=\"point plotly-customdata\" transform=\"translate(141.47,50.7)\" d=\"M1.77,0A1.77,1.77 0 1,1 0,-1.77A1.77,1.77 0 0,1 1.77,0Z\" style=\"opacity: 0.7; stroke-width: 1px; fill: rgb(13, 8, 135); fill-opacity: 1; stroke: rgb(255, 255, 255); stroke-opacity: 1;\"/><path class=\"point plotly-customdata\" transform=\"translate(250.68,207.81)\" d=\"M1.77,0A1.77,1.77 0 1,1 0,-1.77A1.77,1.77 0 0,1 1.77,0Z\" style=\"opacity: 0.7; stroke-width: 1px; fill: rgb(13, 8, 135); fill-opacity: 1; stroke: rgb(255, 255, 255); stroke-opacity: 1;\"/><path class=\"point plotly-customdata\" transform=\"translate(205.4,126.77)\" d=\"M1.77,0A1.77,1.77 0 1,1 0,-1.77A1.77,1.77 0 0,1 1.77,0Z\" style=\"opacity: 0.7; stroke-width: 1px; fill: rgb(13, 8, 135); fill-opacity: 1; stroke: rgb(255, 255, 255); stroke-opacity: 1;\"/><path class=\"point plotly-customdata\" transform=\"translate(82.87,39.76)\" d=\"M10.16,0A10.16,10.16 0 1,1 0,-10.16A10.16,10.16 0 0,1 10.16,0Z\" style=\"opacity: 0.7; stroke-width: 1px; fill: rgb(204, 73, 119); fill-opacity: 1; stroke: rgb(255, 255, 255); stroke-opacity: 1;\"/><path class=\"point plotly-customdata\" transform=\"translate(188.09,38.88)\" d=\"M9.35,0A9.35,9.35 0 1,1 0,-9.35A9.35,9.35 0 0,1 9.35,0Z\" style=\"opacity: 0.7; stroke-width: 1px; fill: rgb(184, 50, 137); fill-opacity: 1; stroke: rgb(255, 255, 255); stroke-opacity: 1;\"/><path class=\"point plotly-customdata\" transform=\"translate(122.83,34.87)\" d=\"M11.04,0A11.04,11.04 0 1,1 0,-11.04A11.04,11.04 0 0,1 11.04,0Z\" style=\"opacity: 0.7; stroke-width: 1px; fill: rgb(225, 102, 97); fill-opacity: 1; stroke: rgb(255, 255, 255); stroke-opacity: 1;\"/><path class=\"point plotly-customdata\" transform=\"translate(148.13,34.51)\" d=\"M12.25,0A12.25,12.25 0 1,1 0,-12.25A12.25,12.25 0 0,1 12.25,0Z\" style=\"opacity: 0.7; stroke-width: 1px; fill: rgb(247, 148, 65); fill-opacity: 1; stroke: rgb(255, 255, 255); stroke-opacity: 1;\"/><path class=\"point plotly-customdata\" transform=\"translate(178.77,32.05)\" d=\"M11.32,0A11.32,11.32 0 1,1 0,-11.32A11.32,11.32 0 0,1 11.32,0Z\" style=\"opacity: 0.7; stroke-width: 1px; fill: rgb(231, 111, 90); fill-opacity: 1; stroke: rgb(255, 255, 255); stroke-opacity: 1;\"/><path class=\"point plotly-customdata\" transform=\"translate(178.77,31.8)\" d=\"M1.77,0A1.77,1.77 0 1,1 0,-1.77A1.77,1.77 0 0,1 1.77,0Z\" style=\"opacity: 0.7; stroke-width: 1px; fill: rgb(13, 8, 135); fill-opacity: 1; stroke: rgb(255, 255, 255); stroke-opacity: 1;\"/><path class=\"point plotly-customdata\" transform=\"translate(94.86,56.15)\" d=\"M1.77,0A1.77,1.77 0 1,1 0,-1.77A1.77,1.77 0 0,1 1.77,0Z\" style=\"opacity: 0.7; stroke-width: 1px; fill: rgb(13, 8, 135); fill-opacity: 1; stroke: rgb(255, 255, 255); stroke-opacity: 1;\"/><path class=\"point plotly-customdata\" transform=\"translate(76.21,35.96)\" d=\"M9.84,0A9.84,9.84 0 1,1 0,-9.84A9.84,9.84 0 0,1 9.84,0Z\" style=\"opacity: 0.7; stroke-width: 1px; fill: rgb(197, 64, 126); fill-opacity: 1; stroke: rgb(255, 255, 255); stroke-opacity: 1;\"/><path class=\"point plotly-customdata\" transform=\"translate(105.51,48.28)\" d=\"M6.12,0A6.12,6.12 0 1,1 0,-6.12A6.12,6.12 0 0,1 6.12,0Z\" style=\"opacity: 0.7; stroke-width: 1px; fill: rgb(95, 2, 164); fill-opacity: 1; stroke: rgb(255, 255, 255); stroke-opacity: 1;\"/><path class=\"point plotly-customdata\" transform=\"translate(88.2,33.03)\" d=\"M9.84,0A9.84,9.84 0 1,1 0,-9.84A9.84,9.84 0 0,1 9.84,0Z\" style=\"opacity: 0.7; stroke-width: 1px; fill: rgb(197, 64, 126); fill-opacity: 1; stroke: rgb(255, 255, 255); stroke-opacity: 1;\"/><path class=\"point plotly-customdata\" transform=\"translate(249.35,329.54)\" d=\"M1.77,0A1.77,1.77 0 1,1 0,-1.77A1.77,1.77 0 0,1 1.77,0Z\" style=\"opacity: 0.7; stroke-width: 1px; fill: rgb(13, 8, 135); fill-opacity: 1; stroke: rgb(255, 255, 255); stroke-opacity: 1;\"/><path class=\"point plotly-customdata\" transform=\"translate(373.21,108.38)\" d=\"M1.77,0A1.77,1.77 0 1,1 0,-1.77A1.77,1.77 0 0,1 1.77,0Z\" style=\"opacity: 0.7; stroke-width: 1px; fill: rgb(13, 8, 135); fill-opacity: 1; stroke: rgb(255, 255, 255); stroke-opacity: 1;\"/><path class=\"point plotly-customdata\" transform=\"translate(154.79,34.51)\" d=\"M5.59,0A5.59,5.59 0 1,1 0,-5.59A5.59,5.59 0 0,1 5.59,0Z\" style=\"opacity: 0.7; stroke-width: 1px; fill: rgb(83, 2, 162); fill-opacity: 1; stroke: rgb(255, 255, 255); stroke-opacity: 1;\"/><path class=\"point plotly-customdata\" transform=\"translate(137.48,63.77)\" d=\"M3.54,0A3.54,3.54 0 1,1 0,-3.54A3.54,3.54 0 0,1 3.54,0Z\" style=\"opacity: 0.7; stroke-width: 1px; fill: rgb(37, 6, 145); fill-opacity: 1; stroke: rgb(255, 255, 255); stroke-opacity: 1;\"/><path class=\"point plotly-customdata\" transform=\"translate(361.23,151.19)\" d=\"M1.77,0A1.77,1.77 0 1,1 0,-1.77A1.77,1.77 0 0,1 1.77,0Z\" style=\"opacity: 0.7; stroke-width: 1px; fill: rgb(13, 8, 135); fill-opacity: 1; stroke: rgb(255, 255, 255); stroke-opacity: 1;\"/><path class=\"point plotly-customdata\" transform=\"translate(294.63,37.58)\" d=\"M1.77,0A1.77,1.77 0 1,1 0,-1.77A1.77,1.77 0 0,1 1.77,0Z\" style=\"opacity: 0.7; stroke-width: 1px; fill: rgb(13, 8, 135); fill-opacity: 1; stroke: rgb(255, 255, 255); stroke-opacity: 1;\"/><path class=\"point plotly-customdata\" transform=\"translate(198.74,174.39)\" d=\"M1.77,0A1.77,1.77 0 1,1 0,-1.77A1.77,1.77 0 0,1 1.77,0Z\" style=\"opacity: 0.7; stroke-width: 1px; fill: rgb(13, 8, 135); fill-opacity: 1; stroke: rgb(255, 255, 255); stroke-opacity: 1;\"/><path class=\"point plotly-customdata\" transform=\"translate(345.24,273.92)\" d=\"M1.77,0A1.77,1.77 0 1,1 0,-1.77A1.77,1.77 0 0,1 1.77,0Z\" style=\"opacity: 0.7; stroke-width: 1px; fill: rgb(13, 8, 135); fill-opacity: 1; stroke: rgb(255, 255, 255); stroke-opacity: 1;\"/><path class=\"point plotly-customdata\" transform=\"translate(184.09,156.69)\" d=\"M1.77,0A1.77,1.77 0 1,1 0,-1.77A1.77,1.77 0 0,1 1.77,0Z\" style=\"opacity: 0.7; stroke-width: 1px; fill: rgb(13, 8, 135); fill-opacity: 1; stroke: rgb(255, 255, 255); stroke-opacity: 1;\"/><path class=\"point plotly-customdata\" transform=\"translate(298.63,90.92)\" d=\"M1.77,0A1.77,1.77 0 1,1 0,-1.77A1.77,1.77 0 0,1 1.77,0Z\" style=\"opacity: 0.7; stroke-width: 1px; fill: rgb(13, 8, 135); fill-opacity: 1; stroke: rgb(255, 255, 255); stroke-opacity: 1;\"/><path class=\"point plotly-customdata\" transform=\"translate(98.86,59.64)\" d=\"M8.29,0A8.29,8.29 0 1,1 0,-8.29A8.29,8.29 0 0,1 8.29,0Z\" style=\"opacity: 0.7; stroke-width: 1px; fill: rgb(156, 23, 158); fill-opacity: 1; stroke: rgb(255, 255, 255); stroke-opacity: 1;\"/><path class=\"point plotly-customdata\" transform=\"translate(158.79,137.51)\" d=\"M1.77,0A1.77,1.77 0 1,1 0,-1.77A1.77,1.77 0 0,1 1.77,0Z\" style=\"opacity: 0.7; stroke-width: 1px; fill: rgb(13, 8, 135); fill-opacity: 1; stroke: rgb(255, 255, 255); stroke-opacity: 1;\"/><path class=\"point plotly-customdata\" transform=\"translate(241.36,180.55)\" d=\"M1.77,0A1.77,1.77 0 1,1 0,-1.77A1.77,1.77 0 0,1 1.77,0Z\" style=\"opacity: 0.7; stroke-width: 1px; fill: rgb(13, 8, 135); fill-opacity: 1; stroke: rgb(255, 255, 255); stroke-opacity: 1;\"/><path class=\"point plotly-customdata\" transform=\"translate(154.79,150.22)\" d=\"M1.77,0A1.77,1.77 0 1,1 0,-1.77A1.77,1.77 0 0,1 1.77,0Z\" style=\"opacity: 0.7; stroke-width: 1px; fill: rgb(13, 8, 135); fill-opacity: 1; stroke: rgb(255, 255, 255); stroke-opacity: 1;\"/><path class=\"point plotly-customdata\" transform=\"translate(169.44,111.8)\" d=\"M1.77,0A1.77,1.77 0 1,1 0,-1.77A1.77,1.77 0 0,1 1.77,0Z\" style=\"opacity: 0.7; stroke-width: 1px; fill: rgb(13, 8, 135); fill-opacity: 1; stroke: rgb(255, 255, 255); stroke-opacity: 1;\"/><path class=\"point plotly-customdata\" transform=\"translate(122.83,75.87)\" d=\"M1.77,0A1.77,1.77 0 1,1 0,-1.77A1.77,1.77 0 0,1 1.77,0Z\" style=\"opacity: 0.7; stroke-width: 1px; fill: rgb(13, 8, 135); fill-opacity: 1; stroke: rgb(255, 255, 255); stroke-opacity: 1;\"/><path class=\"point plotly-customdata\" transform=\"translate(265.33,92.05)\" d=\"M1.77,0A1.77,1.77 0 1,1 0,-1.77A1.77,1.77 0 0,1 1.77,0Z\" style=\"opacity: 0.7; stroke-width: 1px; fill: rgb(13, 8, 135); fill-opacity: 1; stroke: rgb(255, 255, 255); stroke-opacity: 1;\"/><path class=\"point plotly-customdata\" transform=\"translate(154.79,211.07)\" d=\"M1.77,0A1.77,1.77 0 1,1 0,-1.77A1.77,1.77 0 0,1 1.77,0Z\" style=\"opacity: 0.7; stroke-width: 1px; fill: rgb(13, 8, 135); fill-opacity: 1; stroke: rgb(255, 255, 255); stroke-opacity: 1;\"/><path class=\"point plotly-customdata\" transform=\"translate(93.53,108.1)\" d=\"M1.77,0A1.77,1.77 0 1,1 0,-1.77A1.77,1.77 0 0,1 1.77,0Z\" style=\"opacity: 0.7; stroke-width: 1px; fill: rgb(13, 8, 135); fill-opacity: 1; stroke: rgb(255, 255, 255); stroke-opacity: 1;\"/><path class=\"point plotly-customdata\" transform=\"translate(120.16,131.27)\" d=\"M8.29,0A8.29,8.29 0 1,1 0,-8.29A8.29,8.29 0 0,1 8.29,0Z\" style=\"opacity: 0.7; stroke-width: 1px; fill: rgb(156, 23, 158); fill-opacity: 1; stroke: rgb(255, 255, 255); stroke-opacity: 1;\"/><path class=\"point plotly-customdata\" transform=\"translate(73.55,99.37)\" d=\"M5.3,0A5.3,5.3 0 1,1 0,-5.3A5.3,5.3 0 0,1 5.3,0Z\" style=\"opacity: 0.7; stroke-width: 1px; fill: rgb(76, 3, 160); fill-opacity: 1; stroke: rgb(255, 255, 255); stroke-opacity: 1;\"/><path class=\"point plotly-customdata\" transform=\"translate(88.2,101.32)\" d=\"M6.37,0A6.37,6.37 0 1,1 0,-6.37A6.37,6.37 0 0,1 6.37,0Z\" style=\"opacity: 0.7; stroke-width: 1px; fill: rgb(101, 2, 165); fill-opacity: 1; stroke: rgb(255, 255, 255); stroke-opacity: 1;\"/><path class=\"point plotly-customdata\" transform=\"translate(130.82,105.61)\" d=\"M7.91,0A7.91,7.91 0 1,1 0,-7.91A7.91,7.91 0 0,1 7.91,0Z\" style=\"opacity: 0.7; stroke-width: 1px; fill: rgb(144, 17, 161); fill-opacity: 1; stroke: rgb(255, 255, 255); stroke-opacity: 1;\"/><path class=\"point plotly-customdata\" transform=\"translate(141.47,130.07)\" d=\"M3.06,0A3.06,3.06 0 1,1 0,-3.06A3.06,3.06 0 0,1 3.06,0Z\" style=\"opacity: 0.7; stroke-width: 1px; fill: rgb(29, 7, 142); fill-opacity: 1; stroke: rgb(255, 255, 255); stroke-opacity: 1;\"/><path class=\"point plotly-customdata\" transform=\"translate(246.69,157.35)\" d=\"M1.77,0A1.77,1.77 0 1,1 0,-1.77A1.77,1.77 0 0,1 1.77,0Z\" style=\"opacity: 0.7; stroke-width: 1px; fill: rgb(13, 8, 135); fill-opacity: 1; stroke: rgb(255, 255, 255); stroke-opacity: 1;\"/><path class=\"point plotly-customdata\" transform=\"translate(128.16,120.51)\" d=\"M7.29,0A7.29,7.29 0 1,1 0,-7.29A7.29,7.29 0 0,1 7.29,0Z\" style=\"opacity: 0.7; stroke-width: 1px; fill: rgb(126, 7, 165); fill-opacity: 1; stroke: rgb(255, 255, 255); stroke-opacity: 1;\"/><path class=\"point plotly-customdata\" transform=\"translate(188.09,157.04)\" d=\"M1.77,0A1.77,1.77 0 1,1 0,-1.77A1.77,1.77 0 0,1 1.77,0Z\" style=\"opacity: 0.7; stroke-width: 1px; fill: rgb(13, 8, 135); fill-opacity: 1; stroke: rgb(255, 255, 255); stroke-opacity: 1;\"/><path class=\"point plotly-customdata\" transform=\"translate(124.16,278.51)\" d=\"M1.77,0A1.77,1.77 0 1,1 0,-1.77A1.77,1.77 0 0,1 1.77,0Z\" style=\"opacity: 0.7; stroke-width: 1px; fill: rgb(13, 8, 135); fill-opacity: 1; stroke: rgb(255, 255, 255); stroke-opacity: 1;\"/><path class=\"point plotly-customdata\" transform=\"translate(318.61,339)\" d=\"M1.77,0A1.77,1.77 0 1,1 0,-1.77A1.77,1.77 0 0,1 1.77,0Z\" style=\"opacity: 0.7; stroke-width: 1px; fill: rgb(13, 8, 135); fill-opacity: 1; stroke: rgb(255, 255, 255); stroke-opacity: 1;\"/><path class=\"point plotly-customdata\" transform=\"translate(136.15,197.47)\" d=\"M5.59,0A5.59,5.59 0 1,1 0,-5.59A5.59,5.59 0 0,1 5.59,0Z\" style=\"opacity: 0.7; stroke-width: 1px; fill: rgb(83, 2, 162); fill-opacity: 1; stroke: rgb(255, 255, 255); stroke-opacity: 1;\"/><path class=\"point plotly-customdata\" transform=\"translate(354.57,144.91)\" d=\"M1.77,0A1.77,1.77 0 1,1 0,-1.77A1.77,1.77 0 0,1 1.77,0Z\" style=\"opacity: 0.7; stroke-width: 1px; fill: rgb(13, 8, 135); fill-opacity: 1; stroke: rgb(255, 255, 255); stroke-opacity: 1;\"/><path class=\"point plotly-customdata\" transform=\"translate(270.66,146.35)\" d=\"M1.77,0A1.77,1.77 0 1,1 0,-1.77A1.77,1.77 0 0,1 1.77,0Z\" style=\"opacity: 0.7; stroke-width: 1px; fill: rgb(13, 8, 135); fill-opacity: 1; stroke: rgb(255, 255, 255); stroke-opacity: 1;\"/><path class=\"point plotly-customdata\" transform=\"translate(152.13,205.7)\" d=\"M1.77,0A1.77,1.77 0 1,1 0,-1.77A1.77,1.77 0 0,1 1.77,0Z\" style=\"opacity: 0.7; stroke-width: 1px; fill: rgb(13, 8, 135); fill-opacity: 1; stroke: rgb(255, 255, 255); stroke-opacity: 1;\"/><path class=\"point plotly-customdata\" transform=\"translate(226.71,203.62)\" d=\"M1.77,0A1.77,1.77 0 1,1 0,-1.77A1.77,1.77 0 0,1 1.77,0Z\" style=\"opacity: 0.7; stroke-width: 1px; fill: rgb(13, 8, 135); fill-opacity: 1; stroke: rgb(255, 255, 255); stroke-opacity: 1;\"/><path class=\"point plotly-customdata\" transform=\"translate(117.5,258.13)\" d=\"M1.77,0A1.77,1.77 0 1,1 0,-1.77A1.77,1.77 0 0,1 1.77,0Z\" style=\"opacity: 0.7; stroke-width: 1px; fill: rgb(13, 8, 135); fill-opacity: 1; stroke: rgb(255, 255, 255); stroke-opacity: 1;\"/><path class=\"point plotly-customdata\" transform=\"translate(290.64,222.25)\" d=\"M1.77,0A1.77,1.77 0 1,1 0,-1.77A1.77,1.77 0 0,1 1.77,0Z\" style=\"opacity: 0.7; stroke-width: 1px; fill: rgb(13, 8, 135); fill-opacity: 1; stroke: rgb(255, 255, 255); stroke-opacity: 1;\"/><path class=\"point plotly-customdata\" transform=\"translate(257.34,291.26)\" d=\"M1.77,0A1.77,1.77 0 1,1 0,-1.77A1.77,1.77 0 0,1 1.77,0Z\" style=\"opacity: 0.7; stroke-width: 1px; fill: rgb(13, 8, 135); fill-opacity: 1; stroke: rgb(255, 255, 255); stroke-opacity: 1;\"/><path class=\"point plotly-customdata\" transform=\"translate(359.89,275.81)\" d=\"M1.77,0A1.77,1.77 0 1,1 0,-1.77A1.77,1.77 0 0,1 1.77,0Z\" style=\"opacity: 0.7; stroke-width: 1px; fill: rgb(13, 8, 135); fill-opacity: 1; stroke: rgb(255, 255, 255); stroke-opacity: 1;\"/><path class=\"point plotly-customdata\" transform=\"translate(177.43,314.69)\" d=\"M1.77,0A1.77,1.77 0 1,1 0,-1.77A1.77,1.77 0 0,1 1.77,0Z\" style=\"opacity: 0.7; stroke-width: 1px; fill: rgb(13, 8, 135); fill-opacity: 1; stroke: rgb(255, 255, 255); stroke-opacity: 1;\"/><path class=\"point plotly-customdata\" transform=\"translate(161.45,217.28)\" d=\"M1.77,0A1.77,1.77 0 1,1 0,-1.77A1.77,1.77 0 0,1 1.77,0Z\" style=\"opacity: 0.7; stroke-width: 1px; fill: rgb(13, 8, 135); fill-opacity: 1; stroke: rgb(255, 255, 255); stroke-opacity: 1;\"/><path class=\"point plotly-customdata\" transform=\"translate(200.07,308.67)\" d=\"M1.77,0A1.77,1.77 0 1,1 0,-1.77A1.77,1.77 0 0,1 1.77,0Z\" style=\"opacity: 0.7; stroke-width: 1px; fill: rgb(13, 8, 135); fill-opacity: 1; stroke: rgb(255, 255, 255); stroke-opacity: 1;\"/><path class=\"point plotly-customdata\" transform=\"translate(311.95,213.06)\" d=\"M1.77,0A1.77,1.77 0 1,1 0,-1.77A1.77,1.77 0 0,1 1.77,0Z\" style=\"opacity: 0.7; stroke-width: 1px; fill: rgb(13, 8, 135); fill-opacity: 1; stroke: rgb(255, 255, 255); stroke-opacity: 1;\"/><path class=\"point plotly-customdata\" transform=\"translate(229.37,282.84)\" d=\"M1.77,0A1.77,1.77 0 1,1 0,-1.77A1.77,1.77 0 0,1 1.77,0Z\" style=\"opacity: 0.7; stroke-width: 1px; fill: rgb(13, 8, 135); fill-opacity: 1; stroke: rgb(255, 255, 255); stroke-opacity: 1;\"/><path class=\"point plotly-customdata\" transform=\"translate(126.82,291.98)\" d=\"M1.77,0A1.77,1.77 0 1,1 0,-1.77A1.77,1.77 0 0,1 1.77,0Z\" style=\"opacity: 0.7; stroke-width: 1px; fill: rgb(13, 8, 135); fill-opacity: 1; stroke: rgb(255, 255, 255); stroke-opacity: 1;\"/><path class=\"point plotly-customdata\" transform=\"translate(93.53,339)\" d=\"M1.77,0A1.77,1.77 0 1,1 0,-1.77A1.77,1.77 0 0,1 1.77,0Z\" style=\"opacity: 0.7; stroke-width: 1px; fill: rgb(13, 8, 135); fill-opacity: 1; stroke: rgb(255, 255, 255); stroke-opacity: 1;\"/><path class=\"point plotly-customdata\" transform=\"translate(112.17,274.1)\" d=\"M1.77,0A1.77,1.77 0 1,1 0,-1.77A1.77,1.77 0 0,1 1.77,0Z\" style=\"opacity: 0.7; stroke-width: 1px; fill: rgb(13, 8, 135); fill-opacity: 1; stroke: rgb(255, 255, 255); stroke-opacity: 1;\"/><path class=\"point plotly-customdata\" transform=\"translate(238.7,325.92)\" d=\"M1.77,0A1.77,1.77 0 1,1 0,-1.77A1.77,1.77 0 0,1 1.77,0Z\" style=\"opacity: 0.7; stroke-width: 1px; fill: rgb(13, 8, 135); fill-opacity: 1; stroke: rgb(255, 255, 255); stroke-opacity: 1;\"/><path class=\"point plotly-customdata\" transform=\"translate(322.6,339)\" d=\"M1.77,0A1.77,1.77 0 1,1 0,-1.77A1.77,1.77 0 0,1 1.77,0Z\" style=\"opacity: 0.7; stroke-width: 1px; fill: rgb(13, 8, 135); fill-opacity: 1; stroke: rgb(255, 255, 255); stroke-opacity: 1;\"/><path class=\"point plotly-customdata\" transform=\"translate(266.67,335.22)\" d=\"M1.77,0A1.77,1.77 0 1,1 0,-1.77A1.77,1.77 0 0,1 1.77,0Z\" style=\"opacity: 0.7; stroke-width: 1px; fill: rgb(13, 8, 135); fill-opacity: 1; stroke: rgb(255, 255, 255); stroke-opacity: 1;\"/><path class=\"point plotly-customdata\" transform=\"translate(281.32,303.38)\" d=\"M1.77,0A1.77,1.77 0 1,1 0,-1.77A1.77,1.77 0 0,1 1.77,0Z\" style=\"opacity: 0.7; stroke-width: 1px; fill: rgb(13, 8, 135); fill-opacity: 1; stroke: rgb(255, 255, 255); stroke-opacity: 1;\"/><path class=\"point plotly-customdata\" transform=\"translate(264,339)\" d=\"M1.77,0A1.77,1.77 0 1,1 0,-1.77A1.77,1.77 0 0,1 1.77,0Z\" style=\"opacity: 0.7; stroke-width: 1px; fill: rgb(13, 8, 135); fill-opacity: 1; stroke: rgb(255, 255, 255); stroke-opacity: 1;\"/><path class=\"point plotly-customdata\" transform=\"translate(391.86,339)\" d=\"M1.77,0A1.77,1.77 0 1,1 0,-1.77A1.77,1.77 0 0,1 1.77,0Z\" style=\"opacity: 0.7; stroke-width: 1px; fill: rgb(13, 8, 135); fill-opacity: 1; stroke: rgb(255, 255, 255); stroke-opacity: 1;\"/><path class=\"point plotly-customdata\" transform=\"translate(289.31,218.11)\" d=\"M1.77,0A1.77,1.77 0 1,1 0,-1.77A1.77,1.77 0 0,1 1.77,0Z\" style=\"opacity: 0.7; stroke-width: 1px; fill: rgb(13, 8, 135); fill-opacity: 1; stroke: rgb(255, 255, 255); stroke-opacity: 1;\"/><path class=\"point plotly-customdata\" transform=\"translate(222.72,334.51)\" d=\"M1.77,0A1.77,1.77 0 1,1 0,-1.77A1.77,1.77 0 0,1 1.77,0Z\" style=\"opacity: 0.7; stroke-width: 1px; fill: rgb(13, 8, 135); fill-opacity: 1; stroke: rgb(255, 255, 255); stroke-opacity: 1;\"/><path class=\"point plotly-customdata\" transform=\"translate(213.39,339)\" d=\"M1.77,0A1.77,1.77 0 1,1 0,-1.77A1.77,1.77 0 0,1 1.77,0Z\" style=\"opacity: 0.7; stroke-width: 1px; fill: rgb(13, 8, 135); fill-opacity: 1; stroke: rgb(255, 255, 255); stroke-opacity: 1;\"/><path class=\"point plotly-customdata\" transform=\"translate(208.07,339)\" d=\"M1.77,0A1.77,1.77 0 1,1 0,-1.77A1.77,1.77 0 0,1 1.77,0Z\" style=\"opacity: 0.7; stroke-width: 1px; fill: rgb(13, 8, 135); fill-opacity: 1; stroke: rgb(255, 255, 255); stroke-opacity: 1;\"/><path class=\"point plotly-customdata\" transform=\"translate(303.96,339)\" d=\"M1.77,0A1.77,1.77 0 1,1 0,-1.77A1.77,1.77 0 0,1 1.77,0Z\" style=\"opacity: 0.7; stroke-width: 1px; fill: rgb(13, 8, 135); fill-opacity: 1; stroke: rgb(255, 255, 255); stroke-opacity: 1;\"/><path class=\"point plotly-customdata\" transform=\"translate(283.98,327.54)\" d=\"M1.77,0A1.77,1.77 0 1,1 0,-1.77A1.77,1.77 0 0,1 1.77,0Z\" style=\"opacity: 0.7; stroke-width: 1px; fill: rgb(13, 8, 135); fill-opacity: 1; stroke: rgb(255, 255, 255); stroke-opacity: 1;\"/><path class=\"point plotly-customdata\" transform=\"translate(279.98,197.8)\" d=\"M1.77,0A1.77,1.77 0 1,1 0,-1.77A1.77,1.77 0 0,1 1.77,0Z\" style=\"opacity: 0.7; stroke-width: 1px; fill: rgb(13, 8, 135); fill-opacity: 1; stroke: rgb(255, 255, 255); stroke-opacity: 1;\"/><path class=\"point plotly-customdata\" transform=\"translate(287.98,338.89)\" d=\"M1.77,0A1.77,1.77 0 1,1 0,-1.77A1.77,1.77 0 0,1 1.77,0Z\" style=\"opacity: 0.7; stroke-width: 1px; fill: rgb(13, 8, 135); fill-opacity: 1; stroke: rgb(255, 255, 255); stroke-opacity: 1;\"/><path class=\"point plotly-customdata\" transform=\"translate(226.71,193.45)\" d=\"M1.77,0A1.77,1.77 0 1,1 0,-1.77A1.77,1.77 0 0,1 1.77,0Z\" style=\"opacity: 0.7; stroke-width: 1px; fill: rgb(13, 8, 135); fill-opacity: 1; stroke: rgb(255, 255, 255); stroke-opacity: 1;\"/><path class=\"point plotly-customdata\" transform=\"translate(134.81,193.19)\" d=\"M3.06,0A3.06,3.06 0 1,1 0,-3.06A3.06,3.06 0 0,1 3.06,0Z\" style=\"opacity: 0.7; stroke-width: 1px; fill: rgb(29, 7, 142); fill-opacity: 1; stroke: rgb(255, 255, 255); stroke-opacity: 1;\"/><path class=\"point plotly-customdata\" transform=\"translate(374.54,318.78)\" d=\"M1.77,0A1.77,1.77 0 1,1 0,-1.77A1.77,1.77 0 0,1 1.77,0Z\" style=\"opacity: 0.7; stroke-width: 1px; fill: rgb(13, 8, 135); fill-opacity: 1; stroke: rgb(255, 255, 255); stroke-opacity: 1;\"/><path class=\"point plotly-customdata\" transform=\"translate(441.14,288.73)\" d=\"M1.77,0A1.77,1.77 0 1,1 0,-1.77A1.77,1.77 0 0,1 1.77,0Z\" style=\"opacity: 0.7; stroke-width: 1px; fill: rgb(13, 8, 135); fill-opacity: 1; stroke: rgb(255, 255, 255); stroke-opacity: 1;\"/><path class=\"point plotly-customdata\" transform=\"translate(168.11,182.06)\" d=\"M1.77,0A1.77,1.77 0 1,1 0,-1.77A1.77,1.77 0 0,1 1.77,0Z\" style=\"opacity: 0.7; stroke-width: 1px; fill: rgb(13, 8, 135); fill-opacity: 1; stroke: rgb(255, 255, 255); stroke-opacity: 1;\"/><path class=\"point plotly-customdata\" transform=\"translate(189.42,339)\" d=\"M1.77,0A1.77,1.77 0 1,1 0,-1.77A1.77,1.77 0 0,1 1.77,0Z\" style=\"opacity: 0.7; stroke-width: 1px; fill: rgb(13, 8, 135); fill-opacity: 1; stroke: rgb(255, 255, 255); stroke-opacity: 1;\"/><path class=\"point plotly-customdata\" transform=\"translate(216.06,238.72)\" d=\"M1.77,0A1.77,1.77 0 1,1 0,-1.77A1.77,1.77 0 0,1 1.77,0Z\" style=\"opacity: 0.7; stroke-width: 1px; fill: rgb(13, 8, 135); fill-opacity: 1; stroke: rgb(255, 255, 255); stroke-opacity: 1;\"/><path class=\"point plotly-customdata\" transform=\"translate(202.74,332.44)\" d=\"M1.77,0A1.77,1.77 0 1,1 0,-1.77A1.77,1.77 0 0,1 1.77,0Z\" style=\"opacity: 0.7; stroke-width: 1px; fill: rgb(13, 8, 135); fill-opacity: 1; stroke: rgb(255, 255, 255); stroke-opacity: 1;\"/><path class=\"point plotly-customdata\" transform=\"translate(252.02,156.07)\" d=\"M1.77,0A1.77,1.77 0 1,1 0,-1.77A1.77,1.77 0 0,1 1.77,0Z\" style=\"opacity: 0.7; stroke-width: 1px; fill: rgb(13, 8, 135); fill-opacity: 1; stroke: rgb(255, 255, 255); stroke-opacity: 1;\"/><path class=\"point plotly-customdata\" transform=\"translate(245.36,216.12)\" d=\"M1.77,0A1.77,1.77 0 1,1 0,-1.77A1.77,1.77 0 0,1 1.77,0Z\" style=\"opacity: 0.7; stroke-width: 1px; fill: rgb(13, 8, 135); fill-opacity: 1; stroke: rgb(255, 255, 255); stroke-opacity: 1;\"/><path class=\"point plotly-customdata\" transform=\"translate(146.8,201.15)\" d=\"M1.77,0A1.77,1.77 0 1,1 0,-1.77A1.77,1.77 0 0,1 1.77,0Z\" style=\"opacity: 0.7; stroke-width: 1px; fill: rgb(13, 8, 135); fill-opacity: 1; stroke: rgb(255, 255, 255); stroke-opacity: 1;\"/><path class=\"point plotly-customdata\" transform=\"translate(209.4,163.34)\" d=\"M1.77,0A1.77,1.77 0 1,1 0,-1.77A1.77,1.77 0 0,1 1.77,0Z\" style=\"opacity: 0.7; stroke-width: 1px; fill: rgb(13, 8, 135); fill-opacity: 1; stroke: rgb(255, 255, 255); stroke-opacity: 1;\"/><path class=\"point plotly-customdata\" transform=\"translate(270.66,214.02)\" d=\"M1.77,0A1.77,1.77 0 1,1 0,-1.77A1.77,1.77 0 0,1 1.77,0Z\" style=\"opacity: 0.7; stroke-width: 1px; fill: rgb(13, 8, 135); fill-opacity: 1; stroke: rgb(255, 255, 255); stroke-opacity: 1;\"/><path class=\"point plotly-customdata\" transform=\"translate(278.65,149.83)\" d=\"M1.77,0A1.77,1.77 0 1,1 0,-1.77A1.77,1.77 0 0,1 1.77,0Z\" style=\"opacity: 0.7; stroke-width: 1px; fill: rgb(13, 8, 135); fill-opacity: 1; stroke: rgb(255, 255, 255); stroke-opacity: 1;\"/><path class=\"point plotly-customdata\" transform=\"translate(313.28,205.88)\" d=\"M1.77,0A1.77,1.77 0 1,1 0,-1.77A1.77,1.77 0 0,1 1.77,0Z\" style=\"opacity: 0.7; stroke-width: 1px; fill: rgb(13, 8, 135); fill-opacity: 1; stroke: rgb(255, 255, 255); stroke-opacity: 1;\"/><path class=\"point plotly-customdata\" transform=\"translate(142.81,131.08)\" d=\"M5.86,0A5.86,5.86 0 1,1 0,-5.86A5.86,5.86 0 0,1 5.86,0Z\" style=\"opacity: 0.7; stroke-width: 1px; fill: rgb(89, 2, 163); fill-opacity: 1; stroke: rgb(255, 255, 255); stroke-opacity: 1;\"/><path class=\"point plotly-customdata\" transform=\"translate(265.33,178.59)\" d=\"M1.77,0A1.77,1.77 0 1,1 0,-1.77A1.77,1.77 0 0,1 1.77,0Z\" style=\"opacity: 0.7; stroke-width: 1px; fill: rgb(13, 8, 135); fill-opacity: 1; stroke: rgb(255, 255, 255); stroke-opacity: 1;\"/><path class=\"point plotly-customdata\" transform=\"translate(298.63,297.79)\" d=\"M1.77,0A1.77,1.77 0 1,1 0,-1.77A1.77,1.77 0 0,1 1.77,0Z\" style=\"opacity: 0.7; stroke-width: 1px; fill: rgb(13, 8, 135); fill-opacity: 1; stroke: rgb(255, 255, 255); stroke-opacity: 1;\"/><path class=\"point plotly-customdata\" transform=\"translate(128.16,114.91)\" d=\"M1.77,0A1.77,1.77 0 1,1 0,-1.77A1.77,1.77 0 0,1 1.77,0Z\" style=\"opacity: 0.7; stroke-width: 1px; fill: rgb(13, 8, 135); fill-opacity: 1; stroke: rgb(255, 255, 255); stroke-opacity: 1;\"/><path class=\"point plotly-customdata\" transform=\"translate(145.47,221.78)\" d=\"M6.61,0A6.61,6.61 0 1,1 0,-6.61A6.61,6.61 0 0,1 6.61,0Z\" style=\"opacity: 0.7; stroke-width: 1px; fill: rgb(108, 1, 167); fill-opacity: 1; stroke: rgb(255, 255, 255); stroke-opacity: 1;\"/><path class=\"point plotly-customdata\" transform=\"translate(164.11,128.49)\" d=\"M1.77,0A1.77,1.77 0 1,1 0,-1.77A1.77,1.77 0 0,1 1.77,0Z\" style=\"opacity: 0.7; stroke-width: 1px; fill: rgb(13, 8, 135); fill-opacity: 1; stroke: rgb(255, 255, 255); stroke-opacity: 1;\"/><path class=\"point plotly-customdata\" transform=\"translate(242.69,126.84)\" d=\"M1.77,0A1.77,1.77 0 1,1 0,-1.77A1.77,1.77 0 0,1 1.77,0Z\" style=\"opacity: 0.7; stroke-width: 1px; fill: rgb(13, 8, 135); fill-opacity: 1; stroke: rgb(255, 255, 255); stroke-opacity: 1;\"/><path class=\"point plotly-customdata\" transform=\"translate(309.28,102.77)\" d=\"M1.77,0A1.77,1.77 0 1,1 0,-1.77A1.77,1.77 0 0,1 1.77,0Z\" style=\"opacity: 0.7; stroke-width: 1px; fill: rgb(13, 8, 135); fill-opacity: 1; stroke: rgb(255, 255, 255); stroke-opacity: 1;\"/><path class=\"point plotly-customdata\" transform=\"translate(282.65,146.45)\" d=\"M1.77,0A1.77,1.77 0 1,1 0,-1.77A1.77,1.77 0 0,1 1.77,0Z\" style=\"opacity: 0.7; stroke-width: 1px; fill: rgb(13, 8, 135); fill-opacity: 1; stroke: rgb(255, 255, 255); stroke-opacity: 1;\"/><path class=\"point plotly-customdata\" transform=\"translate(256.01,163.91)\" d=\"M1.77,0A1.77,1.77 0 1,1 0,-1.77A1.77,1.77 0 0,1 1.77,0Z\" style=\"opacity: 0.7; stroke-width: 1px; fill: rgb(13, 8, 135); fill-opacity: 1; stroke: rgb(255, 255, 255); stroke-opacity: 1;\"/><path class=\"point plotly-customdata\" transform=\"translate(225.38,75.89)\" d=\"M3.06,0A3.06,3.06 0 1,1 0,-3.06A3.06,3.06 0 0,1 3.06,0Z\" style=\"opacity: 0.7; stroke-width: 1px; fill: rgb(29, 7, 142); fill-opacity: 1; stroke: rgb(255, 255, 255); stroke-opacity: 1;\"/><path class=\"point plotly-customdata\" transform=\"translate(169.44,68.2)\" d=\"M1.77,0A1.77,1.77 0 1,1 0,-1.77A1.77,1.77 0 0,1 1.77,0Z\" style=\"opacity: 0.7; stroke-width: 1px; fill: rgb(13, 8, 135); fill-opacity: 1; stroke: rgb(255, 255, 255); stroke-opacity: 1;\"/><path class=\"point plotly-customdata\" transform=\"translate(228.04,156.15)\" d=\"M1.77,0A1.77,1.77 0 1,1 0,-1.77A1.77,1.77 0 0,1 1.77,0Z\" style=\"opacity: 0.7; stroke-width: 1px; fill: rgb(13, 8, 135); fill-opacity: 1; stroke: rgb(255, 255, 255); stroke-opacity: 1;\"/><path class=\"point plotly-customdata\" transform=\"translate(92.2,180.35)\" d=\"M6.61,0A6.61,6.61 0 1,1 0,-6.61A6.61,6.61 0 0,1 6.61,0Z\" style=\"opacity: 0.7; stroke-width: 1px; fill: rgb(108, 1, 167); fill-opacity: 1; stroke: rgb(255, 255, 255); stroke-opacity: 1;\"/><path class=\"point plotly-customdata\" transform=\"translate(331.93,129.61)\" d=\"M1.77,0A1.77,1.77 0 1,1 0,-1.77A1.77,1.77 0 0,1 1.77,0Z\" style=\"opacity: 0.7; stroke-width: 1px; fill: rgb(13, 8, 135); fill-opacity: 1; stroke: rgb(255, 255, 255); stroke-opacity: 1;\"/><path class=\"point plotly-customdata\" transform=\"translate(144.14,84.53)\" d=\"M7.91,0A7.91,7.91 0 1,1 0,-7.91A7.91,7.91 0 0,1 7.91,0Z\" style=\"opacity: 0.7; stroke-width: 1px; fill: rgb(144, 17, 161); fill-opacity: 1; stroke: rgb(255, 255, 255); stroke-opacity: 1;\"/><path class=\"point plotly-customdata\" transform=\"translate(174.77,50.06)\" d=\"M1.77,0A1.77,1.77 0 1,1 0,-1.77A1.77,1.77 0 0,1 1.77,0Z\" style=\"opacity: 0.7; stroke-width: 1px; fill: rgb(13, 8, 135); fill-opacity: 1; stroke: rgb(255, 255, 255); stroke-opacity: 1;\"/><path class=\"point plotly-customdata\" transform=\"translate(152.13,86.14)\" d=\"M1.77,0A1.77,1.77 0 1,1 0,-1.77A1.77,1.77 0 0,1 1.77,0Z\" style=\"opacity: 0.7; stroke-width: 1px; fill: rgb(13, 8, 135); fill-opacity: 1; stroke: rgb(255, 255, 255); stroke-opacity: 1;\"/><path class=\"point plotly-customdata\" transform=\"translate(190.75,82.25)\" d=\"M1.77,0A1.77,1.77 0 1,1 0,-1.77A1.77,1.77 0 0,1 1.77,0Z\" style=\"opacity: 0.7; stroke-width: 1px; fill: rgb(13, 8, 135); fill-opacity: 1; stroke: rgb(255, 255, 255); stroke-opacity: 1;\"/><path class=\"point plotly-customdata\" transform=\"translate(132.15,122.79)\" d=\"M6.12,0A6.12,6.12 0 1,1 0,-6.12A6.12,6.12 0 0,1 6.12,0Z\" style=\"opacity: 0.7; stroke-width: 1px; fill: rgb(95, 2, 164); fill-opacity: 1; stroke: rgb(255, 255, 255); stroke-opacity: 1;\"/><path class=\"point plotly-customdata\" transform=\"translate(125.49,89.21)\" d=\"M7.07,0A7.07,7.07 0 1,1 0,-7.07A7.07,7.07 0 0,1 7.07,0Z\" style=\"opacity: 0.7; stroke-width: 1px; fill: rgb(120, 4, 167); fill-opacity: 1; stroke: rgb(255, 255, 255); stroke-opacity: 1;\"/><path class=\"point plotly-customdata\" transform=\"translate(212.06,78.86)\" d=\"M1.77,0A1.77,1.77 0 1,1 0,-1.77A1.77,1.77 0 0,1 1.77,0Z\" style=\"opacity: 0.7; stroke-width: 1px; fill: rgb(13, 8, 135); fill-opacity: 1; stroke: rgb(255, 255, 255); stroke-opacity: 1;\"/><path class=\"point plotly-customdata\" transform=\"translate(217.39,185.1)\" d=\"M1.77,0A1.77,1.77 0 1,1 0,-1.77A1.77,1.77 0 0,1 1.77,0Z\" style=\"opacity: 0.7; stroke-width: 1px; fill: rgb(13, 8, 135); fill-opacity: 1; stroke: rgb(255, 255, 255); stroke-opacity: 1;\"/><path class=\"point plotly-customdata\" transform=\"translate(249.35,34.35)\" d=\"M1.77,0A1.77,1.77 0 1,1 0,-1.77A1.77,1.77 0 0,1 1.77,0Z\" style=\"opacity: 0.7; stroke-width: 1px; fill: rgb(13, 8, 135); fill-opacity: 1; stroke: rgb(255, 255, 255); stroke-opacity: 1;\"/><path class=\"point plotly-customdata\" transform=\"translate(254.68,119.02)\" d=\"M1.77,0A1.77,1.77 0 1,1 0,-1.77A1.77,1.77 0 0,1 1.77,0Z\" style=\"opacity: 0.7; stroke-width: 1px; fill: rgb(13, 8, 135); fill-opacity: 1; stroke: rgb(255, 255, 255); stroke-opacity: 1;\"/><path class=\"point plotly-customdata\" transform=\"translate(329.26,116.6)\" d=\"M1.77,0A1.77,1.77 0 1,1 0,-1.77A1.77,1.77 0 0,1 1.77,0Z\" style=\"opacity: 0.7; stroke-width: 1px; fill: rgb(13, 8, 135); fill-opacity: 1; stroke: rgb(255, 255, 255); stroke-opacity: 1;\"/><path class=\"point plotly-customdata\" transform=\"translate(206.73,120.24)\" d=\"M1.77,0A1.77,1.77 0 1,1 0,-1.77A1.77,1.77 0 0,1 1.77,0Z\" style=\"opacity: 0.7; stroke-width: 1px; fill: rgb(13, 8, 135); fill-opacity: 1; stroke: rgb(255, 255, 255); stroke-opacity: 1;\"/><path class=\"point plotly-customdata\" transform=\"translate(261.34,101.15)\" d=\"M1.77,0A1.77,1.77 0 1,1 0,-1.77A1.77,1.77 0 0,1 1.77,0Z\" style=\"opacity: 0.7; stroke-width: 1px; fill: rgb(13, 8, 135); fill-opacity: 1; stroke: rgb(255, 255, 255); stroke-opacity: 1;\"/><path class=\"point plotly-customdata\" transform=\"translate(182.76,55.26)\" d=\"M6.12,0A6.12,6.12 0 1,1 0,-6.12A6.12,6.12 0 0,1 6.12,0Z\" style=\"opacity: 0.7; stroke-width: 1px; fill: rgb(95, 2, 164); fill-opacity: 1; stroke: rgb(255, 255, 255); stroke-opacity: 1;\"/><path class=\"point plotly-customdata\" transform=\"translate(93.53,33.75)\" d=\"M10.61,0A10.61,10.61 0 1,1 0,-10.61A10.61,10.61 0 0,1 10.61,0Z\" style=\"opacity: 0.7; stroke-width: 1px; fill: rgb(216, 87, 107); fill-opacity: 1; stroke: rgb(255, 255, 255); stroke-opacity: 1;\"/><path class=\"point plotly-customdata\" transform=\"translate(246.69,267.44)\" d=\"M1.77,0A1.77,1.77 0 1,1 0,-1.77A1.77,1.77 0 0,1 1.77,0Z\" style=\"opacity: 0.7; stroke-width: 1px; fill: rgb(13, 8, 135); fill-opacity: 1; stroke: rgb(255, 255, 255); stroke-opacity: 1;\"/><path class=\"point plotly-customdata\" transform=\"translate(297.3,119.93)\" d=\"M1.77,0A1.77,1.77 0 1,1 0,-1.77A1.77,1.77 0 0,1 1.77,0Z\" style=\"opacity: 0.7; stroke-width: 1px; fill: rgb(13, 8, 135); fill-opacity: 1; stroke: rgb(255, 255, 255); stroke-opacity: 1;\"/><path class=\"point plotly-customdata\" transform=\"translate(220.05,67.55)\" d=\"M4.33,0A4.33,4.33 0 1,1 0,-4.33A4.33,4.33 0 0,1 4.33,0Z\" style=\"opacity: 0.7; stroke-width: 1px; fill: rgb(54, 4, 152); fill-opacity: 1; stroke: rgb(255, 255, 255); stroke-opacity: 1;\"/><path class=\"point plotly-customdata\" transform=\"translate(246.69,93.37)\" d=\"M1.77,0A1.77,1.77 0 1,1 0,-1.77A1.77,1.77 0 0,1 1.77,0Z\" style=\"opacity: 0.7; stroke-width: 1px; fill: rgb(13, 8, 135); fill-opacity: 1; stroke: rgb(255, 255, 255); stroke-opacity: 1;\"/><path class=\"point plotly-customdata\" transform=\"translate(172.11,53.96)\" d=\"M7.71,0A7.71,7.71 0 1,1 0,-7.71A7.71,7.71 0 0,1 7.71,0Z\" style=\"opacity: 0.7; stroke-width: 1px; fill: rgb(138, 14, 162); fill-opacity: 1; stroke: rgb(255, 255, 255); stroke-opacity: 1;\"/><path class=\"point plotly-customdata\" transform=\"translate(125.49,56.91)\" d=\"M8.1,0A8.1,8.1 0 1,1 0,-8.1A8.1,8.1 0 0,1 8.1,0Z\" style=\"opacity: 0.7; stroke-width: 1px; fill: rgb(150, 20, 159); fill-opacity: 1; stroke: rgb(255, 255, 255); stroke-opacity: 1;\"/><path class=\"point plotly-customdata\" transform=\"translate(136.15,143.26)\" d=\"M1.77,0A1.77,1.77 0 1,1 0,-1.77A1.77,1.77 0 0,1 1.77,0Z\" style=\"opacity: 0.7; stroke-width: 1px; fill: rgb(13, 8, 135); fill-opacity: 1; stroke: rgb(255, 255, 255); stroke-opacity: 1;\"/><path class=\"point plotly-customdata\" transform=\"translate(106.85,273.89)\" d=\"M1.77,0A1.77,1.77 0 1,1 0,-1.77A1.77,1.77 0 0,1 1.77,0Z\" style=\"opacity: 0.7; stroke-width: 1px; fill: rgb(13, 8, 135); fill-opacity: 1; stroke: rgb(255, 255, 255); stroke-opacity: 1;\"/><path class=\"point plotly-customdata\" transform=\"translate(214.72,63.04)\" d=\"M1.77,0A1.77,1.77 0 1,1 0,-1.77A1.77,1.77 0 0,1 1.77,0Z\" style=\"opacity: 0.7; stroke-width: 1px; fill: rgb(13, 8, 135); fill-opacity: 1; stroke: rgb(255, 255, 255); stroke-opacity: 1;\"/><path class=\"point plotly-customdata\" transform=\"translate(124.16,98.95)\" d=\"M8.66,0A8.66,8.66 0 1,1 0,-8.66A8.66,8.66 0 0,1 8.66,0Z\" style=\"opacity: 0.7; stroke-width: 1px; fill: rgb(165, 32, 151); fill-opacity: 1; stroke: rgb(255, 255, 255); stroke-opacity: 1;\"/><path class=\"point plotly-customdata\" transform=\"translate(246.69,111.99)\" d=\"M1.77,0A1.77,1.77 0 1,1 0,-1.77A1.77,1.77 0 0,1 1.77,0Z\" style=\"opacity: 0.7; stroke-width: 1px; fill: rgb(13, 8, 135); fill-opacity: 1; stroke: rgb(255, 255, 255); stroke-opacity: 1;\"/><path class=\"point plotly-customdata\" transform=\"translate(232.04,71.31)\" d=\"M1.77,0A1.77,1.77 0 1,1 0,-1.77A1.77,1.77 0 0,1 1.77,0Z\" style=\"opacity: 0.7; stroke-width: 1px; fill: rgb(13, 8, 135); fill-opacity: 1; stroke: rgb(255, 255, 255); stroke-opacity: 1;\"/><path class=\"point plotly-customdata\" transform=\"translate(114.84,79.46)\" d=\"M5.86,0A5.86,5.86 0 1,1 0,-5.86A5.86,5.86 0 0,1 5.86,0Z\" style=\"opacity: 0.7; stroke-width: 1px; fill: rgb(89, 2, 163); fill-opacity: 1; stroke: rgb(255, 255, 255); stroke-opacity: 1;\"/><path class=\"point plotly-customdata\" transform=\"translate(121.5,253.45)\" d=\"M1.77,0A1.77,1.77 0 1,1 0,-1.77A1.77,1.77 0 0,1 1.77,0Z\" style=\"opacity: 0.7; stroke-width: 1px; fill: rgb(13, 8, 135); fill-opacity: 1; stroke: rgb(255, 255, 255); stroke-opacity: 1;\"/><path class=\"point plotly-customdata\" transform=\"translate(129.49,328.12)\" d=\"M1.77,0A1.77,1.77 0 1,1 0,-1.77A1.77,1.77 0 0,1 1.77,0Z\" style=\"opacity: 0.7; stroke-width: 1px; fill: rgb(13, 8, 135); fill-opacity: 1; stroke: rgb(255, 255, 255); stroke-opacity: 1;\"/><path class=\"point plotly-customdata\" transform=\"translate(217.39,79.64)\" d=\"M1.77,0A1.77,1.77 0 1,1 0,-1.77A1.77,1.77 0 0,1 1.77,0Z\" style=\"opacity: 0.7; stroke-width: 1px; fill: rgb(13, 8, 135); fill-opacity: 1; stroke: rgb(255, 255, 255); stroke-opacity: 1;\"/><path class=\"point plotly-customdata\" transform=\"translate(301.29,120.5)\" d=\"M1.77,0A1.77,1.77 0 1,1 0,-1.77A1.77,1.77 0 0,1 1.77,0Z\" style=\"opacity: 0.7; stroke-width: 1px; fill: rgb(13, 8, 135); fill-opacity: 1; stroke: rgb(255, 255, 255); stroke-opacity: 1;\"/><path class=\"point plotly-customdata\" transform=\"translate(150.8,101.77)\" d=\"M9.01,0A9.01,9.01 0 1,1 0,-9.01A9.01,9.01 0 0,1 9.01,0Z\" style=\"opacity: 0.7; stroke-width: 1px; fill: rgb(175, 41, 144); fill-opacity: 1; stroke: rgb(255, 255, 255); stroke-opacity: 1;\"/><path class=\"point plotly-customdata\" transform=\"translate(173.44,86.7)\" d=\"M3.54,0A3.54,3.54 0 1,1 0,-3.54A3.54,3.54 0 0,1 3.54,0Z\" style=\"opacity: 0.7; stroke-width: 1px; fill: rgb(37, 6, 145); fill-opacity: 1; stroke: rgb(255, 255, 255); stroke-opacity: 1;\"/><path class=\"point plotly-customdata\" transform=\"translate(122.83,97.99)\" d=\"M10,0A10,10 0 1,1 0,-10A10,10 0 0,1 10,0Z\" style=\"opacity: 0.7; stroke-width: 1px; fill: rgb(201, 69, 122); fill-opacity: 1; stroke: rgb(255, 255, 255); stroke-opacity: 1;\"/><path class=\"point plotly-customdata\" transform=\"translate(148.13,141.73)\" d=\"M1.77,0A1.77,1.77 0 1,1 0,-1.77A1.77,1.77 0 0,1 1.77,0Z\" style=\"opacity: 0.7; stroke-width: 1px; fill: rgb(13, 8, 135); fill-opacity: 1; stroke: rgb(255, 255, 255); stroke-opacity: 1;\"/><path class=\"point plotly-customdata\" transform=\"translate(241.36,104.61)\" d=\"M1.77,0A1.77,1.77 0 1,1 0,-1.77A1.77,1.77 0 0,1 1.77,0Z\" style=\"opacity: 0.7; stroke-width: 1px; fill: rgb(13, 8, 135); fill-opacity: 1; stroke: rgb(255, 255, 255); stroke-opacity: 1;\"/><path class=\"point plotly-customdata\" transform=\"translate(228.04,105.28)\" d=\"M1.77,0A1.77,1.77 0 1,1 0,-1.77A1.77,1.77 0 0,1 1.77,0Z\" style=\"opacity: 0.7; stroke-width: 1px; fill: rgb(13, 8, 135); fill-opacity: 1; stroke: rgb(255, 255, 255); stroke-opacity: 1;\"/><path class=\"point plotly-customdata\" transform=\"translate(150.8,115.31)\" d=\"M8.29,0A8.29,8.29 0 1,1 0,-8.29A8.29,8.29 0 0,1 8.29,0Z\" style=\"opacity: 0.7; stroke-width: 1px; fill: rgb(156, 23, 158); fill-opacity: 1; stroke: rgb(255, 255, 255); stroke-opacity: 1;\"/><path class=\"point plotly-customdata\" transform=\"translate(106.85,116.97)\" d=\"M11.86,0A11.86,11.86 0 1,1 0,-11.86A11.86,11.86 0 0,1 11.86,0Z\" style=\"opacity: 0.7; stroke-width: 1px; fill: rgb(241, 132, 76); fill-opacity: 1; stroke: rgb(255, 255, 255); stroke-opacity: 1;\"/><path class=\"point plotly-customdata\" transform=\"translate(265.33,138.12)\" d=\"M1.77,0A1.77,1.77 0 1,1 0,-1.77A1.77,1.77 0 0,1 1.77,0Z\" style=\"opacity: 0.7; stroke-width: 1px; fill: rgb(13, 8, 135); fill-opacity: 1; stroke: rgb(255, 255, 255); stroke-opacity: 1;\"/><path class=\"point plotly-customdata\" transform=\"translate(136.15,132.66)\" d=\"M11.59,0A11.59,11.59 0 1,1 0,-11.59A11.59,11.59 0 0,1 11.59,0Z\" style=\"opacity: 0.7; stroke-width: 1px; fill: rgb(237, 121, 83); fill-opacity: 1; stroke: rgb(255, 255, 255); stroke-opacity: 1;\"/><path class=\"point plotly-customdata\" transform=\"translate(124.16,153.57)\" d=\"M11.04,0A11.04,11.04 0 1,1 0,-11.04A11.04,11.04 0 0,1 11.04,0Z\" style=\"opacity: 0.7; stroke-width: 1px; fill: rgb(225, 102, 97); fill-opacity: 1; stroke: rgb(255, 255, 255); stroke-opacity: 1;\"/><path class=\"point plotly-customdata\" transform=\"translate(166.78,200.58)\" d=\"M1.77,0A1.77,1.77 0 1,1 0,-1.77A1.77,1.77 0 0,1 1.77,0Z\" style=\"opacity: 0.7; stroke-width: 1px; fill: rgb(13, 8, 135); fill-opacity: 1; stroke: rgb(255, 255, 255); stroke-opacity: 1;\"/><path class=\"point plotly-customdata\" transform=\"translate(209.4,221.19)\" d=\"M1.77,0A1.77,1.77 0 1,1 0,-1.77A1.77,1.77 0 0,1 1.77,0Z\" style=\"opacity: 0.7; stroke-width: 1px; fill: rgb(13, 8, 135); fill-opacity: 1; stroke: rgb(255, 255, 255); stroke-opacity: 1;\"/><path class=\"point plotly-customdata\" transform=\"translate(417.16,199.68)\" d=\"M1.77,0A1.77,1.77 0 1,1 0,-1.77A1.77,1.77 0 0,1 1.77,0Z\" style=\"opacity: 0.7; stroke-width: 1px; fill: rgb(13, 8, 135); fill-opacity: 1; stroke: rgb(255, 255, 255); stroke-opacity: 1;\"/><path class=\"point plotly-customdata\" transform=\"translate(213.39,288.04)\" d=\"M1.77,0A1.77,1.77 0 1,1 0,-1.77A1.77,1.77 0 0,1 1.77,0Z\" style=\"opacity: 0.7; stroke-width: 1px; fill: rgb(13, 8, 135); fill-opacity: 1; stroke: rgb(255, 255, 255); stroke-opacity: 1;\"/><path class=\"point plotly-customdata\" transform=\"translate(193.42,193.76)\" d=\"M1.77,0A1.77,1.77 0 1,1 0,-1.77A1.77,1.77 0 0,1 1.77,0Z\" style=\"opacity: 0.7; stroke-width: 1px; fill: rgb(13, 8, 135); fill-opacity: 1; stroke: rgb(255, 255, 255); stroke-opacity: 1;\"/><path class=\"point plotly-customdata\" transform=\"translate(126.82,172.38)\" d=\"M4.68,0A4.68,4.68 0 1,1 0,-4.68A4.68,4.68 0 0,1 4.68,0Z\" style=\"opacity: 0.7; stroke-width: 1px; fill: rgb(62, 4, 156); fill-opacity: 1; stroke: rgb(255, 255, 255); stroke-opacity: 1;\"/><path class=\"point plotly-customdata\" transform=\"translate(240.03,217.92)\" d=\"M1.77,0A1.77,1.77 0 1,1 0,-1.77A1.77,1.77 0 0,1 1.77,0Z\" style=\"opacity: 0.7; stroke-width: 1px; fill: rgb(13, 8, 135); fill-opacity: 1; stroke: rgb(255, 255, 255); stroke-opacity: 1;\"/><path class=\"point plotly-customdata\" transform=\"translate(164.11,191.19)\" d=\"M1.77,0A1.77,1.77 0 1,1 0,-1.77A1.77,1.77 0 0,1 1.77,0Z\" style=\"opacity: 0.7; stroke-width: 1px; fill: rgb(13, 8, 135); fill-opacity: 1; stroke: rgb(255, 255, 255); stroke-opacity: 1;\"/><path class=\"point plotly-customdata\" transform=\"translate(82.87,176.95)\" d=\"M7.07,0A7.07,7.07 0 1,1 0,-7.07A7.07,7.07 0 0,1 7.07,0Z\" style=\"opacity: 0.7; stroke-width: 1px; fill: rgb(120, 4, 167); fill-opacity: 1; stroke: rgb(255, 255, 255); stroke-opacity: 1;\"/><path class=\"point plotly-customdata\" transform=\"translate(129.49,306.97)\" d=\"M1.77,0A1.77,1.77 0 1,1 0,-1.77A1.77,1.77 0 0,1 1.77,0Z\" style=\"opacity: 0.7; stroke-width: 1px; fill: rgb(13, 8, 135); fill-opacity: 1; stroke: rgb(255, 255, 255); stroke-opacity: 1;\"/><path class=\"point plotly-customdata\" transform=\"translate(60.23,339)\" d=\"M1.77,0A1.77,1.77 0 1,1 0,-1.77A1.77,1.77 0 0,1 1.77,0Z\" style=\"opacity: 0.7; stroke-width: 1px; fill: rgb(13, 8, 135); fill-opacity: 1; stroke: rgb(255, 255, 255); stroke-opacity: 1;\"/></g><g class=\"text\"/></g></g></g></g><path class=\"xlines-above crisp\" d=\"M0,0\" style=\"fill: none;\"/><path class=\"ylines-above crisp\" d=\"M0,0\" style=\"fill: none;\"/><g class=\"overlines-above\"/><g class=\"xaxislayer-above\"><g class=\"xtick\"><text text-anchor=\"middle\" x=\"0\" y=\"433\" transform=\"translate(170.86,0)\" style=\"font-family: 'Open Sans', verdana, arial, sans-serif; font-size: 12px; fill: rgb(42, 63, 95); fill-opacity: 1; white-space: pre; opacity: 1;\">10</text></g><g class=\"xtick\"><text text-anchor=\"middle\" x=\"0\" y=\"433\" style=\"font-family: 'Open Sans', verdana, arial, sans-serif; font-size: 12px; fill: rgb(42, 63, 95); fill-opacity: 1; white-space: pre; opacity: 1;\" transform=\"translate(304.05,0)\">20</text></g><g class=\"xtick\"><text text-anchor=\"middle\" x=\"0\" y=\"433\" style=\"font-family: 'Open Sans', verdana, arial, sans-serif; font-size: 12px; fill: rgb(42, 63, 95); fill-opacity: 1; white-space: pre; opacity: 1;\" transform=\"translate(437.23,0)\">30</text></g><g class=\"xtick\"><text text-anchor=\"middle\" x=\"0\" y=\"433\" style=\"font-family: 'Open Sans', verdana, arial, sans-serif; font-size: 12px; fill: rgb(42, 63, 95); fill-opacity: 1; white-space: pre; opacity: 1;\" transform=\"translate(570.4100000000001,0)\">40</text></g></g><g class=\"yaxislayer-above\"><g class=\"ytick\"><text text-anchor=\"end\" x=\"79\" y=\"4.199999999999999\" transform=\"translate(0,399)\" style=\"font-family: 'Open Sans', verdana, arial, sans-serif; font-size: 12px; fill: rgb(42, 63, 95); fill-opacity: 1; white-space: pre; opacity: 1;\">0</text></g><g class=\"ytick\"><text text-anchor=\"end\" x=\"79\" y=\"4.199999999999999\" style=\"font-family: 'Open Sans', verdana, arial, sans-serif; font-size: 12px; fill: rgb(42, 63, 95); fill-opacity: 1; white-space: pre; opacity: 1;\" transform=\"translate(0,342.84)\">10k</text></g><g class=\"ytick\"><text text-anchor=\"end\" x=\"79\" y=\"4.199999999999999\" style=\"font-family: 'Open Sans', verdana, arial, sans-serif; font-size: 12px; fill: rgb(42, 63, 95); fill-opacity: 1; white-space: pre; opacity: 1;\" transform=\"translate(0,286.68)\">20k</text></g><g class=\"ytick\"><text text-anchor=\"end\" x=\"79\" y=\"4.199999999999999\" style=\"font-family: 'Open Sans', verdana, arial, sans-serif; font-size: 12px; fill: rgb(42, 63, 95); fill-opacity: 1; white-space: pre; opacity: 1;\" transform=\"translate(0,230.52)\">30k</text></g><g class=\"ytick\"><text text-anchor=\"end\" x=\"79\" y=\"4.199999999999999\" style=\"font-family: 'Open Sans', verdana, arial, sans-serif; font-size: 12px; fill: rgb(42, 63, 95); fill-opacity: 1; white-space: pre; opacity: 1;\" transform=\"translate(0,174.35)\">40k</text></g><g class=\"ytick\"><text text-anchor=\"end\" x=\"79\" y=\"4.199999999999999\" style=\"font-family: 'Open Sans', verdana, arial, sans-serif; font-size: 12px; fill: rgb(42, 63, 95); fill-opacity: 1; white-space: pre; opacity: 1;\" transform=\"translate(0,118.19)\">50k</text></g><g class=\"ytick\"><text text-anchor=\"end\" x=\"79\" y=\"4.199999999999999\" style=\"font-family: 'Open Sans', verdana, arial, sans-serif; font-size: 12px; fill: rgb(42, 63, 95); fill-opacity: 1; white-space: pre; opacity: 1;\" transform=\"translate(0,62.03)\">60k</text></g></g><g class=\"overaxes-above\"/></g></g><g class=\"polarlayer\"/><g class=\"smithlayer\"/><g class=\"ternarylayer\"/><g class=\"geolayer\"/><g class=\"funnelarealayer\"/><g class=\"pielayer\"/><g class=\"iciclelayer\"/><g class=\"treemaplayer\"/><g class=\"sunburstlayer\"/><g class=\"glimages\"/><defs id=\"topdefs-493b24\"><g class=\"clips\"/></defs><g class=\"layer-above\"><g class=\"imagelayer\"/><g class=\"shapelayer\"/></g><g class=\"infolayer\"><g class=\"cbcoloraxis colorbar\" transform=\"translate(80,60)\"><rect class=\"cbbg\" x=\"543\" y=\"0\" width=\"64.875\" height=\"360\" style=\"fill: rgb(0, 0, 0); fill-opacity: 0; stroke: rgb(68, 68, 68); stroke-opacity: 1; stroke-width: 0;\"/><g class=\"cbfills\" transform=\"translate(0,34)\"><rect class=\"cbfill gradient_filled\" style=\"fill: url('#g493b24-cbcoloraxis');\" x=\"553\" y=\"0\" width=\"30\" height=\"316\"/></g><g class=\"cblines\" transform=\"translate(0,34)\"/><g class=\"cbaxis crisp\" transform=\"translate(0,-60)\"><g class=\"ycbcoloraxistick\"><text text-anchor=\"start\" x=\"585.9\" y=\"4.199999999999999\" transform=\"translate(0,410)\" style=\"font-family: 'Open Sans', verdana, arial, sans-serif; font-size: 12px; fill: rgb(42, 63, 95); fill-opacity: 1; white-space: pre; opacity: 1;\">0</text></g><g class=\"ycbcoloraxistick\"><text text-anchor=\"start\" x=\"585.9\" y=\"4.199999999999999\" style=\"font-family: 'Open Sans', verdana, arial, sans-serif; font-size: 12px; fill: rgb(42, 63, 95); fill-opacity: 1; white-space: pre; opacity: 1;\" transform=\"translate(0,359.84)\">10</text></g><g class=\"ycbcoloraxistick\"><text text-anchor=\"start\" x=\"585.9\" y=\"4.199999999999999\" style=\"font-family: 'Open Sans', verdana, arial, sans-serif; font-size: 12px; fill: rgb(42, 63, 95); fill-opacity: 1; white-space: pre; opacity: 1;\" transform=\"translate(0,309.68)\">20</text></g><g class=\"ycbcoloraxistick\"><text text-anchor=\"start\" x=\"585.9\" y=\"4.199999999999999\" style=\"font-family: 'Open Sans', verdana, arial, sans-serif; font-size: 12px; fill: rgb(42, 63, 95); fill-opacity: 1; white-space: pre; opacity: 1;\" transform=\"translate(0,259.52)\">30</text></g><g class=\"ycbcoloraxistick\"><text text-anchor=\"start\" x=\"585.9\" y=\"4.199999999999999\" style=\"font-family: 'Open Sans', verdana, arial, sans-serif; font-size: 12px; fill: rgb(42, 63, 95); fill-opacity: 1; white-space: pre; opacity: 1;\" transform=\"translate(0,209.37)\">40</text></g><g class=\"ycbcoloraxistick\"><text text-anchor=\"start\" x=\"585.9\" y=\"4.199999999999999\" style=\"font-family: 'Open Sans', verdana, arial, sans-serif; font-size: 12px; fill: rgb(42, 63, 95); fill-opacity: 1; white-space: pre; opacity: 1;\" transform=\"translate(0,159.20999999999998)\">50</text></g><g class=\"ycbcoloraxistick\"><text text-anchor=\"start\" x=\"585.9\" y=\"4.199999999999999\" style=\"font-family: 'Open Sans', verdana, arial, sans-serif; font-size: 12px; fill: rgb(42, 63, 95); fill-opacity: 1; white-space: pre; opacity: 1;\" transform=\"translate(0,109.05)\">60</text></g></g><g class=\"cbtitleunshift\" transform=\"translate(-80,-60)\"><g class=\"cbtitle\" transform=\"\"><text class=\"ycbcoloraxistitle\" x=\"632.64\" y=\"83.5\" text-anchor=\"start\" style=\"opacity: 1; font-family: 'Open Sans', verdana, arial, sans-serif; font-size: 14px; fill: rgb(42, 63, 95); fill-opacity: 1; white-space: pre;\">flights</text></g></g><rect class=\"cboutline\" x=\"553\" y=\"34\" width=\"30\" height=\"316\" style=\"stroke: rgb(68, 68, 68); stroke-opacity: 1; fill: none; stroke-width: 0;\"/></g><g class=\"g-gtitle\"/><g class=\"g-xtitle\"><text class=\"xtitle\" x=\"346\" y=\"461.3\" text-anchor=\"middle\" style=\"opacity: 1; font-family: 'Open Sans', verdana, arial, sans-serif; font-size: 14px; fill: rgb(42, 63, 95); fill-opacity: 1; white-space: pre;\">wind</text></g><g class=\"g-ytitle\"><text class=\"ytitle\" transform=\"rotate(-90,38.56875,240)\" x=\"38.56875\" y=\"240\" text-anchor=\"middle\" style=\"opacity: 1; font-family: 'Open Sans', verdana, arial, sans-serif; font-size: 14px; fill: rgb(42, 63, 95); fill-opacity: 1; white-space: pre;\">sun</text></g></g></svg>"
      ]
     },
     "metadata": {},
     "output_type": "display_data"
    }
   ],
   "source": [
    "import plotly.express as px \n",
    "dfm['size']= dfm.apply(lambda row: row['flights']+1, axis=1)\n",
    "fig = px.scatter(dfm, x='wind', y='sun', hover_data=['gust','rain','dir','sun','time'], size='size', color='flights')\n",
    "\n",
    "fig.show('svg')\n"
   ]
  },
  {
   "cell_type": "markdown",
   "metadata": {},
   "source": [
    "## Train model\n",
    "\n",
    "* RandomForestRegressor with 200 estimators (decision trees)"
   ]
  },
  {
   "cell_type": "code",
   "execution_count": 5,
   "metadata": {},
   "outputs": [
    {
     "name": "stdout",
     "output_type": "stream",
     "text": [
      "(105, 4) (105,)\n"
     ]
    }
   ],
   "source": [
    "\n",
    "from sklearn.ensemble import RandomForestRegressor\n",
    "from sklearn.tree import DecisionTreeRegressor, plot_tree\n",
    "import numpy as np\n",
    "\n",
    "features = ['wind','gust','rain','sun']\n",
    "\n",
    "test_filter =(dfm['time'] >= '2024-01-01')\n",
    "train_filter = (dfm['time'] < '2024-01-01') & (dfm['time'] >= '2023-01-01')\n",
    "xtrain = dfm[train_filter][features].to_numpy()\n",
    "ytrain = dfm[train_filter]['flights'].to_numpy()\n",
    "\n",
    "print(np.shape(xtrain),np.shape(ytrain))\n",
    "\n",
    "# TODO include threshold value to be optimized\n",
    "regr = RandomForestRegressor(random_state=0,n_estimators=200,max_depth=3,max_features=0.5)\n",
    "regr.fit(xtrain,ytrain)\n",
    "\n",
    "\n",
    "dfm['predict'] = dfm[test_filter | train_filter].apply(lambda row: regr.predict([row[features].to_numpy()])[0], axis=1)"
   ]
  },
  {
   "cell_type": "markdown",
   "metadata": {},
   "source": [
    "## Evaluate\n",
    "\n",
    "* Choose some threshold to define categories\n",
    "* Calculate  measures"
   ]
  },
  {
   "cell_type": "code",
   "execution_count": 6,
   "metadata": {},
   "outputs": [
    {
     "name": "stdout",
     "output_type": "stream",
     "text": [
      "true pos 20\n",
      "true neg 59\n",
      "false pos 7\n",
      "false neg 4\n",
      "precision: 0.7407407407407407 recall: 0.8333333333333334\n",
      "\n",
      "false negatives\n",
      "\n",
      " |     | time       |     sun |   rain |   wind |   gust |   dir | Weekday_x   |   alignment |   flights |   size |   predict |\n",
      "|----:|:-----------|--------:|-------:|-------:|-------:|------:|:------------|------------:|----------:|-------:|----------:|\n",
      "| 235 | 2024-03-31 | 20871.8 |    2.5 |   14.1 |   25.9 |    19 | Sun         |  0.894005   |        13 |     14 |  3.12284  |\n",
      "| 241 | 2024-04-21 | 46848.1 |    0.2 |   20.1 |   42.8 |    52 | Sun         |  0.379039   |         2 |      3 |  0.756471 |\n",
      "| 279 | 2024-09-01 | 44924   |    0   |   16.2 |   36.4 |    84 | Sun         |  0.0109262  |         3 |      4 |  3.92203  |\n",
      "| 284 | 2024-09-21 | 39830.4 |    0   |   14.5 |   32.8 |    90 | Sat         |  3.7494e-33 |        21 |     22 |  3.55421  |\n",
      "\n",
      "false positives\n",
      "\n",
      " |     | time       |     sun |   rain |   wind |   gust |   dir | Weekday_x   |   alignment |   flights |   size |   predict |\n",
      "|----:|:-----------|--------:|-------:|-------:|-------:|------:|:------------|------------:|----------:|-------:|----------:|\n",
      "| 234 | 2024-03-30 | 39900.9 |    0.1 |   12.8 |   27.4 |   129 | Sat         |   0.396044  |         0 |      1 |   5.46002 |\n",
      "| 242 | 2024-04-27 | 48218.2 |    0.1 |   15.9 |   34.9 |   143 | Sat         |   0.637819  |         0 |      1 |   8.36997 |\n",
      "| 247 | 2024-05-12 | 51448.1 |    0   |   16.3 |   37.1 |    97 | Sun         |   0.0148521 |         0 |      1 |   7.96851 |\n",
      "| 254 | 2024-06-08 | 54244.7 |    0   |   21.9 |   45.7 |   252 | Sat         |   0.0954915 |         0 |      1 |  12.8562  |\n",
      "| 267 | 2024-07-21 | 34852.3 |    4   |   13.4 |   27   |   183 | Sun         |   0.997261  |         0 |      1 |   4.42764 |\n",
      "| 268 | 2024-07-27 | 11593.9 |   18.5 |   11.2 |   20.5 |    40 | Sat         |   0.586824  |         0 |      1 |   8.3408  |\n",
      "| 299 | 2024-11-10 |     0   |    0.1 |    7.7 |   14.4 |   151 | Sun         |   0.76496   |         0 |      1 |   7.72126 |\n"
     ]
    }
   ],
   "source": [
    "thr = 4.\n",
    "\n",
    "tp = dfm[test_filter & (dfm['flights'] > 0) & (dfm['predict'] >= thr)]\n",
    "tn = len(dfm[test_filter & ~(dfm['flights'] > 0) & ~(dfm['predict'] >= thr)])\n",
    "fp = dfm[test_filter & ~(dfm['flights'] > 0) & (dfm['predict'] >= thr)]\n",
    "fn = dfm[test_filter & (dfm['flights'] > 0) & ~(dfm['predict'] >= thr)]\n",
    "\n",
    "print('true pos', len(tp))\n",
    "print('true neg', tn)\n",
    "print('false pos', len(fp))\n",
    "print('false neg', len(fn))\n",
    "\n",
    "print('precision:', len(tp)/(len(tp)+len(fp)), 'recall:', len(tp)/(len(tp)+len(fn)) )\n",
    "#print(\"true positives\",\"\\n\", tp.to_markdown())\n",
    "print(\"\\nfalse negatives\\n\\n\", fn.to_markdown())\n",
    "print(\"\\nfalse positives\\n\\n\",fp.to_markdown())"
   ]
  },
  {
   "cell_type": "markdown",
   "metadata": {},
   "source": [
    "## Next steps:\n",
    "\n",
    "* generate born-again decision tree from the trained random forest\n",
    "* visualize/use this data"
   ]
  },
  {
   "cell_type": "markdown",
   "metadata": {},
   "source": [
    "## Ensemble characteristics"
   ]
  },
  {
   "cell_type": "code",
   "execution_count": 7,
   "metadata": {},
   "outputs": [
    {
     "name": "stdout",
     "output_type": "stream",
     "text": [
      "['wind', 'gust', 'rain', 'sun']\n",
      "[0.2071 0.2267 0.0374 0.5289]\n",
      "wind 77 8.799999713897705 21.299999237060547\n",
      "gust 73 16.949999809265137 46.79999923706055\n",
      "rain 29 0.05000000074505806 4.14999994635582\n",
      "sun 106 17540.990234375 54677.3046875\n",
      "L: True @ [ 7.7 14.4  0.   0. ]\n",
      "R: True @ [   36.3     70.9     20.2  54699.62]\n"
     ]
    }
   ],
   "source": [
    "import numpy as np \n",
    "np.set_printoptions(precision=4, suppress=True)\n",
    " \n",
    "print(features)\n",
    "#print(regr.feature_names_in_)\n",
    "print(regr.feature_importances_)\n",
    "\n",
    "feature_space = {f:set() for f in features }\n",
    "for rt in regr.estimators_[:200]:\n",
    "    #https://scikit-learn.org/dev/auto_examples/tree/plot_unveil_tree_structure.html#sphx-glr-auto-examples-tree-plot-unveil-tree-structure-py\n",
    "    #print(rt)\n",
    "    tree = rt.tree_\n",
    "    #print(f\"tree node count: {tree.node_count}\")\n",
    "    for i in range(tree.node_count):\n",
    "        if tree.children_left[i]!=tree.children_right[i]:\n",
    "            #print(tree.feature[i], tree.threshold[i])\n",
    "            feature_space[features[tree.feature[i]]].add(tree.threshold[i])\n",
    "        #else:\n",
    "        #    print('leaf node')\n",
    "\n",
    "for f in feature_space:\n",
    "    print(f, len(feature_space[f]),min(feature_space[f]),max(feature_space[f]))\n",
    "\n",
    "# heuristic algo from https://arxiv.org/pdf/2003.11132 ?\n",
    "# \"low\" lowest corner and \"up\" upper corner\n",
    "XL, XU =  dfm[test_filter | train_filter][features].aggregate(['min','max']).to_numpy()\n",
    "print(f'L: {regr.predict([XL])[0] >= thr} @ {XL}\\nR: {regr.predict([XU])[0] >= thr} @ {XU}')\n",
    "#XM = 0.5*(XL+XU)\n",
    "#print(f'M: {regr.predict([XM])[0] >= thr} @ {XM}') # False\n",
    "\n"
   ]
  }
 ],
 "metadata": {
  "kernelspec": {
   "display_name": "Python 3",
   "language": "python",
   "name": "python3"
  },
  "language_info": {
   "codemirror_mode": {
    "name": "ipython",
    "version": 3
   },
   "file_extension": ".py",
   "mimetype": "text/x-python",
   "name": "python",
   "nbconvert_exporter": "python",
   "pygments_lexer": "ipython3",
   "version": "3.11.8"
  }
 },
 "nbformat": 4,
 "nbformat_minor": 2
}
