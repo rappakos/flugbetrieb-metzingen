{
 "cells": [
  {
   "cell_type": "markdown",
   "metadata": {},
   "source": [
    "## Load OpenMeteo Daily Data"
   ]
  },
  {
   "cell_type": "code",
   "execution_count": 1,
   "metadata": {},
   "outputs": [
    {
     "name": "stdout",
     "output_type": "stream",
     "text": [
      "time iso8601\n",
      "sunshine_duration s\n",
      "rain_sum mm\n",
      "wind_speed_10m_max km/h\n",
      "wind_gusts_10m_max km/h\n",
      "wind_direction_10m_dominant °\n"
     ]
    },
    {
     "data": {
      "text/html": [
       "<div>\n",
       "<style scoped>\n",
       "    .dataframe tbody tr th:only-of-type {\n",
       "        vertical-align: middle;\n",
       "    }\n",
       "\n",
       "    .dataframe tbody tr th {\n",
       "        vertical-align: top;\n",
       "    }\n",
       "\n",
       "    .dataframe thead th {\n",
       "        text-align: right;\n",
       "    }\n",
       "</style>\n",
       "<table border=\"1\" class=\"dataframe\">\n",
       "  <thead>\n",
       "    <tr style=\"text-align: right;\">\n",
       "      <th></th>\n",
       "      <th>time</th>\n",
       "      <th>sunshine_duration</th>\n",
       "      <th>rain_sum</th>\n",
       "      <th>wind_speed_10m_max</th>\n",
       "      <th>wind_gusts_10m_max</th>\n",
       "      <th>wind_direction_10m_dominant</th>\n",
       "    </tr>\n",
       "  </thead>\n",
       "  <tbody>\n",
       "    <tr>\n",
       "      <th>0</th>\n",
       "      <td>2022-01-01</td>\n",
       "      <td>2845.71</td>\n",
       "      <td>0.2</td>\n",
       "      <td>21.9</td>\n",
       "      <td>42.1</td>\n",
       "      <td>235</td>\n",
       "    </tr>\n",
       "    <tr>\n",
       "      <th>1</th>\n",
       "      <td>2022-01-02</td>\n",
       "      <td>6733.11</td>\n",
       "      <td>5.3</td>\n",
       "      <td>29.2</td>\n",
       "      <td>55.1</td>\n",
       "      <td>229</td>\n",
       "    </tr>\n",
       "    <tr>\n",
       "      <th>2</th>\n",
       "      <td>2022-01-03</td>\n",
       "      <td>12927.33</td>\n",
       "      <td>4.1</td>\n",
       "      <td>33.4</td>\n",
       "      <td>63.7</td>\n",
       "      <td>249</td>\n",
       "    </tr>\n",
       "    <tr>\n",
       "      <th>3</th>\n",
       "      <td>2022-01-04</td>\n",
       "      <td>0.00</td>\n",
       "      <td>2.8</td>\n",
       "      <td>20.2</td>\n",
       "      <td>36.7</td>\n",
       "      <td>248</td>\n",
       "    </tr>\n",
       "    <tr>\n",
       "      <th>4</th>\n",
       "      <td>2022-01-05</td>\n",
       "      <td>7422.81</td>\n",
       "      <td>2.1</td>\n",
       "      <td>33.0</td>\n",
       "      <td>67.3</td>\n",
       "      <td>256</td>\n",
       "    </tr>\n",
       "  </tbody>\n",
       "</table>\n",
       "</div>"
      ],
      "text/plain": [
       "         time  sunshine_duration  rain_sum  wind_speed_10m_max  \\\n",
       "0  2022-01-01            2845.71       0.2                21.9   \n",
       "1  2022-01-02            6733.11       5.3                29.2   \n",
       "2  2022-01-03           12927.33       4.1                33.4   \n",
       "3  2022-01-04               0.00       2.8                20.2   \n",
       "4  2022-01-05            7422.81       2.1                33.0   \n",
       "\n",
       "   wind_gusts_10m_max  wind_direction_10m_dominant  \n",
       "0                42.1                          235  \n",
       "1                55.1                          229  \n",
       "2                63.7                          249  \n",
       "3                36.7                          248  \n",
       "4                67.3                          256  "
      ]
     },
     "execution_count": 1,
     "metadata": {},
     "output_type": "execute_result"
    }
   ],
   "source": [
    "import requests\n",
    "import pandas as pd\n",
    "\n",
    "locations = {\n",
    "    'Metzingen' : {'lat':52.67057, 'long':10.37136},\n",
    "    'Hannover Station 2014':  {'lat':52.4644, 'long':9.6779}\n",
    "    }\n",
    "\n",
    "dates = {\n",
    "      'StartDate': '2022-01-01',\n",
    "      'EndDate': '2024-11-11'\n",
    "    }\n",
    "\n",
    "loc = 'Hannover Station 2014'\n",
    "\n",
    "openmeteo = f'https://archive-api.open-meteo.com/v1/archive?latitude={locations[loc][\"lat\"]}&longitude={locations[loc][\"long\"]}&start_date={dates[\"StartDate\"]}&end_date={dates[\"EndDate\"]}&daily=sunshine_duration,rain_sum,wind_speed_10m_max,wind_gusts_10m_max,wind_direction_10m_dominant&timezone=GMT'\n",
    "\n",
    "res = requests.get(openmeteo)\n",
    "if res.status_code == 200:\n",
    "  data = res.json()\n",
    "\n",
    "\n",
    "\n",
    "for k in data['daily_units']:\n",
    "  print(k,data['daily_units'][k])\n",
    "\n",
    "\n",
    "df = pd.DataFrame(data['daily'], columns= data['daily_units'])\n",
    "\n",
    "df.head()\n"
   ]
  },
  {
   "cell_type": "markdown",
   "metadata": {},
   "source": [
    "## Load DWD measured data for Hannover and Bremen"
   ]
  },
  {
   "cell_type": "code",
   "execution_count": 2,
   "metadata": {},
   "outputs": [
    {
     "name": "stdout",
     "output_type": "stream",
     "text": [
      "['time' 'dwd_sun' 'RSK_x' 'dwd_wind' 'dwd_gust' 'sun' 'rain' 'wind' 'gust'\n",
      " 'dir' 'STATIONS_ID' 'MESS_DATUM' 'QN_3' 'FX' 'FM' 'QN_4' 'RSK_y' 'RSKF'\n",
      " 'SDK' 'SHK_TAG' 'NM' 'VPM' 'PM' 'TMK' 'UPM' 'TXK' 'TNK' 'TGK' 'eor'\n",
      " 'WeekdayB' 'dwd_windB' 'dwd_gustB' 'dwd_sunB']\n"
     ]
    },
    {
     "data": {
      "text/html": [
       "<div>\n",
       "<style scoped>\n",
       "    .dataframe tbody tr th:only-of-type {\n",
       "        vertical-align: middle;\n",
       "    }\n",
       "\n",
       "    .dataframe tbody tr th {\n",
       "        vertical-align: top;\n",
       "    }\n",
       "\n",
       "    .dataframe thead th {\n",
       "        text-align: right;\n",
       "    }\n",
       "</style>\n",
       "<table border=\"1\" class=\"dataframe\">\n",
       "  <thead>\n",
       "    <tr style=\"text-align: right;\">\n",
       "      <th></th>\n",
       "      <th>time</th>\n",
       "      <th>dwd_sun</th>\n",
       "      <th>RSK_x</th>\n",
       "      <th>dwd_wind</th>\n",
       "      <th>dwd_gust</th>\n",
       "      <th>sun</th>\n",
       "      <th>rain</th>\n",
       "      <th>wind</th>\n",
       "      <th>gust</th>\n",
       "      <th>dir</th>\n",
       "      <th>...</th>\n",
       "      <th>TMK</th>\n",
       "      <th>UPM</th>\n",
       "      <th>TXK</th>\n",
       "      <th>TNK</th>\n",
       "      <th>TGK</th>\n",
       "      <th>eor</th>\n",
       "      <th>WeekdayB</th>\n",
       "      <th>dwd_windB</th>\n",
       "      <th>dwd_gustB</th>\n",
       "      <th>dwd_sunB</th>\n",
       "    </tr>\n",
       "  </thead>\n",
       "  <tbody>\n",
       "    <tr>\n",
       "      <th>0</th>\n",
       "      <td>2023-05-14</td>\n",
       "      <td>41400.0</td>\n",
       "      <td>0.0</td>\n",
       "      <td>9.72</td>\n",
       "      <td>39.96</td>\n",
       "      <td>51144.92</td>\n",
       "      <td>0.4</td>\n",
       "      <td>11.4</td>\n",
       "      <td>27.0</td>\n",
       "      <td>89</td>\n",
       "      <td>...</td>\n",
       "      <td>15.6</td>\n",
       "      <td>62.0</td>\n",
       "      <td>21.6</td>\n",
       "      <td>7.5</td>\n",
       "      <td>4.6</td>\n",
       "      <td>eor</td>\n",
       "      <td>Sun</td>\n",
       "      <td>8.64</td>\n",
       "      <td>33.48</td>\n",
       "      <td>34200.0</td>\n",
       "    </tr>\n",
       "    <tr>\n",
       "      <th>1</th>\n",
       "      <td>2023-05-20</td>\n",
       "      <td>10800.0</td>\n",
       "      <td>0.0</td>\n",
       "      <td>18.00</td>\n",
       "      <td>45.72</td>\n",
       "      <td>30853.44</td>\n",
       "      <td>0.0</td>\n",
       "      <td>21.3</td>\n",
       "      <td>45.0</td>\n",
       "      <td>71</td>\n",
       "      <td>...</td>\n",
       "      <td>14.5</td>\n",
       "      <td>62.0</td>\n",
       "      <td>18.5</td>\n",
       "      <td>9.3</td>\n",
       "      <td>8.1</td>\n",
       "      <td>eor</td>\n",
       "      <td>Sat</td>\n",
       "      <td>19.80</td>\n",
       "      <td>42.48</td>\n",
       "      <td>28080.0</td>\n",
       "    </tr>\n",
       "    <tr>\n",
       "      <th>2</th>\n",
       "      <td>2023-05-21</td>\n",
       "      <td>17640.0</td>\n",
       "      <td>0.0</td>\n",
       "      <td>14.76</td>\n",
       "      <td>37.08</td>\n",
       "      <td>35297.32</td>\n",
       "      <td>0.9</td>\n",
       "      <td>17.7</td>\n",
       "      <td>36.4</td>\n",
       "      <td>76</td>\n",
       "      <td>...</td>\n",
       "      <td>18.4</td>\n",
       "      <td>69.0</td>\n",
       "      <td>25.9</td>\n",
       "      <td>11.3</td>\n",
       "      <td>10.3</td>\n",
       "      <td>eor</td>\n",
       "      <td>Sun</td>\n",
       "      <td>13.32</td>\n",
       "      <td>30.24</td>\n",
       "      <td>10440.0</td>\n",
       "    </tr>\n",
       "    <tr>\n",
       "      <th>3</th>\n",
       "      <td>2023-05-27</td>\n",
       "      <td>51480.0</td>\n",
       "      <td>0.0</td>\n",
       "      <td>7.20</td>\n",
       "      <td>30.24</td>\n",
       "      <td>53274.95</td>\n",
       "      <td>0.0</td>\n",
       "      <td>10.1</td>\n",
       "      <td>24.1</td>\n",
       "      <td>77</td>\n",
       "      <td>...</td>\n",
       "      <td>14.6</td>\n",
       "      <td>68.0</td>\n",
       "      <td>21.8</td>\n",
       "      <td>5.7</td>\n",
       "      <td>2.9</td>\n",
       "      <td>eor</td>\n",
       "      <td>Sat</td>\n",
       "      <td>7.20</td>\n",
       "      <td>33.48</td>\n",
       "      <td>51120.0</td>\n",
       "    </tr>\n",
       "    <tr>\n",
       "      <th>4</th>\n",
       "      <td>2023-05-28</td>\n",
       "      <td>51120.0</td>\n",
       "      <td>0.0</td>\n",
       "      <td>8.28</td>\n",
       "      <td>33.48</td>\n",
       "      <td>53401.25</td>\n",
       "      <td>0.0</td>\n",
       "      <td>17.4</td>\n",
       "      <td>37.4</td>\n",
       "      <td>33</td>\n",
       "      <td>...</td>\n",
       "      <td>15.5</td>\n",
       "      <td>68.0</td>\n",
       "      <td>22.1</td>\n",
       "      <td>9.1</td>\n",
       "      <td>6.3</td>\n",
       "      <td>eor</td>\n",
       "      <td>Sun</td>\n",
       "      <td>13.68</td>\n",
       "      <td>41.40</td>\n",
       "      <td>49320.0</td>\n",
       "    </tr>\n",
       "  </tbody>\n",
       "</table>\n",
       "<p>5 rows × 33 columns</p>\n",
       "</div>"
      ],
      "text/plain": [
       "         time  dwd_sun  RSK_x  dwd_wind  dwd_gust       sun  rain  wind  gust  \\\n",
       "0  2023-05-14  41400.0    0.0      9.72     39.96  51144.92   0.4  11.4  27.0   \n",
       "1  2023-05-20  10800.0    0.0     18.00     45.72  30853.44   0.0  21.3  45.0   \n",
       "2  2023-05-21  17640.0    0.0     14.76     37.08  35297.32   0.9  17.7  36.4   \n",
       "3  2023-05-27  51480.0    0.0      7.20     30.24  53274.95   0.0  10.1  24.1   \n",
       "4  2023-05-28  51120.0    0.0      8.28     33.48  53401.25   0.0  17.4  37.4   \n",
       "\n",
       "   dir  ...   TMK   UPM   TXK   TNK   TGK  eor  WeekdayB  dwd_windB  \\\n",
       "0   89  ...  15.6  62.0  21.6   7.5   4.6  eor       Sun       8.64   \n",
       "1   71  ...  14.5  62.0  18.5   9.3   8.1  eor       Sat      19.80   \n",
       "2   76  ...  18.4  69.0  25.9  11.3  10.3  eor       Sun      13.32   \n",
       "3   77  ...  14.6  68.0  21.8   5.7   2.9  eor       Sat       7.20   \n",
       "4   33  ...  15.5  68.0  22.1   9.1   6.3  eor       Sun      13.68   \n",
       "\n",
       "   dwd_gustB  dwd_sunB  \n",
       "0      33.48   34200.0  \n",
       "1      42.48   28080.0  \n",
       "2      30.24   10440.0  \n",
       "3      33.48   51120.0  \n",
       "4      41.40   49320.0  \n",
       "\n",
       "[5 rows x 33 columns]"
      ]
     },
     "execution_count": 2,
     "metadata": {},
     "output_type": "execute_result"
    }
   ],
   "source": [
    "import os\n",
    "import json\n",
    "from datetime import datetime\n",
    "from pathlib import Path\n",
    "\n",
    "# Filename changes...\n",
    "Hannover_daily = pd.read_csv(os.path.abspath('').replace(\"\\\\\",\"/\").replace('wetter','data/wetter_dwd/produkt_klima_tag_20230514_20241113_02014.txt'), sep=\";\")\n",
    "Bremen_daily = pd.read_csv(os.path.abspath('').replace(\"\\\\\",\"/\").replace('wetter','data/wetter_dwd/produkt_klima_tag_20230514_20241113_00691.txt'), sep=\";\")\n",
    "\n",
    "#dwd_params = pd.read_csv('/content/drive/MyDrive/DWD_data/Metadaten_Parameter_klima_tag_02014.txt', sep=\";\", encoding = \"ISO-8859-1\")\n",
    "#params = dwd_params[dwd_params['Bis_Datum'] > 20240101][['Parameter','Parameterbeschreibung']].set_index('Parameter')['Parameterbeschreibung'].to_dict()\n",
    "#print (json.dumps(params, indent=4))\n",
    "params = \"\"\"{\n",
    "    \"FM\": \"Tagesmittel der Windgeschwindigkeit m/s  Messnetz 3\",\n",
    "    \"FX\": \"Maximum der Windspitze Messnetz 3\",\n",
    "    \"NM\": \"Tagesmittel des Bedeckungsgrades\",\n",
    "    \"PM\": \"Tagesmittel des Luftdrucks\",\n",
    "    \"RSK\": \"tgl. Niederschlagshoehe\",\n",
    "    \"RSKF\": \"tgl. Niederschlagsform (=Niederschlagshoehe_ind)\",\n",
    "    \"SDK\": \"Sonnenscheindauer Tagessumme\",\n",
    "    \"SHK_TAG\": \"Schneehoehe Tageswert\",\n",
    "    \"TGK\": \"Minimum der Lufttemperatur am Erdboden in 5cm Hoehe\",\n",
    "    \"TMK\": \"Tagesmittel der Temperatur\",\n",
    "    \"TNK\": \"Tagesminimum der Lufttemperatur in 2m Hoehe\",\n",
    "    \"TXK\": \"Tagesmaximum der Lufttemperatur in 2m Hoehe\",\n",
    "    \"UPM\": \"Tagesmittel der Relativen Feuchte\",\n",
    "    \"VPM\": \"Tagesmittel des Dampfdruckes\"\n",
    "}\"\"\"\n",
    "\n",
    "def make_time(mess_datum):\n",
    "    x = str(mess_datum)\n",
    "    return x[:4]+'-'+ x[4:6]+'-'+ x[6:8]\n",
    "\n",
    "def process_dwd_daily(df, suffix=''):\n",
    "  dwd_daily =df.copy(deep=True)\n",
    "  dwd_daily['time'] = dwd_daily.apply(lambda row:  make_time(row['MESS_DATUM']),axis=1)\n",
    "  dwd_daily['Weekday'+suffix] = dwd_daily.apply(lambda row:datetime.strftime(datetime.strptime(row['time'],'%Y-%m-%d'),'%a'), axis=1)\n",
    "  dwd_daily = dwd_daily[dwd_daily['Weekday'+suffix].isin(['Sat','Sun'])]\n",
    "  dwd_daily.rename(columns={k:k.strip() for k in dwd_daily.columns.values},inplace=True)\n",
    "  dwd_daily['dwd_wind'+suffix] = dwd_daily.apply(lambda row: 3.6*row['FM'], axis=1)\n",
    "  dwd_daily['dwd_gust'+suffix] = dwd_daily.apply(lambda row: 3.6*row['FX'], axis=1)\n",
    "  dwd_daily['dwd_sun'+suffix] = dwd_daily.apply(lambda row: 3600*row['SDK'], axis=1)\n",
    "\n",
    "  return dwd_daily\n",
    "\n",
    "Hannover_daily = process_dwd_daily(Hannover_daily)\n",
    "Bremen_daily = process_dwd_daily(Bremen_daily,'B')\n",
    "\n",
    "merged_wetter = Hannover_daily[['time'] + ['dwd_sun','RSK','dwd_wind','dwd_gust']].merge( df, on='time', how='left').merge(Bremen_daily, on='time', how='inner')\n",
    "merged_wetter.rename(columns={'sunshine_duration':'sun','rain_sum':'rain','wind_speed_10m_max':'wind','wind_gusts_10m_max':'gust','wind_direction_10m_dominant':'dir'},inplace=True)\n",
    "print(merged_wetter.columns.values)\n",
    "merged_wetter.head()"
   ]
  },
  {
   "cell_type": "markdown",
   "metadata": {},
   "source": [
    "## Compared measured (DWD) and computed (OpenMeteo) daily data\n",
    "\n",
    "* Especially the average wind and the sunny hours are systematically OVERESTIMATED by the OpenMeteo data\n",
    "* For measure data the location Hannover <> Bremen does not seems to be as relevant"
   ]
  },
  {
   "cell_type": "code",
   "execution_count": 4,
   "metadata": {},
   "outputs": [
    {
     "data": {
      "application/vnd.plotly.v1+json": {
       "config": {
        "plotlyServerURL": "https://plot.ly"
       },
       "data": [
        {
         "hovertemplate": "time=%{x}<br>y=%{y}<extra></extra>",
         "legendgroup": "",
         "line": {
          "color": "#636efa",
          "dash": "solid"
         },
         "marker": {
          "symbol": "circle"
         },
         "mode": "lines",
         "name": "",
         "orientation": "v",
         "showlegend": false,
         "type": "scatter",
         "x": [
          "2023-05-14",
          "2023-05-20",
          "2023-05-21",
          "2023-05-27",
          "2023-05-28",
          "2023-06-03",
          "2023-06-04",
          "2023-06-10",
          "2023-06-11",
          "2023-06-17",
          "2023-06-18",
          "2023-06-24",
          "2023-06-25",
          "2023-07-01",
          "2023-07-02",
          "2023-07-08",
          "2023-07-09",
          "2023-07-15",
          "2023-07-16",
          "2023-07-22",
          "2023-07-23",
          "2023-07-29",
          "2023-07-30",
          "2023-08-05",
          "2023-08-06",
          "2023-08-12",
          "2023-08-13",
          "2023-08-19",
          "2023-08-20",
          "2023-08-26",
          "2023-08-27",
          "2023-09-02",
          "2023-09-03",
          "2023-09-09",
          "2023-09-10",
          "2023-09-16",
          "2023-09-17",
          "2023-09-23",
          "2023-09-24",
          "2023-09-30",
          "2023-10-01",
          "2023-10-07",
          "2023-10-08",
          "2023-10-14",
          "2023-10-15",
          "2023-10-21",
          "2023-10-22",
          "2023-10-28",
          "2023-10-29",
          "2023-11-04",
          "2023-11-05",
          "2023-11-11",
          "2023-11-12",
          "2023-11-18",
          "2023-11-19",
          "2023-11-25",
          "2023-11-26",
          "2023-12-02",
          "2023-12-03",
          "2023-12-09",
          "2023-12-10",
          "2023-12-16",
          "2023-12-17",
          "2023-12-23",
          "2023-12-24",
          "2023-12-30",
          "2023-12-31",
          "2024-01-06",
          "2024-01-07",
          "2024-01-13",
          "2024-01-14",
          "2024-01-20",
          "2024-01-21",
          "2024-01-27",
          "2024-01-28",
          "2024-02-03",
          "2024-02-04",
          "2024-02-10",
          "2024-02-11",
          "2024-02-17",
          "2024-02-18",
          "2024-02-24",
          "2024-02-25",
          "2024-03-02",
          "2024-03-03",
          "2024-03-09",
          "2024-03-10",
          "2024-03-16",
          "2024-03-17",
          "2024-03-23",
          "2024-03-24",
          "2024-03-30",
          "2024-03-31",
          "2024-04-06",
          "2024-04-07",
          "2024-04-13",
          "2024-04-14",
          "2024-04-20",
          "2024-04-21",
          "2024-04-27",
          "2024-04-28",
          "2024-05-04",
          "2024-05-05",
          "2024-05-11",
          "2024-05-12",
          "2024-05-18",
          "2024-05-19",
          "2024-05-25",
          "2024-05-26",
          "2024-06-01",
          "2024-06-02",
          "2024-06-08",
          "2024-06-09",
          "2024-06-15",
          "2024-06-16",
          "2024-06-22",
          "2024-06-23",
          "2024-06-29",
          "2024-06-30",
          "2024-07-06",
          "2024-07-07",
          "2024-07-13",
          "2024-07-14",
          "2024-07-20",
          "2024-07-21",
          "2024-07-27",
          "2024-07-28",
          "2024-08-03",
          "2024-08-04",
          "2024-08-10",
          "2024-08-11",
          "2024-08-17",
          "2024-08-18",
          "2024-08-24",
          "2024-08-25",
          "2024-08-31",
          "2024-09-01",
          "2024-09-07",
          "2024-09-08",
          "2024-09-14",
          "2024-09-15",
          "2024-09-21",
          "2024-09-22",
          "2024-09-28",
          "2024-09-29",
          "2024-10-05",
          "2024-10-06",
          "2024-10-12",
          "2024-10-13",
          "2024-10-19",
          "2024-10-20",
          "2024-10-26",
          "2024-10-27",
          "2024-11-02",
          "2024-11-03",
          "2024-11-09",
          "2024-11-10"
         ],
         "xaxis": "x",
         "y": [
          0.4,
          0,
          0.9,
          0,
          0,
          0,
          0,
          0.2,
          0,
          0.1,
          0,
          0,
          0.3,
          3.5,
          1.3,
          0,
          2.6,
          13.5,
          4,
          0.30000000000000004,
          0.8999999999999999,
          5.5,
          8.5,
          4.6000000000000005,
          0.5999999999999996,
          2.2,
          0,
          1.5999999999999999,
          0,
          0.7,
          3.6000000000000005,
          0.7,
          0,
          0,
          0,
          0,
          5.5,
          0.5,
          0,
          0,
          0,
          0.10000000000000009,
          1.4,
          16.1,
          0.5,
          0.8999999999999999,
          0,
          1,
          5.7,
          2.1,
          1.1000000000000005,
          0.1999999999999993,
          0.6,
          7.2,
          4.300000000000001,
          0.8,
          2.2,
          999,
          999,
          1,
          3.0999999999999996,
          0,
          0,
          11.299999999999997,
          6.200000000000001,
          2.6,
          0.5,
          2.4,
          0,
          1.2,
          3,
          0,
          1,
          0,
          0,
          2.6999999999999997,
          0.5,
          1.2,
          1.2000000000000002,
          0.3,
          4.5,
          0.19999999999999996,
          2.6999999999999997,
          0,
          0,
          0,
          0,
          0.5,
          0,
          1.2999999999999998,
          0.1999999999999993,
          0,
          1.9000000000000001,
          0,
          2.3,
          0,
          0.09999999999999998,
          1.1,
          0.8,
          0.8,
          0.9,
          2.9,
          5.8,
          0,
          0,
          0.30000000000000004,
          5.3999999999999995,
          3.9,
          0,
          1.1,
          1,
          0.2,
          0,
          4.800000000000001,
          0.5,
          1.3,
          0,
          46.9,
          5.100000000000001,
          0.5,
          0.2,
          0.7,
          0.5,
          0,
          6.700000000000001,
          25.800000000000004,
          10.2,
          0.3,
          1.6,
          0.6,
          0.4,
          2.1999999999999997,
          3.9000000000000004,
          0.39999999999999947,
          0.3,
          0,
          0,
          0,
          10.7,
          0,
          0,
          0,
          0,
          0.7999999999999999,
          0.1,
          0.3,
          0.8,
          3.8,
          0.7999999999999998,
          6.9,
          0.10000000000000003,
          0,
          0,
          0.2,
          0.1,
          0,
          0
         ],
         "yaxis": "y"
        },
        {
         "name": "DWD B minus DWD H",
         "type": "scatter",
         "x": [
          "2023-05-14",
          "2023-05-20",
          "2023-05-21",
          "2023-05-27",
          "2023-05-28",
          "2023-06-03",
          "2023-06-04",
          "2023-06-10",
          "2023-06-11",
          "2023-06-17",
          "2023-06-18",
          "2023-06-24",
          "2023-06-25",
          "2023-07-01",
          "2023-07-02",
          "2023-07-08",
          "2023-07-09",
          "2023-07-15",
          "2023-07-16",
          "2023-07-22",
          "2023-07-23",
          "2023-07-29",
          "2023-07-30",
          "2023-08-05",
          "2023-08-06",
          "2023-08-12",
          "2023-08-13",
          "2023-08-19",
          "2023-08-20",
          "2023-08-26",
          "2023-08-27",
          "2023-09-02",
          "2023-09-03",
          "2023-09-09",
          "2023-09-10",
          "2023-09-16",
          "2023-09-17",
          "2023-09-23",
          "2023-09-24",
          "2023-09-30",
          "2023-10-01",
          "2023-10-07",
          "2023-10-08",
          "2023-10-14",
          "2023-10-15",
          "2023-10-21",
          "2023-10-22",
          "2023-10-28",
          "2023-10-29",
          "2023-11-04",
          "2023-11-05",
          "2023-11-11",
          "2023-11-12",
          "2023-11-18",
          "2023-11-19",
          "2023-11-25",
          "2023-11-26",
          "2023-12-02",
          "2023-12-03",
          "2023-12-09",
          "2023-12-10",
          "2023-12-16",
          "2023-12-17",
          "2023-12-23",
          "2023-12-24",
          "2023-12-30",
          "2023-12-31",
          "2024-01-06",
          "2024-01-07",
          "2024-01-13",
          "2024-01-14",
          "2024-01-20",
          "2024-01-21",
          "2024-01-27",
          "2024-01-28",
          "2024-02-03",
          "2024-02-04",
          "2024-02-10",
          "2024-02-11",
          "2024-02-17",
          "2024-02-18",
          "2024-02-24",
          "2024-02-25",
          "2024-03-02",
          "2024-03-03",
          "2024-03-09",
          "2024-03-10",
          "2024-03-16",
          "2024-03-17",
          "2024-03-23",
          "2024-03-24",
          "2024-03-30",
          "2024-03-31",
          "2024-04-06",
          "2024-04-07",
          "2024-04-13",
          "2024-04-14",
          "2024-04-20",
          "2024-04-21",
          "2024-04-27",
          "2024-04-28",
          "2024-05-04",
          "2024-05-05",
          "2024-05-11",
          "2024-05-12",
          "2024-05-18",
          "2024-05-19",
          "2024-05-25",
          "2024-05-26",
          "2024-06-01",
          "2024-06-02",
          "2024-06-08",
          "2024-06-09",
          "2024-06-15",
          "2024-06-16",
          "2024-06-22",
          "2024-06-23",
          "2024-06-29",
          "2024-06-30",
          "2024-07-06",
          "2024-07-07",
          "2024-07-13",
          "2024-07-14",
          "2024-07-20",
          "2024-07-21",
          "2024-07-27",
          "2024-07-28",
          "2024-08-03",
          "2024-08-04",
          "2024-08-10",
          "2024-08-11",
          "2024-08-17",
          "2024-08-18",
          "2024-08-24",
          "2024-08-25",
          "2024-08-31",
          "2024-09-01",
          "2024-09-07",
          "2024-09-08",
          "2024-09-14",
          "2024-09-15",
          "2024-09-21",
          "2024-09-22",
          "2024-09-28",
          "2024-09-29",
          "2024-10-05",
          "2024-10-06",
          "2024-10-12",
          "2024-10-13",
          "2024-10-19",
          "2024-10-20",
          "2024-10-26",
          "2024-10-27",
          "2024-11-02",
          "2024-11-03",
          "2024-11-09",
          "2024-11-10"
         ],
         "y": [
          0.4,
          0.9,
          0,
          0,
          0,
          0,
          0,
          0,
          0,
          0,
          0,
          0,
          0,
          2,
          0.8,
          0,
          5.5,
          5.1000000000000005,
          0,
          8.8,
          0.7999999999999998,
          6.699999999999999,
          1.4000000000000004,
          5.5,
          2.1000000000000005,
          5.5,
          0,
          0.6000000000000001,
          0,
          2.1,
          0.9999999999999998,
          0,
          0,
          0.1,
          0,
          0,
          1.4,
          0.1,
          0,
          0,
          0.2,
          1.4,
          3.6999999999999997,
          1.8,
          3.6999999999999997,
          1.0999999999999999,
          0.2,
          1.9,
          2.3,
          1.4,
          3.5999999999999996,
          16.2,
          0,
          4.3,
          8.499999999999998,
          1.9,
          1.7000000000000002,
          1000.9,
          999.4,
          1.0999999999999996,
          8.4,
          0,
          0,
          12.599999999999998,
          0.5,
          0,
          0.8999999999999999,
          4.199999999999999,
          0,
          2.0999999999999996,
          4.5,
          0,
          0.09999999999999998,
          0,
          0,
          3.9999999999999996,
          0.6999999999999993,
          0,
          1.7000000000000002,
          0,
          0.5,
          0.6,
          0.1,
          0,
          0,
          0,
          0,
          1.2,
          0,
          0.5,
          8.299999999999999,
          0,
          0,
          0,
          0.2999999999999998,
          0,
          0.3,
          0.7,
          0,
          1.9,
          0,
          3.4000000000000004,
          0.19999999999999996,
          0,
          0,
          3.5,
          5.8,
          0,
          0.09999999999999998,
          2.3,
          0,
          0.4,
          0,
          5.2,
          3.7,
          3.1,
          0,
          33.7,
          6.300000000000001,
          1.2,
          1,
          0.1,
          0.5,
          0,
          9.899999999999999,
          36.1,
          0,
          4.3,
          0.5,
          0,
          0,
          5.5,
          6.9,
          6.3,
          0,
          0,
          0,
          0,
          21.6,
          0,
          0,
          0,
          0,
          0,
          0,
          0,
          0.30000000000000004,
          3.1,
          1.6,
          2.5,
          0.10000000000000003,
          0,
          0,
          0,
          0.1,
          0,
          0.1
         ]
        }
       ],
       "layout": {
        "legend": {
         "tracegroupgap": 0
        },
        "template": {
         "data": {
          "bar": [
           {
            "error_x": {
             "color": "#2a3f5f"
            },
            "error_y": {
             "color": "#2a3f5f"
            },
            "marker": {
             "line": {
              "color": "#E5ECF6",
              "width": 0.5
             },
             "pattern": {
              "fillmode": "overlay",
              "size": 10,
              "solidity": 0.2
             }
            },
            "type": "bar"
           }
          ],
          "barpolar": [
           {
            "marker": {
             "line": {
              "color": "#E5ECF6",
              "width": 0.5
             },
             "pattern": {
              "fillmode": "overlay",
              "size": 10,
              "solidity": 0.2
             }
            },
            "type": "barpolar"
           }
          ],
          "carpet": [
           {
            "aaxis": {
             "endlinecolor": "#2a3f5f",
             "gridcolor": "white",
             "linecolor": "white",
             "minorgridcolor": "white",
             "startlinecolor": "#2a3f5f"
            },
            "baxis": {
             "endlinecolor": "#2a3f5f",
             "gridcolor": "white",
             "linecolor": "white",
             "minorgridcolor": "white",
             "startlinecolor": "#2a3f5f"
            },
            "type": "carpet"
           }
          ],
          "choropleth": [
           {
            "colorbar": {
             "outlinewidth": 0,
             "ticks": ""
            },
            "type": "choropleth"
           }
          ],
          "contour": [
           {
            "colorbar": {
             "outlinewidth": 0,
             "ticks": ""
            },
            "colorscale": [
             [
              0,
              "#0d0887"
             ],
             [
              0.1111111111111111,
              "#46039f"
             ],
             [
              0.2222222222222222,
              "#7201a8"
             ],
             [
              0.3333333333333333,
              "#9c179e"
             ],
             [
              0.4444444444444444,
              "#bd3786"
             ],
             [
              0.5555555555555556,
              "#d8576b"
             ],
             [
              0.6666666666666666,
              "#ed7953"
             ],
             [
              0.7777777777777778,
              "#fb9f3a"
             ],
             [
              0.8888888888888888,
              "#fdca26"
             ],
             [
              1,
              "#f0f921"
             ]
            ],
            "type": "contour"
           }
          ],
          "contourcarpet": [
           {
            "colorbar": {
             "outlinewidth": 0,
             "ticks": ""
            },
            "type": "contourcarpet"
           }
          ],
          "heatmap": [
           {
            "colorbar": {
             "outlinewidth": 0,
             "ticks": ""
            },
            "colorscale": [
             [
              0,
              "#0d0887"
             ],
             [
              0.1111111111111111,
              "#46039f"
             ],
             [
              0.2222222222222222,
              "#7201a8"
             ],
             [
              0.3333333333333333,
              "#9c179e"
             ],
             [
              0.4444444444444444,
              "#bd3786"
             ],
             [
              0.5555555555555556,
              "#d8576b"
             ],
             [
              0.6666666666666666,
              "#ed7953"
             ],
             [
              0.7777777777777778,
              "#fb9f3a"
             ],
             [
              0.8888888888888888,
              "#fdca26"
             ],
             [
              1,
              "#f0f921"
             ]
            ],
            "type": "heatmap"
           }
          ],
          "heatmapgl": [
           {
            "colorbar": {
             "outlinewidth": 0,
             "ticks": ""
            },
            "colorscale": [
             [
              0,
              "#0d0887"
             ],
             [
              0.1111111111111111,
              "#46039f"
             ],
             [
              0.2222222222222222,
              "#7201a8"
             ],
             [
              0.3333333333333333,
              "#9c179e"
             ],
             [
              0.4444444444444444,
              "#bd3786"
             ],
             [
              0.5555555555555556,
              "#d8576b"
             ],
             [
              0.6666666666666666,
              "#ed7953"
             ],
             [
              0.7777777777777778,
              "#fb9f3a"
             ],
             [
              0.8888888888888888,
              "#fdca26"
             ],
             [
              1,
              "#f0f921"
             ]
            ],
            "type": "heatmapgl"
           }
          ],
          "histogram": [
           {
            "marker": {
             "pattern": {
              "fillmode": "overlay",
              "size": 10,
              "solidity": 0.2
             }
            },
            "type": "histogram"
           }
          ],
          "histogram2d": [
           {
            "colorbar": {
             "outlinewidth": 0,
             "ticks": ""
            },
            "colorscale": [
             [
              0,
              "#0d0887"
             ],
             [
              0.1111111111111111,
              "#46039f"
             ],
             [
              0.2222222222222222,
              "#7201a8"
             ],
             [
              0.3333333333333333,
              "#9c179e"
             ],
             [
              0.4444444444444444,
              "#bd3786"
             ],
             [
              0.5555555555555556,
              "#d8576b"
             ],
             [
              0.6666666666666666,
              "#ed7953"
             ],
             [
              0.7777777777777778,
              "#fb9f3a"
             ],
             [
              0.8888888888888888,
              "#fdca26"
             ],
             [
              1,
              "#f0f921"
             ]
            ],
            "type": "histogram2d"
           }
          ],
          "histogram2dcontour": [
           {
            "colorbar": {
             "outlinewidth": 0,
             "ticks": ""
            },
            "colorscale": [
             [
              0,
              "#0d0887"
             ],
             [
              0.1111111111111111,
              "#46039f"
             ],
             [
              0.2222222222222222,
              "#7201a8"
             ],
             [
              0.3333333333333333,
              "#9c179e"
             ],
             [
              0.4444444444444444,
              "#bd3786"
             ],
             [
              0.5555555555555556,
              "#d8576b"
             ],
             [
              0.6666666666666666,
              "#ed7953"
             ],
             [
              0.7777777777777778,
              "#fb9f3a"
             ],
             [
              0.8888888888888888,
              "#fdca26"
             ],
             [
              1,
              "#f0f921"
             ]
            ],
            "type": "histogram2dcontour"
           }
          ],
          "mesh3d": [
           {
            "colorbar": {
             "outlinewidth": 0,
             "ticks": ""
            },
            "type": "mesh3d"
           }
          ],
          "parcoords": [
           {
            "line": {
             "colorbar": {
              "outlinewidth": 0,
              "ticks": ""
             }
            },
            "type": "parcoords"
           }
          ],
          "pie": [
           {
            "automargin": true,
            "type": "pie"
           }
          ],
          "scatter": [
           {
            "fillpattern": {
             "fillmode": "overlay",
             "size": 10,
             "solidity": 0.2
            },
            "type": "scatter"
           }
          ],
          "scatter3d": [
           {
            "line": {
             "colorbar": {
              "outlinewidth": 0,
              "ticks": ""
             }
            },
            "marker": {
             "colorbar": {
              "outlinewidth": 0,
              "ticks": ""
             }
            },
            "type": "scatter3d"
           }
          ],
          "scattercarpet": [
           {
            "marker": {
             "colorbar": {
              "outlinewidth": 0,
              "ticks": ""
             }
            },
            "type": "scattercarpet"
           }
          ],
          "scattergeo": [
           {
            "marker": {
             "colorbar": {
              "outlinewidth": 0,
              "ticks": ""
             }
            },
            "type": "scattergeo"
           }
          ],
          "scattergl": [
           {
            "marker": {
             "colorbar": {
              "outlinewidth": 0,
              "ticks": ""
             }
            },
            "type": "scattergl"
           }
          ],
          "scattermapbox": [
           {
            "marker": {
             "colorbar": {
              "outlinewidth": 0,
              "ticks": ""
             }
            },
            "type": "scattermapbox"
           }
          ],
          "scatterpolar": [
           {
            "marker": {
             "colorbar": {
              "outlinewidth": 0,
              "ticks": ""
             }
            },
            "type": "scatterpolar"
           }
          ],
          "scatterpolargl": [
           {
            "marker": {
             "colorbar": {
              "outlinewidth": 0,
              "ticks": ""
             }
            },
            "type": "scatterpolargl"
           }
          ],
          "scatterternary": [
           {
            "marker": {
             "colorbar": {
              "outlinewidth": 0,
              "ticks": ""
             }
            },
            "type": "scatterternary"
           }
          ],
          "surface": [
           {
            "colorbar": {
             "outlinewidth": 0,
             "ticks": ""
            },
            "colorscale": [
             [
              0,
              "#0d0887"
             ],
             [
              0.1111111111111111,
              "#46039f"
             ],
             [
              0.2222222222222222,
              "#7201a8"
             ],
             [
              0.3333333333333333,
              "#9c179e"
             ],
             [
              0.4444444444444444,
              "#bd3786"
             ],
             [
              0.5555555555555556,
              "#d8576b"
             ],
             [
              0.6666666666666666,
              "#ed7953"
             ],
             [
              0.7777777777777778,
              "#fb9f3a"
             ],
             [
              0.8888888888888888,
              "#fdca26"
             ],
             [
              1,
              "#f0f921"
             ]
            ],
            "type": "surface"
           }
          ],
          "table": [
           {
            "cells": {
             "fill": {
              "color": "#EBF0F8"
             },
             "line": {
              "color": "white"
             }
            },
            "header": {
             "fill": {
              "color": "#C8D4E3"
             },
             "line": {
              "color": "white"
             }
            },
            "type": "table"
           }
          ]
         },
         "layout": {
          "annotationdefaults": {
           "arrowcolor": "#2a3f5f",
           "arrowhead": 0,
           "arrowwidth": 1
          },
          "autotypenumbers": "strict",
          "coloraxis": {
           "colorbar": {
            "outlinewidth": 0,
            "ticks": ""
           }
          },
          "colorscale": {
           "diverging": [
            [
             0,
             "#8e0152"
            ],
            [
             0.1,
             "#c51b7d"
            ],
            [
             0.2,
             "#de77ae"
            ],
            [
             0.3,
             "#f1b6da"
            ],
            [
             0.4,
             "#fde0ef"
            ],
            [
             0.5,
             "#f7f7f7"
            ],
            [
             0.6,
             "#e6f5d0"
            ],
            [
             0.7,
             "#b8e186"
            ],
            [
             0.8,
             "#7fbc41"
            ],
            [
             0.9,
             "#4d9221"
            ],
            [
             1,
             "#276419"
            ]
           ],
           "sequential": [
            [
             0,
             "#0d0887"
            ],
            [
             0.1111111111111111,
             "#46039f"
            ],
            [
             0.2222222222222222,
             "#7201a8"
            ],
            [
             0.3333333333333333,
             "#9c179e"
            ],
            [
             0.4444444444444444,
             "#bd3786"
            ],
            [
             0.5555555555555556,
             "#d8576b"
            ],
            [
             0.6666666666666666,
             "#ed7953"
            ],
            [
             0.7777777777777778,
             "#fb9f3a"
            ],
            [
             0.8888888888888888,
             "#fdca26"
            ],
            [
             1,
             "#f0f921"
            ]
           ],
           "sequentialminus": [
            [
             0,
             "#0d0887"
            ],
            [
             0.1111111111111111,
             "#46039f"
            ],
            [
             0.2222222222222222,
             "#7201a8"
            ],
            [
             0.3333333333333333,
             "#9c179e"
            ],
            [
             0.4444444444444444,
             "#bd3786"
            ],
            [
             0.5555555555555556,
             "#d8576b"
            ],
            [
             0.6666666666666666,
             "#ed7953"
            ],
            [
             0.7777777777777778,
             "#fb9f3a"
            ],
            [
             0.8888888888888888,
             "#fdca26"
            ],
            [
             1,
             "#f0f921"
            ]
           ]
          },
          "colorway": [
           "#636efa",
           "#EF553B",
           "#00cc96",
           "#ab63fa",
           "#FFA15A",
           "#19d3f3",
           "#FF6692",
           "#B6E880",
           "#FF97FF",
           "#FECB52"
          ],
          "font": {
           "color": "#2a3f5f"
          },
          "geo": {
           "bgcolor": "white",
           "lakecolor": "white",
           "landcolor": "#E5ECF6",
           "showlakes": true,
           "showland": true,
           "subunitcolor": "white"
          },
          "hoverlabel": {
           "align": "left"
          },
          "hovermode": "closest",
          "mapbox": {
           "style": "light"
          },
          "paper_bgcolor": "white",
          "plot_bgcolor": "#E5ECF6",
          "polar": {
           "angularaxis": {
            "gridcolor": "white",
            "linecolor": "white",
            "ticks": ""
           },
           "bgcolor": "#E5ECF6",
           "radialaxis": {
            "gridcolor": "white",
            "linecolor": "white",
            "ticks": ""
           }
          },
          "scene": {
           "xaxis": {
            "backgroundcolor": "#E5ECF6",
            "gridcolor": "white",
            "gridwidth": 2,
            "linecolor": "white",
            "showbackground": true,
            "ticks": "",
            "zerolinecolor": "white"
           },
           "yaxis": {
            "backgroundcolor": "#E5ECF6",
            "gridcolor": "white",
            "gridwidth": 2,
            "linecolor": "white",
            "showbackground": true,
            "ticks": "",
            "zerolinecolor": "white"
           },
           "zaxis": {
            "backgroundcolor": "#E5ECF6",
            "gridcolor": "white",
            "gridwidth": 2,
            "linecolor": "white",
            "showbackground": true,
            "ticks": "",
            "zerolinecolor": "white"
           }
          },
          "shapedefaults": {
           "line": {
            "color": "#2a3f5f"
           }
          },
          "ternary": {
           "aaxis": {
            "gridcolor": "white",
            "linecolor": "white",
            "ticks": ""
           },
           "baxis": {
            "gridcolor": "white",
            "linecolor": "white",
            "ticks": ""
           },
           "bgcolor": "#E5ECF6",
           "caxis": {
            "gridcolor": "white",
            "linecolor": "white",
            "ticks": ""
           }
          },
          "title": {
           "x": 0.05
          },
          "xaxis": {
           "automargin": true,
           "gridcolor": "white",
           "linecolor": "white",
           "ticks": "",
           "title": {
            "standoff": 15
           },
           "zerolinecolor": "white",
           "zerolinewidth": 2
          },
          "yaxis": {
           "automargin": true,
           "gridcolor": "white",
           "linecolor": "white",
           "ticks": "",
           "title": {
            "standoff": 15
           },
           "zerolinecolor": "white",
           "zerolinewidth": 2
          }
         }
        },
        "title": {
         "text": "rain - OpenMeteo minus DWD H"
        },
        "xaxis": {
         "anchor": "y",
         "domain": [
          0,
          1
         ],
         "title": {
          "text": "time"
         }
        },
        "yaxis": {
         "anchor": "x",
         "domain": [
          0,
          1
         ],
         "range": [
          0,
          50
         ],
         "title": {
          "text": "y"
         }
        }
       }
      }
     },
     "metadata": {},
     "output_type": "display_data"
    },
    {
     "data": {
      "application/vnd.plotly.v1+json": {
       "config": {
        "plotlyServerURL": "https://plot.ly"
       },
       "data": [
        {
         "hovertemplate": "time=%{x}<br>y=%{y}<extra></extra>",
         "legendgroup": "",
         "line": {
          "color": "#636efa",
          "dash": "solid"
         },
         "marker": {
          "symbol": "circle"
         },
         "mode": "lines",
         "name": "",
         "orientation": "v",
         "showlegend": false,
         "type": "scatter",
         "x": [
          "2023-05-14",
          "2023-05-20",
          "2023-05-21",
          "2023-05-27",
          "2023-05-28",
          "2023-06-03",
          "2023-06-04",
          "2023-06-10",
          "2023-06-11",
          "2023-06-17",
          "2023-06-18",
          "2023-06-24",
          "2023-06-25",
          "2023-07-01",
          "2023-07-02",
          "2023-07-08",
          "2023-07-09",
          "2023-07-15",
          "2023-07-16",
          "2023-07-22",
          "2023-07-23",
          "2023-07-29",
          "2023-07-30",
          "2023-08-05",
          "2023-08-06",
          "2023-08-12",
          "2023-08-13",
          "2023-08-19",
          "2023-08-20",
          "2023-08-26",
          "2023-08-27",
          "2023-09-02",
          "2023-09-03",
          "2023-09-09",
          "2023-09-10",
          "2023-09-16",
          "2023-09-17",
          "2023-09-23",
          "2023-09-24",
          "2023-09-30",
          "2023-10-01",
          "2023-10-07",
          "2023-10-08",
          "2023-10-14",
          "2023-10-15",
          "2023-10-21",
          "2023-10-22",
          "2023-10-28",
          "2023-10-29",
          "2023-11-04",
          "2023-11-05",
          "2023-11-11",
          "2023-11-12",
          "2023-11-18",
          "2023-11-19",
          "2023-11-25",
          "2023-11-26",
          "2023-12-02",
          "2023-12-03",
          "2023-12-09",
          "2023-12-10",
          "2023-12-16",
          "2023-12-17",
          "2023-12-23",
          "2023-12-24",
          "2023-12-30",
          "2023-12-31",
          "2024-01-06",
          "2024-01-07",
          "2024-01-13",
          "2024-01-14",
          "2024-01-20",
          "2024-01-21",
          "2024-01-27",
          "2024-01-28",
          "2024-02-03",
          "2024-02-04",
          "2024-02-10",
          "2024-02-11",
          "2024-02-17",
          "2024-02-18",
          "2024-02-24",
          "2024-02-25",
          "2024-03-02",
          "2024-03-03",
          "2024-03-09",
          "2024-03-10",
          "2024-03-16",
          "2024-03-17",
          "2024-03-23",
          "2024-03-24",
          "2024-03-30",
          "2024-03-31",
          "2024-04-06",
          "2024-04-07",
          "2024-04-13",
          "2024-04-14",
          "2024-04-20",
          "2024-04-21",
          "2024-04-27",
          "2024-04-28",
          "2024-05-04",
          "2024-05-05",
          "2024-05-11",
          "2024-05-12",
          "2024-05-18",
          "2024-05-19",
          "2024-05-25",
          "2024-05-26",
          "2024-06-01",
          "2024-06-02",
          "2024-06-08",
          "2024-06-09",
          "2024-06-15",
          "2024-06-16",
          "2024-06-22",
          "2024-06-23",
          "2024-06-29",
          "2024-06-30",
          "2024-07-06",
          "2024-07-07",
          "2024-07-13",
          "2024-07-14",
          "2024-07-20",
          "2024-07-21",
          "2024-07-27",
          "2024-07-28",
          "2024-08-03",
          "2024-08-04",
          "2024-08-10",
          "2024-08-11",
          "2024-08-17",
          "2024-08-18",
          "2024-08-24",
          "2024-08-25",
          "2024-08-31",
          "2024-09-01",
          "2024-09-07",
          "2024-09-08",
          "2024-09-14",
          "2024-09-15",
          "2024-09-21",
          "2024-09-22",
          "2024-09-28",
          "2024-09-29",
          "2024-10-05",
          "2024-10-06",
          "2024-10-12",
          "2024-10-13",
          "2024-10-19",
          "2024-10-20",
          "2024-10-26",
          "2024-10-27",
          "2024-11-02",
          "2024-11-03",
          "2024-11-09",
          "2024-11-10"
         ],
         "xaxis": "x",
         "y": [
          1.6799999999999997,
          3.3000000000000007,
          2.9399999999999995,
          2.8999999999999995,
          9.12,
          1.9200000000000017,
          5.82,
          3.200000000000001,
          0.620000000000001,
          1.92,
          7.6000000000000005,
          2.92,
          2.8,
          6.5,
          12.379999999999999,
          3.3200000000000003,
          0.6600000000000001,
          6.919999999999998,
          10.64,
          6.279999999999999,
          10.32,
          9.420000000000002,
          11.279999999999998,
          1.2799999999999985,
          6.5,
          12.08,
          6.4799999999999995,
          16.08,
          5.52,
          8.6,
          4.839999999999998,
          2.339999999999999,
          3.219999999999999,
          2.4399999999999986,
          2.1800000000000006,
          2.620000000000001,
          5.82,
          5.919999999999998,
          3.6999999999999993,
          7.26,
          6.4399999999999995,
          5.940000000000001,
          4.4799999999999995,
          7.18,
          5.120000000000001,
          3.539999999999999,
          8.46,
          5.879999999999999,
          3.3200000000000003,
          2.859999999999996,
          13.359999999999996,
          10.56,
          6.800000000000001,
          8.02,
          10.220000000000002,
          5.300000000000001,
          4.74,
          3609.4,
          3610.4,
          6.039999999999999,
          10.740000000000002,
          3.8599999999999994,
          3.020000000000003,
          11.420000000000002,
          5.199999999999999,
          6.379999999999999,
          3.1599999999999966,
          1.5599999999999987,
          2.219999999999999,
          7.899999999999999,
          4.159999999999997,
          7.759999999999998,
          3.0799999999999983,
          6.84,
          6.84,
          4.659999999999997,
          6.759999999999998,
          3.9200000000000017,
          4.74,
          3.0199999999999996,
          7.859999999999999,
          3.740000000000002,
          4.26,
          0.29999999999999893,
          2.379999999999999,
          3.460000000000001,
          4.66,
          6.079999999999998,
          6.459999999999999,
          10.44,
          6.379999999999999,
          5.639999999999999,
          5.92,
          4.02,
          7.060000000000002,
          10.540000000000001,
          3.599999999999998,
          4.620000000000001,
          4.74,
          1.0999999999999996,
          4.68,
          4.7799999999999985,
          12.74,
          6.120000000000001,
          1.120000000000001,
          3.3200000000000003,
          9.12,
          3.079999999999999,
          3.0999999999999996,
          2.9999999999999982,
          0.23999999999999844,
          9.620000000000001,
          5.459999999999999,
          10.84,
          3.3000000000000007,
          5.16,
          3.5799999999999983,
          1.08,
          5.52,
          5.640000000000001,
          5.560000000000002,
          8.459999999999999,
          7.619999999999999,
          5.899999999999999,
          5.4399999999999995,
          2.0200000000000014,
          8.64,
          4.8,
          7.52,
          9,
          2.7799999999999985,
          6.3,
          4.42,
          7.699999999999999,
          9.26,
          1.5600000000000005,
          0.6999999999999993,
          4.42,
          4.459999999999999,
          9.24,
          4.5,
          4.66,
          3.88,
          6,
          6.6,
          4.760000000000001,
          4.720000000000002,
          5.48,
          13.619999999999997,
          6.520000000000001,
          3.3400000000000016,
          5.24,
          10.22,
          6.059999999999999,
          3.3199999999999994,
          2.1400000000000006,
          3.299999999999999
         ],
         "yaxis": "y"
        },
        {
         "name": "DWD B minus DWD H",
         "type": "scatter",
         "x": [
          "2023-05-14",
          "2023-05-20",
          "2023-05-21",
          "2023-05-27",
          "2023-05-28",
          "2023-06-03",
          "2023-06-04",
          "2023-06-10",
          "2023-06-11",
          "2023-06-17",
          "2023-06-18",
          "2023-06-24",
          "2023-06-25",
          "2023-07-01",
          "2023-07-02",
          "2023-07-08",
          "2023-07-09",
          "2023-07-15",
          "2023-07-16",
          "2023-07-22",
          "2023-07-23",
          "2023-07-29",
          "2023-07-30",
          "2023-08-05",
          "2023-08-06",
          "2023-08-12",
          "2023-08-13",
          "2023-08-19",
          "2023-08-20",
          "2023-08-26",
          "2023-08-27",
          "2023-09-02",
          "2023-09-03",
          "2023-09-09",
          "2023-09-10",
          "2023-09-16",
          "2023-09-17",
          "2023-09-23",
          "2023-09-24",
          "2023-09-30",
          "2023-10-01",
          "2023-10-07",
          "2023-10-08",
          "2023-10-14",
          "2023-10-15",
          "2023-10-21",
          "2023-10-22",
          "2023-10-28",
          "2023-10-29",
          "2023-11-04",
          "2023-11-05",
          "2023-11-11",
          "2023-11-12",
          "2023-11-18",
          "2023-11-19",
          "2023-11-25",
          "2023-11-26",
          "2023-12-02",
          "2023-12-03",
          "2023-12-09",
          "2023-12-10",
          "2023-12-16",
          "2023-12-17",
          "2023-12-23",
          "2023-12-24",
          "2023-12-30",
          "2023-12-31",
          "2024-01-06",
          "2024-01-07",
          "2024-01-13",
          "2024-01-14",
          "2024-01-20",
          "2024-01-21",
          "2024-01-27",
          "2024-01-28",
          "2024-02-03",
          "2024-02-04",
          "2024-02-10",
          "2024-02-11",
          "2024-02-17",
          "2024-02-18",
          "2024-02-24",
          "2024-02-25",
          "2024-03-02",
          "2024-03-03",
          "2024-03-09",
          "2024-03-10",
          "2024-03-16",
          "2024-03-17",
          "2024-03-23",
          "2024-03-24",
          "2024-03-30",
          "2024-03-31",
          "2024-04-06",
          "2024-04-07",
          "2024-04-13",
          "2024-04-14",
          "2024-04-20",
          "2024-04-21",
          "2024-04-27",
          "2024-04-28",
          "2024-05-04",
          "2024-05-05",
          "2024-05-11",
          "2024-05-12",
          "2024-05-18",
          "2024-05-19",
          "2024-05-25",
          "2024-05-26",
          "2024-06-01",
          "2024-06-02",
          "2024-06-08",
          "2024-06-09",
          "2024-06-15",
          "2024-06-16",
          "2024-06-22",
          "2024-06-23",
          "2024-06-29",
          "2024-06-30",
          "2024-07-06",
          "2024-07-07",
          "2024-07-13",
          "2024-07-14",
          "2024-07-20",
          "2024-07-21",
          "2024-07-27",
          "2024-07-28",
          "2024-08-03",
          "2024-08-04",
          "2024-08-10",
          "2024-08-11",
          "2024-08-17",
          "2024-08-18",
          "2024-08-24",
          "2024-08-25",
          "2024-08-31",
          "2024-09-01",
          "2024-09-07",
          "2024-09-08",
          "2024-09-14",
          "2024-09-15",
          "2024-09-21",
          "2024-09-22",
          "2024-09-28",
          "2024-09-29",
          "2024-10-05",
          "2024-10-06",
          "2024-10-12",
          "2024-10-13",
          "2024-10-19",
          "2024-10-20",
          "2024-10-26",
          "2024-10-27",
          "2024-11-02",
          "2024-11-03",
          "2024-11-09",
          "2024-11-10"
         ],
         "y": [
          1.08,
          1.8000000000000007,
          1.4399999999999995,
          0,
          5.4,
          0.7200000000000006,
          3.960000000000001,
          0.3600000000000012,
          1.8000000000000007,
          1.8000000000000007,
          0.7199999999999998,
          1.4400000000000004,
          0.7200000000000006,
          1.8000000000000007,
          7.559999999999999,
          1.4400000000000013,
          1.08,
          2.5199999999999996,
          3.6000000000000014,
          0.35999999999999766,
          0.35999999999999943,
          1.4399999999999995,
          0.35999999999999943,
          1.4400000000000004,
          2.16,
          0.35999999999999943,
          3.6000000000000005,
          0.3600000000000012,
          1.4400000000000004,
          0.7200000000000006,
          1.0799999999999983,
          0.7199999999999998,
          0,
          0,
          0,
          3604.6800000000003,
          3604.6800000000003,
          0.7200000000000006,
          1.4399999999999995,
          0.35999999999999943,
          0.7199999999999989,
          1.0800000000000054,
          1.4400000000000004,
          3.2399999999999984,
          1.0800000000000018,
          0.35999999999999943,
          0.3600000000000012,
          0.35999999999999943,
          3.960000000000001,
          1.8000000000000007,
          1.4400000000000013,
          0,
          2.879999999999999,
          0.35999999999999943,
          1.4400000000000013,
          0,
          1.7999999999999998,
          3605.04,
          3603.6,
          0.7199999999999989,
          0.7199999999999989,
          3.2399999999999984,
          5.400000000000002,
          1.0800000000000018,
          5.040000000000003,
          2.879999999999999,
          1.8000000000000007,
          3.6000000000000014,
          4.32,
          5.399999999999999,
          2.1599999999999966,
          3.960000000000001,
          0,
          1.4399999999999995,
          2.5200000000000014,
          5.399999999999999,
          1.4399999999999977,
          1.0799999999999983,
          0.7199999999999989,
          0.7199999999999989,
          1.0800000000000018,
          2.5199999999999996,
          3.240000000000002,
          0,
          0.35999999999999943,
          1.4399999999999977,
          1.4399999999999977,
          2.5199999999999996,
          1.4399999999999995,
          2.880000000000001,
          0.35999999999999943,
          2.519999999999998,
          1.0800000000000018,
          0.35999999999999943,
          2.8800000000000026,
          3.24,
          1.8000000000000007,
          0.7200000000000006,
          0.7200000000000006,
          2.879999999999999,
          3.2399999999999984,
          0.35999999999999854,
          3.5999999999999996,
          3.5999999999999996,
          0.7199999999999989,
          3.5999999999999996,
          0.7199999999999998,
          1.4400000000000004,
          1.0799999999999992,
          1.4400000000000013,
          2.16,
          0,
          3.5999999999999996,
          1.4400000000000013,
          3.2399999999999984,
          0.7199999999999989,
          1.0800000000000018,
          1.08,
          1.08,
          3.2399999999999984,
          3.240000000000002,
          6.479999999999999,
          6.119999999999999,
          1.799999999999999,
          2.5199999999999996,
          2.1599999999999993,
          3.960000000000001,
          1.0799999999999992,
          0.3600000000000012,
          3.959999999999999,
          1.4400000000000004,
          0.3600000000000003,
          0.7199999999999998,
          0.7199999999999989,
          3.5999999999999996,
          1.4400000000000013,
          0.35999999999999943,
          1.08,
          0,
          1.799999999999999,
          3.6000000000000005,
          0,
          0,
          1.0799999999999983,
          0,
          0.7200000000000006,
          0.7200000000000006,
          0.7200000000000006,
          3.960000000000001,
          1.08,
          0.35999999999999943,
          0.3600000000000003,
          0,
          0.3600000000000012,
          1.0800000000000005,
          1.4399999999999995,
          2.16
         ]
        }
       ],
       "layout": {
        "legend": {
         "tracegroupgap": 0
        },
        "template": {
         "data": {
          "bar": [
           {
            "error_x": {
             "color": "#2a3f5f"
            },
            "error_y": {
             "color": "#2a3f5f"
            },
            "marker": {
             "line": {
              "color": "#E5ECF6",
              "width": 0.5
             },
             "pattern": {
              "fillmode": "overlay",
              "size": 10,
              "solidity": 0.2
             }
            },
            "type": "bar"
           }
          ],
          "barpolar": [
           {
            "marker": {
             "line": {
              "color": "#E5ECF6",
              "width": 0.5
             },
             "pattern": {
              "fillmode": "overlay",
              "size": 10,
              "solidity": 0.2
             }
            },
            "type": "barpolar"
           }
          ],
          "carpet": [
           {
            "aaxis": {
             "endlinecolor": "#2a3f5f",
             "gridcolor": "white",
             "linecolor": "white",
             "minorgridcolor": "white",
             "startlinecolor": "#2a3f5f"
            },
            "baxis": {
             "endlinecolor": "#2a3f5f",
             "gridcolor": "white",
             "linecolor": "white",
             "minorgridcolor": "white",
             "startlinecolor": "#2a3f5f"
            },
            "type": "carpet"
           }
          ],
          "choropleth": [
           {
            "colorbar": {
             "outlinewidth": 0,
             "ticks": ""
            },
            "type": "choropleth"
           }
          ],
          "contour": [
           {
            "colorbar": {
             "outlinewidth": 0,
             "ticks": ""
            },
            "colorscale": [
             [
              0,
              "#0d0887"
             ],
             [
              0.1111111111111111,
              "#46039f"
             ],
             [
              0.2222222222222222,
              "#7201a8"
             ],
             [
              0.3333333333333333,
              "#9c179e"
             ],
             [
              0.4444444444444444,
              "#bd3786"
             ],
             [
              0.5555555555555556,
              "#d8576b"
             ],
             [
              0.6666666666666666,
              "#ed7953"
             ],
             [
              0.7777777777777778,
              "#fb9f3a"
             ],
             [
              0.8888888888888888,
              "#fdca26"
             ],
             [
              1,
              "#f0f921"
             ]
            ],
            "type": "contour"
           }
          ],
          "contourcarpet": [
           {
            "colorbar": {
             "outlinewidth": 0,
             "ticks": ""
            },
            "type": "contourcarpet"
           }
          ],
          "heatmap": [
           {
            "colorbar": {
             "outlinewidth": 0,
             "ticks": ""
            },
            "colorscale": [
             [
              0,
              "#0d0887"
             ],
             [
              0.1111111111111111,
              "#46039f"
             ],
             [
              0.2222222222222222,
              "#7201a8"
             ],
             [
              0.3333333333333333,
              "#9c179e"
             ],
             [
              0.4444444444444444,
              "#bd3786"
             ],
             [
              0.5555555555555556,
              "#d8576b"
             ],
             [
              0.6666666666666666,
              "#ed7953"
             ],
             [
              0.7777777777777778,
              "#fb9f3a"
             ],
             [
              0.8888888888888888,
              "#fdca26"
             ],
             [
              1,
              "#f0f921"
             ]
            ],
            "type": "heatmap"
           }
          ],
          "heatmapgl": [
           {
            "colorbar": {
             "outlinewidth": 0,
             "ticks": ""
            },
            "colorscale": [
             [
              0,
              "#0d0887"
             ],
             [
              0.1111111111111111,
              "#46039f"
             ],
             [
              0.2222222222222222,
              "#7201a8"
             ],
             [
              0.3333333333333333,
              "#9c179e"
             ],
             [
              0.4444444444444444,
              "#bd3786"
             ],
             [
              0.5555555555555556,
              "#d8576b"
             ],
             [
              0.6666666666666666,
              "#ed7953"
             ],
             [
              0.7777777777777778,
              "#fb9f3a"
             ],
             [
              0.8888888888888888,
              "#fdca26"
             ],
             [
              1,
              "#f0f921"
             ]
            ],
            "type": "heatmapgl"
           }
          ],
          "histogram": [
           {
            "marker": {
             "pattern": {
              "fillmode": "overlay",
              "size": 10,
              "solidity": 0.2
             }
            },
            "type": "histogram"
           }
          ],
          "histogram2d": [
           {
            "colorbar": {
             "outlinewidth": 0,
             "ticks": ""
            },
            "colorscale": [
             [
              0,
              "#0d0887"
             ],
             [
              0.1111111111111111,
              "#46039f"
             ],
             [
              0.2222222222222222,
              "#7201a8"
             ],
             [
              0.3333333333333333,
              "#9c179e"
             ],
             [
              0.4444444444444444,
              "#bd3786"
             ],
             [
              0.5555555555555556,
              "#d8576b"
             ],
             [
              0.6666666666666666,
              "#ed7953"
             ],
             [
              0.7777777777777778,
              "#fb9f3a"
             ],
             [
              0.8888888888888888,
              "#fdca26"
             ],
             [
              1,
              "#f0f921"
             ]
            ],
            "type": "histogram2d"
           }
          ],
          "histogram2dcontour": [
           {
            "colorbar": {
             "outlinewidth": 0,
             "ticks": ""
            },
            "colorscale": [
             [
              0,
              "#0d0887"
             ],
             [
              0.1111111111111111,
              "#46039f"
             ],
             [
              0.2222222222222222,
              "#7201a8"
             ],
             [
              0.3333333333333333,
              "#9c179e"
             ],
             [
              0.4444444444444444,
              "#bd3786"
             ],
             [
              0.5555555555555556,
              "#d8576b"
             ],
             [
              0.6666666666666666,
              "#ed7953"
             ],
             [
              0.7777777777777778,
              "#fb9f3a"
             ],
             [
              0.8888888888888888,
              "#fdca26"
             ],
             [
              1,
              "#f0f921"
             ]
            ],
            "type": "histogram2dcontour"
           }
          ],
          "mesh3d": [
           {
            "colorbar": {
             "outlinewidth": 0,
             "ticks": ""
            },
            "type": "mesh3d"
           }
          ],
          "parcoords": [
           {
            "line": {
             "colorbar": {
              "outlinewidth": 0,
              "ticks": ""
             }
            },
            "type": "parcoords"
           }
          ],
          "pie": [
           {
            "automargin": true,
            "type": "pie"
           }
          ],
          "scatter": [
           {
            "fillpattern": {
             "fillmode": "overlay",
             "size": 10,
             "solidity": 0.2
            },
            "type": "scatter"
           }
          ],
          "scatter3d": [
           {
            "line": {
             "colorbar": {
              "outlinewidth": 0,
              "ticks": ""
             }
            },
            "marker": {
             "colorbar": {
              "outlinewidth": 0,
              "ticks": ""
             }
            },
            "type": "scatter3d"
           }
          ],
          "scattercarpet": [
           {
            "marker": {
             "colorbar": {
              "outlinewidth": 0,
              "ticks": ""
             }
            },
            "type": "scattercarpet"
           }
          ],
          "scattergeo": [
           {
            "marker": {
             "colorbar": {
              "outlinewidth": 0,
              "ticks": ""
             }
            },
            "type": "scattergeo"
           }
          ],
          "scattergl": [
           {
            "marker": {
             "colorbar": {
              "outlinewidth": 0,
              "ticks": ""
             }
            },
            "type": "scattergl"
           }
          ],
          "scattermapbox": [
           {
            "marker": {
             "colorbar": {
              "outlinewidth": 0,
              "ticks": ""
             }
            },
            "type": "scattermapbox"
           }
          ],
          "scatterpolar": [
           {
            "marker": {
             "colorbar": {
              "outlinewidth": 0,
              "ticks": ""
             }
            },
            "type": "scatterpolar"
           }
          ],
          "scatterpolargl": [
           {
            "marker": {
             "colorbar": {
              "outlinewidth": 0,
              "ticks": ""
             }
            },
            "type": "scatterpolargl"
           }
          ],
          "scatterternary": [
           {
            "marker": {
             "colorbar": {
              "outlinewidth": 0,
              "ticks": ""
             }
            },
            "type": "scatterternary"
           }
          ],
          "surface": [
           {
            "colorbar": {
             "outlinewidth": 0,
             "ticks": ""
            },
            "colorscale": [
             [
              0,
              "#0d0887"
             ],
             [
              0.1111111111111111,
              "#46039f"
             ],
             [
              0.2222222222222222,
              "#7201a8"
             ],
             [
              0.3333333333333333,
              "#9c179e"
             ],
             [
              0.4444444444444444,
              "#bd3786"
             ],
             [
              0.5555555555555556,
              "#d8576b"
             ],
             [
              0.6666666666666666,
              "#ed7953"
             ],
             [
              0.7777777777777778,
              "#fb9f3a"
             ],
             [
              0.8888888888888888,
              "#fdca26"
             ],
             [
              1,
              "#f0f921"
             ]
            ],
            "type": "surface"
           }
          ],
          "table": [
           {
            "cells": {
             "fill": {
              "color": "#EBF0F8"
             },
             "line": {
              "color": "white"
             }
            },
            "header": {
             "fill": {
              "color": "#C8D4E3"
             },
             "line": {
              "color": "white"
             }
            },
            "type": "table"
           }
          ]
         },
         "layout": {
          "annotationdefaults": {
           "arrowcolor": "#2a3f5f",
           "arrowhead": 0,
           "arrowwidth": 1
          },
          "autotypenumbers": "strict",
          "coloraxis": {
           "colorbar": {
            "outlinewidth": 0,
            "ticks": ""
           }
          },
          "colorscale": {
           "diverging": [
            [
             0,
             "#8e0152"
            ],
            [
             0.1,
             "#c51b7d"
            ],
            [
             0.2,
             "#de77ae"
            ],
            [
             0.3,
             "#f1b6da"
            ],
            [
             0.4,
             "#fde0ef"
            ],
            [
             0.5,
             "#f7f7f7"
            ],
            [
             0.6,
             "#e6f5d0"
            ],
            [
             0.7,
             "#b8e186"
            ],
            [
             0.8,
             "#7fbc41"
            ],
            [
             0.9,
             "#4d9221"
            ],
            [
             1,
             "#276419"
            ]
           ],
           "sequential": [
            [
             0,
             "#0d0887"
            ],
            [
             0.1111111111111111,
             "#46039f"
            ],
            [
             0.2222222222222222,
             "#7201a8"
            ],
            [
             0.3333333333333333,
             "#9c179e"
            ],
            [
             0.4444444444444444,
             "#bd3786"
            ],
            [
             0.5555555555555556,
             "#d8576b"
            ],
            [
             0.6666666666666666,
             "#ed7953"
            ],
            [
             0.7777777777777778,
             "#fb9f3a"
            ],
            [
             0.8888888888888888,
             "#fdca26"
            ],
            [
             1,
             "#f0f921"
            ]
           ],
           "sequentialminus": [
            [
             0,
             "#0d0887"
            ],
            [
             0.1111111111111111,
             "#46039f"
            ],
            [
             0.2222222222222222,
             "#7201a8"
            ],
            [
             0.3333333333333333,
             "#9c179e"
            ],
            [
             0.4444444444444444,
             "#bd3786"
            ],
            [
             0.5555555555555556,
             "#d8576b"
            ],
            [
             0.6666666666666666,
             "#ed7953"
            ],
            [
             0.7777777777777778,
             "#fb9f3a"
            ],
            [
             0.8888888888888888,
             "#fdca26"
            ],
            [
             1,
             "#f0f921"
            ]
           ]
          },
          "colorway": [
           "#636efa",
           "#EF553B",
           "#00cc96",
           "#ab63fa",
           "#FFA15A",
           "#19d3f3",
           "#FF6692",
           "#B6E880",
           "#FF97FF",
           "#FECB52"
          ],
          "font": {
           "color": "#2a3f5f"
          },
          "geo": {
           "bgcolor": "white",
           "lakecolor": "white",
           "landcolor": "#E5ECF6",
           "showlakes": true,
           "showland": true,
           "subunitcolor": "white"
          },
          "hoverlabel": {
           "align": "left"
          },
          "hovermode": "closest",
          "mapbox": {
           "style": "light"
          },
          "paper_bgcolor": "white",
          "plot_bgcolor": "#E5ECF6",
          "polar": {
           "angularaxis": {
            "gridcolor": "white",
            "linecolor": "white",
            "ticks": ""
           },
           "bgcolor": "#E5ECF6",
           "radialaxis": {
            "gridcolor": "white",
            "linecolor": "white",
            "ticks": ""
           }
          },
          "scene": {
           "xaxis": {
            "backgroundcolor": "#E5ECF6",
            "gridcolor": "white",
            "gridwidth": 2,
            "linecolor": "white",
            "showbackground": true,
            "ticks": "",
            "zerolinecolor": "white"
           },
           "yaxis": {
            "backgroundcolor": "#E5ECF6",
            "gridcolor": "white",
            "gridwidth": 2,
            "linecolor": "white",
            "showbackground": true,
            "ticks": "",
            "zerolinecolor": "white"
           },
           "zaxis": {
            "backgroundcolor": "#E5ECF6",
            "gridcolor": "white",
            "gridwidth": 2,
            "linecolor": "white",
            "showbackground": true,
            "ticks": "",
            "zerolinecolor": "white"
           }
          },
          "shapedefaults": {
           "line": {
            "color": "#2a3f5f"
           }
          },
          "ternary": {
           "aaxis": {
            "gridcolor": "white",
            "linecolor": "white",
            "ticks": ""
           },
           "baxis": {
            "gridcolor": "white",
            "linecolor": "white",
            "ticks": ""
           },
           "bgcolor": "#E5ECF6",
           "caxis": {
            "gridcolor": "white",
            "linecolor": "white",
            "ticks": ""
           }
          },
          "title": {
           "x": 0.05
          },
          "xaxis": {
           "automargin": true,
           "gridcolor": "white",
           "linecolor": "white",
           "ticks": "",
           "title": {
            "standoff": 15
           },
           "zerolinecolor": "white",
           "zerolinewidth": 2
          },
          "yaxis": {
           "automargin": true,
           "gridcolor": "white",
           "linecolor": "white",
           "ticks": "",
           "title": {
            "standoff": 15
           },
           "zerolinecolor": "white",
           "zerolinewidth": 2
          }
         }
        },
        "title": {
         "text": "wind - OpenMeteo minus DWD H"
        },
        "xaxis": {
         "anchor": "y",
         "domain": [
          0,
          1
         ],
         "title": {
          "text": "time"
         }
        },
        "yaxis": {
         "anchor": "x",
         "domain": [
          0,
          1
         ],
         "range": [
          0,
          20
         ],
         "title": {
          "text": "y"
         }
        }
       }
      }
     },
     "metadata": {},
     "output_type": "display_data"
    },
    {
     "data": {
      "application/vnd.plotly.v1+json": {
       "config": {
        "plotlyServerURL": "https://plot.ly"
       },
       "data": [
        {
         "hovertemplate": "time=%{x}<br>y=%{y}<extra></extra>",
         "legendgroup": "",
         "line": {
          "color": "#636efa",
          "dash": "solid"
         },
         "marker": {
          "symbol": "circle"
         },
         "mode": "lines",
         "name": "",
         "orientation": "v",
         "showlegend": false,
         "type": "scatter",
         "x": [
          "2023-05-14",
          "2023-05-20",
          "2023-05-21",
          "2023-05-27",
          "2023-05-28",
          "2023-06-03",
          "2023-06-04",
          "2023-06-10",
          "2023-06-11",
          "2023-06-17",
          "2023-06-18",
          "2023-06-24",
          "2023-06-25",
          "2023-07-01",
          "2023-07-02",
          "2023-07-08",
          "2023-07-09",
          "2023-07-15",
          "2023-07-16",
          "2023-07-22",
          "2023-07-23",
          "2023-07-29",
          "2023-07-30",
          "2023-08-05",
          "2023-08-06",
          "2023-08-12",
          "2023-08-13",
          "2023-08-19",
          "2023-08-20",
          "2023-08-26",
          "2023-08-27",
          "2023-09-02",
          "2023-09-03",
          "2023-09-09",
          "2023-09-10",
          "2023-09-16",
          "2023-09-17",
          "2023-09-23",
          "2023-09-24",
          "2023-09-30",
          "2023-10-01",
          "2023-10-07",
          "2023-10-08",
          "2023-10-14",
          "2023-10-15",
          "2023-10-21",
          "2023-10-22",
          "2023-10-28",
          "2023-10-29",
          "2023-11-04",
          "2023-11-05",
          "2023-11-11",
          "2023-11-12",
          "2023-11-18",
          "2023-11-19",
          "2023-11-25",
          "2023-11-26",
          "2023-12-02",
          "2023-12-03",
          "2023-12-09",
          "2023-12-10",
          "2023-12-16",
          "2023-12-17",
          "2023-12-23",
          "2023-12-24",
          "2023-12-30",
          "2023-12-31",
          "2024-01-06",
          "2024-01-07",
          "2024-01-13",
          "2024-01-14",
          "2024-01-20",
          "2024-01-21",
          "2024-01-27",
          "2024-01-28",
          "2024-02-03",
          "2024-02-04",
          "2024-02-10",
          "2024-02-11",
          "2024-02-17",
          "2024-02-18",
          "2024-02-24",
          "2024-02-25",
          "2024-03-02",
          "2024-03-03",
          "2024-03-09",
          "2024-03-10",
          "2024-03-16",
          "2024-03-17",
          "2024-03-23",
          "2024-03-24",
          "2024-03-30",
          "2024-03-31",
          "2024-04-06",
          "2024-04-07",
          "2024-04-13",
          "2024-04-14",
          "2024-04-20",
          "2024-04-21",
          "2024-04-27",
          "2024-04-28",
          "2024-05-04",
          "2024-05-05",
          "2024-05-11",
          "2024-05-12",
          "2024-05-18",
          "2024-05-19",
          "2024-05-25",
          "2024-05-26",
          "2024-06-01",
          "2024-06-02",
          "2024-06-08",
          "2024-06-09",
          "2024-06-15",
          "2024-06-16",
          "2024-06-22",
          "2024-06-23",
          "2024-06-29",
          "2024-06-30",
          "2024-07-06",
          "2024-07-07",
          "2024-07-13",
          "2024-07-14",
          "2024-07-20",
          "2024-07-21",
          "2024-07-27",
          "2024-07-28",
          "2024-08-03",
          "2024-08-04",
          "2024-08-10",
          "2024-08-11",
          "2024-08-17",
          "2024-08-18",
          "2024-08-24",
          "2024-08-25",
          "2024-08-31",
          "2024-09-01",
          "2024-09-07",
          "2024-09-08",
          "2024-09-14",
          "2024-09-15",
          "2024-09-21",
          "2024-09-22",
          "2024-09-28",
          "2024-09-29",
          "2024-10-05",
          "2024-10-06",
          "2024-10-12",
          "2024-10-13",
          "2024-10-19",
          "2024-10-20",
          "2024-10-26",
          "2024-10-27",
          "2024-11-02",
          "2024-11-03",
          "2024-11-09",
          "2024-11-10"
         ],
         "xaxis": "x",
         "y": [
          12.96,
          0.7199999999999989,
          0.6800000000000068,
          6.140000000000001,
          3.9199999999999946,
          2.860000000000003,
          1.0400000000000027,
          24.859999999999996,
          3.580000000000002,
          2.900000000000002,
          5.079999999999998,
          7.559999999999999,
          5.040000000000003,
          4.359999999999999,
          6.819999999999993,
          8.259999999999998,
          50.739999999999995,
          9.760000000000005,
          5.440000000000005,
          5.419999999999995,
          6.140000000000001,
          0.04000000000000625,
          2.1799999999999997,
          16.580000000000005,
          2.879999999999999,
          6.819999999999993,
          3.5599999999999987,
          26.619999999999997,
          0.7200000000000024,
          1.8400000000000034,
          18.759999999999998,
          0.7000000000000028,
          0.6799999999999997,
          4.68,
          3.5799999999999983,
          1.4200000000000017,
          1.4199999999999982,
          1.480000000000004,
          2.120000000000001,
          7.159999999999997,
          8.280000000000001,
          7.580000000000005,
          1.0400000000000027,
          2.5,
          2.499999999999993,
          3.940000000000005,
          12.219999999999999,
          0.38000000000000256,
          1.4400000000000048,
          1.4600000000000009,
          6.159999999999997,
          7.919999999999995,
          2.1799999999999997,
          0.020000000000003126,
          6.440000000000005,
          0,
          1.7800000000000011,
          3622,
          3624.1,
          3.979999999999997,
          7.220000000000006,
          0.6999999999999957,
          2.1999999999999957,
          0.6999999999999957,
          1.0600000000000023,
          13.280000000000001,
          21.239999999999995,
          0.31999999999999673,
          1.0800000000000054,
          11.18,
          0.740000000000002,
          7.8799999999999955,
          1.8399999999999963,
          0.35999999999999943,
          4.280000000000005,
          8.96,
          2.539999999999985,
          5.080000000000005,
          0.019999999999999574,
          1.7999999999999972,
          2.539999999999999,
          16.240000000000002,
          2.480000000000004,
          6.480000000000004,
          5.359999999999999,
          1.1000000000000014,
          3.6000000000000014,
          2.480000000000004,
          0.7200000000000024,
          28.78,
          1.759999999999998,
          6.48,
          2.1799999999999997,
          0.6799999999999997,
          11.560000000000002,
          8.619999999999997,
          5.420000000000002,
          7.539999999999999,
          2.8800000000000026,
          5.800000000000004,
          8.240000000000002,
          1.4200000000000017,
          8.599999999999994,
          1.7799999999999976,
          3.980000000000004,
          4.68,
          1.0800000000000018,
          9.719999999999995,
          0.7199999999999989,
          0.35999999999999943,
          4.340000000000003,
          0,
          2.1799999999999997,
          2.5,
          3.6199999999999974,
          1.1199999999999974,
          4.280000000000008,
          33.459999999999994,
          34.56000000000001,
          8.619999999999997,
          2.5400000000000063,
          8.319999999999993,
          0.4000000000000057,
          0.35999999999999943,
          11.14,
          1.0999999999999979,
          10.48,
          2.5400000000000027,
          6.519999999999996,
          6.119999999999997,
          1.7999999999999972,
          6.100000000000001,
          4.320000000000004,
          9.340000000000003,
          0.6800000000000068,
          0.740000000000002,
          0.759999999999998,
          4.32,
          10.480000000000004,
          7.919999999999995,
          0.38000000000000256,
          1.480000000000004,
          1.0599999999999987,
          0.38000000000000256,
          4.279999999999998,
          2.8999999999999986,
          8.979999999999997,
          1.1199999999999974,
          5.780000000000001,
          7.559999999999999,
          3.219999999999999,
          2.8999999999999986,
          5.420000000000002,
          8.259999999999998,
          0.3800000000000008,
          2.5199999999999996,
          2.8400000000000016
         ],
         "yaxis": "y"
        },
        {
         "name": "DWD B minus DWD H",
         "type": "scatter",
         "x": [
          "2023-05-14",
          "2023-05-20",
          "2023-05-21",
          "2023-05-27",
          "2023-05-28",
          "2023-06-03",
          "2023-06-04",
          "2023-06-10",
          "2023-06-11",
          "2023-06-17",
          "2023-06-18",
          "2023-06-24",
          "2023-06-25",
          "2023-07-01",
          "2023-07-02",
          "2023-07-08",
          "2023-07-09",
          "2023-07-15",
          "2023-07-16",
          "2023-07-22",
          "2023-07-23",
          "2023-07-29",
          "2023-07-30",
          "2023-08-05",
          "2023-08-06",
          "2023-08-12",
          "2023-08-13",
          "2023-08-19",
          "2023-08-20",
          "2023-08-26",
          "2023-08-27",
          "2023-09-02",
          "2023-09-03",
          "2023-09-09",
          "2023-09-10",
          "2023-09-16",
          "2023-09-17",
          "2023-09-23",
          "2023-09-24",
          "2023-09-30",
          "2023-10-01",
          "2023-10-07",
          "2023-10-08",
          "2023-10-14",
          "2023-10-15",
          "2023-10-21",
          "2023-10-22",
          "2023-10-28",
          "2023-10-29",
          "2023-11-04",
          "2023-11-05",
          "2023-11-11",
          "2023-11-12",
          "2023-11-18",
          "2023-11-19",
          "2023-11-25",
          "2023-11-26",
          "2023-12-02",
          "2023-12-03",
          "2023-12-09",
          "2023-12-10",
          "2023-12-16",
          "2023-12-17",
          "2023-12-23",
          "2023-12-24",
          "2023-12-30",
          "2023-12-31",
          "2024-01-06",
          "2024-01-07",
          "2024-01-13",
          "2024-01-14",
          "2024-01-20",
          "2024-01-21",
          "2024-01-27",
          "2024-01-28",
          "2024-02-03",
          "2024-02-04",
          "2024-02-10",
          "2024-02-11",
          "2024-02-17",
          "2024-02-18",
          "2024-02-24",
          "2024-02-25",
          "2024-03-02",
          "2024-03-03",
          "2024-03-09",
          "2024-03-10",
          "2024-03-16",
          "2024-03-17",
          "2024-03-23",
          "2024-03-24",
          "2024-03-30",
          "2024-03-31",
          "2024-04-06",
          "2024-04-07",
          "2024-04-13",
          "2024-04-14",
          "2024-04-20",
          "2024-04-21",
          "2024-04-27",
          "2024-04-28",
          "2024-05-04",
          "2024-05-05",
          "2024-05-11",
          "2024-05-12",
          "2024-05-18",
          "2024-05-19",
          "2024-05-25",
          "2024-05-26",
          "2024-06-01",
          "2024-06-02",
          "2024-06-08",
          "2024-06-09",
          "2024-06-15",
          "2024-06-16",
          "2024-06-22",
          "2024-06-23",
          "2024-06-29",
          "2024-06-30",
          "2024-07-06",
          "2024-07-07",
          "2024-07-13",
          "2024-07-14",
          "2024-07-20",
          "2024-07-21",
          "2024-07-27",
          "2024-07-28",
          "2024-08-03",
          "2024-08-04",
          "2024-08-10",
          "2024-08-11",
          "2024-08-17",
          "2024-08-18",
          "2024-08-24",
          "2024-08-25",
          "2024-08-31",
          "2024-09-01",
          "2024-09-07",
          "2024-09-08",
          "2024-09-14",
          "2024-09-15",
          "2024-09-21",
          "2024-09-22",
          "2024-09-28",
          "2024-09-29",
          "2024-10-05",
          "2024-10-06",
          "2024-10-12",
          "2024-10-13",
          "2024-10-19",
          "2024-10-20",
          "2024-10-26",
          "2024-10-27",
          "2024-11-02",
          "2024-11-03",
          "2024-11-09",
          "2024-11-10"
         ],
         "y": [
          6.479999999999997,
          3.239999999999995,
          6.840000000000003,
          3.240000000000002,
          7.919999999999995,
          4.32,
          8.640000000000004,
          18.359999999999992,
          0.7199999999999989,
          0.7200000000000024,
          1.8000000000000007,
          1.8000000000000007,
          0.7200000000000024,
          11.879999999999995,
          10.43999999999999,
          5.759999999999998,
          18,
          4.32,
          5.399999999999999,
          2.1600000000000072,
          2.519999999999996,
          12.240000000000002,
          7.560000000000009,
          0.36000000000000654,
          7.920000000000002,
          15.479999999999997,
          6.1200000000000045,
          3.9600000000000044,
          10.080000000000002,
          1.0799999999999912,
          4.32,
          3.599999999999998,
          1.8000000000000007,
          1.4400000000000013,
          3617.28,
          3618.7200000000003,
          3627.7200000000003,
          1.4399999999999906,
          5.399999999999999,
          3.6000000000000014,
          0,
          0.35999999999999943,
          10.080000000000002,
          1.0800000000000054,
          2.519999999999996,
          3.240000000000002,
          21.96,
          5.399999999999995,
          3.6000000000000014,
          7.559999999999995,
          5.039999999999999,
          1.8000000000000043,
          4.679999999999996,
          0,
          2.519999999999996,
          4.32,
          5.760000000000002,
          3616.92,
          3622.32,
          2.520000000000003,
          17.28,
          1.8000000000000043,
          5.399999999999999,
          8.280000000000001,
          18.360000000000014,
          1.0800000000000054,
          18.71999999999999,
          7.560000000000006,
          5.039999999999992,
          15.120000000000005,
          6.480000000000004,
          2.8800000000000026,
          9.36,
          0.720000000000006,
          4.319999999999997,
          9.720000000000006,
          2.519999999999989,
          0,
          1.4400000000000013,
          5.399999999999999,
          5.759999999999998,
          10.799999999999997,
          2.520000000000003,
          6.840000000000003,
          10.439999999999994,
          0.7199999999999989,
          1.4400000000000048,
          5.040000000000006,
          9.360000000000003,
          13.679999999999993,
          1.0800000000000054,
          2.879999999999999,
          7.199999999999996,
          4.32,
          6.119999999999997,
          14.759999999999998,
          1.8000000000000043,
          11.159999999999997,
          2.1600000000000037,
          1.7999999999999972,
          0.7199999999999989,
          0,
          7.559999999999995,
          6.84,
          1.8000000000000043,
          14.760000000000005,
          1.7999999999999972,
          5.399999999999995,
          12.96,
          6.479999999999997,
          5.760000000000005,
          1.7999999999999972,
          15.84000000000001,
          1.8000000000000114,
          19.080000000000005,
          5.039999999999992,
          4.319999999999993,
          23.4,
          38.52000000000001,
          10.440000000000012,
          7.560000000000002,
          11.159999999999997,
          7.919999999999995,
          5.040000000000006,
          5.399999999999999,
          2.520000000000003,
          10.080000000000002,
          1.8000000000000043,
          1.7999999999999972,
          7.200000000000003,
          11.880000000000003,
          4.68,
          2.879999999999999,
          11.160000000000004,
          3.240000000000002,
          1.7999999999999972,
          2.519999999999996,
          3.6000000000000014,
          9.360000000000003,
          1.0800000000000054,
          7.199999999999996,
          0.720000000000006,
          0.7199999999999989,
          0.7199999999999989,
          2.879999999999999,
          1.4400000000000013,
          7.560000000000002,
          1.8000000000000043,
          2.519999999999996,
          2.8799999999999955,
          6.119999999999997,
          1.4400000000000013,
          0.7199999999999989,
          10.439999999999994,
          4.32,
          0.35999999999999943,
          1.799999999999999
         ]
        }
       ],
       "layout": {
        "legend": {
         "tracegroupgap": 0
        },
        "template": {
         "data": {
          "bar": [
           {
            "error_x": {
             "color": "#2a3f5f"
            },
            "error_y": {
             "color": "#2a3f5f"
            },
            "marker": {
             "line": {
              "color": "#E5ECF6",
              "width": 0.5
             },
             "pattern": {
              "fillmode": "overlay",
              "size": 10,
              "solidity": 0.2
             }
            },
            "type": "bar"
           }
          ],
          "barpolar": [
           {
            "marker": {
             "line": {
              "color": "#E5ECF6",
              "width": 0.5
             },
             "pattern": {
              "fillmode": "overlay",
              "size": 10,
              "solidity": 0.2
             }
            },
            "type": "barpolar"
           }
          ],
          "carpet": [
           {
            "aaxis": {
             "endlinecolor": "#2a3f5f",
             "gridcolor": "white",
             "linecolor": "white",
             "minorgridcolor": "white",
             "startlinecolor": "#2a3f5f"
            },
            "baxis": {
             "endlinecolor": "#2a3f5f",
             "gridcolor": "white",
             "linecolor": "white",
             "minorgridcolor": "white",
             "startlinecolor": "#2a3f5f"
            },
            "type": "carpet"
           }
          ],
          "choropleth": [
           {
            "colorbar": {
             "outlinewidth": 0,
             "ticks": ""
            },
            "type": "choropleth"
           }
          ],
          "contour": [
           {
            "colorbar": {
             "outlinewidth": 0,
             "ticks": ""
            },
            "colorscale": [
             [
              0,
              "#0d0887"
             ],
             [
              0.1111111111111111,
              "#46039f"
             ],
             [
              0.2222222222222222,
              "#7201a8"
             ],
             [
              0.3333333333333333,
              "#9c179e"
             ],
             [
              0.4444444444444444,
              "#bd3786"
             ],
             [
              0.5555555555555556,
              "#d8576b"
             ],
             [
              0.6666666666666666,
              "#ed7953"
             ],
             [
              0.7777777777777778,
              "#fb9f3a"
             ],
             [
              0.8888888888888888,
              "#fdca26"
             ],
             [
              1,
              "#f0f921"
             ]
            ],
            "type": "contour"
           }
          ],
          "contourcarpet": [
           {
            "colorbar": {
             "outlinewidth": 0,
             "ticks": ""
            },
            "type": "contourcarpet"
           }
          ],
          "heatmap": [
           {
            "colorbar": {
             "outlinewidth": 0,
             "ticks": ""
            },
            "colorscale": [
             [
              0,
              "#0d0887"
             ],
             [
              0.1111111111111111,
              "#46039f"
             ],
             [
              0.2222222222222222,
              "#7201a8"
             ],
             [
              0.3333333333333333,
              "#9c179e"
             ],
             [
              0.4444444444444444,
              "#bd3786"
             ],
             [
              0.5555555555555556,
              "#d8576b"
             ],
             [
              0.6666666666666666,
              "#ed7953"
             ],
             [
              0.7777777777777778,
              "#fb9f3a"
             ],
             [
              0.8888888888888888,
              "#fdca26"
             ],
             [
              1,
              "#f0f921"
             ]
            ],
            "type": "heatmap"
           }
          ],
          "heatmapgl": [
           {
            "colorbar": {
             "outlinewidth": 0,
             "ticks": ""
            },
            "colorscale": [
             [
              0,
              "#0d0887"
             ],
             [
              0.1111111111111111,
              "#46039f"
             ],
             [
              0.2222222222222222,
              "#7201a8"
             ],
             [
              0.3333333333333333,
              "#9c179e"
             ],
             [
              0.4444444444444444,
              "#bd3786"
             ],
             [
              0.5555555555555556,
              "#d8576b"
             ],
             [
              0.6666666666666666,
              "#ed7953"
             ],
             [
              0.7777777777777778,
              "#fb9f3a"
             ],
             [
              0.8888888888888888,
              "#fdca26"
             ],
             [
              1,
              "#f0f921"
             ]
            ],
            "type": "heatmapgl"
           }
          ],
          "histogram": [
           {
            "marker": {
             "pattern": {
              "fillmode": "overlay",
              "size": 10,
              "solidity": 0.2
             }
            },
            "type": "histogram"
           }
          ],
          "histogram2d": [
           {
            "colorbar": {
             "outlinewidth": 0,
             "ticks": ""
            },
            "colorscale": [
             [
              0,
              "#0d0887"
             ],
             [
              0.1111111111111111,
              "#46039f"
             ],
             [
              0.2222222222222222,
              "#7201a8"
             ],
             [
              0.3333333333333333,
              "#9c179e"
             ],
             [
              0.4444444444444444,
              "#bd3786"
             ],
             [
              0.5555555555555556,
              "#d8576b"
             ],
             [
              0.6666666666666666,
              "#ed7953"
             ],
             [
              0.7777777777777778,
              "#fb9f3a"
             ],
             [
              0.8888888888888888,
              "#fdca26"
             ],
             [
              1,
              "#f0f921"
             ]
            ],
            "type": "histogram2d"
           }
          ],
          "histogram2dcontour": [
           {
            "colorbar": {
             "outlinewidth": 0,
             "ticks": ""
            },
            "colorscale": [
             [
              0,
              "#0d0887"
             ],
             [
              0.1111111111111111,
              "#46039f"
             ],
             [
              0.2222222222222222,
              "#7201a8"
             ],
             [
              0.3333333333333333,
              "#9c179e"
             ],
             [
              0.4444444444444444,
              "#bd3786"
             ],
             [
              0.5555555555555556,
              "#d8576b"
             ],
             [
              0.6666666666666666,
              "#ed7953"
             ],
             [
              0.7777777777777778,
              "#fb9f3a"
             ],
             [
              0.8888888888888888,
              "#fdca26"
             ],
             [
              1,
              "#f0f921"
             ]
            ],
            "type": "histogram2dcontour"
           }
          ],
          "mesh3d": [
           {
            "colorbar": {
             "outlinewidth": 0,
             "ticks": ""
            },
            "type": "mesh3d"
           }
          ],
          "parcoords": [
           {
            "line": {
             "colorbar": {
              "outlinewidth": 0,
              "ticks": ""
             }
            },
            "type": "parcoords"
           }
          ],
          "pie": [
           {
            "automargin": true,
            "type": "pie"
           }
          ],
          "scatter": [
           {
            "fillpattern": {
             "fillmode": "overlay",
             "size": 10,
             "solidity": 0.2
            },
            "type": "scatter"
           }
          ],
          "scatter3d": [
           {
            "line": {
             "colorbar": {
              "outlinewidth": 0,
              "ticks": ""
             }
            },
            "marker": {
             "colorbar": {
              "outlinewidth": 0,
              "ticks": ""
             }
            },
            "type": "scatter3d"
           }
          ],
          "scattercarpet": [
           {
            "marker": {
             "colorbar": {
              "outlinewidth": 0,
              "ticks": ""
             }
            },
            "type": "scattercarpet"
           }
          ],
          "scattergeo": [
           {
            "marker": {
             "colorbar": {
              "outlinewidth": 0,
              "ticks": ""
             }
            },
            "type": "scattergeo"
           }
          ],
          "scattergl": [
           {
            "marker": {
             "colorbar": {
              "outlinewidth": 0,
              "ticks": ""
             }
            },
            "type": "scattergl"
           }
          ],
          "scattermapbox": [
           {
            "marker": {
             "colorbar": {
              "outlinewidth": 0,
              "ticks": ""
             }
            },
            "type": "scattermapbox"
           }
          ],
          "scatterpolar": [
           {
            "marker": {
             "colorbar": {
              "outlinewidth": 0,
              "ticks": ""
             }
            },
            "type": "scatterpolar"
           }
          ],
          "scatterpolargl": [
           {
            "marker": {
             "colorbar": {
              "outlinewidth": 0,
              "ticks": ""
             }
            },
            "type": "scatterpolargl"
           }
          ],
          "scatterternary": [
           {
            "marker": {
             "colorbar": {
              "outlinewidth": 0,
              "ticks": ""
             }
            },
            "type": "scatterternary"
           }
          ],
          "surface": [
           {
            "colorbar": {
             "outlinewidth": 0,
             "ticks": ""
            },
            "colorscale": [
             [
              0,
              "#0d0887"
             ],
             [
              0.1111111111111111,
              "#46039f"
             ],
             [
              0.2222222222222222,
              "#7201a8"
             ],
             [
              0.3333333333333333,
              "#9c179e"
             ],
             [
              0.4444444444444444,
              "#bd3786"
             ],
             [
              0.5555555555555556,
              "#d8576b"
             ],
             [
              0.6666666666666666,
              "#ed7953"
             ],
             [
              0.7777777777777778,
              "#fb9f3a"
             ],
             [
              0.8888888888888888,
              "#fdca26"
             ],
             [
              1,
              "#f0f921"
             ]
            ],
            "type": "surface"
           }
          ],
          "table": [
           {
            "cells": {
             "fill": {
              "color": "#EBF0F8"
             },
             "line": {
              "color": "white"
             }
            },
            "header": {
             "fill": {
              "color": "#C8D4E3"
             },
             "line": {
              "color": "white"
             }
            },
            "type": "table"
           }
          ]
         },
         "layout": {
          "annotationdefaults": {
           "arrowcolor": "#2a3f5f",
           "arrowhead": 0,
           "arrowwidth": 1
          },
          "autotypenumbers": "strict",
          "coloraxis": {
           "colorbar": {
            "outlinewidth": 0,
            "ticks": ""
           }
          },
          "colorscale": {
           "diverging": [
            [
             0,
             "#8e0152"
            ],
            [
             0.1,
             "#c51b7d"
            ],
            [
             0.2,
             "#de77ae"
            ],
            [
             0.3,
             "#f1b6da"
            ],
            [
             0.4,
             "#fde0ef"
            ],
            [
             0.5,
             "#f7f7f7"
            ],
            [
             0.6,
             "#e6f5d0"
            ],
            [
             0.7,
             "#b8e186"
            ],
            [
             0.8,
             "#7fbc41"
            ],
            [
             0.9,
             "#4d9221"
            ],
            [
             1,
             "#276419"
            ]
           ],
           "sequential": [
            [
             0,
             "#0d0887"
            ],
            [
             0.1111111111111111,
             "#46039f"
            ],
            [
             0.2222222222222222,
             "#7201a8"
            ],
            [
             0.3333333333333333,
             "#9c179e"
            ],
            [
             0.4444444444444444,
             "#bd3786"
            ],
            [
             0.5555555555555556,
             "#d8576b"
            ],
            [
             0.6666666666666666,
             "#ed7953"
            ],
            [
             0.7777777777777778,
             "#fb9f3a"
            ],
            [
             0.8888888888888888,
             "#fdca26"
            ],
            [
             1,
             "#f0f921"
            ]
           ],
           "sequentialminus": [
            [
             0,
             "#0d0887"
            ],
            [
             0.1111111111111111,
             "#46039f"
            ],
            [
             0.2222222222222222,
             "#7201a8"
            ],
            [
             0.3333333333333333,
             "#9c179e"
            ],
            [
             0.4444444444444444,
             "#bd3786"
            ],
            [
             0.5555555555555556,
             "#d8576b"
            ],
            [
             0.6666666666666666,
             "#ed7953"
            ],
            [
             0.7777777777777778,
             "#fb9f3a"
            ],
            [
             0.8888888888888888,
             "#fdca26"
            ],
            [
             1,
             "#f0f921"
            ]
           ]
          },
          "colorway": [
           "#636efa",
           "#EF553B",
           "#00cc96",
           "#ab63fa",
           "#FFA15A",
           "#19d3f3",
           "#FF6692",
           "#B6E880",
           "#FF97FF",
           "#FECB52"
          ],
          "font": {
           "color": "#2a3f5f"
          },
          "geo": {
           "bgcolor": "white",
           "lakecolor": "white",
           "landcolor": "#E5ECF6",
           "showlakes": true,
           "showland": true,
           "subunitcolor": "white"
          },
          "hoverlabel": {
           "align": "left"
          },
          "hovermode": "closest",
          "mapbox": {
           "style": "light"
          },
          "paper_bgcolor": "white",
          "plot_bgcolor": "#E5ECF6",
          "polar": {
           "angularaxis": {
            "gridcolor": "white",
            "linecolor": "white",
            "ticks": ""
           },
           "bgcolor": "#E5ECF6",
           "radialaxis": {
            "gridcolor": "white",
            "linecolor": "white",
            "ticks": ""
           }
          },
          "scene": {
           "xaxis": {
            "backgroundcolor": "#E5ECF6",
            "gridcolor": "white",
            "gridwidth": 2,
            "linecolor": "white",
            "showbackground": true,
            "ticks": "",
            "zerolinecolor": "white"
           },
           "yaxis": {
            "backgroundcolor": "#E5ECF6",
            "gridcolor": "white",
            "gridwidth": 2,
            "linecolor": "white",
            "showbackground": true,
            "ticks": "",
            "zerolinecolor": "white"
           },
           "zaxis": {
            "backgroundcolor": "#E5ECF6",
            "gridcolor": "white",
            "gridwidth": 2,
            "linecolor": "white",
            "showbackground": true,
            "ticks": "",
            "zerolinecolor": "white"
           }
          },
          "shapedefaults": {
           "line": {
            "color": "#2a3f5f"
           }
          },
          "ternary": {
           "aaxis": {
            "gridcolor": "white",
            "linecolor": "white",
            "ticks": ""
           },
           "baxis": {
            "gridcolor": "white",
            "linecolor": "white",
            "ticks": ""
           },
           "bgcolor": "#E5ECF6",
           "caxis": {
            "gridcolor": "white",
            "linecolor": "white",
            "ticks": ""
           }
          },
          "title": {
           "x": 0.05
          },
          "xaxis": {
           "automargin": true,
           "gridcolor": "white",
           "linecolor": "white",
           "ticks": "",
           "title": {
            "standoff": 15
           },
           "zerolinecolor": "white",
           "zerolinewidth": 2
          },
          "yaxis": {
           "automargin": true,
           "gridcolor": "white",
           "linecolor": "white",
           "ticks": "",
           "title": {
            "standoff": 15
           },
           "zerolinecolor": "white",
           "zerolinewidth": 2
          }
         }
        },
        "title": {
         "text": "gust - OpenMeteo minus DWD H"
        },
        "xaxis": {
         "anchor": "y",
         "domain": [
          0,
          1
         ],
         "title": {
          "text": "time"
         }
        },
        "yaxis": {
         "anchor": "x",
         "domain": [
          0,
          1
         ],
         "range": [
          0,
          30
         ],
         "title": {
          "text": "y"
         }
        }
       }
      }
     },
     "metadata": {},
     "output_type": "display_data"
    },
    {
     "data": {
      "application/vnd.plotly.v1+json": {
       "config": {
        "plotlyServerURL": "https://plot.ly"
       },
       "data": [
        {
         "hovertemplate": "time=%{x}<br>y=%{y}<extra></extra>",
         "legendgroup": "",
         "line": {
          "color": "#636efa",
          "dash": "solid"
         },
         "marker": {
          "symbol": "circle"
         },
         "mode": "lines",
         "name": "",
         "orientation": "v",
         "showlegend": false,
         "type": "scatter",
         "x": [
          "2023-05-14",
          "2023-05-20",
          "2023-05-21",
          "2023-05-27",
          "2023-05-28",
          "2023-06-03",
          "2023-06-04",
          "2023-06-10",
          "2023-06-11",
          "2023-06-17",
          "2023-06-18",
          "2023-06-24",
          "2023-06-25",
          "2023-07-01",
          "2023-07-02",
          "2023-07-08",
          "2023-07-09",
          "2023-07-15",
          "2023-07-16",
          "2023-07-22",
          "2023-07-23",
          "2023-07-29",
          "2023-07-30",
          "2023-08-05",
          "2023-08-06",
          "2023-08-12",
          "2023-08-13",
          "2023-08-19",
          "2023-08-20",
          "2023-08-26",
          "2023-08-27",
          "2023-09-02",
          "2023-09-03",
          "2023-09-09",
          "2023-09-10",
          "2023-09-16",
          "2023-09-17",
          "2023-09-23",
          "2023-09-24",
          "2023-09-30",
          "2023-10-01",
          "2023-10-07",
          "2023-10-08",
          "2023-10-14",
          "2023-10-15",
          "2023-10-21",
          "2023-10-22",
          "2023-10-28",
          "2023-10-29",
          "2023-11-04",
          "2023-11-05",
          "2023-11-11",
          "2023-11-12",
          "2023-11-18",
          "2023-11-19",
          "2023-11-25",
          "2023-11-26",
          "2023-12-02",
          "2023-12-03",
          "2023-12-09",
          "2023-12-10",
          "2023-12-16",
          "2023-12-17",
          "2023-12-23",
          "2023-12-24",
          "2023-12-30",
          "2023-12-31",
          "2024-01-06",
          "2024-01-07",
          "2024-01-13",
          "2024-01-14",
          "2024-01-20",
          "2024-01-21",
          "2024-01-27",
          "2024-01-28",
          "2024-02-03",
          "2024-02-04",
          "2024-02-10",
          "2024-02-11",
          "2024-02-17",
          "2024-02-18",
          "2024-02-24",
          "2024-02-25",
          "2024-03-02",
          "2024-03-03",
          "2024-03-09",
          "2024-03-10",
          "2024-03-16",
          "2024-03-17",
          "2024-03-23",
          "2024-03-24",
          "2024-03-30",
          "2024-03-31",
          "2024-04-06",
          "2024-04-07",
          "2024-04-13",
          "2024-04-14",
          "2024-04-20",
          "2024-04-21",
          "2024-04-27",
          "2024-04-28",
          "2024-05-04",
          "2024-05-05",
          "2024-05-11",
          "2024-05-12",
          "2024-05-18",
          "2024-05-19",
          "2024-05-25",
          "2024-05-26",
          "2024-06-01",
          "2024-06-02",
          "2024-06-08",
          "2024-06-09",
          "2024-06-15",
          "2024-06-16",
          "2024-06-22",
          "2024-06-23",
          "2024-06-29",
          "2024-06-30",
          "2024-07-06",
          "2024-07-07",
          "2024-07-13",
          "2024-07-14",
          "2024-07-20",
          "2024-07-21",
          "2024-07-27",
          "2024-07-28",
          "2024-08-03",
          "2024-08-04",
          "2024-08-10",
          "2024-08-11",
          "2024-08-17",
          "2024-08-18",
          "2024-08-24",
          "2024-08-25",
          "2024-08-31",
          "2024-09-01",
          "2024-09-07",
          "2024-09-08",
          "2024-09-14",
          "2024-09-15",
          "2024-09-21",
          "2024-09-22",
          "2024-09-28",
          "2024-09-29",
          "2024-10-05",
          "2024-10-06",
          "2024-10-12",
          "2024-10-13",
          "2024-10-19",
          "2024-10-20",
          "2024-10-26",
          "2024-10-27",
          "2024-11-02",
          "2024-11-03",
          "2024-11-09",
          "2024-11-10"
         ],
         "xaxis": "x",
         "y": [
          9744.919999999998,
          20053.44,
          17657.32,
          1794.949999999997,
          2281.25,
          684.260000000002,
          96.83999999999651,
          8726.199999999997,
          374.8000000000029,
          25550.699999999997,
          3082.8799999999974,
          369,
          2299,
          909.89,
          17173.239999999998,
          417.8899999999994,
          2337.260000000002,
          20174.82,
          12850.529999999999,
          20095.72,
          17457.42,
          11424.939999999999,
          21906.86,
          33731.2,
          17437.64,
          18928.54,
          11598.130000000001,
          7763.040000000001,
          2520,
          11931.64,
          22035.44,
          18651.1,
          4278.080000000002,
          495.5199999999968,
          199.86000000000058,
          8177.199999999997,
          15721.43,
          14565.589999999998,
          13311.089999999997,
          7920,
          11308.47,
          463.27,
          442.2999999999993,
          11217.669999999998,
          17082.949999999997,
          17497.75,
          24221.75,
          20146.69,
          12778.380000000001,
          514.8099999999995,
          11183.44,
          2632.43,
          26049.17,
          10935.47,
          18815.62,
          9270.59,
          12064.61,
          0,
          601.32,
          5337.1500000000015,
          0,
          148.53,
          5040,
          0,
          0,
          15603.650000000001,
          601.02,
          0,
          910.4000000000001,
          0,
          3533.37,
          3920.2000000000007,
          2880,
          336.7000000000007,
          56.72999999999956,
          90.73,
          0,
          12234.96,
          0,
          4208.9400000000005,
          0,
          16494.62,
          21910.07,
          9355.480000000003,
          8482.699999999997,
          2319.769999999997,
          30883.82,
          17195.84,
          3538.5800000000017,
          10923.939999999999,
          1724.7199999999998,
          29520,
          6945.389999999999,
          9872.11,
          12464.150000000001,
          5783.870000000003,
          5611.419999999995,
          27914.1,
          15835.79,
          8894.989999999994,
          17744.58,
          17183.67,
          37199.52,
          9532.620000000003,
          1958.199999999997,
          25884.67,
          19035.800000000003,
          22728.690000000002,
          9124.18,
          10800,
          19239.58,
          16098.230000000003,
          9576.099999999999,
          17280,
          20532.47,
          6383.739999999998,
          14495.879999999997,
          7605.040000000001,
          16833.95,
          14684.660000000003,
          16674.14,
          36973.73,
          11520,
          214.36000000000058,
          12330.95,
          18108.16,
          19484.980000000003,
          6774.620000000003,
          15925.469999999998,
          19873.789999999997,
          268.8199999999997,
          14624.82,
          5522.34,
          8898.18,
          11171.079999999994,
          13412.45,
          740.310000000005,
          1784.8799999999974,
          15007.220000000001,
          3062.8600000000006,
          10102.170000000002,
          113.59999999999854,
          369.3399999999965,
          16291.969999999998,
          11442.41,
          17192.93,
          13676.830000000002,
          8124.019999999999,
          19863.61,
          16723.56,
          248.29000000000087,
          385.97999999999956,
          13986.530000000002,
          890.7800000000025,
          172.61999999999898,
          11028.59,
          0
         ],
         "yaxis": "y"
        },
        {
         "name": "DWD B minus DWD H",
         "type": "scatter",
         "x": [
          "2023-05-14",
          "2023-05-20",
          "2023-05-21",
          "2023-05-27",
          "2023-05-28",
          "2023-06-03",
          "2023-06-04",
          "2023-06-10",
          "2023-06-11",
          "2023-06-17",
          "2023-06-18",
          "2023-06-24",
          "2023-06-25",
          "2023-07-01",
          "2023-07-02",
          "2023-07-08",
          "2023-07-09",
          "2023-07-15",
          "2023-07-16",
          "2023-07-22",
          "2023-07-23",
          "2023-07-29",
          "2023-07-30",
          "2023-08-05",
          "2023-08-06",
          "2023-08-12",
          "2023-08-13",
          "2023-08-19",
          "2023-08-20",
          "2023-08-26",
          "2023-08-27",
          "2023-09-02",
          "2023-09-03",
          "2023-09-09",
          "2023-09-10",
          "2023-09-16",
          "2023-09-17",
          "2023-09-23",
          "2023-09-24",
          "2023-09-30",
          "2023-10-01",
          "2023-10-07",
          "2023-10-08",
          "2023-10-14",
          "2023-10-15",
          "2023-10-21",
          "2023-10-22",
          "2023-10-28",
          "2023-10-29",
          "2023-11-04",
          "2023-11-05",
          "2023-11-11",
          "2023-11-12",
          "2023-11-18",
          "2023-11-19",
          "2023-11-25",
          "2023-11-26",
          "2023-12-02",
          "2023-12-03",
          "2023-12-09",
          "2023-12-10",
          "2023-12-16",
          "2023-12-17",
          "2023-12-23",
          "2023-12-24",
          "2023-12-30",
          "2023-12-31",
          "2024-01-06",
          "2024-01-07",
          "2024-01-13",
          "2024-01-14",
          "2024-01-20",
          "2024-01-21",
          "2024-01-27",
          "2024-01-28",
          "2024-02-03",
          "2024-02-04",
          "2024-02-10",
          "2024-02-11",
          "2024-02-17",
          "2024-02-18",
          "2024-02-24",
          "2024-02-25",
          "2024-03-02",
          "2024-03-03",
          "2024-03-09",
          "2024-03-10",
          "2024-03-16",
          "2024-03-17",
          "2024-03-23",
          "2024-03-24",
          "2024-03-30",
          "2024-03-31",
          "2024-04-06",
          "2024-04-07",
          "2024-04-13",
          "2024-04-14",
          "2024-04-20",
          "2024-04-21",
          "2024-04-27",
          "2024-04-28",
          "2024-05-04",
          "2024-05-05",
          "2024-05-11",
          "2024-05-12",
          "2024-05-18",
          "2024-05-19",
          "2024-05-25",
          "2024-05-26",
          "2024-06-01",
          "2024-06-02",
          "2024-06-08",
          "2024-06-09",
          "2024-06-15",
          "2024-06-16",
          "2024-06-22",
          "2024-06-23",
          "2024-06-29",
          "2024-06-30",
          "2024-07-06",
          "2024-07-07",
          "2024-07-13",
          "2024-07-14",
          "2024-07-20",
          "2024-07-21",
          "2024-07-27",
          "2024-07-28",
          "2024-08-03",
          "2024-08-04",
          "2024-08-10",
          "2024-08-11",
          "2024-08-17",
          "2024-08-18",
          "2024-08-24",
          "2024-08-25",
          "2024-08-31",
          "2024-09-01",
          "2024-09-07",
          "2024-09-08",
          "2024-09-14",
          "2024-09-15",
          "2024-09-21",
          "2024-09-22",
          "2024-09-28",
          "2024-09-29",
          "2024-10-05",
          "2024-10-06",
          "2024-10-12",
          "2024-10-13",
          "2024-10-19",
          "2024-10-20",
          "2024-10-26",
          "2024-10-27",
          "2024-11-02",
          "2024-11-03",
          "2024-11-09",
          "2024-11-10"
         ],
         "y": [
          7200,
          17280,
          7200,
          360,
          1800,
          2520,
          720,
          1440,
          2520,
          5400,
          4320,
          14760,
          360,
          1080,
          11880,
          1080,
          1800,
          11880,
          18360,
          1800,
          3600.0000000000005,
          1080,
          6840,
          12960.000000000002,
          3960,
          7200,
          2520.0000000000036,
          6120,
          2160,
          13320,
          15120,
          3240,
          2160,
          360,
          10800,
          7200,
          3240,
          2880.000000000002,
          0,
          1440,
          3600,
          360,
          5760,
          5400,
          720,
          3240,
          0,
          2880,
          7200,
          7560,
          360,
          0,
          6480.000000000001,
          2880,
          3600,
          15120,
          0,
          0,
          0,
          2520,
          0,
          0,
          8280,
          0,
          0,
          720,
          720,
          0,
          17640,
          0,
          4680,
          360,
          0,
          1080,
          2879.9999999999964,
          0,
          0,
          360,
          0,
          1800,
          0,
          3240,
          720,
          3960,
          3960,
          1800,
          10799.999999999998,
          8280,
          5760,
          5760,
          1080,
          5040.000000000001,
          5040,
          7200,
          13679.999999999996,
          1800,
          2880.0000000000036,
          9360,
          0,
          5040.000000000004,
          6839.999999999997,
          15840,
          2879.9999999999995,
          11880,
          3600,
          8640,
          11880,
          11160,
          360,
          12600,
          0,
          11160,
          12600,
          7560.000000000002,
          4680,
          15840,
          1440,
          360,
          6120,
          1440,
          1800,
          1800,
          2520,
          720,
          2880,
          15480,
          17640,
          8459.999999999996,
          6840,
          3960,
          5580,
          6238.8,
          9302.400000000001,
          7081.200000000001,
          0,
          3960,
          720.0000000000073,
          9000.000000000004,
          5878.800000000001,
          7801.200000000001,
          18421.2,
          1260,
          2217.5999999999985,
          3420,
          7380,
          22438.800000000003,
          9478.8,
          3599.999999999998,
          8762.400000000001,
          0,
          5580,
          2401.2000000000007,
          5702.400000000001,
          4561.200000000001,
          1681.2000000000007,
          0,
          0
         ]
        }
       ],
       "layout": {
        "legend": {
         "tracegroupgap": 0
        },
        "template": {
         "data": {
          "bar": [
           {
            "error_x": {
             "color": "#2a3f5f"
            },
            "error_y": {
             "color": "#2a3f5f"
            },
            "marker": {
             "line": {
              "color": "#E5ECF6",
              "width": 0.5
             },
             "pattern": {
              "fillmode": "overlay",
              "size": 10,
              "solidity": 0.2
             }
            },
            "type": "bar"
           }
          ],
          "barpolar": [
           {
            "marker": {
             "line": {
              "color": "#E5ECF6",
              "width": 0.5
             },
             "pattern": {
              "fillmode": "overlay",
              "size": 10,
              "solidity": 0.2
             }
            },
            "type": "barpolar"
           }
          ],
          "carpet": [
           {
            "aaxis": {
             "endlinecolor": "#2a3f5f",
             "gridcolor": "white",
             "linecolor": "white",
             "minorgridcolor": "white",
             "startlinecolor": "#2a3f5f"
            },
            "baxis": {
             "endlinecolor": "#2a3f5f",
             "gridcolor": "white",
             "linecolor": "white",
             "minorgridcolor": "white",
             "startlinecolor": "#2a3f5f"
            },
            "type": "carpet"
           }
          ],
          "choropleth": [
           {
            "colorbar": {
             "outlinewidth": 0,
             "ticks": ""
            },
            "type": "choropleth"
           }
          ],
          "contour": [
           {
            "colorbar": {
             "outlinewidth": 0,
             "ticks": ""
            },
            "colorscale": [
             [
              0,
              "#0d0887"
             ],
             [
              0.1111111111111111,
              "#46039f"
             ],
             [
              0.2222222222222222,
              "#7201a8"
             ],
             [
              0.3333333333333333,
              "#9c179e"
             ],
             [
              0.4444444444444444,
              "#bd3786"
             ],
             [
              0.5555555555555556,
              "#d8576b"
             ],
             [
              0.6666666666666666,
              "#ed7953"
             ],
             [
              0.7777777777777778,
              "#fb9f3a"
             ],
             [
              0.8888888888888888,
              "#fdca26"
             ],
             [
              1,
              "#f0f921"
             ]
            ],
            "type": "contour"
           }
          ],
          "contourcarpet": [
           {
            "colorbar": {
             "outlinewidth": 0,
             "ticks": ""
            },
            "type": "contourcarpet"
           }
          ],
          "heatmap": [
           {
            "colorbar": {
             "outlinewidth": 0,
             "ticks": ""
            },
            "colorscale": [
             [
              0,
              "#0d0887"
             ],
             [
              0.1111111111111111,
              "#46039f"
             ],
             [
              0.2222222222222222,
              "#7201a8"
             ],
             [
              0.3333333333333333,
              "#9c179e"
             ],
             [
              0.4444444444444444,
              "#bd3786"
             ],
             [
              0.5555555555555556,
              "#d8576b"
             ],
             [
              0.6666666666666666,
              "#ed7953"
             ],
             [
              0.7777777777777778,
              "#fb9f3a"
             ],
             [
              0.8888888888888888,
              "#fdca26"
             ],
             [
              1,
              "#f0f921"
             ]
            ],
            "type": "heatmap"
           }
          ],
          "heatmapgl": [
           {
            "colorbar": {
             "outlinewidth": 0,
             "ticks": ""
            },
            "colorscale": [
             [
              0,
              "#0d0887"
             ],
             [
              0.1111111111111111,
              "#46039f"
             ],
             [
              0.2222222222222222,
              "#7201a8"
             ],
             [
              0.3333333333333333,
              "#9c179e"
             ],
             [
              0.4444444444444444,
              "#bd3786"
             ],
             [
              0.5555555555555556,
              "#d8576b"
             ],
             [
              0.6666666666666666,
              "#ed7953"
             ],
             [
              0.7777777777777778,
              "#fb9f3a"
             ],
             [
              0.8888888888888888,
              "#fdca26"
             ],
             [
              1,
              "#f0f921"
             ]
            ],
            "type": "heatmapgl"
           }
          ],
          "histogram": [
           {
            "marker": {
             "pattern": {
              "fillmode": "overlay",
              "size": 10,
              "solidity": 0.2
             }
            },
            "type": "histogram"
           }
          ],
          "histogram2d": [
           {
            "colorbar": {
             "outlinewidth": 0,
             "ticks": ""
            },
            "colorscale": [
             [
              0,
              "#0d0887"
             ],
             [
              0.1111111111111111,
              "#46039f"
             ],
             [
              0.2222222222222222,
              "#7201a8"
             ],
             [
              0.3333333333333333,
              "#9c179e"
             ],
             [
              0.4444444444444444,
              "#bd3786"
             ],
             [
              0.5555555555555556,
              "#d8576b"
             ],
             [
              0.6666666666666666,
              "#ed7953"
             ],
             [
              0.7777777777777778,
              "#fb9f3a"
             ],
             [
              0.8888888888888888,
              "#fdca26"
             ],
             [
              1,
              "#f0f921"
             ]
            ],
            "type": "histogram2d"
           }
          ],
          "histogram2dcontour": [
           {
            "colorbar": {
             "outlinewidth": 0,
             "ticks": ""
            },
            "colorscale": [
             [
              0,
              "#0d0887"
             ],
             [
              0.1111111111111111,
              "#46039f"
             ],
             [
              0.2222222222222222,
              "#7201a8"
             ],
             [
              0.3333333333333333,
              "#9c179e"
             ],
             [
              0.4444444444444444,
              "#bd3786"
             ],
             [
              0.5555555555555556,
              "#d8576b"
             ],
             [
              0.6666666666666666,
              "#ed7953"
             ],
             [
              0.7777777777777778,
              "#fb9f3a"
             ],
             [
              0.8888888888888888,
              "#fdca26"
             ],
             [
              1,
              "#f0f921"
             ]
            ],
            "type": "histogram2dcontour"
           }
          ],
          "mesh3d": [
           {
            "colorbar": {
             "outlinewidth": 0,
             "ticks": ""
            },
            "type": "mesh3d"
           }
          ],
          "parcoords": [
           {
            "line": {
             "colorbar": {
              "outlinewidth": 0,
              "ticks": ""
             }
            },
            "type": "parcoords"
           }
          ],
          "pie": [
           {
            "automargin": true,
            "type": "pie"
           }
          ],
          "scatter": [
           {
            "fillpattern": {
             "fillmode": "overlay",
             "size": 10,
             "solidity": 0.2
            },
            "type": "scatter"
           }
          ],
          "scatter3d": [
           {
            "line": {
             "colorbar": {
              "outlinewidth": 0,
              "ticks": ""
             }
            },
            "marker": {
             "colorbar": {
              "outlinewidth": 0,
              "ticks": ""
             }
            },
            "type": "scatter3d"
           }
          ],
          "scattercarpet": [
           {
            "marker": {
             "colorbar": {
              "outlinewidth": 0,
              "ticks": ""
             }
            },
            "type": "scattercarpet"
           }
          ],
          "scattergeo": [
           {
            "marker": {
             "colorbar": {
              "outlinewidth": 0,
              "ticks": ""
             }
            },
            "type": "scattergeo"
           }
          ],
          "scattergl": [
           {
            "marker": {
             "colorbar": {
              "outlinewidth": 0,
              "ticks": ""
             }
            },
            "type": "scattergl"
           }
          ],
          "scattermapbox": [
           {
            "marker": {
             "colorbar": {
              "outlinewidth": 0,
              "ticks": ""
             }
            },
            "type": "scattermapbox"
           }
          ],
          "scatterpolar": [
           {
            "marker": {
             "colorbar": {
              "outlinewidth": 0,
              "ticks": ""
             }
            },
            "type": "scatterpolar"
           }
          ],
          "scatterpolargl": [
           {
            "marker": {
             "colorbar": {
              "outlinewidth": 0,
              "ticks": ""
             }
            },
            "type": "scatterpolargl"
           }
          ],
          "scatterternary": [
           {
            "marker": {
             "colorbar": {
              "outlinewidth": 0,
              "ticks": ""
             }
            },
            "type": "scatterternary"
           }
          ],
          "surface": [
           {
            "colorbar": {
             "outlinewidth": 0,
             "ticks": ""
            },
            "colorscale": [
             [
              0,
              "#0d0887"
             ],
             [
              0.1111111111111111,
              "#46039f"
             ],
             [
              0.2222222222222222,
              "#7201a8"
             ],
             [
              0.3333333333333333,
              "#9c179e"
             ],
             [
              0.4444444444444444,
              "#bd3786"
             ],
             [
              0.5555555555555556,
              "#d8576b"
             ],
             [
              0.6666666666666666,
              "#ed7953"
             ],
             [
              0.7777777777777778,
              "#fb9f3a"
             ],
             [
              0.8888888888888888,
              "#fdca26"
             ],
             [
              1,
              "#f0f921"
             ]
            ],
            "type": "surface"
           }
          ],
          "table": [
           {
            "cells": {
             "fill": {
              "color": "#EBF0F8"
             },
             "line": {
              "color": "white"
             }
            },
            "header": {
             "fill": {
              "color": "#C8D4E3"
             },
             "line": {
              "color": "white"
             }
            },
            "type": "table"
           }
          ]
         },
         "layout": {
          "annotationdefaults": {
           "arrowcolor": "#2a3f5f",
           "arrowhead": 0,
           "arrowwidth": 1
          },
          "autotypenumbers": "strict",
          "coloraxis": {
           "colorbar": {
            "outlinewidth": 0,
            "ticks": ""
           }
          },
          "colorscale": {
           "diverging": [
            [
             0,
             "#8e0152"
            ],
            [
             0.1,
             "#c51b7d"
            ],
            [
             0.2,
             "#de77ae"
            ],
            [
             0.3,
             "#f1b6da"
            ],
            [
             0.4,
             "#fde0ef"
            ],
            [
             0.5,
             "#f7f7f7"
            ],
            [
             0.6,
             "#e6f5d0"
            ],
            [
             0.7,
             "#b8e186"
            ],
            [
             0.8,
             "#7fbc41"
            ],
            [
             0.9,
             "#4d9221"
            ],
            [
             1,
             "#276419"
            ]
           ],
           "sequential": [
            [
             0,
             "#0d0887"
            ],
            [
             0.1111111111111111,
             "#46039f"
            ],
            [
             0.2222222222222222,
             "#7201a8"
            ],
            [
             0.3333333333333333,
             "#9c179e"
            ],
            [
             0.4444444444444444,
             "#bd3786"
            ],
            [
             0.5555555555555556,
             "#d8576b"
            ],
            [
             0.6666666666666666,
             "#ed7953"
            ],
            [
             0.7777777777777778,
             "#fb9f3a"
            ],
            [
             0.8888888888888888,
             "#fdca26"
            ],
            [
             1,
             "#f0f921"
            ]
           ],
           "sequentialminus": [
            [
             0,
             "#0d0887"
            ],
            [
             0.1111111111111111,
             "#46039f"
            ],
            [
             0.2222222222222222,
             "#7201a8"
            ],
            [
             0.3333333333333333,
             "#9c179e"
            ],
            [
             0.4444444444444444,
             "#bd3786"
            ],
            [
             0.5555555555555556,
             "#d8576b"
            ],
            [
             0.6666666666666666,
             "#ed7953"
            ],
            [
             0.7777777777777778,
             "#fb9f3a"
            ],
            [
             0.8888888888888888,
             "#fdca26"
            ],
            [
             1,
             "#f0f921"
            ]
           ]
          },
          "colorway": [
           "#636efa",
           "#EF553B",
           "#00cc96",
           "#ab63fa",
           "#FFA15A",
           "#19d3f3",
           "#FF6692",
           "#B6E880",
           "#FF97FF",
           "#FECB52"
          ],
          "font": {
           "color": "#2a3f5f"
          },
          "geo": {
           "bgcolor": "white",
           "lakecolor": "white",
           "landcolor": "#E5ECF6",
           "showlakes": true,
           "showland": true,
           "subunitcolor": "white"
          },
          "hoverlabel": {
           "align": "left"
          },
          "hovermode": "closest",
          "mapbox": {
           "style": "light"
          },
          "paper_bgcolor": "white",
          "plot_bgcolor": "#E5ECF6",
          "polar": {
           "angularaxis": {
            "gridcolor": "white",
            "linecolor": "white",
            "ticks": ""
           },
           "bgcolor": "#E5ECF6",
           "radialaxis": {
            "gridcolor": "white",
            "linecolor": "white",
            "ticks": ""
           }
          },
          "scene": {
           "xaxis": {
            "backgroundcolor": "#E5ECF6",
            "gridcolor": "white",
            "gridwidth": 2,
            "linecolor": "white",
            "showbackground": true,
            "ticks": "",
            "zerolinecolor": "white"
           },
           "yaxis": {
            "backgroundcolor": "#E5ECF6",
            "gridcolor": "white",
            "gridwidth": 2,
            "linecolor": "white",
            "showbackground": true,
            "ticks": "",
            "zerolinecolor": "white"
           },
           "zaxis": {
            "backgroundcolor": "#E5ECF6",
            "gridcolor": "white",
            "gridwidth": 2,
            "linecolor": "white",
            "showbackground": true,
            "ticks": "",
            "zerolinecolor": "white"
           }
          },
          "shapedefaults": {
           "line": {
            "color": "#2a3f5f"
           }
          },
          "ternary": {
           "aaxis": {
            "gridcolor": "white",
            "linecolor": "white",
            "ticks": ""
           },
           "baxis": {
            "gridcolor": "white",
            "linecolor": "white",
            "ticks": ""
           },
           "bgcolor": "#E5ECF6",
           "caxis": {
            "gridcolor": "white",
            "linecolor": "white",
            "ticks": ""
           }
          },
          "title": {
           "x": 0.05
          },
          "xaxis": {
           "automargin": true,
           "gridcolor": "white",
           "linecolor": "white",
           "ticks": "",
           "title": {
            "standoff": 15
           },
           "zerolinecolor": "white",
           "zerolinewidth": 2
          },
          "yaxis": {
           "automargin": true,
           "gridcolor": "white",
           "linecolor": "white",
           "ticks": "",
           "title": {
            "standoff": 15
           },
           "zerolinecolor": "white",
           "zerolinewidth": 2
          }
         }
        },
        "title": {
         "text": "sun - OpenMeteo minus DWD H"
        },
        "xaxis": {
         "anchor": "y",
         "domain": [
          0,
          1
         ],
         "title": {
          "text": "time"
         }
        },
        "yaxis": {
         "anchor": "x",
         "domain": [
          0,
          1
         ],
         "title": {
          "text": "y"
         }
        }
       }
      }
     },
     "metadata": {},
     "output_type": "display_data"
    }
   ],
   "source": [
    "import numpy as np\n",
    "import plotly.express as px\n",
    "\n",
    "fig = px.line(merged_wetter, x=\"time\", y=np.absolute(merged_wetter[\"rain\"]-merged_wetter[\"RSK_x\"]),title=\"rain - OpenMeteo minus DWD H\")\n",
    "fig.add_scatter(x=merged_wetter['time'], y=np.absolute(merged_wetter['RSK_y']-merged_wetter[\"RSK_x\"]), name='DWD B minus DWD H')\n",
    "fig.update_layout(yaxis_range=[0,50])\n",
    "fig.show()\n",
    "\n",
    "fig = px.line(merged_wetter, x=\"time\", y=np.absolute(merged_wetter[\"wind\"]-merged_wetter[\"dwd_wind\"]),title=\"wind - OpenMeteo minus DWD H\")\n",
    "fig.add_scatter(x=merged_wetter['time'], y=np.absolute(merged_wetter['dwd_windB']-merged_wetter[\"dwd_wind\"]), name='DWD B minus DWD H')\n",
    "fig.update_layout(yaxis_range=[0,20])\n",
    "fig.show()\n",
    "\n",
    "fig = px.line(merged_wetter, x=\"time\", y=np.absolute(merged_wetter[\"gust\"]-merged_wetter[\"dwd_gust\"]),title=\"gust - OpenMeteo minus DWD H\")\n",
    "fig.add_scatter(x=merged_wetter['time'], y=np.absolute(merged_wetter['dwd_gustB']-merged_wetter[\"dwd_gust\"]), name='DWD B minus DWD H')\n",
    "fig.update_layout(yaxis_range=[0,30])\n",
    "fig.show()\n",
    "\n",
    "\n",
    "fig = px.line(merged_wetter, x=\"time\", y=np.absolute(merged_wetter[\"sun\"]-merged_wetter[\"dwd_sun\"]),title=\"sun - OpenMeteo minus DWD H\")\n",
    "fig.add_scatter(x=merged_wetter['time'], y=np.absolute(merged_wetter['dwd_sunB']-merged_wetter[\"dwd_sun\"]), name='DWD B minus DWD H')\n",
    "#fig.update_layout(yaxis_range=[-30,30])\n",
    "fig.show()"
   ]
  },
  {
   "cell_type": "code",
   "execution_count": 7,
   "metadata": {},
   "outputs": [
    {
     "data": {
      "application/vnd.plotly.v1+json": {
       "config": {
        "plotlyServerURL": "https://plot.ly"
       },
       "data": [
        {
         "hovertemplate": "time=%{x}<br>dwd_wind=%{y}<extra></extra>",
         "legendgroup": "",
         "line": {
          "color": "#636efa",
          "dash": "solid"
         },
         "marker": {
          "symbol": "circle"
         },
         "mode": "lines",
         "name": "",
         "orientation": "v",
         "showlegend": false,
         "type": "scatter",
         "x": [
          "2023-05-14",
          "2023-05-20",
          "2023-05-21",
          "2023-05-27",
          "2023-05-28",
          "2023-06-03",
          "2023-06-04",
          "2023-06-10",
          "2023-06-11",
          "2023-06-17",
          "2023-06-18",
          "2023-06-24",
          "2023-06-25",
          "2023-07-01",
          "2023-07-02",
          "2023-07-08",
          "2023-07-09",
          "2023-07-15",
          "2023-07-16",
          "2023-07-22",
          "2023-07-23",
          "2023-07-29",
          "2023-07-30",
          "2023-08-05",
          "2023-08-06",
          "2023-08-12",
          "2023-08-13",
          "2023-08-19",
          "2023-08-20",
          "2023-08-26",
          "2023-08-27",
          "2023-09-02",
          "2023-09-03",
          "2023-09-09",
          "2023-09-10",
          "2023-09-16",
          "2023-09-17",
          "2023-09-23",
          "2023-09-24",
          "2023-09-30",
          "2023-10-01",
          "2023-10-07",
          "2023-10-08",
          "2023-10-14",
          "2023-10-15",
          "2023-10-21",
          "2023-10-22",
          "2023-10-28",
          "2023-10-29",
          "2023-11-04",
          "2023-11-05",
          "2023-11-11",
          "2023-11-12",
          "2023-11-18",
          "2023-11-19",
          "2023-11-25",
          "2023-11-26",
          "2023-12-09",
          "2023-12-10",
          "2023-12-16",
          "2023-12-17",
          "2023-12-23",
          "2023-12-24",
          "2023-12-30",
          "2023-12-31",
          "2024-01-06",
          "2024-01-07",
          "2024-01-13",
          "2024-01-14",
          "2024-01-20",
          "2024-01-21",
          "2024-01-27",
          "2024-01-28",
          "2024-02-03",
          "2024-02-04",
          "2024-02-10",
          "2024-02-11",
          "2024-02-17",
          "2024-02-18",
          "2024-02-24",
          "2024-02-25",
          "2024-03-02",
          "2024-03-03",
          "2024-03-09",
          "2024-03-10",
          "2024-03-16",
          "2024-03-17",
          "2024-03-23",
          "2024-03-24",
          "2024-03-30",
          "2024-03-31",
          "2024-04-06",
          "2024-04-07",
          "2024-04-13",
          "2024-04-14",
          "2024-04-20",
          "2024-04-21",
          "2024-04-27",
          "2024-04-28",
          "2024-05-04",
          "2024-05-05",
          "2024-05-11",
          "2024-05-12",
          "2024-05-18",
          "2024-05-19",
          "2024-05-25",
          "2024-05-26",
          "2024-06-01",
          "2024-06-02",
          "2024-06-08",
          "2024-06-09",
          "2024-06-15",
          "2024-06-16",
          "2024-06-22",
          "2024-06-23",
          "2024-06-29",
          "2024-06-30",
          "2024-07-06",
          "2024-07-07",
          "2024-07-13",
          "2024-07-14",
          "2024-07-20",
          "2024-07-21",
          "2024-07-27",
          "2024-07-28",
          "2024-08-03",
          "2024-08-04",
          "2024-08-10",
          "2024-08-11",
          "2024-08-17",
          "2024-08-18",
          "2024-08-24",
          "2024-08-25",
          "2024-08-31",
          "2024-09-01",
          "2024-09-07",
          "2024-09-08",
          "2024-09-14",
          "2024-09-15",
          "2024-09-21",
          "2024-09-22",
          "2024-09-28",
          "2024-09-29",
          "2024-10-05",
          "2024-10-06",
          "2024-10-12",
          "2024-10-13",
          "2024-10-19",
          "2024-10-20",
          "2024-10-26",
          "2024-10-27",
          "2024-11-02",
          "2024-11-03",
          "2024-11-09",
          "2024-11-10"
         ],
         "xaxis": "x",
         "y": [
          9.72,
          18,
          14.76,
          7.2,
          8.28,
          11.879999999999999,
          8.28,
          12.6,
          13.68,
          8.28,
          7.2,
          6.48,
          7.2,
          16.2,
          18.720000000000002,
          10.08,
          12.24,
          17.28,
          16.56,
          11.520000000000001,
          17.28,
          13.68,
          15.120000000000001,
          7.920000000000001,
          9,
          9.72,
          7.920000000000001,
          11.520000000000001,
          6.48,
          12.6,
          9.360000000000001,
          5.760000000000001,
          6.48,
          5.760000000000001,
          6.12,
          8.28,
          8.28,
          15.48,
          9,
          10.44,
          9.360000000000001,
          23.759999999999998,
          7.920000000000001,
          22.32,
          19.08,
          12.96,
          14.04,
          9.72,
          24.48,
          23.040000000000003,
          19.44,
          12.24,
          9,
          13.68,
          19.08,
          16.2,
          7.5600000000000005,
          18.36,
          21.96,
          17.64,
          19.08,
          19.08,
          28.8,
          18.720000000000002,
          21.240000000000002,
          16.56,
          15.48,
          19.8,
          23.040000000000003,
          17.64,
          22.32,
          12.96,
          12.96,
          23.040000000000003,
          26.64,
          11.879999999999999,
          11.16,
          15.48,
          14.04,
          16.56,
          15.840000000000002,
          14.4,
          13.32,
          17.64,
          19.44,
          18.720000000000002,
          8.64,
          14.76,
          24.12,
          9.360000000000001,
          8.28,
          13.68,
          14.04,
          14.76,
          19.8,
          15.48,
          14.76,
          14.4,
          15.120000000000001,
          7.920000000000001,
          14.76,
          8.28,
          15.48,
          8.28,
          6.48,
          7.920000000000001,
          9,
          14.4,
          20.16,
          13.68,
          15.840000000000002,
          18.36,
          16.2,
          17.64,
          11.520000000000001,
          9.72,
          13.68,
          21.96,
          14.04,
          15.840000000000002,
          10.08,
          10.8,
          7.5600000000000005,
          8.28,
          11.16,
          7.2,
          15.48,
          10.8,
          7.920000000000001,
          7.2,
          6.48,
          18,
          15.840000000000002,
          14.04,
          16.2,
          6.48,
          8.64,
          14.76,
          10.8,
          10.44,
          6.12,
          18,
          9,
          5.04,
          11.879999999999999,
          13.32,
          22.68,
          10.08,
          14.76,
          7.5600000000000005,
          10.08,
          8.64,
          4.680000000000001,
          11.16,
          5.4
         ],
         "yaxis": "y"
        },
        {
         "name": "OpenMeteo",
         "type": "scatter",
         "x": [
          "2023-05-14",
          "2023-05-20",
          "2023-05-21",
          "2023-05-27",
          "2023-05-28",
          "2023-06-03",
          "2023-06-04",
          "2023-06-10",
          "2023-06-11",
          "2023-06-17",
          "2023-06-18",
          "2023-06-24",
          "2023-06-25",
          "2023-07-01",
          "2023-07-02",
          "2023-07-08",
          "2023-07-09",
          "2023-07-15",
          "2023-07-16",
          "2023-07-22",
          "2023-07-23",
          "2023-07-29",
          "2023-07-30",
          "2023-08-05",
          "2023-08-06",
          "2023-08-12",
          "2023-08-13",
          "2023-08-19",
          "2023-08-20",
          "2023-08-26",
          "2023-08-27",
          "2023-09-02",
          "2023-09-03",
          "2023-09-09",
          "2023-09-10",
          "2023-09-16",
          "2023-09-17",
          "2023-09-23",
          "2023-09-24",
          "2023-09-30",
          "2023-10-01",
          "2023-10-07",
          "2023-10-08",
          "2023-10-14",
          "2023-10-15",
          "2023-10-21",
          "2023-10-22",
          "2023-10-28",
          "2023-10-29",
          "2023-11-04",
          "2023-11-05",
          "2023-11-11",
          "2023-11-12",
          "2023-11-18",
          "2023-11-19",
          "2023-11-25",
          "2023-11-26",
          "2023-12-02",
          "2023-12-03",
          "2023-12-09",
          "2023-12-10",
          "2023-12-16",
          "2023-12-17",
          "2023-12-23",
          "2023-12-24",
          "2023-12-30",
          "2023-12-31",
          "2024-01-06",
          "2024-01-07",
          "2024-01-13",
          "2024-01-14",
          "2024-01-20",
          "2024-01-21",
          "2024-01-27",
          "2024-01-28",
          "2024-02-03",
          "2024-02-04",
          "2024-02-10",
          "2024-02-11",
          "2024-02-17",
          "2024-02-18",
          "2024-02-24",
          "2024-02-25",
          "2024-03-02",
          "2024-03-03",
          "2024-03-09",
          "2024-03-10",
          "2024-03-16",
          "2024-03-17",
          "2024-03-23",
          "2024-03-24",
          "2024-03-30",
          "2024-03-31",
          "2024-04-06",
          "2024-04-07",
          "2024-04-13",
          "2024-04-14",
          "2024-04-20",
          "2024-04-21",
          "2024-04-27",
          "2024-04-28",
          "2024-05-04",
          "2024-05-05",
          "2024-05-11",
          "2024-05-12",
          "2024-05-18",
          "2024-05-19",
          "2024-05-25",
          "2024-05-26",
          "2024-06-01",
          "2024-06-02",
          "2024-06-08",
          "2024-06-09",
          "2024-06-15",
          "2024-06-16",
          "2024-06-22",
          "2024-06-23",
          "2024-06-29",
          "2024-06-30",
          "2024-07-06",
          "2024-07-07",
          "2024-07-13",
          "2024-07-14",
          "2024-07-20",
          "2024-07-21",
          "2024-07-27",
          "2024-07-28",
          "2024-08-03",
          "2024-08-04",
          "2024-08-10",
          "2024-08-11",
          "2024-08-17",
          "2024-08-18",
          "2024-08-24",
          "2024-08-25",
          "2024-08-31",
          "2024-09-01",
          "2024-09-07",
          "2024-09-08",
          "2024-09-14",
          "2024-09-15",
          "2024-09-21",
          "2024-09-22",
          "2024-09-28",
          "2024-09-29",
          "2024-10-05",
          "2024-10-06",
          "2024-10-12",
          "2024-10-13",
          "2024-10-19",
          "2024-10-20",
          "2024-10-26",
          "2024-10-27",
          "2024-11-02",
          "2024-11-03",
          "2024-11-09",
          "2024-11-10"
         ],
         "y": [
          11.4,
          21.3,
          17.7,
          10.1,
          17.4,
          13.8,
          14.1,
          15.8,
          14.3,
          10.2,
          14.8,
          9.4,
          10,
          22.7,
          31.1,
          13.4,
          12.9,
          24.2,
          27.2,
          17.8,
          27.6,
          23.1,
          26.4,
          9.2,
          15.5,
          21.8,
          14.4,
          27.6,
          12,
          21.2,
          14.2,
          8.1,
          9.7,
          8.2,
          8.3,
          10.9,
          14.1,
          21.4,
          12.7,
          17.7,
          15.8,
          29.7,
          12.4,
          29.5,
          24.2,
          16.5,
          22.5,
          15.6,
          27.8,
          25.9,
          32.8,
          22.8,
          15.8,
          21.7,
          29.3,
          21.5,
          12.3,
          13,
          14,
          24.4,
          32.7,
          21.5,
          22.1,
          30.5,
          34,
          25.1,
          24.4,
          15,
          17.7,
          27.7,
          27.2,
          25.4,
          25.4,
          19.8,
          19.8,
          27.7,
          33.4,
          15.8,
          15.9,
          18.5,
          21.9,
          20.3,
          20.1,
          14.7,
          15.7,
          21.1,
          24.1,
          24.8,
          15.1,
          25.2,
          30.5,
          15,
          14.2,
          17.7,
          21.1,
          25.3,
          23.4,
          20.1,
          19.5,
          15.5,
          19.8,
          12.7,
          27.5,
          14.4,
          16.6,
          11.6,
          15.6,
          11,
          12.1,
          17.4,
          20.4,
          23.3,
          21.3,
          29.2,
          19.5,
          22.8,
          15.1,
          10.8,
          19.2,
          27.6,
          19.6,
          24.3,
          17.7,
          16.7,
          13,
          10.3,
          19.8,
          12,
          23,
          19.8,
          10.7,
          13.5,
          10.9,
          25.7,
          25.1,
          15.6,
          16.9,
          10.9,
          13.1,
          24,
          15.3,
          15.1,
          10,
          24,
          15.6,
          9.8,
          16.6,
          18.8,
          36.3,
          16.6,
          18.1,
          12.8,
          20.3,
          14.7,
          8,
          13.3,
          8.7
         ]
        },
        {
         "name": "DWD Bremen",
         "type": "scatter",
         "x": [
          "2023-05-14",
          "2023-05-20",
          "2023-05-21",
          "2023-05-27",
          "2023-05-28",
          "2023-06-03",
          "2023-06-04",
          "2023-06-10",
          "2023-06-11",
          "2023-06-17",
          "2023-06-18",
          "2023-06-24",
          "2023-06-25",
          "2023-07-01",
          "2023-07-02",
          "2023-07-08",
          "2023-07-09",
          "2023-07-15",
          "2023-07-16",
          "2023-07-22",
          "2023-07-23",
          "2023-07-29",
          "2023-07-30",
          "2023-08-05",
          "2023-08-06",
          "2023-08-12",
          "2023-08-13",
          "2023-08-19",
          "2023-08-20",
          "2023-08-26",
          "2023-08-27",
          "2023-09-02",
          "2023-09-03",
          "2023-09-09",
          "2023-09-10",
          "2023-09-23",
          "2023-09-24",
          "2023-09-30",
          "2023-10-01",
          "2023-10-07",
          "2023-10-08",
          "2023-10-14",
          "2023-10-15",
          "2023-10-21",
          "2023-10-22",
          "2023-10-28",
          "2023-10-29",
          "2023-11-04",
          "2023-11-05",
          "2023-11-11",
          "2023-11-12",
          "2023-11-18",
          "2023-11-19",
          "2023-11-25",
          "2023-11-26",
          "2023-12-02",
          "2023-12-03",
          "2023-12-09",
          "2023-12-10",
          "2023-12-16",
          "2023-12-17",
          "2023-12-23",
          "2023-12-24",
          "2023-12-30",
          "2023-12-31",
          "2024-01-06",
          "2024-01-07",
          "2024-01-13",
          "2024-01-14",
          "2024-01-20",
          "2024-01-21",
          "2024-01-27",
          "2024-01-28",
          "2024-02-03",
          "2024-02-04",
          "2024-02-10",
          "2024-02-11",
          "2024-02-17",
          "2024-02-18",
          "2024-02-24",
          "2024-02-25",
          "2024-03-02",
          "2024-03-03",
          "2024-03-09",
          "2024-03-10",
          "2024-03-16",
          "2024-03-17",
          "2024-03-23",
          "2024-03-24",
          "2024-03-30",
          "2024-03-31",
          "2024-04-06",
          "2024-04-07",
          "2024-04-13",
          "2024-04-14",
          "2024-04-20",
          "2024-04-21",
          "2024-04-27",
          "2024-04-28",
          "2024-05-04",
          "2024-05-05",
          "2024-05-11",
          "2024-05-12",
          "2024-05-18",
          "2024-05-19",
          "2024-05-25",
          "2024-05-26",
          "2024-06-01",
          "2024-06-02",
          "2024-06-08",
          "2024-06-09",
          "2024-06-15",
          "2024-06-16",
          "2024-06-22",
          "2024-06-23",
          "2024-06-29",
          "2024-06-30",
          "2024-07-06",
          "2024-07-07",
          "2024-07-13",
          "2024-07-14",
          "2024-07-20",
          "2024-07-21",
          "2024-07-27",
          "2024-07-28",
          "2024-08-03",
          "2024-08-04",
          "2024-08-10",
          "2024-08-11",
          "2024-08-17",
          "2024-08-18",
          "2024-08-24",
          "2024-08-25",
          "2024-08-31",
          "2024-09-01",
          "2024-09-07",
          "2024-09-08",
          "2024-09-14",
          "2024-09-15",
          "2024-09-21",
          "2024-09-22",
          "2024-09-28",
          "2024-09-29",
          "2024-10-05",
          "2024-10-06",
          "2024-10-12",
          "2024-10-13",
          "2024-10-19",
          "2024-10-20",
          "2024-10-26",
          "2024-10-27",
          "2024-11-02",
          "2024-11-03",
          "2024-11-09",
          "2024-11-10"
         ],
         "y": [
          8.64,
          19.8,
          13.32,
          7.2,
          13.68,
          12.6,
          12.24,
          12.96,
          15.48,
          10.08,
          6.48,
          7.920000000000001,
          7.920000000000001,
          18,
          26.28,
          11.520000000000001,
          11.16,
          19.8,
          20.16,
          11.879999999999999,
          17.64,
          12.24,
          15.48,
          9.360000000000001,
          11.16,
          10.08,
          11.520000000000001,
          11.16,
          7.920000000000001,
          13.32,
          10.44,
          6.48,
          6.48,
          5.760000000000001,
          6.12,
          14.76,
          10.44,
          10.08,
          10.08,
          24.840000000000003,
          6.48,
          25.56,
          20.16,
          13.32,
          14.4,
          10.08,
          20.52,
          21.240000000000002,
          18,
          12.24,
          11.879999999999999,
          13.32,
          20.52,
          16.2,
          5.760000000000001,
          8.64,
          7.2,
          17.64,
          22.68,
          20.88,
          24.48,
          20.16,
          33.84,
          21.6,
          19.44,
          20.16,
          19.8,
          25.2,
          25.2,
          21.6,
          22.32,
          14.4,
          10.44,
          28.44,
          28.08,
          10.8,
          11.879999999999999,
          16.2,
          15.120000000000001,
          14.04,
          12.6,
          14.4,
          13.68,
          19.08,
          20.88,
          21.240000000000002,
          10.08,
          17.64,
          24.48,
          11.879999999999999,
          9.360000000000001,
          14.04,
          16.92,
          18,
          21.6,
          14.76,
          15.48,
          11.520000000000001,
          18.36,
          8.28,
          18.36,
          11.879999999999999,
          16.2,
          11.879999999999999,
          7.2,
          9.360000000000001,
          7.920000000000001,
          15.840000000000002,
          22.32,
          13.68,
          19.44,
          19.8,
          12.96,
          16.92,
          10.44,
          8.64,
          14.76,
          25.2,
          17.28,
          22.32,
          16.2,
          12.6,
          10.08,
          6.12,
          15.120000000000001,
          8.28,
          15.840000000000002,
          14.76,
          9.360000000000001,
          6.84,
          7.2,
          17.28,
          19.44,
          15.48,
          16.56,
          7.5600000000000005,
          8.64,
          12.96,
          7.2,
          10.44,
          6.12,
          19.08,
          9,
          5.760000000000001,
          12.6,
          12.6,
          26.64,
          9,
          14.4,
          7.2,
          10.08,
          8.28,
          3.6,
          9.72,
          7.5600000000000005
         ]
        }
       ],
       "layout": {
        "legend": {
         "tracegroupgap": 0
        },
        "template": {
         "data": {
          "bar": [
           {
            "error_x": {
             "color": "#2a3f5f"
            },
            "error_y": {
             "color": "#2a3f5f"
            },
            "marker": {
             "line": {
              "color": "#E5ECF6",
              "width": 0.5
             },
             "pattern": {
              "fillmode": "overlay",
              "size": 10,
              "solidity": 0.2
             }
            },
            "type": "bar"
           }
          ],
          "barpolar": [
           {
            "marker": {
             "line": {
              "color": "#E5ECF6",
              "width": 0.5
             },
             "pattern": {
              "fillmode": "overlay",
              "size": 10,
              "solidity": 0.2
             }
            },
            "type": "barpolar"
           }
          ],
          "carpet": [
           {
            "aaxis": {
             "endlinecolor": "#2a3f5f",
             "gridcolor": "white",
             "linecolor": "white",
             "minorgridcolor": "white",
             "startlinecolor": "#2a3f5f"
            },
            "baxis": {
             "endlinecolor": "#2a3f5f",
             "gridcolor": "white",
             "linecolor": "white",
             "minorgridcolor": "white",
             "startlinecolor": "#2a3f5f"
            },
            "type": "carpet"
           }
          ],
          "choropleth": [
           {
            "colorbar": {
             "outlinewidth": 0,
             "ticks": ""
            },
            "type": "choropleth"
           }
          ],
          "contour": [
           {
            "colorbar": {
             "outlinewidth": 0,
             "ticks": ""
            },
            "colorscale": [
             [
              0,
              "#0d0887"
             ],
             [
              0.1111111111111111,
              "#46039f"
             ],
             [
              0.2222222222222222,
              "#7201a8"
             ],
             [
              0.3333333333333333,
              "#9c179e"
             ],
             [
              0.4444444444444444,
              "#bd3786"
             ],
             [
              0.5555555555555556,
              "#d8576b"
             ],
             [
              0.6666666666666666,
              "#ed7953"
             ],
             [
              0.7777777777777778,
              "#fb9f3a"
             ],
             [
              0.8888888888888888,
              "#fdca26"
             ],
             [
              1,
              "#f0f921"
             ]
            ],
            "type": "contour"
           }
          ],
          "contourcarpet": [
           {
            "colorbar": {
             "outlinewidth": 0,
             "ticks": ""
            },
            "type": "contourcarpet"
           }
          ],
          "heatmap": [
           {
            "colorbar": {
             "outlinewidth": 0,
             "ticks": ""
            },
            "colorscale": [
             [
              0,
              "#0d0887"
             ],
             [
              0.1111111111111111,
              "#46039f"
             ],
             [
              0.2222222222222222,
              "#7201a8"
             ],
             [
              0.3333333333333333,
              "#9c179e"
             ],
             [
              0.4444444444444444,
              "#bd3786"
             ],
             [
              0.5555555555555556,
              "#d8576b"
             ],
             [
              0.6666666666666666,
              "#ed7953"
             ],
             [
              0.7777777777777778,
              "#fb9f3a"
             ],
             [
              0.8888888888888888,
              "#fdca26"
             ],
             [
              1,
              "#f0f921"
             ]
            ],
            "type": "heatmap"
           }
          ],
          "heatmapgl": [
           {
            "colorbar": {
             "outlinewidth": 0,
             "ticks": ""
            },
            "colorscale": [
             [
              0,
              "#0d0887"
             ],
             [
              0.1111111111111111,
              "#46039f"
             ],
             [
              0.2222222222222222,
              "#7201a8"
             ],
             [
              0.3333333333333333,
              "#9c179e"
             ],
             [
              0.4444444444444444,
              "#bd3786"
             ],
             [
              0.5555555555555556,
              "#d8576b"
             ],
             [
              0.6666666666666666,
              "#ed7953"
             ],
             [
              0.7777777777777778,
              "#fb9f3a"
             ],
             [
              0.8888888888888888,
              "#fdca26"
             ],
             [
              1,
              "#f0f921"
             ]
            ],
            "type": "heatmapgl"
           }
          ],
          "histogram": [
           {
            "marker": {
             "pattern": {
              "fillmode": "overlay",
              "size": 10,
              "solidity": 0.2
             }
            },
            "type": "histogram"
           }
          ],
          "histogram2d": [
           {
            "colorbar": {
             "outlinewidth": 0,
             "ticks": ""
            },
            "colorscale": [
             [
              0,
              "#0d0887"
             ],
             [
              0.1111111111111111,
              "#46039f"
             ],
             [
              0.2222222222222222,
              "#7201a8"
             ],
             [
              0.3333333333333333,
              "#9c179e"
             ],
             [
              0.4444444444444444,
              "#bd3786"
             ],
             [
              0.5555555555555556,
              "#d8576b"
             ],
             [
              0.6666666666666666,
              "#ed7953"
             ],
             [
              0.7777777777777778,
              "#fb9f3a"
             ],
             [
              0.8888888888888888,
              "#fdca26"
             ],
             [
              1,
              "#f0f921"
             ]
            ],
            "type": "histogram2d"
           }
          ],
          "histogram2dcontour": [
           {
            "colorbar": {
             "outlinewidth": 0,
             "ticks": ""
            },
            "colorscale": [
             [
              0,
              "#0d0887"
             ],
             [
              0.1111111111111111,
              "#46039f"
             ],
             [
              0.2222222222222222,
              "#7201a8"
             ],
             [
              0.3333333333333333,
              "#9c179e"
             ],
             [
              0.4444444444444444,
              "#bd3786"
             ],
             [
              0.5555555555555556,
              "#d8576b"
             ],
             [
              0.6666666666666666,
              "#ed7953"
             ],
             [
              0.7777777777777778,
              "#fb9f3a"
             ],
             [
              0.8888888888888888,
              "#fdca26"
             ],
             [
              1,
              "#f0f921"
             ]
            ],
            "type": "histogram2dcontour"
           }
          ],
          "mesh3d": [
           {
            "colorbar": {
             "outlinewidth": 0,
             "ticks": ""
            },
            "type": "mesh3d"
           }
          ],
          "parcoords": [
           {
            "line": {
             "colorbar": {
              "outlinewidth": 0,
              "ticks": ""
             }
            },
            "type": "parcoords"
           }
          ],
          "pie": [
           {
            "automargin": true,
            "type": "pie"
           }
          ],
          "scatter": [
           {
            "fillpattern": {
             "fillmode": "overlay",
             "size": 10,
             "solidity": 0.2
            },
            "type": "scatter"
           }
          ],
          "scatter3d": [
           {
            "line": {
             "colorbar": {
              "outlinewidth": 0,
              "ticks": ""
             }
            },
            "marker": {
             "colorbar": {
              "outlinewidth": 0,
              "ticks": ""
             }
            },
            "type": "scatter3d"
           }
          ],
          "scattercarpet": [
           {
            "marker": {
             "colorbar": {
              "outlinewidth": 0,
              "ticks": ""
             }
            },
            "type": "scattercarpet"
           }
          ],
          "scattergeo": [
           {
            "marker": {
             "colorbar": {
              "outlinewidth": 0,
              "ticks": ""
             }
            },
            "type": "scattergeo"
           }
          ],
          "scattergl": [
           {
            "marker": {
             "colorbar": {
              "outlinewidth": 0,
              "ticks": ""
             }
            },
            "type": "scattergl"
           }
          ],
          "scattermapbox": [
           {
            "marker": {
             "colorbar": {
              "outlinewidth": 0,
              "ticks": ""
             }
            },
            "type": "scattermapbox"
           }
          ],
          "scatterpolar": [
           {
            "marker": {
             "colorbar": {
              "outlinewidth": 0,
              "ticks": ""
             }
            },
            "type": "scatterpolar"
           }
          ],
          "scatterpolargl": [
           {
            "marker": {
             "colorbar": {
              "outlinewidth": 0,
              "ticks": ""
             }
            },
            "type": "scatterpolargl"
           }
          ],
          "scatterternary": [
           {
            "marker": {
             "colorbar": {
              "outlinewidth": 0,
              "ticks": ""
             }
            },
            "type": "scatterternary"
           }
          ],
          "surface": [
           {
            "colorbar": {
             "outlinewidth": 0,
             "ticks": ""
            },
            "colorscale": [
             [
              0,
              "#0d0887"
             ],
             [
              0.1111111111111111,
              "#46039f"
             ],
             [
              0.2222222222222222,
              "#7201a8"
             ],
             [
              0.3333333333333333,
              "#9c179e"
             ],
             [
              0.4444444444444444,
              "#bd3786"
             ],
             [
              0.5555555555555556,
              "#d8576b"
             ],
             [
              0.6666666666666666,
              "#ed7953"
             ],
             [
              0.7777777777777778,
              "#fb9f3a"
             ],
             [
              0.8888888888888888,
              "#fdca26"
             ],
             [
              1,
              "#f0f921"
             ]
            ],
            "type": "surface"
           }
          ],
          "table": [
           {
            "cells": {
             "fill": {
              "color": "#EBF0F8"
             },
             "line": {
              "color": "white"
             }
            },
            "header": {
             "fill": {
              "color": "#C8D4E3"
             },
             "line": {
              "color": "white"
             }
            },
            "type": "table"
           }
          ]
         },
         "layout": {
          "annotationdefaults": {
           "arrowcolor": "#2a3f5f",
           "arrowhead": 0,
           "arrowwidth": 1
          },
          "autotypenumbers": "strict",
          "coloraxis": {
           "colorbar": {
            "outlinewidth": 0,
            "ticks": ""
           }
          },
          "colorscale": {
           "diverging": [
            [
             0,
             "#8e0152"
            ],
            [
             0.1,
             "#c51b7d"
            ],
            [
             0.2,
             "#de77ae"
            ],
            [
             0.3,
             "#f1b6da"
            ],
            [
             0.4,
             "#fde0ef"
            ],
            [
             0.5,
             "#f7f7f7"
            ],
            [
             0.6,
             "#e6f5d0"
            ],
            [
             0.7,
             "#b8e186"
            ],
            [
             0.8,
             "#7fbc41"
            ],
            [
             0.9,
             "#4d9221"
            ],
            [
             1,
             "#276419"
            ]
           ],
           "sequential": [
            [
             0,
             "#0d0887"
            ],
            [
             0.1111111111111111,
             "#46039f"
            ],
            [
             0.2222222222222222,
             "#7201a8"
            ],
            [
             0.3333333333333333,
             "#9c179e"
            ],
            [
             0.4444444444444444,
             "#bd3786"
            ],
            [
             0.5555555555555556,
             "#d8576b"
            ],
            [
             0.6666666666666666,
             "#ed7953"
            ],
            [
             0.7777777777777778,
             "#fb9f3a"
            ],
            [
             0.8888888888888888,
             "#fdca26"
            ],
            [
             1,
             "#f0f921"
            ]
           ],
           "sequentialminus": [
            [
             0,
             "#0d0887"
            ],
            [
             0.1111111111111111,
             "#46039f"
            ],
            [
             0.2222222222222222,
             "#7201a8"
            ],
            [
             0.3333333333333333,
             "#9c179e"
            ],
            [
             0.4444444444444444,
             "#bd3786"
            ],
            [
             0.5555555555555556,
             "#d8576b"
            ],
            [
             0.6666666666666666,
             "#ed7953"
            ],
            [
             0.7777777777777778,
             "#fb9f3a"
            ],
            [
             0.8888888888888888,
             "#fdca26"
            ],
            [
             1,
             "#f0f921"
            ]
           ]
          },
          "colorway": [
           "#636efa",
           "#EF553B",
           "#00cc96",
           "#ab63fa",
           "#FFA15A",
           "#19d3f3",
           "#FF6692",
           "#B6E880",
           "#FF97FF",
           "#FECB52"
          ],
          "font": {
           "color": "#2a3f5f"
          },
          "geo": {
           "bgcolor": "white",
           "lakecolor": "white",
           "landcolor": "#E5ECF6",
           "showlakes": true,
           "showland": true,
           "subunitcolor": "white"
          },
          "hoverlabel": {
           "align": "left"
          },
          "hovermode": "closest",
          "mapbox": {
           "style": "light"
          },
          "paper_bgcolor": "white",
          "plot_bgcolor": "#E5ECF6",
          "polar": {
           "angularaxis": {
            "gridcolor": "white",
            "linecolor": "white",
            "ticks": ""
           },
           "bgcolor": "#E5ECF6",
           "radialaxis": {
            "gridcolor": "white",
            "linecolor": "white",
            "ticks": ""
           }
          },
          "scene": {
           "xaxis": {
            "backgroundcolor": "#E5ECF6",
            "gridcolor": "white",
            "gridwidth": 2,
            "linecolor": "white",
            "showbackground": true,
            "ticks": "",
            "zerolinecolor": "white"
           },
           "yaxis": {
            "backgroundcolor": "#E5ECF6",
            "gridcolor": "white",
            "gridwidth": 2,
            "linecolor": "white",
            "showbackground": true,
            "ticks": "",
            "zerolinecolor": "white"
           },
           "zaxis": {
            "backgroundcolor": "#E5ECF6",
            "gridcolor": "white",
            "gridwidth": 2,
            "linecolor": "white",
            "showbackground": true,
            "ticks": "",
            "zerolinecolor": "white"
           }
          },
          "shapedefaults": {
           "line": {
            "color": "#2a3f5f"
           }
          },
          "ternary": {
           "aaxis": {
            "gridcolor": "white",
            "linecolor": "white",
            "ticks": ""
           },
           "baxis": {
            "gridcolor": "white",
            "linecolor": "white",
            "ticks": ""
           },
           "bgcolor": "#E5ECF6",
           "caxis": {
            "gridcolor": "white",
            "linecolor": "white",
            "ticks": ""
           }
          },
          "title": {
           "x": 0.05
          },
          "xaxis": {
           "automargin": true,
           "gridcolor": "white",
           "linecolor": "white",
           "ticks": "",
           "title": {
            "standoff": 15
           },
           "zerolinecolor": "white",
           "zerolinewidth": 2
          },
          "yaxis": {
           "automargin": true,
           "gridcolor": "white",
           "linecolor": "white",
           "ticks": "",
           "title": {
            "standoff": 15
           },
           "zerolinecolor": "white",
           "zerolinewidth": 2
          }
         }
        },
        "title": {
         "text": "wind - blue: DWD Hannover"
        },
        "xaxis": {
         "anchor": "y",
         "domain": [
          0,
          1
         ],
         "title": {
          "text": "time"
         }
        },
        "yaxis": {
         "anchor": "x",
         "domain": [
          0,
          1
         ],
         "title": {
          "text": "dwd_wind"
         }
        }
       }
      }
     },
     "metadata": {},
     "output_type": "display_data"
    },
    {
     "data": {
      "application/vnd.plotly.v1+json": {
       "config": {
        "plotlyServerURL": "https://plot.ly"
       },
       "data": [
        {
         "hovertemplate": "time=%{x}<br>dwd_sun=%{y}<extra></extra>",
         "legendgroup": "",
         "line": {
          "color": "#636efa",
          "dash": "solid"
         },
         "marker": {
          "symbol": "circle"
         },
         "mode": "lines",
         "name": "",
         "orientation": "v",
         "showlegend": false,
         "type": "scatter",
         "x": [
          "2023-05-14",
          "2023-05-20",
          "2023-05-21",
          "2023-05-27",
          "2023-05-28",
          "2023-06-03",
          "2023-06-04",
          "2023-06-10",
          "2023-06-11",
          "2023-06-17",
          "2023-06-18",
          "2023-06-24",
          "2023-06-25",
          "2023-07-01",
          "2023-07-02",
          "2023-07-08",
          "2023-07-09",
          "2023-07-15",
          "2023-07-16",
          "2023-07-22",
          "2023-07-23",
          "2023-07-29",
          "2023-07-30",
          "2023-08-05",
          "2023-08-06",
          "2023-08-12",
          "2023-08-13",
          "2023-08-19",
          "2023-08-20",
          "2023-08-26",
          "2023-08-27",
          "2023-09-02",
          "2023-09-03",
          "2023-09-09",
          "2023-09-10",
          "2023-09-16",
          "2023-09-17",
          "2023-09-23",
          "2023-09-24",
          "2023-09-30",
          "2023-10-01",
          "2023-10-07",
          "2023-10-08",
          "2023-10-14",
          "2023-10-15",
          "2023-10-21",
          "2023-10-22",
          "2023-10-28",
          "2023-10-29",
          "2023-11-04",
          "2023-11-05",
          "2023-11-11",
          "2023-11-12",
          "2023-11-18",
          "2023-11-19",
          "2023-11-25",
          "2023-11-26",
          "2023-12-02",
          "2023-12-03",
          "2023-12-09",
          "2023-12-10",
          "2023-12-16",
          "2023-12-17",
          "2023-12-23",
          "2023-12-24",
          "2023-12-30",
          "2023-12-31",
          "2024-01-06",
          "2024-01-07",
          "2024-01-13",
          "2024-01-14",
          "2024-01-20",
          "2024-01-21",
          "2024-01-27",
          "2024-01-28",
          "2024-02-03",
          "2024-02-04",
          "2024-02-10",
          "2024-02-11",
          "2024-02-17",
          "2024-02-18",
          "2024-02-24",
          "2024-02-25",
          "2024-03-02",
          "2024-03-03",
          "2024-03-09",
          "2024-03-10",
          "2024-03-16",
          "2024-03-17",
          "2024-03-23",
          "2024-03-24",
          "2024-03-30",
          "2024-03-31",
          "2024-04-06",
          "2024-04-07",
          "2024-04-13",
          "2024-04-14",
          "2024-04-20",
          "2024-04-21",
          "2024-04-27",
          "2024-04-28",
          "2024-05-04",
          "2024-05-05",
          "2024-05-11",
          "2024-05-12",
          "2024-05-18",
          "2024-05-19",
          "2024-05-25",
          "2024-05-26",
          "2024-06-01",
          "2024-06-02",
          "2024-06-08",
          "2024-06-09",
          "2024-06-15",
          "2024-06-16",
          "2024-06-22",
          "2024-06-23",
          "2024-06-29",
          "2024-06-30",
          "2024-07-06",
          "2024-07-07",
          "2024-07-13",
          "2024-07-14",
          "2024-07-20",
          "2024-07-21",
          "2024-07-27",
          "2024-07-28",
          "2024-08-03",
          "2024-08-04",
          "2024-08-10",
          "2024-08-11",
          "2024-08-17",
          "2024-08-18",
          "2024-08-24",
          "2024-08-25",
          "2024-08-31",
          "2024-09-01",
          "2024-09-07",
          "2024-09-08",
          "2024-09-14",
          "2024-09-15",
          "2024-09-21",
          "2024-09-22",
          "2024-09-28",
          "2024-09-29",
          "2024-10-05",
          "2024-10-06",
          "2024-10-12",
          "2024-10-13",
          "2024-10-19",
          "2024-10-20",
          "2024-10-26",
          "2024-10-27",
          "2024-11-02",
          "2024-11-03",
          "2024-11-09",
          "2024-11-10"
         ],
         "xaxis": "x",
         "y": [
          41400,
          10800,
          17640,
          51480,
          51120,
          54720,
          54000,
          45720,
          54720,
          28800,
          46440,
          51120,
          51840,
          0,
          20520,
          53640,
          43560,
          23760,
          40320,
          13680,
          360,
          20160,
          25560,
          14759.999999999998,
          25920,
          3960.0000000000005,
          31319.999999999996,
          22320,
          40680,
          33840,
          8640,
          15480,
          35640,
          43200,
          41040,
          32400,
          19440,
          15840.000000000002,
          25560,
          28080,
          3600,
          360,
          19800,
          23400,
          17280,
          9720,
          4680,
          2880,
          6480,
          9720,
          1440,
          0,
          1440,
          2880,
          6120,
          3960.0000000000005,
          0,
          0,
          0,
          12600,
          0,
          0,
          8640,
          0,
          0,
          5760,
          1080,
          0,
          360,
          0,
          0,
          21240,
          720,
          25920,
          26640,
          0,
          0,
          11160,
          0,
          13680,
          0,
          12600,
          3600,
          25200,
          26280,
          34920,
          3960.0000000000005,
          7200,
          26640,
          16560,
          2160,
          2880,
          13320,
          26640,
          17640,
          35280,
          31680.000000000004,
          18000,
          30960,
          31680.000000000004,
          7920.000000000001,
          10440,
          3960.0000000000005,
          34920,
          49320,
          10080,
          21960,
          23760,
          38160,
          28800,
          0,
          37440,
          38880,
          22320,
          16200,
          34200,
          38520,
          45000,
          1080,
          27720,
          33120,
          8280,
          38880,
          50400,
          19440,
          5040,
          25200,
          35161.2,
          21661.2,
          27658.8,
          46440,
          0,
          118.80000000000001,
          37440,
          31438.800000000003,
          25498.8,
          44161.2,
          40320,
          19440,
          34740,
          29581.2,
          39841.2,
          39718.799999999996,
          21538.8,
          25138.8,
          12600,
          18180,
          12538.800000000001,
          6778.8,
          0,
          20221.2,
          30600,
          5338.8,
          21661.2,
          28800,
          0,
          0
         ],
         "yaxis": "y"
        },
        {
         "name": "OpenMeteo",
         "type": "scatter",
         "x": [
          "2023-05-14",
          "2023-05-20",
          "2023-05-21",
          "2023-05-27",
          "2023-05-28",
          "2023-06-03",
          "2023-06-04",
          "2023-06-10",
          "2023-06-11",
          "2023-06-17",
          "2023-06-18",
          "2023-06-24",
          "2023-06-25",
          "2023-07-01",
          "2023-07-02",
          "2023-07-08",
          "2023-07-09",
          "2023-07-15",
          "2023-07-16",
          "2023-07-22",
          "2023-07-23",
          "2023-07-29",
          "2023-07-30",
          "2023-08-05",
          "2023-08-06",
          "2023-08-12",
          "2023-08-13",
          "2023-08-19",
          "2023-08-20",
          "2023-08-26",
          "2023-08-27",
          "2023-09-02",
          "2023-09-03",
          "2023-09-09",
          "2023-09-10",
          "2023-09-16",
          "2023-09-17",
          "2023-09-23",
          "2023-09-24",
          "2023-09-30",
          "2023-10-01",
          "2023-10-07",
          "2023-10-08",
          "2023-10-14",
          "2023-10-15",
          "2023-10-21",
          "2023-10-22",
          "2023-10-28",
          "2023-10-29",
          "2023-11-04",
          "2023-11-05",
          "2023-11-11",
          "2023-11-12",
          "2023-11-18",
          "2023-11-19",
          "2023-11-25",
          "2023-11-26",
          "2023-12-02",
          "2023-12-03",
          "2023-12-09",
          "2023-12-10",
          "2023-12-16",
          "2023-12-17",
          "2023-12-23",
          "2023-12-24",
          "2023-12-30",
          "2023-12-31",
          "2024-01-06",
          "2024-01-07",
          "2024-01-13",
          "2024-01-14",
          "2024-01-20",
          "2024-01-21",
          "2024-01-27",
          "2024-01-28",
          "2024-02-03",
          "2024-02-04",
          "2024-02-10",
          "2024-02-11",
          "2024-02-17",
          "2024-02-18",
          "2024-02-24",
          "2024-02-25",
          "2024-03-02",
          "2024-03-03",
          "2024-03-09",
          "2024-03-10",
          "2024-03-16",
          "2024-03-17",
          "2024-03-23",
          "2024-03-24",
          "2024-03-30",
          "2024-03-31",
          "2024-04-06",
          "2024-04-07",
          "2024-04-13",
          "2024-04-14",
          "2024-04-20",
          "2024-04-21",
          "2024-04-27",
          "2024-04-28",
          "2024-05-04",
          "2024-05-05",
          "2024-05-11",
          "2024-05-12",
          "2024-05-18",
          "2024-05-19",
          "2024-05-25",
          "2024-05-26",
          "2024-06-01",
          "2024-06-02",
          "2024-06-08",
          "2024-06-09",
          "2024-06-15",
          "2024-06-16",
          "2024-06-22",
          "2024-06-23",
          "2024-06-29",
          "2024-06-30",
          "2024-07-06",
          "2024-07-07",
          "2024-07-13",
          "2024-07-14",
          "2024-07-20",
          "2024-07-21",
          "2024-07-27",
          "2024-07-28",
          "2024-08-03",
          "2024-08-04",
          "2024-08-10",
          "2024-08-11",
          "2024-08-17",
          "2024-08-18",
          "2024-08-24",
          "2024-08-25",
          "2024-08-31",
          "2024-09-01",
          "2024-09-07",
          "2024-09-08",
          "2024-09-14",
          "2024-09-15",
          "2024-09-21",
          "2024-09-22",
          "2024-09-28",
          "2024-09-29",
          "2024-10-05",
          "2024-10-06",
          "2024-10-12",
          "2024-10-13",
          "2024-10-19",
          "2024-10-20",
          "2024-10-26",
          "2024-10-27",
          "2024-11-02",
          "2024-11-03",
          "2024-11-09",
          "2024-11-10"
         ],
         "y": [
          51144.92,
          30853.44,
          35297.32,
          53274.95,
          53401.25,
          54035.74,
          54096.84,
          54446.2,
          54345.2,
          54350.7,
          49522.88,
          50751,
          54139,
          909.89,
          37693.24,
          54057.89,
          45897.26,
          43934.82,
          53170.53,
          33775.72,
          17817.42,
          31584.94,
          47466.86,
          48491.2,
          43357.64,
          22888.54,
          42918.13,
          30083.04,
          43200,
          45771.64,
          30675.44,
          34131.1,
          39918.08,
          42704.48,
          41239.86,
          40577.2,
          35161.43,
          30405.59,
          38871.09,
          36000,
          14908.47,
          823.27,
          19357.7,
          34617.67,
          34362.95,
          27217.75,
          28901.75,
          23026.69,
          19258.38,
          10234.81,
          12623.44,
          2632.43,
          27489.17,
          13815.47,
          24935.62,
          13230.59,
          12064.61,
          0,
          601.32,
          17937.15,
          0,
          148.53,
          3600,
          0,
          0,
          21363.65,
          478.98,
          0,
          1270.4,
          0,
          3533.37,
          25160.2,
          3600,
          26256.7,
          26696.73,
          90.73,
          0,
          23394.96,
          0,
          9471.06,
          0,
          29094.62,
          25510.07,
          34555.48,
          34762.7,
          37239.77,
          34843.82,
          24395.84,
          23101.42,
          27483.94,
          3884.72,
          32400,
          20265.39,
          36512.11,
          30104.15,
          41063.87,
          37291.42,
          45914.1,
          46795.79,
          40574.99,
          25664.58,
          27623.67,
          41159.52,
          44452.62,
          51278.2,
          35964.67,
          40995.8,
          46488.69,
          47284.18,
          39600,
          19239.58,
          53538.23,
          48456.1,
          39600,
          36732.47,
          40583.74,
          53015.88,
          52605.04,
          17913.95,
          42404.66,
          49794.14,
          45253.73,
          50400,
          50614.36,
          31770.95,
          23148.16,
          44684.98,
          41935.82,
          37586.67,
          47532.59,
          46708.82,
          14624.82,
          5641.14,
          46338.18,
          42609.88,
          38911.25,
          44901.51,
          42104.88,
          34447.22,
          31677.14,
          39683.37,
          39727.6,
          39349.46,
          37830.77,
          36581.21,
          29792.93,
          31856.83,
          20662.82,
          26642.41,
          16723.56,
          19972.91,
          30985.98,
          19325.33,
          20770.42,
          28972.62,
          11028.59,
          0
         ]
        },
        {
         "name": "DWD Bremen",
         "type": "scatter",
         "x": [
          "2023-05-14",
          "2023-05-20",
          "2023-05-21",
          "2023-05-27",
          "2023-05-28",
          "2023-06-03",
          "2023-06-04",
          "2023-06-10",
          "2023-06-11",
          "2023-06-17",
          "2023-06-18",
          "2023-06-24",
          "2023-06-25",
          "2023-07-01",
          "2023-07-02",
          "2023-07-08",
          "2023-07-09",
          "2023-07-15",
          "2023-07-16",
          "2023-07-22",
          "2023-07-23",
          "2023-07-29",
          "2023-07-30",
          "2023-08-05",
          "2023-08-06",
          "2023-08-12",
          "2023-08-13",
          "2023-08-19",
          "2023-08-20",
          "2023-08-26",
          "2023-08-27",
          "2023-09-02",
          "2023-09-03",
          "2023-09-09",
          "2023-09-10",
          "2023-09-16",
          "2023-09-17",
          "2023-09-23",
          "2023-09-24",
          "2023-09-30",
          "2023-10-01",
          "2023-10-07",
          "2023-10-08",
          "2023-10-14",
          "2023-10-15",
          "2023-10-21",
          "2023-10-22",
          "2023-10-28",
          "2023-10-29",
          "2023-11-04",
          "2023-11-05",
          "2023-11-11",
          "2023-11-12",
          "2023-11-18",
          "2023-11-19",
          "2023-11-25",
          "2023-11-26",
          "2023-12-02",
          "2023-12-03",
          "2023-12-09",
          "2023-12-10",
          "2023-12-16",
          "2023-12-17",
          "2023-12-23",
          "2023-12-24",
          "2023-12-30",
          "2023-12-31",
          "2024-01-06",
          "2024-01-07",
          "2024-01-13",
          "2024-01-14",
          "2024-01-20",
          "2024-01-21",
          "2024-01-27",
          "2024-01-28",
          "2024-02-03",
          "2024-02-04",
          "2024-02-10",
          "2024-02-11",
          "2024-02-17",
          "2024-02-18",
          "2024-02-24",
          "2024-02-25",
          "2024-03-02",
          "2024-03-03",
          "2024-03-09",
          "2024-03-10",
          "2024-03-16",
          "2024-03-17",
          "2024-03-23",
          "2024-03-24",
          "2024-03-30",
          "2024-03-31",
          "2024-04-06",
          "2024-04-07",
          "2024-04-13",
          "2024-04-14",
          "2024-04-20",
          "2024-04-21",
          "2024-04-27",
          "2024-04-28",
          "2024-05-04",
          "2024-05-05",
          "2024-05-11",
          "2024-05-12",
          "2024-05-18",
          "2024-05-19",
          "2024-05-25",
          "2024-05-26",
          "2024-06-01",
          "2024-06-02",
          "2024-06-08",
          "2024-06-09",
          "2024-06-15",
          "2024-06-16",
          "2024-06-22",
          "2024-06-23",
          "2024-06-29",
          "2024-06-30",
          "2024-07-06",
          "2024-07-07",
          "2024-07-13",
          "2024-07-14",
          "2024-07-20",
          "2024-07-21",
          "2024-07-27",
          "2024-07-28",
          "2024-08-03",
          "2024-08-04",
          "2024-08-10",
          "2024-08-11",
          "2024-08-17",
          "2024-08-18",
          "2024-08-24",
          "2024-08-25",
          "2024-08-31",
          "2024-09-01",
          "2024-09-07",
          "2024-09-08",
          "2024-09-14",
          "2024-09-15",
          "2024-09-21",
          "2024-09-22",
          "2024-09-28",
          "2024-09-29",
          "2024-10-05",
          "2024-10-06",
          "2024-10-12",
          "2024-10-13",
          "2024-10-19",
          "2024-10-20",
          "2024-10-26",
          "2024-10-27",
          "2024-11-02",
          "2024-11-03",
          "2024-11-09",
          "2024-11-10"
         ],
         "y": [
          34200,
          28080,
          10440,
          51120,
          49320,
          57240,
          54720,
          44280,
          52200,
          34200,
          50760,
          36360,
          52200,
          1080,
          32400,
          54720,
          41760,
          35640,
          21960,
          11880,
          3960.0000000000005,
          19080,
          18720,
          27720,
          21960,
          11160,
          33840,
          16200,
          42840,
          20520,
          23760,
          18720,
          37800,
          42840,
          30240,
          25200,
          22680,
          12960,
          25560,
          26640,
          0,
          0,
          14040,
          28800,
          18000,
          12960,
          4680,
          0,
          13680,
          2160,
          1080,
          0,
          7920.000000000001,
          0,
          2520,
          19080,
          0,
          0,
          0,
          10080,
          0,
          0,
          360,
          0,
          0,
          5040,
          360,
          0,
          18000,
          0,
          4680,
          20880,
          720,
          27000,
          29519.999999999996,
          0,
          0,
          11520,
          0,
          11880,
          0,
          9360,
          4320,
          29160,
          30240,
          36720,
          14759.999999999998,
          15480,
          20880,
          22320,
          1080,
          7920.000000000001,
          8280,
          19440,
          31319.999999999996,
          33480,
          28800,
          27360,
          30960,
          26640,
          14759.999999999998,
          26280,
          6840,
          46800,
          52920,
          18720,
          10080,
          12600,
          37800,
          41400,
          0,
          26280,
          26280,
          14759.999999999998,
          11520,
          18360,
          37080,
          44640,
          7200,
          26280,
          34920,
          10080,
          41400,
          49680,
          22320,
          20520,
          42840,
          26701.2,
          28501.2,
          31618.8,
          40860,
          6238.8,
          9421.2,
          30358.8,
          31438.800000000003,
          21538.8,
          44881.200000000004,
          31319.999999999996,
          13561.199999999999,
          26938.8,
          11160,
          41101.2,
          37501.2,
          24958.8,
          32518.8,
          35038.8,
          27658.8,
          16138.8,
          15541.2,
          0,
          14641.2,
          28198.8,
          11041.2,
          17100,
          30481.2,
          0,
          0
         ]
        }
       ],
       "layout": {
        "legend": {
         "tracegroupgap": 0
        },
        "template": {
         "data": {
          "bar": [
           {
            "error_x": {
             "color": "#2a3f5f"
            },
            "error_y": {
             "color": "#2a3f5f"
            },
            "marker": {
             "line": {
              "color": "#E5ECF6",
              "width": 0.5
             },
             "pattern": {
              "fillmode": "overlay",
              "size": 10,
              "solidity": 0.2
             }
            },
            "type": "bar"
           }
          ],
          "barpolar": [
           {
            "marker": {
             "line": {
              "color": "#E5ECF6",
              "width": 0.5
             },
             "pattern": {
              "fillmode": "overlay",
              "size": 10,
              "solidity": 0.2
             }
            },
            "type": "barpolar"
           }
          ],
          "carpet": [
           {
            "aaxis": {
             "endlinecolor": "#2a3f5f",
             "gridcolor": "white",
             "linecolor": "white",
             "minorgridcolor": "white",
             "startlinecolor": "#2a3f5f"
            },
            "baxis": {
             "endlinecolor": "#2a3f5f",
             "gridcolor": "white",
             "linecolor": "white",
             "minorgridcolor": "white",
             "startlinecolor": "#2a3f5f"
            },
            "type": "carpet"
           }
          ],
          "choropleth": [
           {
            "colorbar": {
             "outlinewidth": 0,
             "ticks": ""
            },
            "type": "choropleth"
           }
          ],
          "contour": [
           {
            "colorbar": {
             "outlinewidth": 0,
             "ticks": ""
            },
            "colorscale": [
             [
              0,
              "#0d0887"
             ],
             [
              0.1111111111111111,
              "#46039f"
             ],
             [
              0.2222222222222222,
              "#7201a8"
             ],
             [
              0.3333333333333333,
              "#9c179e"
             ],
             [
              0.4444444444444444,
              "#bd3786"
             ],
             [
              0.5555555555555556,
              "#d8576b"
             ],
             [
              0.6666666666666666,
              "#ed7953"
             ],
             [
              0.7777777777777778,
              "#fb9f3a"
             ],
             [
              0.8888888888888888,
              "#fdca26"
             ],
             [
              1,
              "#f0f921"
             ]
            ],
            "type": "contour"
           }
          ],
          "contourcarpet": [
           {
            "colorbar": {
             "outlinewidth": 0,
             "ticks": ""
            },
            "type": "contourcarpet"
           }
          ],
          "heatmap": [
           {
            "colorbar": {
             "outlinewidth": 0,
             "ticks": ""
            },
            "colorscale": [
             [
              0,
              "#0d0887"
             ],
             [
              0.1111111111111111,
              "#46039f"
             ],
             [
              0.2222222222222222,
              "#7201a8"
             ],
             [
              0.3333333333333333,
              "#9c179e"
             ],
             [
              0.4444444444444444,
              "#bd3786"
             ],
             [
              0.5555555555555556,
              "#d8576b"
             ],
             [
              0.6666666666666666,
              "#ed7953"
             ],
             [
              0.7777777777777778,
              "#fb9f3a"
             ],
             [
              0.8888888888888888,
              "#fdca26"
             ],
             [
              1,
              "#f0f921"
             ]
            ],
            "type": "heatmap"
           }
          ],
          "heatmapgl": [
           {
            "colorbar": {
             "outlinewidth": 0,
             "ticks": ""
            },
            "colorscale": [
             [
              0,
              "#0d0887"
             ],
             [
              0.1111111111111111,
              "#46039f"
             ],
             [
              0.2222222222222222,
              "#7201a8"
             ],
             [
              0.3333333333333333,
              "#9c179e"
             ],
             [
              0.4444444444444444,
              "#bd3786"
             ],
             [
              0.5555555555555556,
              "#d8576b"
             ],
             [
              0.6666666666666666,
              "#ed7953"
             ],
             [
              0.7777777777777778,
              "#fb9f3a"
             ],
             [
              0.8888888888888888,
              "#fdca26"
             ],
             [
              1,
              "#f0f921"
             ]
            ],
            "type": "heatmapgl"
           }
          ],
          "histogram": [
           {
            "marker": {
             "pattern": {
              "fillmode": "overlay",
              "size": 10,
              "solidity": 0.2
             }
            },
            "type": "histogram"
           }
          ],
          "histogram2d": [
           {
            "colorbar": {
             "outlinewidth": 0,
             "ticks": ""
            },
            "colorscale": [
             [
              0,
              "#0d0887"
             ],
             [
              0.1111111111111111,
              "#46039f"
             ],
             [
              0.2222222222222222,
              "#7201a8"
             ],
             [
              0.3333333333333333,
              "#9c179e"
             ],
             [
              0.4444444444444444,
              "#bd3786"
             ],
             [
              0.5555555555555556,
              "#d8576b"
             ],
             [
              0.6666666666666666,
              "#ed7953"
             ],
             [
              0.7777777777777778,
              "#fb9f3a"
             ],
             [
              0.8888888888888888,
              "#fdca26"
             ],
             [
              1,
              "#f0f921"
             ]
            ],
            "type": "histogram2d"
           }
          ],
          "histogram2dcontour": [
           {
            "colorbar": {
             "outlinewidth": 0,
             "ticks": ""
            },
            "colorscale": [
             [
              0,
              "#0d0887"
             ],
             [
              0.1111111111111111,
              "#46039f"
             ],
             [
              0.2222222222222222,
              "#7201a8"
             ],
             [
              0.3333333333333333,
              "#9c179e"
             ],
             [
              0.4444444444444444,
              "#bd3786"
             ],
             [
              0.5555555555555556,
              "#d8576b"
             ],
             [
              0.6666666666666666,
              "#ed7953"
             ],
             [
              0.7777777777777778,
              "#fb9f3a"
             ],
             [
              0.8888888888888888,
              "#fdca26"
             ],
             [
              1,
              "#f0f921"
             ]
            ],
            "type": "histogram2dcontour"
           }
          ],
          "mesh3d": [
           {
            "colorbar": {
             "outlinewidth": 0,
             "ticks": ""
            },
            "type": "mesh3d"
           }
          ],
          "parcoords": [
           {
            "line": {
             "colorbar": {
              "outlinewidth": 0,
              "ticks": ""
             }
            },
            "type": "parcoords"
           }
          ],
          "pie": [
           {
            "automargin": true,
            "type": "pie"
           }
          ],
          "scatter": [
           {
            "fillpattern": {
             "fillmode": "overlay",
             "size": 10,
             "solidity": 0.2
            },
            "type": "scatter"
           }
          ],
          "scatter3d": [
           {
            "line": {
             "colorbar": {
              "outlinewidth": 0,
              "ticks": ""
             }
            },
            "marker": {
             "colorbar": {
              "outlinewidth": 0,
              "ticks": ""
             }
            },
            "type": "scatter3d"
           }
          ],
          "scattercarpet": [
           {
            "marker": {
             "colorbar": {
              "outlinewidth": 0,
              "ticks": ""
             }
            },
            "type": "scattercarpet"
           }
          ],
          "scattergeo": [
           {
            "marker": {
             "colorbar": {
              "outlinewidth": 0,
              "ticks": ""
             }
            },
            "type": "scattergeo"
           }
          ],
          "scattergl": [
           {
            "marker": {
             "colorbar": {
              "outlinewidth": 0,
              "ticks": ""
             }
            },
            "type": "scattergl"
           }
          ],
          "scattermapbox": [
           {
            "marker": {
             "colorbar": {
              "outlinewidth": 0,
              "ticks": ""
             }
            },
            "type": "scattermapbox"
           }
          ],
          "scatterpolar": [
           {
            "marker": {
             "colorbar": {
              "outlinewidth": 0,
              "ticks": ""
             }
            },
            "type": "scatterpolar"
           }
          ],
          "scatterpolargl": [
           {
            "marker": {
             "colorbar": {
              "outlinewidth": 0,
              "ticks": ""
             }
            },
            "type": "scatterpolargl"
           }
          ],
          "scatterternary": [
           {
            "marker": {
             "colorbar": {
              "outlinewidth": 0,
              "ticks": ""
             }
            },
            "type": "scatterternary"
           }
          ],
          "surface": [
           {
            "colorbar": {
             "outlinewidth": 0,
             "ticks": ""
            },
            "colorscale": [
             [
              0,
              "#0d0887"
             ],
             [
              0.1111111111111111,
              "#46039f"
             ],
             [
              0.2222222222222222,
              "#7201a8"
             ],
             [
              0.3333333333333333,
              "#9c179e"
             ],
             [
              0.4444444444444444,
              "#bd3786"
             ],
             [
              0.5555555555555556,
              "#d8576b"
             ],
             [
              0.6666666666666666,
              "#ed7953"
             ],
             [
              0.7777777777777778,
              "#fb9f3a"
             ],
             [
              0.8888888888888888,
              "#fdca26"
             ],
             [
              1,
              "#f0f921"
             ]
            ],
            "type": "surface"
           }
          ],
          "table": [
           {
            "cells": {
             "fill": {
              "color": "#EBF0F8"
             },
             "line": {
              "color": "white"
             }
            },
            "header": {
             "fill": {
              "color": "#C8D4E3"
             },
             "line": {
              "color": "white"
             }
            },
            "type": "table"
           }
          ]
         },
         "layout": {
          "annotationdefaults": {
           "arrowcolor": "#2a3f5f",
           "arrowhead": 0,
           "arrowwidth": 1
          },
          "autotypenumbers": "strict",
          "coloraxis": {
           "colorbar": {
            "outlinewidth": 0,
            "ticks": ""
           }
          },
          "colorscale": {
           "diverging": [
            [
             0,
             "#8e0152"
            ],
            [
             0.1,
             "#c51b7d"
            ],
            [
             0.2,
             "#de77ae"
            ],
            [
             0.3,
             "#f1b6da"
            ],
            [
             0.4,
             "#fde0ef"
            ],
            [
             0.5,
             "#f7f7f7"
            ],
            [
             0.6,
             "#e6f5d0"
            ],
            [
             0.7,
             "#b8e186"
            ],
            [
             0.8,
             "#7fbc41"
            ],
            [
             0.9,
             "#4d9221"
            ],
            [
             1,
             "#276419"
            ]
           ],
           "sequential": [
            [
             0,
             "#0d0887"
            ],
            [
             0.1111111111111111,
             "#46039f"
            ],
            [
             0.2222222222222222,
             "#7201a8"
            ],
            [
             0.3333333333333333,
             "#9c179e"
            ],
            [
             0.4444444444444444,
             "#bd3786"
            ],
            [
             0.5555555555555556,
             "#d8576b"
            ],
            [
             0.6666666666666666,
             "#ed7953"
            ],
            [
             0.7777777777777778,
             "#fb9f3a"
            ],
            [
             0.8888888888888888,
             "#fdca26"
            ],
            [
             1,
             "#f0f921"
            ]
           ],
           "sequentialminus": [
            [
             0,
             "#0d0887"
            ],
            [
             0.1111111111111111,
             "#46039f"
            ],
            [
             0.2222222222222222,
             "#7201a8"
            ],
            [
             0.3333333333333333,
             "#9c179e"
            ],
            [
             0.4444444444444444,
             "#bd3786"
            ],
            [
             0.5555555555555556,
             "#d8576b"
            ],
            [
             0.6666666666666666,
             "#ed7953"
            ],
            [
             0.7777777777777778,
             "#fb9f3a"
            ],
            [
             0.8888888888888888,
             "#fdca26"
            ],
            [
             1,
             "#f0f921"
            ]
           ]
          },
          "colorway": [
           "#636efa",
           "#EF553B",
           "#00cc96",
           "#ab63fa",
           "#FFA15A",
           "#19d3f3",
           "#FF6692",
           "#B6E880",
           "#FF97FF",
           "#FECB52"
          ],
          "font": {
           "color": "#2a3f5f"
          },
          "geo": {
           "bgcolor": "white",
           "lakecolor": "white",
           "landcolor": "#E5ECF6",
           "showlakes": true,
           "showland": true,
           "subunitcolor": "white"
          },
          "hoverlabel": {
           "align": "left"
          },
          "hovermode": "closest",
          "mapbox": {
           "style": "light"
          },
          "paper_bgcolor": "white",
          "plot_bgcolor": "#E5ECF6",
          "polar": {
           "angularaxis": {
            "gridcolor": "white",
            "linecolor": "white",
            "ticks": ""
           },
           "bgcolor": "#E5ECF6",
           "radialaxis": {
            "gridcolor": "white",
            "linecolor": "white",
            "ticks": ""
           }
          },
          "scene": {
           "xaxis": {
            "backgroundcolor": "#E5ECF6",
            "gridcolor": "white",
            "gridwidth": 2,
            "linecolor": "white",
            "showbackground": true,
            "ticks": "",
            "zerolinecolor": "white"
           },
           "yaxis": {
            "backgroundcolor": "#E5ECF6",
            "gridcolor": "white",
            "gridwidth": 2,
            "linecolor": "white",
            "showbackground": true,
            "ticks": "",
            "zerolinecolor": "white"
           },
           "zaxis": {
            "backgroundcolor": "#E5ECF6",
            "gridcolor": "white",
            "gridwidth": 2,
            "linecolor": "white",
            "showbackground": true,
            "ticks": "",
            "zerolinecolor": "white"
           }
          },
          "shapedefaults": {
           "line": {
            "color": "#2a3f5f"
           }
          },
          "ternary": {
           "aaxis": {
            "gridcolor": "white",
            "linecolor": "white",
            "ticks": ""
           },
           "baxis": {
            "gridcolor": "white",
            "linecolor": "white",
            "ticks": ""
           },
           "bgcolor": "#E5ECF6",
           "caxis": {
            "gridcolor": "white",
            "linecolor": "white",
            "ticks": ""
           }
          },
          "title": {
           "x": 0.05
          },
          "xaxis": {
           "automargin": true,
           "gridcolor": "white",
           "linecolor": "white",
           "ticks": "",
           "title": {
            "standoff": 15
           },
           "zerolinecolor": "white",
           "zerolinewidth": 2
          },
          "yaxis": {
           "automargin": true,
           "gridcolor": "white",
           "linecolor": "white",
           "ticks": "",
           "title": {
            "standoff": 15
           },
           "zerolinecolor": "white",
           "zerolinewidth": 2
          }
         }
        },
        "title": {
         "text": "sun - blue: DWD Hannover"
        },
        "xaxis": {
         "anchor": "y",
         "domain": [
          0,
          1
         ],
         "title": {
          "text": "time"
         }
        },
        "yaxis": {
         "anchor": "x",
         "domain": [
          0,
          1
         ],
         "title": {
          "text": "dwd_sun"
         }
        }
       }
      }
     },
     "metadata": {},
     "output_type": "display_data"
    }
   ],
   "source": [
    "import plotly.express as px\n",
    "\n",
    "fig = px.scatter(merged_wetter[merged_wetter['RSK_x']>=0], x=\"time\", y=\"RSK_x\",title=\"rain - blue: DWD Hannover\")\n",
    "\n",
    "fig.add_scatter(x=merged_wetter['time'], y=merged_wetter['rain'],mode='markers', name='OpenMeteo')\n",
    "fig.add_scatter(x=Bremen_daily['time'], y=Bremen_daily['RSK'],mode='markers', name='DWD Bremen')\n",
    "\n",
    "#fig.show()\n",
    "\n",
    "fig = px.line(merged_wetter[merged_wetter['dwd_wind']>=0], x=\"time\", y=\"dwd_wind\",title=\"wind - blue: DWD Hannover\")\n",
    "\n",
    "fig.add_scatter(x=merged_wetter['time'], y=merged_wetter['wind'], name='OpenMeteo')\n",
    "fig.add_scatter(x=Bremen_daily[Bremen_daily['dwd_windB']>=0]['time'], y=Bremen_daily[Bremen_daily['dwd_windB']>=0]['dwd_windB'], name='DWD Bremen')\n",
    "\n",
    "fig.show()\n",
    "\n",
    "fig = px.line(merged_wetter[merged_wetter['dwd_gust']>=0], x=\"time\", y=\"dwd_gust\",title=\"gust - blue: DWD Hannover\")\n",
    "\n",
    "fig.add_scatter(x=merged_wetter['time'], y=merged_wetter['gust'], name='OpenMeteo')\n",
    "fig.add_scatter(x=Bremen_daily[Bremen_daily['dwd_gustB']>=0]['time'], y=Bremen_daily[Bremen_daily['dwd_gustB']>=0]['dwd_gustB'], name='DWD Bremen')\n",
    "\n",
    "#fig.show()\n",
    "\n",
    "fig = px.line(merged_wetter[merged_wetter['dwd_sun']>=0], x=\"time\", y=\"dwd_sun\",title=\"sun - blue: DWD Hannover\")\n",
    "\n",
    "fig.add_scatter(x=merged_wetter['time'], y=merged_wetter['sun'], name='OpenMeteo')\n",
    "fig.add_scatter(x=Bremen_daily[Bremen_daily['dwd_sunB']>=0]['time'], y=Bremen_daily[Bremen_daily['dwd_sunB']>=0]['dwd_sunB'], name='DWD Bremen')\n",
    "\n",
    "fig.show()"
   ]
  },
  {
   "cell_type": "markdown",
   "metadata": {},
   "source": [
    "## Get DHV XC flight data\n",
    "\n",
    "* Metzingen\n",
    "* Lüdingen\n",
    "* Leese, Estorf (GC Landesbergen)"
   ]
  },
  {
   "cell_type": "code",
   "execution_count": 8,
   "metadata": {},
   "outputs": [
    {
     "name": "stdout",
     "output_type": "stream",
     "text": [
      "4000\n"
     ]
    },
    {
     "data": {
      "text/html": [
       "<div>\n",
       "<style scoped>\n",
       "    .dataframe tbody tr th:only-of-type {\n",
       "        vertical-align: middle;\n",
       "    }\n",
       "\n",
       "    .dataframe tbody tr th {\n",
       "        vertical-align: top;\n",
       "    }\n",
       "\n",
       "    .dataframe thead th {\n",
       "        text-align: right;\n",
       "    }\n",
       "</style>\n",
       "<table border=\"1\" class=\"dataframe\">\n",
       "  <thead>\n",
       "    <tr style=\"text-align: right;\">\n",
       "      <th></th>\n",
       "      <th>FlightDate</th>\n",
       "      <th>Takeoff</th>\n",
       "      <th>Glider</th>\n",
       "      <th>Duration</th>\n",
       "      <th>UtcOffset</th>\n",
       "      <th>FlightStartTime</th>\n",
       "    </tr>\n",
       "  </thead>\n",
       "  <tbody>\n",
       "    <tr>\n",
       "      <th>3995</th>\n",
       "      <td>2021-04-20</td>\n",
       "      <td>Lüdingen</td>\n",
       "      <td>Arriba 3 S</td>\n",
       "      <td>513</td>\n",
       "      <td>2</td>\n",
       "      <td>2021-04-20 16:43:38</td>\n",
       "    </tr>\n",
       "    <tr>\n",
       "      <th>3996</th>\n",
       "      <td>2021-04-20</td>\n",
       "      <td>Lüdingen</td>\n",
       "      <td>MiuraRS - ML [LTF A]</td>\n",
       "      <td>516</td>\n",
       "      <td>2</td>\n",
       "      <td>2021-04-20 20:02:08</td>\n",
       "    </tr>\n",
       "    <tr>\n",
       "      <th>3997</th>\n",
       "      <td>2021-04-20</td>\n",
       "      <td>Lüdingen</td>\n",
       "      <td>BuzzZ5</td>\n",
       "      <td>576</td>\n",
       "      <td>2</td>\n",
       "      <td>2021-04-20 13:36:34</td>\n",
       "    </tr>\n",
       "    <tr>\n",
       "      <th>3998</th>\n",
       "      <td>2021-04-20</td>\n",
       "      <td>Lüdingen</td>\n",
       "      <td>MiuraRS - ML [LTF A]</td>\n",
       "      <td>477</td>\n",
       "      <td>2</td>\n",
       "      <td>2021-04-20 15:39:31</td>\n",
       "    </tr>\n",
       "    <tr>\n",
       "      <th>3999</th>\n",
       "      <td>2021-04-20</td>\n",
       "      <td>Lüdingen</td>\n",
       "      <td>Alpha 6</td>\n",
       "      <td>533</td>\n",
       "      <td>2</td>\n",
       "      <td>2021-04-20 15:50:03</td>\n",
       "    </tr>\n",
       "  </tbody>\n",
       "</table>\n",
       "</div>"
      ],
      "text/plain": [
       "      FlightDate   Takeoff                Glider Duration UtcOffset  \\\n",
       "3995  2021-04-20  Lüdingen            Arriba 3 S      513         2   \n",
       "3996  2021-04-20  Lüdingen  MiuraRS - ML [LTF A]      516         2   \n",
       "3997  2021-04-20  Lüdingen                BuzzZ5      576         2   \n",
       "3998  2021-04-20  Lüdingen  MiuraRS - ML [LTF A]      477         2   \n",
       "3999  2021-04-20  Lüdingen               Alpha 6      533         2   \n",
       "\n",
       "          FlightStartTime  \n",
       "3995  2021-04-20 16:43:38  \n",
       "3996  2021-04-20 20:02:08  \n",
       "3997  2021-04-20 13:36:34  \n",
       "3998  2021-04-20 15:39:31  \n",
       "3999  2021-04-20 15:50:03  "
      ]
     },
     "execution_count": 8,
     "metadata": {},
     "output_type": "execute_result"
    }
   ],
   "source": [
    "import requests\n",
    "import urllib\n",
    "import pandas as pd\n",
    "\n",
    "PAGE_SIZE = 500\n",
    "\n",
    "places = {\n",
    "    'Metzingen':11185,\n",
    "    'Rammelsberg': 9427,\n",
    "    'Estorf': 11001,\n",
    "    'Leese': 10746,\n",
    "    'Porta': 9712,\n",
    "    'Lüdingen':9759,\n",
    "    'Brunsberg': 9844,\n",
    "    'Kella': 9521,\n",
    "    'Börry': 9403\n",
    "}\n",
    "\n",
    "results = []\n",
    "for place in ['Metzingen','Estorf','Leese','Lüdingen']:\n",
    "    limit = PAGE_SIZE\n",
    "    for start in [0,PAGE_SIZE]:\n",
    "        query = {\"navpars\":{\"start\":start,\"limit\":limit,\"sort\":[{\"field\":\"FlightDate\",\"dir\":-1},{\"field\":\"BestTaskPoints\",\"dir\":-1}]}}\n",
    "        # for some reason, \" is replaced by ' and spaces are added which is replaced by +\n",
    "        decoded_url = f\"https://de.dhv-xc.de/api/fli/flights?s?fkcat%5B%5D=1&fkto%5B%5D={places[place]}&{urllib.parse.urlencode(query,quote_via=urllib.parse.quote_plus).replace('%27', '%22').replace('+', '')}\"\n",
    "        #print(decoded_url)\n",
    "        r = requests.get(decoded_url)\n",
    "        if r.status_code==200:\n",
    "            response = r.json()\n",
    "            df0 = pd.DataFrame(response['data'])\n",
    "            #print(df.columns.values)\n",
    "            results.extend(df0[['FlightDate', 'TakeoffWaypointName' , 'Glider' ,'FlightDuration','UtcOffset', 'FlightStartTime']].values)\n",
    "\n",
    "\n",
    "df_results = pd.DataFrame(results,columns=['FlightDate','Takeoff', 'Glider' ,'Duration','UtcOffset', 'FlightStartTime'])\n",
    "print(len(df_results))\n",
    "df_results.tail()"
   ]
  },
  {
   "cell_type": "markdown",
   "metadata": {},
   "source": [
    "## Merge weather and flight data for training and testing\n",
    "\n",
    "* Weather data : OpenMeteo daily @ Hannover\n",
    "* Flight data: Sundays and Saturdays, all 4 locations\n",
    "\n",
    "* Training data < 2024\n",
    "* Test data >= 2024"
   ]
  },
  {
   "cell_type": "code",
   "execution_count": 10,
   "metadata": {},
   "outputs": [
    {
     "name": "stdout",
     "output_type": "stream",
     "text": [
      "Hannover Station 2014 {'lat': 52.4644, 'long': 9.6779}\n"
     ]
    }
   ],
   "source": [
    "import numpy as np\n",
    "from datetime import datetime\n",
    "print(loc, locations[loc])\n",
    "df['Weekday'] = df.apply(lambda row:datetime.strftime(datetime.strptime(row['time'],'%Y-%m-%d'),'%a'), axis=1)\n",
    "df['alignment'] =  df.apply(lambda row: np.cos(row['wind_direction_10m_dominant']*np.pi/180.)**2,axis=1)\n",
    "df = df[df['Weekday'].isin(['Sat','Sun'])]\n",
    "#print(df.head())\n",
    "\n",
    "dhv_aggr = df_results[df_results['FlightDate'] >= '2022-01-01'].groupby('FlightDate')['Duration'].count().reset_index()\n",
    "dhv_aggr['Weekday'] = dhv_aggr.apply(lambda row:  datetime.strftime(datetime.strptime(row['FlightDate'],'%Y-%m-%d'),'%a'), axis=1)\n",
    "dhv_aggr.rename(columns={'FlightDate':'time'},inplace=True)\n",
    "#dhv_aggr.head()\n",
    "\n",
    "dfm = df.merge(dhv_aggr, on='time', how='left')\n",
    "dfm.rename(columns={'sunshine_duration':'sun','rain_sum':'rain','wind_speed_10m_max':'wind','wind_gusts_10m_max':'gust','wind_direction_10m_dominant':'dir','Duration':'flights'},inplace=True)\n",
    "dfm = dfm.drop(['Weekday_y'] ,axis=1).fillna(0)"
   ]
  },
  {
   "cell_type": "markdown",
   "metadata": {},
   "source": [
    "## Train model\n",
    "\n",
    "* RandomForestRegressor with estimators (decision trees)"
   ]
  },
  {
   "cell_type": "code",
   "execution_count": 15,
   "metadata": {},
   "outputs": [
    {
     "name": "stdout",
     "output_type": "stream",
     "text": [
      "(105, 4) (105,)\n"
     ]
    }
   ],
   "source": [
    "\n",
    "from sklearn.ensemble import RandomForestRegressor\n",
    "from sklearn.tree import DecisionTreeRegressor, plot_tree\n",
    "import numpy as np\n",
    "\n",
    "features = ['wind','gust','rain','sun']\n",
    "\n",
    "test_filter =(dfm['time'] >= '2024-01-01')\n",
    "train_filter = (dfm['time'] < '2024-01-01') & (dfm['time'] >= '2023-01-01')\n",
    "xtrain = dfm[train_filter][features].to_numpy()\n",
    "ytrain = dfm[train_filter]['flights'].to_numpy()\n",
    "\n",
    "print(np.shape(xtrain),np.shape(ytrain))\n",
    "\n",
    "regr = RandomForestRegressor(random_state=0,n_estimators=200,max_depth=4)\n",
    "regr.fit(xtrain,ytrain)\n",
    "\n",
    "\n",
    "dfm['predict'] = dfm[test_filter | train_filter].apply(lambda row: regr.predict([row[features].to_numpy()])[0], axis=1)"
   ]
  },
  {
   "cell_type": "markdown",
   "metadata": {},
   "source": [
    "## Evaluate\n",
    "\n",
    "* Choose some threshold to define categories\n",
    "* Calculate  measures"
   ]
  },
  {
   "cell_type": "code",
   "execution_count": 19,
   "metadata": {},
   "outputs": [
    {
     "name": "stdout",
     "output_type": "stream",
     "text": [
      "true pos 20\n",
      "true neg 56\n",
      "false pos 10\n",
      "false neg 4\n",
      "precision: 0.6666666666666666 recall: 0.8333333333333334\n",
      "\n",
      "false negatives\n",
      "\n",
      " |     | time       |     sun |   rain |   wind |   gust |   dir | Weekday_x   |   alignment |   flights |   predict |\n",
      "|----:|:-----------|--------:|-------:|-------:|-------:|------:|:------------|------------:|----------:|----------:|\n",
      "| 217 | 2024-01-28 | 26696.7 |    0   |   19.8 |   35.6 |   158 | Sun         |   0.85967   |         2 |  0.448378 |\n",
      "| 235 | 2024-03-31 | 20265.4 |    3.1 |   14.2 |   26.3 |    97 | Sun         |   0.0148521 |        13 |  1.51841  |\n",
      "| 241 | 2024-04-21 | 46795.8 |    0.8 |   19.5 |   41.4 |    49 | Sun         |   0.430413  |         2 |  0.299912 |\n",
      "| 287 | 2024-09-29 | 36581.2 |    0.1 |   15.6 |   28.4 |   209 | Sun         |   0.76496   |        42 |  1.4478   |\n",
      "\n",
      "false positives\n",
      "\n",
      " |     | time       |      sun |   rain |   wind |   gust |   dir | Weekday_x   |   alignment |   flights |   predict |\n",
      "|----:|:-----------|---------:|-------:|-------:|-------:|------:|:------------|------------:|----------:|----------:|\n",
      "| 247 | 2024-05-12 | 51278.2  |    0   |   16.6 |   36.7 |   100 | Sun         |  0.0301537  |         0 |  14.6333  |\n",
      "| 248 | 2024-05-18 | 35964.7  |    1.4 |   11.6 |   30.6 |    78 | Sat         |  0.0432273  |         0 |   3.63218 |\n",
      "| 249 | 2024-05-19 | 40995.8  |    5.8 |   15.6 |   32.4 |   357 | Sun         |  0.997261   |         0 |   2.2535  |\n",
      "| 252 | 2024-06-01 | 39600    |    3.4 |   17.4 |   36   |   331 | Sat         |  0.76496    |         0 |   3.3809  |\n",
      "| 254 | 2024-06-08 | 53538.2  |    0.2 |   23.3 |   48.6 |   252 | Sat         |  0.0954915  |         0 |  15.6904  |\n",
      "| 255 | 2024-06-09 | 48456.1  |    0   |   21.3 |   44.3 |   266 | Sun         |  0.00486597 |         0 |  10.8627  |\n",
      "| 268 | 2024-07-27 | 23148.2  |   14.4 |   10.3 |   22.7 |    37 | Sat         |  0.637819   |         0 |   6.70605 |\n",
      "| 275 | 2024-08-18 |  5641.14 |    4.1 |   10.9 |   23.4 |    13 | Sun         |  0.949397   |         0 |   3.89168 |\n",
      "| 283 | 2024-09-15 | 39683.4  |    0   |   15.3 |   31.7 |   321 | Sun         |  0.603956   |         0 |   2.24608 |\n",
      "| 299 | 2024-11-10 |     0    |    0   |    8.7 |   17.6 |   147 | Sun         |  0.703368   |         0 |   8.08555 |\n"
     ]
    }
   ],
   "source": [
    "thr = 2.0\n",
    "\n",
    "tp = dfm[test_filter & (dfm['flights'] > 0) & (dfm['predict'] >= thr)]\n",
    "tn = len(dfm[test_filter & ~(dfm['flights'] > 0) & ~(dfm['predict'] >= thr)])\n",
    "fp = dfm[test_filter & ~(dfm['flights'] > 0) & (dfm['predict'] >= thr)]\n",
    "fn = dfm[test_filter & (dfm['flights'] > 0) & ~(dfm['predict'] >= thr)]\n",
    "\n",
    "print('true pos', len(tp))\n",
    "print('true neg', tn)\n",
    "print('false pos', len(fp))\n",
    "print('false neg', len(fn))\n",
    "\n",
    "print('precision:', len(tp)/(len(tp)+len(fp)), 'recall:', len(tp)/(len(tp)+len(fn)) )\n",
    "#print(\"true positives\",\"\\n\", tp.to_markdown())\n",
    "print(\"\\nfalse negatives\\n\\n\", fn.to_markdown())\n",
    "print(\"\\nfalse positives\\n\\n\",fp.to_markdown())"
   ]
  }
 ],
 "metadata": {
  "kernelspec": {
   "display_name": "Python 3",
   "language": "python",
   "name": "python3"
  },
  "language_info": {
   "codemirror_mode": {
    "name": "ipython",
    "version": 3
   },
   "file_extension": ".py",
   "mimetype": "text/x-python",
   "name": "python",
   "nbconvert_exporter": "python",
   "pygments_lexer": "ipython3",
   "version": "3.11.8"
  }
 },
 "nbformat": 4,
 "nbformat_minor": 2
}
