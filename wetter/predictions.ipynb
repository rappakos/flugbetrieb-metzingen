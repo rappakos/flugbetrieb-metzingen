{
 "cells": [
  {
   "cell_type": "markdown",
   "metadata": {},
   "source": [
    "## Load OpenMeteo Daily Data"
   ]
  },
  {
   "cell_type": "code",
   "execution_count": 1,
   "metadata": {},
   "outputs": [
    {
     "name": "stdout",
     "output_type": "stream",
     "text": [
      "time iso8601\n",
      "sunshine_duration s\n",
      "rain_sum mm\n",
      "wind_speed_10m_max km/h\n",
      "wind_gusts_10m_max km/h\n",
      "wind_direction_10m_dominant °\n"
     ]
    },
    {
     "data": {
      "text/html": [
       "<div>\n",
       "<style scoped>\n",
       "    .dataframe tbody tr th:only-of-type {\n",
       "        vertical-align: middle;\n",
       "    }\n",
       "\n",
       "    .dataframe tbody tr th {\n",
       "        vertical-align: top;\n",
       "    }\n",
       "\n",
       "    .dataframe thead th {\n",
       "        text-align: right;\n",
       "    }\n",
       "</style>\n",
       "<table border=\"1\" class=\"dataframe\">\n",
       "  <thead>\n",
       "    <tr style=\"text-align: right;\">\n",
       "      <th></th>\n",
       "      <th>time</th>\n",
       "      <th>sunshine_duration</th>\n",
       "      <th>rain_sum</th>\n",
       "      <th>wind_speed_10m_max</th>\n",
       "      <th>wind_gusts_10m_max</th>\n",
       "      <th>wind_direction_10m_dominant</th>\n",
       "    </tr>\n",
       "  </thead>\n",
       "  <tbody>\n",
       "    <tr>\n",
       "      <th>0</th>\n",
       "      <td>2022-01-01</td>\n",
       "      <td>2845.71</td>\n",
       "      <td>0.2</td>\n",
       "      <td>21.9</td>\n",
       "      <td>42.1</td>\n",
       "      <td>235</td>\n",
       "    </tr>\n",
       "    <tr>\n",
       "      <th>1</th>\n",
       "      <td>2022-01-02</td>\n",
       "      <td>6733.11</td>\n",
       "      <td>5.3</td>\n",
       "      <td>29.2</td>\n",
       "      <td>55.1</td>\n",
       "      <td>229</td>\n",
       "    </tr>\n",
       "    <tr>\n",
       "      <th>2</th>\n",
       "      <td>2022-01-03</td>\n",
       "      <td>12927.33</td>\n",
       "      <td>4.1</td>\n",
       "      <td>33.4</td>\n",
       "      <td>63.7</td>\n",
       "      <td>249</td>\n",
       "    </tr>\n",
       "    <tr>\n",
       "      <th>3</th>\n",
       "      <td>2022-01-04</td>\n",
       "      <td>0.00</td>\n",
       "      <td>2.8</td>\n",
       "      <td>20.2</td>\n",
       "      <td>36.7</td>\n",
       "      <td>248</td>\n",
       "    </tr>\n",
       "    <tr>\n",
       "      <th>4</th>\n",
       "      <td>2022-01-05</td>\n",
       "      <td>7422.81</td>\n",
       "      <td>2.1</td>\n",
       "      <td>33.0</td>\n",
       "      <td>67.3</td>\n",
       "      <td>256</td>\n",
       "    </tr>\n",
       "  </tbody>\n",
       "</table>\n",
       "</div>"
      ],
      "text/plain": [
       "         time  sunshine_duration  rain_sum  wind_speed_10m_max  \\\n",
       "0  2022-01-01            2845.71       0.2                21.9   \n",
       "1  2022-01-02            6733.11       5.3                29.2   \n",
       "2  2022-01-03           12927.33       4.1                33.4   \n",
       "3  2022-01-04               0.00       2.8                20.2   \n",
       "4  2022-01-05            7422.81       2.1                33.0   \n",
       "\n",
       "   wind_gusts_10m_max  wind_direction_10m_dominant  \n",
       "0                42.1                          235  \n",
       "1                55.1                          229  \n",
       "2                63.7                          249  \n",
       "3                36.7                          248  \n",
       "4                67.3                          256  "
      ]
     },
     "execution_count": 1,
     "metadata": {},
     "output_type": "execute_result"
    }
   ],
   "source": [
    "import requests\n",
    "import pandas as pd\n",
    "\n",
    "locations = {\n",
    "    'Metzingen' : {'lat':52.67057, 'long':10.37136},\n",
    "    'Hannover Station 2014':  {'lat':52.4644, 'long':9.6779}\n",
    "    }\n",
    "\n",
    "dates = {\n",
    "      'StartDate': '2022-01-01',\n",
    "      'EndDate': '2024-11-11'\n",
    "    }\n",
    "\n",
    "loc = 'Hannover Station 2014'\n",
    "\n",
    "openmeteo = f'https://archive-api.open-meteo.com/v1/archive?latitude={locations[loc][\"lat\"]}&longitude={locations[loc][\"long\"]}&start_date={dates[\"StartDate\"]}&end_date={dates[\"EndDate\"]}&daily=sunshine_duration,rain_sum,wind_speed_10m_max,wind_gusts_10m_max,wind_direction_10m_dominant&timezone=GMT'\n",
    "\n",
    "res = requests.get(openmeteo)\n",
    "if res.status_code == 200:\n",
    "  data = res.json()\n",
    "\n",
    "\n",
    "\n",
    "for k in data['daily_units']:\n",
    "  print(k,data['daily_units'][k])\n",
    "\n",
    "\n",
    "df = pd.DataFrame(data['daily'], columns= data['daily_units'])\n",
    "\n",
    "df.head()\n"
   ]
  },
  {
   "cell_type": "markdown",
   "metadata": {},
   "source": [
    "## Load DWD measured data for Hannover and Bremen"
   ]
  },
  {
   "cell_type": "code",
   "execution_count": 2,
   "metadata": {},
   "outputs": [
    {
     "name": "stdout",
     "output_type": "stream",
     "text": [
      "['time' 'dwd_sun' 'RSK_x' 'dwd_wind' 'dwd_gust' 'sun' 'rain' 'wind' 'gust'\n",
      " 'dir' 'STATIONS_ID' 'MESS_DATUM' 'QN_3' 'FX' 'FM' 'QN_4' 'RSK_y' 'RSKF'\n",
      " 'SDK' 'SHK_TAG' 'NM' 'VPM' 'PM' 'TMK' 'UPM' 'TXK' 'TNK' 'TGK' 'eor'\n",
      " 'WeekdayB' 'dwd_windB' 'dwd_gustB' 'dwd_sunB']\n"
     ]
    },
    {
     "data": {
      "text/html": [
       "<div>\n",
       "<style scoped>\n",
       "    .dataframe tbody tr th:only-of-type {\n",
       "        vertical-align: middle;\n",
       "    }\n",
       "\n",
       "    .dataframe tbody tr th {\n",
       "        vertical-align: top;\n",
       "    }\n",
       "\n",
       "    .dataframe thead th {\n",
       "        text-align: right;\n",
       "    }\n",
       "</style>\n",
       "<table border=\"1\" class=\"dataframe\">\n",
       "  <thead>\n",
       "    <tr style=\"text-align: right;\">\n",
       "      <th></th>\n",
       "      <th>time</th>\n",
       "      <th>dwd_sun</th>\n",
       "      <th>RSK_x</th>\n",
       "      <th>dwd_wind</th>\n",
       "      <th>dwd_gust</th>\n",
       "      <th>sun</th>\n",
       "      <th>rain</th>\n",
       "      <th>wind</th>\n",
       "      <th>gust</th>\n",
       "      <th>dir</th>\n",
       "      <th>...</th>\n",
       "      <th>TMK</th>\n",
       "      <th>UPM</th>\n",
       "      <th>TXK</th>\n",
       "      <th>TNK</th>\n",
       "      <th>TGK</th>\n",
       "      <th>eor</th>\n",
       "      <th>WeekdayB</th>\n",
       "      <th>dwd_windB</th>\n",
       "      <th>dwd_gustB</th>\n",
       "      <th>dwd_sunB</th>\n",
       "    </tr>\n",
       "  </thead>\n",
       "  <tbody>\n",
       "    <tr>\n",
       "      <th>0</th>\n",
       "      <td>2023-05-14</td>\n",
       "      <td>41400.0</td>\n",
       "      <td>0.0</td>\n",
       "      <td>9.72</td>\n",
       "      <td>39.96</td>\n",
       "      <td>51144.92</td>\n",
       "      <td>0.4</td>\n",
       "      <td>11.4</td>\n",
       "      <td>27.0</td>\n",
       "      <td>89</td>\n",
       "      <td>...</td>\n",
       "      <td>15.6</td>\n",
       "      <td>62.0</td>\n",
       "      <td>21.6</td>\n",
       "      <td>7.5</td>\n",
       "      <td>4.6</td>\n",
       "      <td>eor</td>\n",
       "      <td>Sun</td>\n",
       "      <td>8.64</td>\n",
       "      <td>33.48</td>\n",
       "      <td>34200.0</td>\n",
       "    </tr>\n",
       "    <tr>\n",
       "      <th>1</th>\n",
       "      <td>2023-05-20</td>\n",
       "      <td>10800.0</td>\n",
       "      <td>0.0</td>\n",
       "      <td>18.00</td>\n",
       "      <td>45.72</td>\n",
       "      <td>30853.44</td>\n",
       "      <td>0.0</td>\n",
       "      <td>21.3</td>\n",
       "      <td>45.0</td>\n",
       "      <td>71</td>\n",
       "      <td>...</td>\n",
       "      <td>14.5</td>\n",
       "      <td>62.0</td>\n",
       "      <td>18.5</td>\n",
       "      <td>9.3</td>\n",
       "      <td>8.1</td>\n",
       "      <td>eor</td>\n",
       "      <td>Sat</td>\n",
       "      <td>19.80</td>\n",
       "      <td>42.48</td>\n",
       "      <td>28080.0</td>\n",
       "    </tr>\n",
       "    <tr>\n",
       "      <th>2</th>\n",
       "      <td>2023-05-21</td>\n",
       "      <td>17640.0</td>\n",
       "      <td>0.0</td>\n",
       "      <td>14.76</td>\n",
       "      <td>37.08</td>\n",
       "      <td>35297.32</td>\n",
       "      <td>0.9</td>\n",
       "      <td>17.7</td>\n",
       "      <td>36.4</td>\n",
       "      <td>76</td>\n",
       "      <td>...</td>\n",
       "      <td>18.4</td>\n",
       "      <td>69.0</td>\n",
       "      <td>25.9</td>\n",
       "      <td>11.3</td>\n",
       "      <td>10.3</td>\n",
       "      <td>eor</td>\n",
       "      <td>Sun</td>\n",
       "      <td>13.32</td>\n",
       "      <td>30.24</td>\n",
       "      <td>10440.0</td>\n",
       "    </tr>\n",
       "    <tr>\n",
       "      <th>3</th>\n",
       "      <td>2023-05-27</td>\n",
       "      <td>51480.0</td>\n",
       "      <td>0.0</td>\n",
       "      <td>7.20</td>\n",
       "      <td>30.24</td>\n",
       "      <td>53274.95</td>\n",
       "      <td>0.0</td>\n",
       "      <td>10.1</td>\n",
       "      <td>24.1</td>\n",
       "      <td>77</td>\n",
       "      <td>...</td>\n",
       "      <td>14.6</td>\n",
       "      <td>68.0</td>\n",
       "      <td>21.8</td>\n",
       "      <td>5.7</td>\n",
       "      <td>2.9</td>\n",
       "      <td>eor</td>\n",
       "      <td>Sat</td>\n",
       "      <td>7.20</td>\n",
       "      <td>33.48</td>\n",
       "      <td>51120.0</td>\n",
       "    </tr>\n",
       "    <tr>\n",
       "      <th>4</th>\n",
       "      <td>2023-05-28</td>\n",
       "      <td>51120.0</td>\n",
       "      <td>0.0</td>\n",
       "      <td>8.28</td>\n",
       "      <td>33.48</td>\n",
       "      <td>53401.25</td>\n",
       "      <td>0.0</td>\n",
       "      <td>17.4</td>\n",
       "      <td>37.4</td>\n",
       "      <td>33</td>\n",
       "      <td>...</td>\n",
       "      <td>15.5</td>\n",
       "      <td>68.0</td>\n",
       "      <td>22.1</td>\n",
       "      <td>9.1</td>\n",
       "      <td>6.3</td>\n",
       "      <td>eor</td>\n",
       "      <td>Sun</td>\n",
       "      <td>13.68</td>\n",
       "      <td>41.40</td>\n",
       "      <td>49320.0</td>\n",
       "    </tr>\n",
       "  </tbody>\n",
       "</table>\n",
       "<p>5 rows × 33 columns</p>\n",
       "</div>"
      ],
      "text/plain": [
       "         time  dwd_sun  RSK_x  dwd_wind  dwd_gust       sun  rain  wind  gust  \\\n",
       "0  2023-05-14  41400.0    0.0      9.72     39.96  51144.92   0.4  11.4  27.0   \n",
       "1  2023-05-20  10800.0    0.0     18.00     45.72  30853.44   0.0  21.3  45.0   \n",
       "2  2023-05-21  17640.0    0.0     14.76     37.08  35297.32   0.9  17.7  36.4   \n",
       "3  2023-05-27  51480.0    0.0      7.20     30.24  53274.95   0.0  10.1  24.1   \n",
       "4  2023-05-28  51120.0    0.0      8.28     33.48  53401.25   0.0  17.4  37.4   \n",
       "\n",
       "   dir  ...   TMK   UPM   TXK   TNK   TGK  eor  WeekdayB  dwd_windB  \\\n",
       "0   89  ...  15.6  62.0  21.6   7.5   4.6  eor       Sun       8.64   \n",
       "1   71  ...  14.5  62.0  18.5   9.3   8.1  eor       Sat      19.80   \n",
       "2   76  ...  18.4  69.0  25.9  11.3  10.3  eor       Sun      13.32   \n",
       "3   77  ...  14.6  68.0  21.8   5.7   2.9  eor       Sat       7.20   \n",
       "4   33  ...  15.5  68.0  22.1   9.1   6.3  eor       Sun      13.68   \n",
       "\n",
       "   dwd_gustB  dwd_sunB  \n",
       "0      33.48   34200.0  \n",
       "1      42.48   28080.0  \n",
       "2      30.24   10440.0  \n",
       "3      33.48   51120.0  \n",
       "4      41.40   49320.0  \n",
       "\n",
       "[5 rows x 33 columns]"
      ]
     },
     "execution_count": 2,
     "metadata": {},
     "output_type": "execute_result"
    }
   ],
   "source": [
    "import os\n",
    "import json\n",
    "from datetime import datetime\n",
    "from pathlib import Path\n",
    "\n",
    "# Filename changes...\n",
    "Hannover_daily = pd.read_csv(os.path.abspath('').replace(\"\\\\\",\"/\").replace('wetter','data/wetter_dwd/produkt_klima_tag_20230514_20241113_02014.txt'), sep=\";\")\n",
    "Bremen_daily = pd.read_csv(os.path.abspath('').replace(\"\\\\\",\"/\").replace('wetter','data/wetter_dwd/produkt_klima_tag_20230514_20241113_00691.txt'), sep=\";\")\n",
    "\n",
    "#dwd_params = pd.read_csv('/content/drive/MyDrive/DWD_data/Metadaten_Parameter_klima_tag_02014.txt', sep=\";\", encoding = \"ISO-8859-1\")\n",
    "#params = dwd_params[dwd_params['Bis_Datum'] > 20240101][['Parameter','Parameterbeschreibung']].set_index('Parameter')['Parameterbeschreibung'].to_dict()\n",
    "#print (json.dumps(params, indent=4))\n",
    "params = \"\"\"{\n",
    "    \"FM\": \"Tagesmittel der Windgeschwindigkeit m/s  Messnetz 3\",\n",
    "    \"FX\": \"Maximum der Windspitze Messnetz 3\",\n",
    "    \"NM\": \"Tagesmittel des Bedeckungsgrades\",\n",
    "    \"PM\": \"Tagesmittel des Luftdrucks\",\n",
    "    \"RSK\": \"tgl. Niederschlagshoehe\",\n",
    "    \"RSKF\": \"tgl. Niederschlagsform (=Niederschlagshoehe_ind)\",\n",
    "    \"SDK\": \"Sonnenscheindauer Tagessumme\",\n",
    "    \"SHK_TAG\": \"Schneehoehe Tageswert\",\n",
    "    \"TGK\": \"Minimum der Lufttemperatur am Erdboden in 5cm Hoehe\",\n",
    "    \"TMK\": \"Tagesmittel der Temperatur\",\n",
    "    \"TNK\": \"Tagesminimum der Lufttemperatur in 2m Hoehe\",\n",
    "    \"TXK\": \"Tagesmaximum der Lufttemperatur in 2m Hoehe\",\n",
    "    \"UPM\": \"Tagesmittel der Relativen Feuchte\",\n",
    "    \"VPM\": \"Tagesmittel des Dampfdruckes\"\n",
    "}\"\"\"\n",
    "\n",
    "def make_time(mess_datum):\n",
    "    x = str(mess_datum)\n",
    "    return x[:4]+'-'+ x[4:6]+'-'+ x[6:8]\n",
    "\n",
    "def process_dwd_daily(df, suffix=''):\n",
    "  dwd_daily =df.copy(deep=True)\n",
    "  dwd_daily['time'] = dwd_daily.apply(lambda row:  make_time(row['MESS_DATUM']),axis=1)\n",
    "  dwd_daily['Weekday'+suffix] = dwd_daily.apply(lambda row:datetime.strftime(datetime.strptime(row['time'],'%Y-%m-%d'),'%a'), axis=1)\n",
    "  dwd_daily = dwd_daily[dwd_daily['Weekday'+suffix].isin(['Sat','Sun'])]\n",
    "  dwd_daily.rename(columns={k:k.strip() for k in dwd_daily.columns.values},inplace=True)\n",
    "  dwd_daily['dwd_wind'+suffix] = dwd_daily.apply(lambda row: 3.6*row['FM'], axis=1)\n",
    "  dwd_daily['dwd_gust'+suffix] = dwd_daily.apply(lambda row: 3.6*row['FX'], axis=1)\n",
    "  dwd_daily['dwd_sun'+suffix] = dwd_daily.apply(lambda row: 3600*row['SDK'], axis=1)\n",
    "\n",
    "  return dwd_daily\n",
    "\n",
    "Hannover_daily = process_dwd_daily(Hannover_daily)\n",
    "Bremen_daily = process_dwd_daily(Bremen_daily,'B')\n",
    "\n",
    "merged_wetter = Hannover_daily[['time'] + ['dwd_sun','RSK','dwd_wind','dwd_gust']].merge( df, on='time', how='left').merge(Bremen_daily, on='time', how='inner')\n",
    "merged_wetter.rename(columns={'sunshine_duration':'sun','rain_sum':'rain','wind_speed_10m_max':'wind','wind_gusts_10m_max':'gust','wind_direction_10m_dominant':'dir'},inplace=True)\n",
    "print(merged_wetter.columns.values)\n",
    "merged_wetter.head()"
   ]
  },
  {
   "cell_type": "markdown",
   "metadata": {},
   "source": [
    "## Compared measured (DWD) and computed (OpenMeteo) daily data\n",
    "\n",
    "* Especially the average wind and the sunny hours are systematically OVERESTIMATED by the OpenMeteo data\n",
    "* For measure data the location Hannover <> Bremen does not seems to be as relevant"
   ]
  },
  {
   "cell_type": "code",
   "execution_count": 20,
   "metadata": {},
   "outputs": [
    {
     "data": {
      "image/svg+xml": [
       "<svg class=\"main-svg\" xmlns=\"http://www.w3.org/2000/svg\" xmlns:xlink=\"http://www.w3.org/1999/xlink\" width=\"700\" height=\"500\" style=\"\" viewBox=\"0 0 700 500\"><rect x=\"0\" y=\"0\" width=\"700\" height=\"500\" style=\"fill: rgb(255, 255, 255); fill-opacity: 1;\"/><defs id=\"defs-f01650\"><g class=\"clips\"><clipPath id=\"clipf01650xyplot\" class=\"plotclip\"><rect width=\"433\" height=\"320\"/></clipPath><clipPath class=\"axesclip\" id=\"clipf01650x\"><rect x=\"80\" y=\"0\" width=\"433\" height=\"500\"/></clipPath><clipPath class=\"axesclip\" id=\"clipf01650y\"><rect x=\"0\" y=\"100\" width=\"700\" height=\"320\"/></clipPath><clipPath class=\"axesclip\" id=\"clipf01650xy\"><rect x=\"80\" y=\"100\" width=\"433\" height=\"320\"/></clipPath></g><g class=\"gradients\"/><g class=\"patterns\"/></defs><g class=\"bglayer\"><rect class=\"bg\" x=\"80\" y=\"100\" width=\"433\" height=\"320\" style=\"fill: rgb(229, 236, 246); fill-opacity: 1; stroke-width: 0;\"/></g><g class=\"layer-below\"><g class=\"imagelayer\"/><g class=\"shapelayer\"/></g><g class=\"cartesianlayer\"><g class=\"subplot xy\"><g class=\"layer-subplot\"><g class=\"shapelayer\"/><g class=\"imagelayer\"/></g><g class=\"minor-gridlayer\"><g class=\"x\"/><g class=\"y\"/></g><g class=\"gridlayer\"><g class=\"x\"><path class=\"xgrid crisp\" transform=\"translate(118.07,0)\" d=\"M0,100v320\" style=\"stroke: rgb(255, 255, 255); stroke-opacity: 1; stroke-width: 1px;\"/><path class=\"xgrid crisp\" transform=\"translate(191.03,0)\" d=\"M0,100v320\" style=\"stroke: rgb(255, 255, 255); stroke-opacity: 1; stroke-width: 1px;\"/><path class=\"xgrid crisp\" transform=\"translate(263.99,0)\" d=\"M0,100v320\" style=\"stroke: rgb(255, 255, 255); stroke-opacity: 1; stroke-width: 1px;\"/><path class=\"xgrid crisp\" transform=\"translate(336.15,0)\" d=\"M0,100v320\" style=\"stroke: rgb(255, 255, 255); stroke-opacity: 1; stroke-width: 1px;\"/><path class=\"xgrid crisp\" transform=\"translate(408.32,0)\" d=\"M0,100v320\" style=\"stroke: rgb(255, 255, 255); stroke-opacity: 1; stroke-width: 1px;\"/><path class=\"xgrid crisp\" transform=\"translate(481.28,0)\" d=\"M0,100v320\" style=\"stroke: rgb(255, 255, 255); stroke-opacity: 1; stroke-width: 1px;\"/></g><g class=\"y\"><path class=\"ygrid crisp\" transform=\"translate(0,356)\" d=\"M80,0h433\" style=\"stroke: rgb(255, 255, 255); stroke-opacity: 1; stroke-width: 1px;\"/><path class=\"ygrid crisp\" transform=\"translate(0,292)\" d=\"M80,0h433\" style=\"stroke: rgb(255, 255, 255); stroke-opacity: 1; stroke-width: 1px;\"/><path class=\"ygrid crisp\" transform=\"translate(0,228)\" d=\"M80,0h433\" style=\"stroke: rgb(255, 255, 255); stroke-opacity: 1; stroke-width: 1px;\"/><path class=\"ygrid crisp\" transform=\"translate(0,164)\" d=\"M80,0h433\" style=\"stroke: rgb(255, 255, 255); stroke-opacity: 1; stroke-width: 1px;\"/></g></g><g class=\"zerolinelayer\"><path class=\"yzl zl crisp\" transform=\"translate(0,420)\" d=\"M80,0h433\" style=\"stroke: rgb(255, 255, 255); stroke-opacity: 1; stroke-width: 2px;\"/></g><g class=\"layer-between\"><g class=\"shapelayer\"/><g class=\"imagelayer\"/></g><path class=\"xlines-below\"/><path class=\"ylines-below\"/><g class=\"overlines-below\"/><g class=\"xaxislayer-below\"/><g class=\"yaxislayer-below\"/><g class=\"overaxes-below\"/><g class=\"overplot\"><g class=\"xy\" transform=\"translate(80,100)\" clip-path=\"url(#clipf01650xyplot)\"><g class=\"scatterlayer mlayer\"><g class=\"trace scatter trace969980\" style=\"stroke-miterlimit: 2; opacity: 1;\"><g class=\"fills\"/><g class=\"errorbars\"/><g class=\"lines\"><path class=\"js-line\" d=\"M0,317.44L4.76,320L5.55,314.24L11.1,320L15.86,320L16.65,320L21.41,318.72L22.21,320L26.96,319.36L27.76,320L32.51,320L33.31,318.08L38.07,297.6L38.86,311.68L43.62,320L44.41,303.36L49.17,233.6L49.96,294.4L54.72,318.08L55.51,314.24L60.27,284.8L61.06,265.6L65.82,290.56L66.62,316.16L71.37,305.92L72.17,320L76.92,309.76L77.72,320L82.48,315.52L83.27,296.96L88.03,315.52L88.82,320L93.58,320L99.13,320L99.92,284.8L105.47,320L110.23,320L115.78,319.36L116.58,311.04L121.34,216.96L122.13,316.8L126.89,314.24L127.68,320L132.44,313.6L133.23,283.52L138.78,312.96L143.54,318.72L144.33,316.16L149.09,273.92L149.88,292.48L154.64,314.88L155.44,305.92L160.19,-6073.6L160.99,-6073.6L165.75,313.6L166.54,300.16L171.3,320L172.09,320L176.85,247.68L177.64,280.32L182.4,303.36L183.19,316.8L187.95,304.64L188.74,320L193.5,312.32L194.29,300.8L199.05,320L199.85,313.6L204.6,320L205.4,320L210.16,302.72L210.95,316.8L215.71,312.32L216.5,312.32L221.26,318.08L222.05,291.2L226.81,318.72L227.6,302.72L232.36,320L238.71,320L243.46,316.8L244.26,320L249.01,311.68L249.81,318.72L254.57,320L255.36,307.84L260.12,320L260.91,305.28L265.67,320L266.46,319.36L271.22,312.96L272.01,314.88L276.77,314.88L277.56,314.24L282.32,301.44L283.12,282.88L287.87,320L288.67,320L293.42,318.08L294.22,285.44L298.98,295.04L299.77,320L304.53,312.96L305.32,313.6L310.08,318.72L310.87,320L315.63,289.28L316.42,316.8L321.18,311.68L321.97,320L326.73,19.84L327.53,287.36L332.28,316.8L333.08,318.72L337.84,315.52L338.63,316.8L343.39,320L344.18,277.12L348.94,154.88L349.73,254.72L354.49,318.08L355.28,309.76L360.04,316.16L360.83,317.44L365.59,305.92L366.38,295.04L371.14,317.44L371.94,318.08L376.69,320L382.25,320L383.04,251.52L387.8,320L388.59,320L394.14,320L398.9,314.88L399.69,319.36L404.45,318.08L410,295.68L410.79,314.88L415.55,275.84L416.35,319.36L421.9,320L426.66,318.72L427.45,319.36L432.21,320L433,320\" style=\"vector-effect: none; fill: none; stroke: rgb(99, 110, 250); stroke-opacity: 1; stroke-width: 2px; opacity: 1;\"/></g><g class=\"points\"/><g class=\"text\"/></g><g class=\"trace scatter traceafa92e\" style=\"stroke-miterlimit: 2; opacity: 1;\"><g class=\"fills\"/><g class=\"errorbars\"/><g class=\"lines\"><path class=\"js-line\" d=\"M0,317.44L4.76,314.24L5.55,320L33.31,320L38.07,307.2L38.86,314.88L43.62,320L44.41,284.8L49.17,287.36L49.96,320L54.72,263.68L55.51,314.88L60.27,277.12L61.06,311.04L65.82,284.8L66.62,306.56L71.37,284.8L72.17,320L76.92,316.16L77.72,320L82.48,306.56L83.27,313.6L88.03,320L99.13,320L99.92,311.04L105.47,320L110.23,320L115.78,311.04L116.58,296.32L121.34,308.48L122.13,296.32L126.89,312.96L127.68,318.72L133.23,305.28L137.99,311.04L143.54,216.32L144.33,320L149.09,292.48L149.88,265.6L155.44,309.12L160.19,-6085.76L160.99,-6076.16L165.75,312.96L166.54,266.24L171.3,320L172.09,320L176.85,239.36L177.64,316.8L182.4,320L183.19,314.24L187.95,293.12L188.74,320L193.5,306.56L194.29,291.2L199.05,320L199.85,319.36L204.6,320L205.4,320L210.16,294.4L210.95,315.52L215.71,320L216.5,309.12L221.26,320L222.05,316.8L226.81,316.16L227.6,319.36L232.36,320L238.71,320L243.46,312.32L244.26,320L249.01,316.8L249.81,266.88L254.57,320L260.12,320L260.91,318.08L265.67,320L266.46,318.08L271.22,315.52L272.01,320L276.77,307.84L277.56,320L282.32,298.24L283.12,318.72L288.67,320L293.42,297.6L294.22,282.88L298.98,320L299.77,319.36L304.53,305.28L305.32,320L310.08,317.44L310.87,320L315.63,286.72L316.42,296.32L321.18,300.16L321.97,320L326.73,104.32L327.53,279.68L332.28,312.32L333.08,313.6L337.84,319.36L338.63,316.8L343.39,320L344.18,256.64L348.94,88.96L349.73,320L354.49,292.48L355.28,316.8L360.04,320L360.83,320L365.59,284.8L366.38,275.84L371.14,279.68L371.94,320L376.69,320L382.25,320L383.04,181.76L387.8,320L388.59,320L404.45,320L405.24,318.08L410,300.16L410.79,309.76L415.55,304L416.35,319.36L426.66,320L427.45,319.36L433,319.36\" style=\"vector-effect: none; fill: none; stroke: rgb(239, 85, 59); stroke-opacity: 1; stroke-width: 2px; opacity: 1;\"/></g><g class=\"points\"/><g class=\"text\"/></g></g></g></g><path class=\"xlines-above crisp\" d=\"M0,0\" style=\"fill: none;\"/><path class=\"ylines-above crisp\" d=\"M0,0\" style=\"fill: none;\"/><g class=\"overlines-above\"/><g class=\"xaxislayer-above\"><g class=\"xtick\"><text text-anchor=\"middle\" x=\"0\" y=\"433\" transform=\"translate(118.07,0)\" style=\"font-family: 'Open Sans', verdana, arial, sans-serif; font-size: 12px; fill: rgb(42, 63, 95); fill-opacity: 1; white-space: pre; opacity: 1;\">Jul 2023</text></g><g class=\"xtick\"><text text-anchor=\"middle\" x=\"0\" y=\"433\" style=\"font-family: 'Open Sans', verdana, arial, sans-serif; font-size: 12px; fill: rgb(42, 63, 95); fill-opacity: 1; white-space: pre; opacity: 1;\" transform=\"translate(191.03,0)\">Oct 2023</text></g><g class=\"xtick\"><text text-anchor=\"middle\" x=\"0\" y=\"433\" style=\"font-family: 'Open Sans', verdana, arial, sans-serif; font-size: 12px; fill: rgb(42, 63, 95); fill-opacity: 1; white-space: pre; opacity: 1;\" transform=\"translate(263.99,0)\">Jan 2024</text></g><g class=\"xtick\"><text text-anchor=\"middle\" x=\"0\" y=\"433\" style=\"font-family: 'Open Sans', verdana, arial, sans-serif; font-size: 12px; fill: rgb(42, 63, 95); fill-opacity: 1; white-space: pre; opacity: 1;\" transform=\"translate(336.15,0)\">Apr 2024</text></g><g class=\"xtick\"><text text-anchor=\"middle\" x=\"0\" y=\"433\" style=\"font-family: 'Open Sans', verdana, arial, sans-serif; font-size: 12px; fill: rgb(42, 63, 95); fill-opacity: 1; white-space: pre; opacity: 1;\" transform=\"translate(408.32,0)\">Jul 2024</text></g><g class=\"xtick\"><text text-anchor=\"middle\" x=\"0\" y=\"433\" style=\"font-family: 'Open Sans', verdana, arial, sans-serif; font-size: 12px; fill: rgb(42, 63, 95); fill-opacity: 1; white-space: pre; opacity: 1;\" transform=\"translate(481.28,0)\">Oct 2024</text></g></g><g class=\"yaxislayer-above\"><g class=\"ytick\"><text text-anchor=\"end\" x=\"79\" y=\"4.199999999999999\" transform=\"translate(0,420)\" style=\"font-family: 'Open Sans', verdana, arial, sans-serif; font-size: 12px; fill: rgb(42, 63, 95); fill-opacity: 1; white-space: pre; opacity: 1;\">0</text></g><g class=\"ytick\"><text text-anchor=\"end\" x=\"79\" y=\"4.199999999999999\" style=\"font-family: 'Open Sans', verdana, arial, sans-serif; font-size: 12px; fill: rgb(42, 63, 95); fill-opacity: 1; white-space: pre; opacity: 1;\" transform=\"translate(0,356)\">10</text></g><g class=\"ytick\"><text text-anchor=\"end\" x=\"79\" y=\"4.199999999999999\" style=\"font-family: 'Open Sans', verdana, arial, sans-serif; font-size: 12px; fill: rgb(42, 63, 95); fill-opacity: 1; white-space: pre; opacity: 1;\" transform=\"translate(0,292)\">20</text></g><g class=\"ytick\"><text text-anchor=\"end\" x=\"79\" y=\"4.199999999999999\" style=\"font-family: 'Open Sans', verdana, arial, sans-serif; font-size: 12px; fill: rgb(42, 63, 95); fill-opacity: 1; white-space: pre; opacity: 1;\" transform=\"translate(0,228)\">30</text></g><g class=\"ytick\"><text text-anchor=\"end\" x=\"79\" y=\"4.199999999999999\" style=\"font-family: 'Open Sans', verdana, arial, sans-serif; font-size: 12px; fill: rgb(42, 63, 95); fill-opacity: 1; white-space: pre; opacity: 1;\" transform=\"translate(0,164)\">40</text></g><g class=\"ytick\"><text text-anchor=\"end\" x=\"79\" y=\"4.199999999999999\" style=\"font-family: 'Open Sans', verdana, arial, sans-serif; font-size: 12px; fill: rgb(42, 63, 95); fill-opacity: 1; white-space: pre; opacity: 1;\" transform=\"translate(0,100)\">50</text></g></g><g class=\"overaxes-above\"/></g></g><g class=\"polarlayer\"/><g class=\"smithlayer\"/><g class=\"ternarylayer\"/><g class=\"geolayer\"/><g class=\"funnelarealayer\"/><g class=\"pielayer\"/><g class=\"iciclelayer\"/><g class=\"treemaplayer\"/><g class=\"sunburstlayer\"/><g class=\"glimages\"/><defs id=\"topdefs-f01650\"><g class=\"clips\"/><clipPath id=\"legendf01650\"><rect width=\"166\" height=\"29\" x=\"0\" y=\"0\"/></clipPath></defs><g class=\"layer-above\"><g class=\"imagelayer\"/><g class=\"shapelayer\"/></g><g class=\"infolayer\"><g class=\"legend\" pointer-events=\"all\" transform=\"translate(521.6600000000001,100)\"><rect class=\"bg\" shape-rendering=\"crispEdges\" style=\"stroke: rgb(68, 68, 68); stroke-opacity: 1; fill: rgb(255, 255, 255); fill-opacity: 1; stroke-width: 0px;\" width=\"166\" height=\"29\" x=\"0\" y=\"0\"/><g class=\"scrollbox\" transform=\"\" clip-path=\"url(#legendf01650)\"><g class=\"groups\"><g class=\"traces\" transform=\"translate(0,14.5)\" style=\"opacity: 1;\"><text class=\"legendtext\" text-anchor=\"start\" x=\"40\" y=\"4.680000000000001\" style=\"font-family: 'Open Sans', verdana, arial, sans-serif; font-size: 12px; fill: rgb(42, 63, 95); fill-opacity: 1; white-space: pre;\">DWD B minus DWD H</text><g class=\"layers\" style=\"opacity: 1;\"><g class=\"legendfill\"/><g class=\"legendlines\"><path class=\"js-line\" d=\"M5,0h30\" style=\"fill: none; stroke: rgb(239, 85, 59); stroke-opacity: 1; stroke-width: 2px;\"/></g><g class=\"legendsymbols\"><g class=\"legendpoints\"/></g></g><rect class=\"legendtoggle\" x=\"0\" y=\"-9.5\" width=\"160.96875\" height=\"19\" style=\"fill: rgb(0, 0, 0); fill-opacity: 0;\"/></g></g></g><rect class=\"scrollbar\" rx=\"20\" ry=\"3\" width=\"0\" height=\"0\" style=\"fill: rgb(128, 139, 164); fill-opacity: 1;\" x=\"0\" y=\"0\"/></g><g class=\"g-gtitle\"><text class=\"gtitle\" x=\"35\" y=\"50\" text-anchor=\"start\" dy=\"0em\" style=\"opacity: 1; font-family: 'Open Sans', verdana, arial, sans-serif; font-size: 17px; fill: rgb(42, 63, 95); fill-opacity: 1; white-space: pre;\">rain - OpenMeteo minus DWD H</text></g><g class=\"g-xtitle\"><text class=\"xtitle\" x=\"296.5\" y=\"461.3\" text-anchor=\"middle\" style=\"opacity: 1; font-family: 'Open Sans', verdana, arial, sans-serif; font-size: 14px; fill: rgb(42, 63, 95); fill-opacity: 1; white-space: pre;\">time</text></g><g class=\"g-ytitle\"><text class=\"ytitle\" transform=\"rotate(-90,44.865625,260)\" x=\"44.865625\" y=\"260\" text-anchor=\"middle\" style=\"opacity: 1; font-family: 'Open Sans', verdana, arial, sans-serif; font-size: 14px; fill: rgb(42, 63, 95); fill-opacity: 1; white-space: pre;\">y</text></g></g></svg>"
      ]
     },
     "metadata": {},
     "output_type": "display_data"
    },
    {
     "data": {
      "image/svg+xml": [
       "<svg class=\"main-svg\" xmlns=\"http://www.w3.org/2000/svg\" xmlns:xlink=\"http://www.w3.org/1999/xlink\" width=\"700\" height=\"500\" style=\"\" viewBox=\"0 0 700 500\"><rect x=\"0\" y=\"0\" width=\"700\" height=\"500\" style=\"fill: rgb(255, 255, 255); fill-opacity: 1;\"/><defs id=\"defs-4f35ed\"><g class=\"clips\"><clipPath id=\"clip4f35edxyplot\" class=\"plotclip\"><rect width=\"433\" height=\"320\"/></clipPath><clipPath class=\"axesclip\" id=\"clip4f35edx\"><rect x=\"80\" y=\"0\" width=\"433\" height=\"500\"/></clipPath><clipPath class=\"axesclip\" id=\"clip4f35edy\"><rect x=\"0\" y=\"100\" width=\"700\" height=\"320\"/></clipPath><clipPath class=\"axesclip\" id=\"clip4f35edxy\"><rect x=\"80\" y=\"100\" width=\"433\" height=\"320\"/></clipPath></g><g class=\"gradients\"/><g class=\"patterns\"/></defs><g class=\"bglayer\"><rect class=\"bg\" x=\"80\" y=\"100\" width=\"433\" height=\"320\" style=\"fill: rgb(229, 236, 246); fill-opacity: 1; stroke-width: 0;\"/></g><g class=\"layer-below\"><g class=\"imagelayer\"/><g class=\"shapelayer\"/></g><g class=\"cartesianlayer\"><g class=\"subplot xy\"><g class=\"layer-subplot\"><g class=\"shapelayer\"/><g class=\"imagelayer\"/></g><g class=\"minor-gridlayer\"><g class=\"x\"/><g class=\"y\"/></g><g class=\"gridlayer\"><g class=\"x\"><path class=\"xgrid crisp\" transform=\"translate(118.07,0)\" d=\"M0,100v320\" style=\"stroke: rgb(255, 255, 255); stroke-opacity: 1; stroke-width: 1px;\"/><path class=\"xgrid crisp\" transform=\"translate(191.03,0)\" d=\"M0,100v320\" style=\"stroke: rgb(255, 255, 255); stroke-opacity: 1; stroke-width: 1px;\"/><path class=\"xgrid crisp\" transform=\"translate(263.99,0)\" d=\"M0,100v320\" style=\"stroke: rgb(255, 255, 255); stroke-opacity: 1; stroke-width: 1px;\"/><path class=\"xgrid crisp\" transform=\"translate(336.15,0)\" d=\"M0,100v320\" style=\"stroke: rgb(255, 255, 255); stroke-opacity: 1; stroke-width: 1px;\"/><path class=\"xgrid crisp\" transform=\"translate(408.32,0)\" d=\"M0,100v320\" style=\"stroke: rgb(255, 255, 255); stroke-opacity: 1; stroke-width: 1px;\"/><path class=\"xgrid crisp\" transform=\"translate(481.28,0)\" d=\"M0,100v320\" style=\"stroke: rgb(255, 255, 255); stroke-opacity: 1; stroke-width: 1px;\"/></g><g class=\"y\"><path class=\"ygrid crisp\" transform=\"translate(0,340)\" d=\"M80,0h433\" style=\"stroke: rgb(255, 255, 255); stroke-opacity: 1; stroke-width: 1px;\"/><path class=\"ygrid crisp\" transform=\"translate(0,260)\" d=\"M80,0h433\" style=\"stroke: rgb(255, 255, 255); stroke-opacity: 1; stroke-width: 1px;\"/><path class=\"ygrid crisp\" transform=\"translate(0,180)\" d=\"M80,0h433\" style=\"stroke: rgb(255, 255, 255); stroke-opacity: 1; stroke-width: 1px;\"/></g></g><g class=\"zerolinelayer\"><path class=\"yzl zl crisp\" transform=\"translate(0,420)\" d=\"M80,0h433\" style=\"stroke: rgb(255, 255, 255); stroke-opacity: 1; stroke-width: 2px;\"/></g><g class=\"layer-between\"><g class=\"shapelayer\"/><g class=\"imagelayer\"/></g><path class=\"xlines-below\"/><path class=\"ylines-below\"/><g class=\"overlines-below\"/><g class=\"xaxislayer-below\"/><g class=\"yaxislayer-below\"/><g class=\"overaxes-below\"/><g class=\"overplot\"><g class=\"xy\" transform=\"translate(80,100)\" clip-path=\"url(#clip4f35edxyplot)\"><g class=\"scatterlayer mlayer\"><g class=\"trace scatter tracec84b05\" style=\"stroke-miterlimit: 2; opacity: 1;\"><g class=\"fills\"/><g class=\"errorbars\"/><g class=\"lines\"><path class=\"js-line\" d=\"M0,293.12L4.76,267.2L5.55,272.96L10.31,273.6L11.1,174.08L15.86,289.28L16.65,226.88L21.41,268.8L22.21,310.08L26.96,289.28L27.76,198.4L33.31,275.2L38.07,216L38.86,121.92L43.62,266.88L44.41,309.44L49.17,209.28L49.96,149.76L54.72,219.52L55.51,154.88L60.27,169.28L61.06,139.52L65.82,299.52L66.62,216L71.37,126.72L72.17,216.32L76.92,62.72L77.72,231.68L82.48,182.4L83.27,242.56L88.03,282.56L88.82,268.48L93.58,280.96L94.37,285.12L99.13,278.08L99.92,226.88L104.68,225.28L105.47,260.8L110.23,203.84L111.03,216.96L115.78,224.96L116.58,248.32L121.34,205.12L122.13,238.08L126.89,263.36L127.68,184.64L132.44,225.92L133.23,266.88L137.99,274.24L138.78,106.24L143.54,151.04L144.33,211.2L149.09,191.68L149.88,156.48L154.64,235.2L155.44,244.16L155.9872041745962,-6400.000000000001L0,-6400L165.20331498518462,-6400L165.75,223.36L166.54,148.16L171.3,258.24L172.09,271.68L176.85,137.28L177.64,236.8L182.4,217.92L183.19,269.44L187.95,295.04L188.74,284.48L193.5,193.6L194.29,253.44L199.05,195.84L199.85,270.72L204.6,210.56L205.4,210.56L210.16,245.44L210.95,211.84L215.71,257.28L216.5,244.16L221.26,271.68L222.05,194.24L226.81,260.16L227.6,251.84L232.36,315.2L233.15,281.92L237.91,264.64L238.71,245.44L243.46,222.72L244.26,216.64L249.01,152.96L249.81,217.92L254.57,229.76L255.36,225.28L260.12,255.68L260.91,207.04L265.67,151.36L266.46,262.4L271.22,246.08L272.01,244.16L276.77,302.4L277.56,245.12L282.32,243.52L283.12,116.16L287.87,222.08L288.67,302.08L293.42,266.88L294.22,174.08L298.98,270.72L299.77,270.4L304.53,272L305.32,316.16L310.08,166.08L310.87,232.64L315.63,146.56L316.42,267.2L321.18,237.44L321.97,262.72L326.73,302.72L327.53,231.68L332.28,229.76L333.08,231.04L337.84,184.64L338.63,198.08L343.39,225.6L344.18,232.96L348.94,287.68L349.73,181.76L354.49,243.2L355.28,199.68L360.04,176L360.83,275.52L365.59,219.2L366.38,249.28L371.14,196.8L371.94,171.84L376.69,295.04L377.49,308.8L382.25,249.28L383.04,248.64L387.8,172.16L388.59,248L393.35,245.44L394.14,257.92L398.9,224L399.69,214.4L404.45,243.84L405.24,244.48L410,232.32L410.79,102.08L415.55,215.68L416.35,266.56L421.1,236.16L421.9,156.48L426.66,223.04L427.45,266.88L432.21,285.76L433,267.2\" style=\"vector-effect: none; fill: none; stroke: rgb(99, 110, 250); stroke-opacity: 1; stroke-width: 2px; opacity: 1;\"/></g><g class=\"points\"/><g class=\"text\"/></g><g class=\"trace scatter tracefec624\" style=\"stroke-miterlimit: 2; opacity: 1;\"><g class=\"fills\"/><g class=\"errorbars\"/><g class=\"lines\"><path class=\"js-line\" d=\"M0,302.72L4.76,291.2L5.55,296.96L10.31,320L11.1,233.6L15.86,308.48L16.65,256.64L21.41,314.24L22.21,291.2L26.96,291.2L27.76,308.48L32.51,296.96L33.31,308.48L38.07,291.2L38.86,199.04L44.41,302.72L49.17,279.68L49.96,262.4L54.72,314.24L55.51,314.24L60.27,296.96L61.06,314.24L65.82,296.96L66.62,285.44L71.37,314.24L72.17,262.4L76.92,314.24L77.72,296.96L82.48,308.48L83.27,302.72L88.03,308.48L88.82,320L93.58,320L94.37,320L94.92461233729486,-6400L104.12622781606899,-6400L104.68,308.48L105.47,296.96L110.23,314.24L111.03,308.48L115.78,302.72L116.58,296.96L121.34,268.16L122.13,302.72L126.89,314.24L132.44,314.24L133.23,256.64L138.78,296.96L143.54,320L144.33,273.92L149.09,314.24L149.88,296.96L154.64,320L155.44,291.2L155.991295500716,-6400L165.1960618172129,-6400L165.75,308.48L166.54,308.48L171.3,268.16L172.09,233.6L176.85,302.72L177.64,239.36L182.4,273.92L183.19,291.2L187.95,262.4L188.74,250.88L193.5,233.6L194.29,285.44L199.05,256.64L199.85,320L204.6,296.96L205.4,279.68L210.16,233.6L210.95,296.96L215.71,302.72L216.5,308.48L221.26,308.48L222.05,302.72L226.81,279.68L227.6,268.16L232.36,320L233.15,314.24L237.91,296.96L238.71,296.96L243.46,279.68L244.26,296.96L249.01,273.92L249.81,314.24L254.57,279.68L255.36,302.72L260.12,314.24L260.91,273.92L265.67,268.16L266.46,291.2L271.22,308.48L272.01,308.48L276.77,273.92L277.56,268.16L282.32,314.24L283.12,262.4L287.87,262.4L288.67,308.48L293.42,262.4L294.22,308.48L298.98,296.96L299.77,302.72L304.53,296.96L305.32,285.44L310.08,320L310.87,262.4L315.63,296.96L316.42,268.16L321.18,308.48L321.97,302.72L326.73,302.72L327.53,302.72L332.28,268.16L333.08,268.16L337.84,216.32L338.63,222.08L343.39,291.2L344.18,279.68L348.94,285.44L349.73,256.64L354.49,302.72L355.28,314.24L360.04,256.64L360.83,296.96L365.59,314.24L366.38,308.48L371.14,308.48L371.94,262.4L376.69,296.96L377.49,314.24L382.25,302.72L383.04,320L387.8,291.2L388.59,262.4L393.35,320L394.14,320L398.9,302.72L399.69,320L404.45,308.48L410,308.48L410.79,256.64L416.35,314.24L421.1,314.24L421.9,320L426.66,314.24L427.45,302.72L432.21,296.96L433,285.44\" style=\"vector-effect: none; fill: none; stroke: rgb(239, 85, 59); stroke-opacity: 1; stroke-width: 2px; opacity: 1;\"/></g><g class=\"points\"/><g class=\"text\"/></g></g></g></g><path class=\"xlines-above crisp\" d=\"M0,0\" style=\"fill: none;\"/><path class=\"ylines-above crisp\" d=\"M0,0\" style=\"fill: none;\"/><g class=\"overlines-above\"/><g class=\"xaxislayer-above\"><g class=\"xtick\"><text text-anchor=\"middle\" x=\"0\" y=\"433\" transform=\"translate(118.07,0)\" style=\"font-family: 'Open Sans', verdana, arial, sans-serif; font-size: 12px; fill: rgb(42, 63, 95); fill-opacity: 1; white-space: pre; opacity: 1;\">Jul 2023</text></g><g class=\"xtick\"><text text-anchor=\"middle\" x=\"0\" y=\"433\" style=\"font-family: 'Open Sans', verdana, arial, sans-serif; font-size: 12px; fill: rgb(42, 63, 95); fill-opacity: 1; white-space: pre; opacity: 1;\" transform=\"translate(191.03,0)\">Oct 2023</text></g><g class=\"xtick\"><text text-anchor=\"middle\" x=\"0\" y=\"433\" style=\"font-family: 'Open Sans', verdana, arial, sans-serif; font-size: 12px; fill: rgb(42, 63, 95); fill-opacity: 1; white-space: pre; opacity: 1;\" transform=\"translate(263.99,0)\">Jan 2024</text></g><g class=\"xtick\"><text text-anchor=\"middle\" x=\"0\" y=\"433\" style=\"font-family: 'Open Sans', verdana, arial, sans-serif; font-size: 12px; fill: rgb(42, 63, 95); fill-opacity: 1; white-space: pre; opacity: 1;\" transform=\"translate(336.15,0)\">Apr 2024</text></g><g class=\"xtick\"><text text-anchor=\"middle\" x=\"0\" y=\"433\" style=\"font-family: 'Open Sans', verdana, arial, sans-serif; font-size: 12px; fill: rgb(42, 63, 95); fill-opacity: 1; white-space: pre; opacity: 1;\" transform=\"translate(408.32,0)\">Jul 2024</text></g><g class=\"xtick\"><text text-anchor=\"middle\" x=\"0\" y=\"433\" style=\"font-family: 'Open Sans', verdana, arial, sans-serif; font-size: 12px; fill: rgb(42, 63, 95); fill-opacity: 1; white-space: pre; opacity: 1;\" transform=\"translate(481.28,0)\">Oct 2024</text></g></g><g class=\"yaxislayer-above\"><g class=\"ytick\"><text text-anchor=\"end\" x=\"79\" y=\"4.199999999999999\" transform=\"translate(0,420)\" style=\"font-family: 'Open Sans', verdana, arial, sans-serif; font-size: 12px; fill: rgb(42, 63, 95); fill-opacity: 1; white-space: pre; opacity: 1;\">0</text></g><g class=\"ytick\"><text text-anchor=\"end\" x=\"79\" y=\"4.199999999999999\" style=\"font-family: 'Open Sans', verdana, arial, sans-serif; font-size: 12px; fill: rgb(42, 63, 95); fill-opacity: 1; white-space: pre; opacity: 1;\" transform=\"translate(0,340)\">5</text></g><g class=\"ytick\"><text text-anchor=\"end\" x=\"79\" y=\"4.199999999999999\" style=\"font-family: 'Open Sans', verdana, arial, sans-serif; font-size: 12px; fill: rgb(42, 63, 95); fill-opacity: 1; white-space: pre; opacity: 1;\" transform=\"translate(0,260)\">10</text></g><g class=\"ytick\"><text text-anchor=\"end\" x=\"79\" y=\"4.199999999999999\" style=\"font-family: 'Open Sans', verdana, arial, sans-serif; font-size: 12px; fill: rgb(42, 63, 95); fill-opacity: 1; white-space: pre; opacity: 1;\" transform=\"translate(0,180)\">15</text></g><g class=\"ytick\"><text text-anchor=\"end\" x=\"79\" y=\"4.199999999999999\" style=\"font-family: 'Open Sans', verdana, arial, sans-serif; font-size: 12px; fill: rgb(42, 63, 95); fill-opacity: 1; white-space: pre; opacity: 1;\" transform=\"translate(0,100)\">20</text></g></g><g class=\"overaxes-above\"/></g></g><g class=\"polarlayer\"/><g class=\"smithlayer\"/><g class=\"ternarylayer\"/><g class=\"geolayer\"/><g class=\"funnelarealayer\"/><g class=\"pielayer\"/><g class=\"iciclelayer\"/><g class=\"treemaplayer\"/><g class=\"sunburstlayer\"/><g class=\"glimages\"/><defs id=\"topdefs-4f35ed\"><g class=\"clips\"/><clipPath id=\"legend4f35ed\"><rect width=\"166\" height=\"29\" x=\"0\" y=\"0\"/></clipPath></defs><g class=\"layer-above\"><g class=\"imagelayer\"/><g class=\"shapelayer\"/></g><g class=\"infolayer\"><g class=\"legend\" pointer-events=\"all\" transform=\"translate(521.6600000000001,100)\"><rect class=\"bg\" shape-rendering=\"crispEdges\" width=\"166\" height=\"29\" x=\"0\" y=\"0\" style=\"stroke: rgb(68, 68, 68); stroke-opacity: 1; fill: rgb(255, 255, 255); fill-opacity: 1; stroke-width: 0px;\"/><g class=\"scrollbox\" transform=\"\" clip-path=\"url(#legend4f35ed)\"><g class=\"groups\"><g class=\"traces\" transform=\"translate(0,14.5)\" style=\"opacity: 1;\"><text class=\"legendtext\" text-anchor=\"start\" x=\"40\" y=\"4.680000000000001\" style=\"font-family: 'Open Sans', verdana, arial, sans-serif; font-size: 12px; fill: rgb(42, 63, 95); fill-opacity: 1; white-space: pre;\">DWD B minus DWD H</text><g class=\"layers\" style=\"opacity: 1;\"><g class=\"legendfill\"/><g class=\"legendlines\"><path class=\"js-line\" d=\"M5,0h30\" style=\"fill: none; stroke: rgb(239, 85, 59); stroke-opacity: 1; stroke-width: 2px;\"/></g><g class=\"legendsymbols\"><g class=\"legendpoints\"/></g></g><rect class=\"legendtoggle\" x=\"0\" y=\"-9.5\" width=\"160.96875\" height=\"19\" style=\"fill: rgb(0, 0, 0); fill-opacity: 0;\"/></g></g></g><rect class=\"scrollbar\" rx=\"20\" ry=\"3\" width=\"0\" height=\"0\" x=\"0\" y=\"0\" style=\"fill: rgb(128, 139, 164); fill-opacity: 1;\"/></g><g class=\"g-gtitle\"><text class=\"gtitle\" x=\"35\" y=\"50\" text-anchor=\"start\" dy=\"0em\" style=\"opacity: 1; font-family: 'Open Sans', verdana, arial, sans-serif; font-size: 17px; fill: rgb(42, 63, 95); fill-opacity: 1; white-space: pre;\">wind - OpenMeteo minus DWD H</text></g><g class=\"g-xtitle\"><text class=\"xtitle\" x=\"296.5\" y=\"461.3\" text-anchor=\"middle\" style=\"opacity: 1; font-family: 'Open Sans', verdana, arial, sans-serif; font-size: 14px; fill: rgb(42, 63, 95); fill-opacity: 1; white-space: pre;\">time</text></g><g class=\"g-ytitle\"><text class=\"ytitle\" transform=\"rotate(-90,45.865625,260)\" x=\"45.865625\" y=\"260\" text-anchor=\"middle\" style=\"opacity: 1; font-family: 'Open Sans', verdana, arial, sans-serif; font-size: 14px; fill: rgb(42, 63, 95); fill-opacity: 1; white-space: pre;\">y</text></g></g></svg>"
      ]
     },
     "metadata": {},
     "output_type": "display_data"
    },
    {
     "data": {
      "image/svg+xml": [
       "<svg class=\"main-svg\" xmlns=\"http://www.w3.org/2000/svg\" xmlns:xlink=\"http://www.w3.org/1999/xlink\" width=\"700\" height=\"500\" style=\"\" viewBox=\"0 0 700 500\"><rect x=\"0\" y=\"0\" width=\"700\" height=\"500\" style=\"fill: rgb(255, 255, 255); fill-opacity: 1;\"/><defs id=\"defs-08fc71\"><g class=\"clips\"><clipPath id=\"clip08fc71xyplot\" class=\"plotclip\"><rect width=\"433\" height=\"320\"/></clipPath><clipPath class=\"axesclip\" id=\"clip08fc71x\"><rect x=\"80\" y=\"0\" width=\"433\" height=\"500\"/></clipPath><clipPath class=\"axesclip\" id=\"clip08fc71y\"><rect x=\"0\" y=\"100\" width=\"700\" height=\"320\"/></clipPath><clipPath class=\"axesclip\" id=\"clip08fc71xy\"><rect x=\"80\" y=\"100\" width=\"433\" height=\"320\"/></clipPath></g><g class=\"gradients\"/><g class=\"patterns\"/></defs><g class=\"bglayer\"><rect class=\"bg\" x=\"80\" y=\"100\" width=\"433\" height=\"320\" style=\"fill: rgb(229, 236, 246); fill-opacity: 1; stroke-width: 0;\"/></g><g class=\"layer-below\"><g class=\"imagelayer\"/><g class=\"shapelayer\"/></g><g class=\"cartesianlayer\"><g class=\"subplot xy\"><g class=\"layer-subplot\"><g class=\"shapelayer\"/><g class=\"imagelayer\"/></g><g class=\"minor-gridlayer\"><g class=\"x\"/><g class=\"y\"/></g><g class=\"gridlayer\"><g class=\"x\"><path class=\"xgrid crisp\" transform=\"translate(118.07,0)\" d=\"M0,100v320\" style=\"stroke: rgb(255, 255, 255); stroke-opacity: 1; stroke-width: 1px;\"/><path class=\"xgrid crisp\" transform=\"translate(191.03,0)\" d=\"M0,100v320\" style=\"stroke: rgb(255, 255, 255); stroke-opacity: 1; stroke-width: 1px;\"/><path class=\"xgrid crisp\" transform=\"translate(263.99,0)\" d=\"M0,100v320\" style=\"stroke: rgb(255, 255, 255); stroke-opacity: 1; stroke-width: 1px;\"/><path class=\"xgrid crisp\" transform=\"translate(336.15,0)\" d=\"M0,100v320\" style=\"stroke: rgb(255, 255, 255); stroke-opacity: 1; stroke-width: 1px;\"/><path class=\"xgrid crisp\" transform=\"translate(408.32,0)\" d=\"M0,100v320\" style=\"stroke: rgb(255, 255, 255); stroke-opacity: 1; stroke-width: 1px;\"/><path class=\"xgrid crisp\" transform=\"translate(481.28,0)\" d=\"M0,100v320\" style=\"stroke: rgb(255, 255, 255); stroke-opacity: 1; stroke-width: 1px;\"/></g><g class=\"y\"><path class=\"ygrid crisp\" transform=\"translate(0,366.67)\" d=\"M80,0h433\" style=\"stroke: rgb(255, 255, 255); stroke-opacity: 1; stroke-width: 1px;\"/><path class=\"ygrid crisp\" transform=\"translate(0,313.33000000000004)\" d=\"M80,0h433\" style=\"stroke: rgb(255, 255, 255); stroke-opacity: 1; stroke-width: 1px;\"/><path class=\"ygrid crisp\" transform=\"translate(0,260)\" d=\"M80,0h433\" style=\"stroke: rgb(255, 255, 255); stroke-opacity: 1; stroke-width: 1px;\"/><path class=\"ygrid crisp\" transform=\"translate(0,206.67000000000002)\" d=\"M80,0h433\" style=\"stroke: rgb(255, 255, 255); stroke-opacity: 1; stroke-width: 1px;\"/><path class=\"ygrid crisp\" transform=\"translate(0,153.32999999999998)\" d=\"M80,0h433\" style=\"stroke: rgb(255, 255, 255); stroke-opacity: 1; stroke-width: 1px;\"/></g></g><g class=\"zerolinelayer\"><path class=\"yzl zl crisp\" transform=\"translate(0,420)\" d=\"M80,0h433\" style=\"stroke: rgb(255, 255, 255); stroke-opacity: 1; stroke-width: 2px;\"/></g><g class=\"layer-between\"><g class=\"shapelayer\"/><g class=\"imagelayer\"/></g><path class=\"xlines-below\"/><path class=\"ylines-below\"/><g class=\"overlines-below\"/><g class=\"xaxislayer-below\"/><g class=\"yaxislayer-below\"/><g class=\"overaxes-below\"/><g class=\"overplot\"><g class=\"xy\" transform=\"translate(80,100)\" clip-path=\"url(#clip08fc71xyplot)\"><g class=\"scatterlayer mlayer\"><g class=\"trace scatter traceeea758\" style=\"stroke-miterlimit: 2; opacity: 1;\"><g class=\"fills\"/><g class=\"errorbars\"/><g class=\"lines\"><path class=\"js-line\" d=\"M0,181.76L4.76,312.32L5.55,312.75L10.31,254.51L11.1,278.19L15.86,289.49L16.65,308.91L21.41,54.83L22.21,281.81L26.96,289.07L27.76,265.81L32.51,239.36L33.31,266.24L38.07,273.49L38.86,247.25L43.62,231.89L44.41,-221.23L49.96,261.97L54.72,262.19L55.51,254.51L60.27,319.57L65.82,143.15L66.62,289.28L71.37,247.25L72.17,282.03L76.92,36.05L77.72,312.32L82.48,300.37L83.27,119.89L88.03,312.53L88.82,312.75L93.58,270.08L94.37,281.81L99.13,304.85L99.92,304.85L104.68,304.21L105.47,297.39L111.03,231.68L115.78,239.15L116.58,308.91L121.34,293.33L122.13,293.33L126.89,277.97L127.68,189.65L132.44,315.95L133.23,304.64L137.99,304.43L138.78,254.29L143.54,235.52L144.33,296.75L149.09,319.79L149.88,251.31L154.64,320L155.44,301.01L156.264271319319,-6400L0,-6400L164.9268625976379,-6399.999999999996L165.75,277.55L166.54,242.99L171.3,312.53L172.09,296.53L176.85,312.53L177.64,308.69L182.4,178.35L183.19,93.44L187.95,316.59L188.74,308.48L193.5,200.75L194.29,312.11L199.05,235.95L199.85,300.37L204.6,316.16L205.4,274.35L210.16,224.43L210.95,292.91L215.71,265.81L216.5,319.79L221.26,300.8L222.05,292.91L226.81,146.77L227.6,293.55L232.36,250.88L233.15,262.83L237.91,308.27L238.71,281.6L243.46,293.55L244.26,312.32L249.01,13.01L249.81,301.23L254.57,250.88L255.36,296.75L260.12,312.75L260.91,196.69L265.67,228.05L266.46,262.19L271.22,239.57L272.01,289.28L276.77,258.13L277.56,232.11L282.32,304.85L283.12,228.27L287.87,301.01L288.67,277.55L293.42,270.08L294.22,308.48L298.98,216.32L299.77,312.32L304.53,316.16L305.32,273.71L310.08,320L310.87,296.75L315.63,293.33L316.42,281.39L321.18,308.05L321.97,274.35L326.73,-36.91L327.53,-48.64L332.28,228.05L333.08,292.91L337.84,231.25L338.63,315.73L343.39,316.16L344.18,201.17L348.94,308.27L349.73,208.21L354.49,292.91L355.28,250.45L360.04,254.72L360.83,300.8L365.59,254.93L366.38,273.92L371.14,220.37L371.94,312.75L376.69,312.11L377.49,311.89L382.25,273.92L383.04,208.21L387.8,235.52L388.59,315.95L393.35,304.21L394.14,308.69L398.9,315.95L399.69,274.35L404.45,289.07L405.24,224.21L410,308.05L410.79,258.35L415.55,239.36L416.35,285.65L421.1,289.07L421.9,262.19L426.66,231.89L427.45,315.95L432.21,293.12L433,289.71\" style=\"vector-effect: none; fill: none; stroke: rgb(99, 110, 250); stroke-opacity: 1; stroke-width: 2px; opacity: 1;\"/></g><g class=\"points\"/><g class=\"text\"/></g><g class=\"trace scatter tracef8bd55\" style=\"stroke-miterlimit: 2; opacity: 1;\"><g class=\"fills\"/><g class=\"errorbars\"/><g class=\"lines\"><path class=\"js-line\" d=\"M0,250.88L4.76,285.44L5.55,247.04L10.31,285.44L11.1,235.52L15.86,273.92L16.65,227.84L21.41,124.16L22.21,312.32L26.96,312.32L27.76,300.8L32.51,300.8L33.31,312.32L38.07,193.28L38.86,208.64L43.62,258.56L44.41,128L49.17,273.92L49.96,262.4L54.72,296.96L55.51,293.12L60.27,189.44L61.06,239.36L65.82,316.16L66.62,235.52L71.37,154.88L72.17,254.72L76.92,277.76L77.72,212.48L82.48,308.48L83.27,273.92L88.03,281.6L88.82,300.8L93.58,304.64L93.71732974910394,-6400L0,-6400L103.85492703266158,-6400.000000000004L104.68,304.64L105.47,262.4L110.23,281.6L111.03,320L115.78,316.16L116.58,212.48L121.34,308.48L122.13,293.12L126.89,285.44L127.68,85.76L132.44,262.4L133.23,281.6L137.99,239.36L138.78,266.24L143.54,300.8L144.33,270.08L149.09,320L149.88,293.12L154.64,273.92L155.44,258.56L156.26110457581498,-6400L164.92487021382397,-6400L165.75,293.12L166.54,135.68L171.3,300.8L172.09,262.4L176.85,231.68L177.64,124.16L182.4,308.48L183.19,120.32L187.95,239.36L188.74,266.24L193.5,158.72L194.29,250.88L199.05,289.28L199.85,220.16L204.6,312.32L205.4,273.92L210.16,216.32L210.95,293.12L215.71,320L216.5,304.64L221.26,262.4L222.05,258.56L226.81,204.8L227.6,293.12L232.36,247.04L233.15,208.64L237.91,312.32L243.46,266.24L244.26,220.16L249.01,174.08L249.81,308.48L254.57,289.28L255.36,243.2L260.12,273.92L260.91,254.72L265.67,162.56L266.46,300.8L271.22,200.96L272.01,296.96L276.77,300.8L277.56,312.32L282.32,320L283.12,239.36L287.87,247.04L288.67,300.8L293.42,162.56L294.22,300.8L298.98,262.4L299.77,181.76L305.32,258.56L310.08,300.8L310.87,151.04L315.63,300.8L316.42,116.48L321.18,266.24L321.97,273.92L326.73,70.4L327.53,-90.88L332.28,208.64L333.08,239.36L337.84,200.96L338.63,235.52L343.39,266.24L344.18,262.4L348.94,293.12L349.73,212.48L354.49,300.8L355.28,300.8L360.04,243.2L360.83,193.28L365.59,270.08L366.38,289.28L371.14,200.96L371.94,285.44L376.69,300.8L377.49,293.12L382.25,281.6L383.04,220.16L387.8,308.48L388.59,243.2L393.35,312.32L398.9,312.32L399.69,289.28L404.45,304.64L405.24,239.36L410,300.8L410.79,293.12L415.55,289.28L416.35,254.72L421.9,312.32L426.66,208.64L427.45,273.92L432.21,316.16L433,300.8\" style=\"vector-effect: none; fill: none; stroke: rgb(239, 85, 59); stroke-opacity: 1; stroke-width: 2px; opacity: 1;\"/></g><g class=\"points\"/><g class=\"text\"/></g></g></g></g><path class=\"xlines-above crisp\" d=\"M0,0\" style=\"fill: none;\"/><path class=\"ylines-above crisp\" d=\"M0,0\" style=\"fill: none;\"/><g class=\"overlines-above\"/><g class=\"xaxislayer-above\"><g class=\"xtick\"><text text-anchor=\"middle\" x=\"0\" y=\"433\" transform=\"translate(118.07,0)\" style=\"font-family: 'Open Sans', verdana, arial, sans-serif; font-size: 12px; fill: rgb(42, 63, 95); fill-opacity: 1; white-space: pre; opacity: 1;\">Jul 2023</text></g><g class=\"xtick\"><text text-anchor=\"middle\" x=\"0\" y=\"433\" style=\"font-family: 'Open Sans', verdana, arial, sans-serif; font-size: 12px; fill: rgb(42, 63, 95); fill-opacity: 1; white-space: pre; opacity: 1;\" transform=\"translate(191.03,0)\">Oct 2023</text></g><g class=\"xtick\"><text text-anchor=\"middle\" x=\"0\" y=\"433\" style=\"font-family: 'Open Sans', verdana, arial, sans-serif; font-size: 12px; fill: rgb(42, 63, 95); fill-opacity: 1; white-space: pre; opacity: 1;\" transform=\"translate(263.99,0)\">Jan 2024</text></g><g class=\"xtick\"><text text-anchor=\"middle\" x=\"0\" y=\"433\" style=\"font-family: 'Open Sans', verdana, arial, sans-serif; font-size: 12px; fill: rgb(42, 63, 95); fill-opacity: 1; white-space: pre; opacity: 1;\" transform=\"translate(336.15,0)\">Apr 2024</text></g><g class=\"xtick\"><text text-anchor=\"middle\" x=\"0\" y=\"433\" style=\"font-family: 'Open Sans', verdana, arial, sans-serif; font-size: 12px; fill: rgb(42, 63, 95); fill-opacity: 1; white-space: pre; opacity: 1;\" transform=\"translate(408.32,0)\">Jul 2024</text></g><g class=\"xtick\"><text text-anchor=\"middle\" x=\"0\" y=\"433\" style=\"font-family: 'Open Sans', verdana, arial, sans-serif; font-size: 12px; fill: rgb(42, 63, 95); fill-opacity: 1; white-space: pre; opacity: 1;\" transform=\"translate(481.28,0)\">Oct 2024</text></g></g><g class=\"yaxislayer-above\"><g class=\"ytick\"><text text-anchor=\"end\" x=\"79\" y=\"4.199999999999999\" transform=\"translate(0,420)\" style=\"font-family: 'Open Sans', verdana, arial, sans-serif; font-size: 12px; fill: rgb(42, 63, 95); fill-opacity: 1; white-space: pre; opacity: 1;\">0</text></g><g class=\"ytick\"><text text-anchor=\"end\" x=\"79\" y=\"4.199999999999999\" style=\"font-family: 'Open Sans', verdana, arial, sans-serif; font-size: 12px; fill: rgb(42, 63, 95); fill-opacity: 1; white-space: pre; opacity: 1;\" transform=\"translate(0,366.67)\">5</text></g><g class=\"ytick\"><text text-anchor=\"end\" x=\"79\" y=\"4.199999999999999\" style=\"font-family: 'Open Sans', verdana, arial, sans-serif; font-size: 12px; fill: rgb(42, 63, 95); fill-opacity: 1; white-space: pre; opacity: 1;\" transform=\"translate(0,313.33000000000004)\">10</text></g><g class=\"ytick\"><text text-anchor=\"end\" x=\"79\" y=\"4.199999999999999\" style=\"font-family: 'Open Sans', verdana, arial, sans-serif; font-size: 12px; fill: rgb(42, 63, 95); fill-opacity: 1; white-space: pre; opacity: 1;\" transform=\"translate(0,260)\">15</text></g><g class=\"ytick\"><text text-anchor=\"end\" x=\"79\" y=\"4.199999999999999\" style=\"font-family: 'Open Sans', verdana, arial, sans-serif; font-size: 12px; fill: rgb(42, 63, 95); fill-opacity: 1; white-space: pre; opacity: 1;\" transform=\"translate(0,206.67000000000002)\">20</text></g><g class=\"ytick\"><text text-anchor=\"end\" x=\"79\" y=\"4.199999999999999\" style=\"font-family: 'Open Sans', verdana, arial, sans-serif; font-size: 12px; fill: rgb(42, 63, 95); fill-opacity: 1; white-space: pre; opacity: 1;\" transform=\"translate(0,153.32999999999998)\">25</text></g><g class=\"ytick\"><text text-anchor=\"end\" x=\"79\" y=\"4.199999999999999\" style=\"font-family: 'Open Sans', verdana, arial, sans-serif; font-size: 12px; fill: rgb(42, 63, 95); fill-opacity: 1; white-space: pre; opacity: 1;\" transform=\"translate(0,100)\">30</text></g></g><g class=\"overaxes-above\"/></g></g><g class=\"polarlayer\"/><g class=\"smithlayer\"/><g class=\"ternarylayer\"/><g class=\"geolayer\"/><g class=\"funnelarealayer\"/><g class=\"pielayer\"/><g class=\"iciclelayer\"/><g class=\"treemaplayer\"/><g class=\"sunburstlayer\"/><g class=\"glimages\"/><defs id=\"topdefs-08fc71\"><g class=\"clips\"/><clipPath id=\"legend08fc71\"><rect width=\"166\" height=\"29\" x=\"0\" y=\"0\"/></clipPath></defs><g class=\"layer-above\"><g class=\"imagelayer\"/><g class=\"shapelayer\"/></g><g class=\"infolayer\"><g class=\"legend\" pointer-events=\"all\" transform=\"translate(521.6600000000001,100)\"><rect class=\"bg\" shape-rendering=\"crispEdges\" width=\"166\" height=\"29\" x=\"0\" y=\"0\" style=\"stroke: rgb(68, 68, 68); stroke-opacity: 1; fill: rgb(255, 255, 255); fill-opacity: 1; stroke-width: 0px;\"/><g class=\"scrollbox\" transform=\"\" clip-path=\"url(#legend08fc71)\"><g class=\"groups\"><g class=\"traces\" transform=\"translate(0,14.5)\" style=\"opacity: 1;\"><text class=\"legendtext\" text-anchor=\"start\" x=\"40\" y=\"4.680000000000001\" style=\"font-family: 'Open Sans', verdana, arial, sans-serif; font-size: 12px; fill: rgb(42, 63, 95); fill-opacity: 1; white-space: pre;\">DWD B minus DWD H</text><g class=\"layers\" style=\"opacity: 1;\"><g class=\"legendfill\"/><g class=\"legendlines\"><path class=\"js-line\" d=\"M5,0h30\" style=\"fill: none; stroke: rgb(239, 85, 59); stroke-opacity: 1; stroke-width: 2px;\"/></g><g class=\"legendsymbols\"><g class=\"legendpoints\"/></g></g><rect class=\"legendtoggle\" x=\"0\" y=\"-9.5\" width=\"160.96875\" height=\"19\" style=\"fill: rgb(0, 0, 0); fill-opacity: 0;\"/></g></g></g><rect class=\"scrollbar\" rx=\"20\" ry=\"3\" width=\"0\" height=\"0\" x=\"0\" y=\"0\" style=\"fill: rgb(128, 139, 164); fill-opacity: 1;\"/></g><g class=\"g-gtitle\"><text class=\"gtitle\" x=\"35\" y=\"50\" text-anchor=\"start\" dy=\"0em\" style=\"opacity: 1; font-family: 'Open Sans', verdana, arial, sans-serif; font-size: 17px; fill: rgb(42, 63, 95); fill-opacity: 1; white-space: pre;\">gust - OpenMeteo minus DWD H</text></g><g class=\"g-xtitle\"><text class=\"xtitle\" x=\"296.5\" y=\"461.3\" text-anchor=\"middle\" style=\"opacity: 1; font-family: 'Open Sans', verdana, arial, sans-serif; font-size: 14px; fill: rgb(42, 63, 95); fill-opacity: 1; white-space: pre;\">time</text></g><g class=\"g-ytitle\"><text class=\"ytitle\" transform=\"rotate(-90,45.865625,260)\" x=\"45.865625\" y=\"260\" text-anchor=\"middle\" style=\"opacity: 1; font-family: 'Open Sans', verdana, arial, sans-serif; font-size: 14px; fill: rgb(42, 63, 95); fill-opacity: 1; white-space: pre;\">y</text></g></g></svg>"
      ]
     },
     "metadata": {},
     "output_type": "display_data"
    },
    {
     "data": {
      "image/svg+xml": [
       "<svg class=\"main-svg\" xmlns=\"http://www.w3.org/2000/svg\" xmlns:xlink=\"http://www.w3.org/1999/xlink\" width=\"700\" height=\"500\" style=\"\" viewBox=\"0 0 700 500\"><rect x=\"0\" y=\"0\" width=\"700\" height=\"500\" style=\"fill: rgb(255, 255, 255); fill-opacity: 1;\"/><defs id=\"defs-e906b1\"><g class=\"clips\"><clipPath id=\"clipe906b1xyplot\" class=\"plotclip\"><rect width=\"433\" height=\"320\"/></clipPath><clipPath class=\"axesclip\" id=\"clipe906b1x\"><rect x=\"80\" y=\"0\" width=\"433\" height=\"500\"/></clipPath><clipPath class=\"axesclip\" id=\"clipe906b1y\"><rect x=\"0\" y=\"100\" width=\"700\" height=\"320\"/></clipPath><clipPath class=\"axesclip\" id=\"clipe906b1xy\"><rect x=\"80\" y=\"100\" width=\"433\" height=\"320\"/></clipPath></g><g class=\"gradients\"/><g class=\"patterns\"/></defs><g class=\"bglayer\"><rect class=\"bg\" x=\"80\" y=\"100\" width=\"433\" height=\"320\" style=\"fill: rgb(229, 236, 246); fill-opacity: 1; stroke-width: 0;\"/></g><g class=\"layer-below\"><g class=\"imagelayer\"/><g class=\"shapelayer\"/></g><g class=\"cartesianlayer\"><g class=\"subplot xy\"><g class=\"layer-subplot\"><g class=\"shapelayer\"/><g class=\"imagelayer\"/></g><g class=\"minor-gridlayer\"><g class=\"x\"/><g class=\"y\"/></g><g class=\"gridlayer\"><g class=\"x\"><path class=\"xgrid crisp\" transform=\"translate(118.07,0)\" d=\"M0,100v320\" style=\"stroke: rgb(255, 255, 255); stroke-opacity: 1; stroke-width: 1px;\"/><path class=\"xgrid crisp\" transform=\"translate(191.03,0)\" d=\"M0,100v320\" style=\"stroke: rgb(255, 255, 255); stroke-opacity: 1; stroke-width: 1px;\"/><path class=\"xgrid crisp\" transform=\"translate(263.99,0)\" d=\"M0,100v320\" style=\"stroke: rgb(255, 255, 255); stroke-opacity: 1; stroke-width: 1px;\"/><path class=\"xgrid crisp\" transform=\"translate(336.15,0)\" d=\"M0,100v320\" style=\"stroke: rgb(255, 255, 255); stroke-opacity: 1; stroke-width: 1px;\"/><path class=\"xgrid crisp\" transform=\"translate(408.32,0)\" d=\"M0,100v320\" style=\"stroke: rgb(255, 255, 255); stroke-opacity: 1; stroke-width: 1px;\"/><path class=\"xgrid crisp\" transform=\"translate(481.28,0)\" d=\"M0,100v320\" style=\"stroke: rgb(255, 255, 255); stroke-opacity: 1; stroke-width: 1px;\"/></g><g class=\"y\"><path class=\"ygrid crisp\" transform=\"translate(0,365.29)\" d=\"M80,0h433\" style=\"stroke: rgb(255, 255, 255); stroke-opacity: 1; stroke-width: 1px;\"/><path class=\"ygrid crisp\" transform=\"translate(0,326.58000000000004)\" d=\"M80,0h433\" style=\"stroke: rgb(255, 255, 255); stroke-opacity: 1; stroke-width: 1px;\"/><path class=\"ygrid crisp\" transform=\"translate(0,287.87)\" d=\"M80,0h433\" style=\"stroke: rgb(255, 255, 255); stroke-opacity: 1; stroke-width: 1px;\"/><path class=\"ygrid crisp\" transform=\"translate(0,249.16)\" d=\"M80,0h433\" style=\"stroke: rgb(255, 255, 255); stroke-opacity: 1; stroke-width: 1px;\"/><path class=\"ygrid crisp\" transform=\"translate(0,210.45)\" d=\"M80,0h433\" style=\"stroke: rgb(255, 255, 255); stroke-opacity: 1; stroke-width: 1px;\"/><path class=\"ygrid crisp\" transform=\"translate(0,171.74)\" d=\"M80,0h433\" style=\"stroke: rgb(255, 255, 255); stroke-opacity: 1; stroke-width: 1px;\"/><path class=\"ygrid crisp\" transform=\"translate(0,133.03)\" d=\"M80,0h433\" style=\"stroke: rgb(255, 255, 255); stroke-opacity: 1; stroke-width: 1px;\"/></g></g><g class=\"zerolinelayer\"><path class=\"yzl zl crisp\" transform=\"translate(0,404)\" d=\"M80,0h433\" style=\"stroke: rgb(255, 255, 255); stroke-opacity: 1; stroke-width: 2px;\"/></g><g class=\"layer-between\"><g class=\"shapelayer\"/><g class=\"imagelayer\"/></g><path class=\"xlines-below\"/><path class=\"ylines-below\"/><g class=\"overlines-below\"/><g class=\"xaxislayer-below\"/><g class=\"yaxislayer-below\"/><g class=\"overaxes-below\"/><g class=\"overplot\"><g class=\"xy\" transform=\"translate(80,100)\" clip-path=\"url(#clipe906b1xyplot)\"><g class=\"scatterlayer mlayer\"><g class=\"trace scatter tracef82cc6\" style=\"stroke-miterlimit: 2; opacity: 1;\"><g class=\"fills\"/><g class=\"errorbars\"/><g class=\"lines\"><path class=\"js-line\" d=\"M0,228.55L4.76,148.75L5.55,167.3L10.31,290.1L11.1,286.34L15.86,298.7L16.65,303.25L21.41,236.44L22.21,301.1L26.96,106.19L27.76,280.13L32.51,301.14L33.31,286.2L38.07,296.96L38.86,171.04L43.62,300.76L44.41,285.9L49.17,147.81L49.96,204.51L54.72,148.42L55.51,168.84L60.27,215.55L61.06,134.4L65.82,42.85L66.62,169L71.37,157.45L72.17,214.21L76.92,243.9L77.72,284.49L82.48,211.62L83.27,133.4L88.03,159.6L88.82,270.88L94.37,302.45L99.13,240.69L99.92,182.28L104.68,191.23L105.47,200.95L110.23,242.68L111.03,216.45L115.78,300.41L116.58,300.58L121.34,217.15L122.13,171.74L126.89,168.53L127.68,116.47L132.44,148.02L133.23,205.07L137.99,300.01L138.78,217.42L143.54,283.62L144.33,102.33L149.09,219.34L149.88,158.33L154.64,232.23L155.44,210.6L160.19,304L160.99,299.34L165.75,262.68L166.54,304L171.3,302.85L172.09,264.98L176.85,304L177.64,304L182.4,183.2L183.19,299.35L187.95,304L188.74,296.95L193.5,304L194.29,276.64L199.05,273.65L199.85,281.7L204.6,301.39L205.4,303.56L210.16,303.3L210.95,304L215.71,209.28L216.5,304L221.26,271.41L222.05,304L226.81,176.3L227.6,134.37L232.36,231.57L233.15,238.33L237.91,286.04L238.71,64.9L243.46,170.87L244.26,276.6L249.01,219.43L249.81,290.65L254.57,75.46L255.36,250.23L260.12,227.57L260.91,207.5L265.67,259.22L266.46,260.56L271.22,87.89L272.01,181.4L276.77,235.13L277.56,166.62L282.32,170.96L283.12,16L287.87,230.2L288.67,288.84L293.42,103.6L294.22,156.62L298.98,128.03L299.77,233.36L304.53,220.39L305.32,155.05L310.08,179.37L310.87,229.86L315.63,170.22L316.42,145.04L321.18,254.58L321.97,191.77L326.73,245.12L327.53,173.67L332.28,190.31L333.08,174.91L337.84,17.75L338.63,214.81L343.39,302.34L344.18,208.53L348.94,163.81L349.73,153.15L354.49,251.55L355.28,180.7L360.04,150.14L360.83,301.92L365.59,190.77L366.38,261.25L371.14,235.11L371.94,217.51L376.69,200.16L377.49,298.27L382.25,290.18L383.04,187.81L387.8,280.29L388.59,225.79L393.35,303.12L394.14,301.14L398.9,177.87L399.69,215.41L404.45,170.89L405.24,198.11L410,241.1L410.79,150.22L415.55,174.53L416.35,302.08L421.1,301.01L421.9,195.72L426.66,297.1L427.45,302.66L432.21,218.62L433,304\" style=\"vector-effect: none; fill: none; stroke: rgb(99, 110, 250); stroke-opacity: 1; stroke-width: 2px; opacity: 1;\"/></g><g class=\"points\"/><g class=\"text\"/></g><g class=\"trace scatter traceb23b54\" style=\"stroke-miterlimit: 2; opacity: 1;\"><g class=\"fills\"/><g class=\"errorbars\"/><g class=\"lines\"><path class=\"js-line\" d=\"M0,248.26L4.76,170.22L5.55,248.26L10.31,301.21L11.1,290.06L15.86,284.49L16.65,298.43L21.41,292.85L22.21,284.49L26.96,262.19L27.76,270.55L32.51,189.73L33.31,301.21L38.07,295.64L38.86,212.02L43.62,295.64L44.41,290.06L49.17,212.02L49.96,161.86L54.72,290.06L55.51,276.13L60.27,295.64L61.06,251.04L65.82,203.66L66.62,273.34L71.37,248.26L72.17,284.49L76.92,256.62L77.72,287.28L83.27,186.94L88.03,278.92L88.82,287.28L93.58,301.21L94.37,220.39L99.13,248.26L99.92,278.92L104.68,281.7L105.47,304L110.23,292.85L111.03,276.13L115.78,301.21L116.58,259.41L121.34,262.19L122.13,298.43L126.89,278.92L127.68,304L132.44,281.7L133.23,248.26L137.99,245.47L138.78,301.21L143.54,304L144.33,253.83L149.09,281.7L149.88,276.13L154.64,186.94L155.44,304L160.19,304L160.99,304L165.75,284.49L166.54,304L171.3,304L172.09,239.9L176.85,304L177.64,304L182.4,298.43L183.19,298.43L187.95,304L188.74,167.43L193.5,304L194.29,267.77L199.05,301.21L199.85,304L204.6,295.64L205.4,281.7L210.16,304L210.95,304L215.71,301.21L216.5,304L221.26,290.06L222.05,304L226.81,278.92L227.6,298.43L232.36,273.34L233.15,273.34L237.91,290.06L238.71,220.39L243.46,239.9L244.26,259.41L249.01,259.41L249.81,295.64L254.57,264.98L255.36,264.98L260.12,248.26L260.91,198.09L265.67,290.06L271.22,231.53L272.01,304L276.77,264.98L277.56,251.04L282.32,181.37L283.12,281.7L287.87,212.02L288.67,276.13L293.42,237.11L294.22,212.02L298.98,217.6L299.77,301.21L304.53,206.45L305.32,304L310.87,206.45L315.63,245.47L316.42,267.77L321.18,181.37L321.97,292.85L326.73,301.21L327.53,256.62L332.28,292.85L333.08,290.06L337.84,290.06L338.63,284.49L343.39,298.43L349.73,167.43L354.49,238.5L355.28,251.04L360.04,273.34L360.83,260.8L365.59,255.7L366.38,231.98L371.14,249.18L371.94,304L376.69,273.34L377.49,298.43L382.25,234.32L383.04,258.49L387.8,243.6L388.59,161.38L393.35,294.25L394.14,286.83L398.9,277.52L399.69,246.86L404.45,130.28L405.24,230.61L410,276.13L410.79,236.16L415.55,304L416.35,260.8L421.1,285.41L421.9,259.85L426.66,268.69L427.45,290.98L432.21,304L433,304\" style=\"vector-effect: none; fill: none; stroke: rgb(239, 85, 59); stroke-opacity: 1; stroke-width: 2px; opacity: 1;\"/></g><g class=\"points\"/><g class=\"text\"/></g></g></g></g><path class=\"xlines-above crisp\" d=\"M0,0\" style=\"fill: none;\"/><path class=\"ylines-above crisp\" d=\"M0,0\" style=\"fill: none;\"/><g class=\"overlines-above\"/><g class=\"xaxislayer-above\"><g class=\"xtick\"><text text-anchor=\"middle\" x=\"0\" y=\"433\" transform=\"translate(118.07,0)\" style=\"font-family: 'Open Sans', verdana, arial, sans-serif; font-size: 12px; fill: rgb(42, 63, 95); fill-opacity: 1; white-space: pre; opacity: 1;\">Jul 2023</text></g><g class=\"xtick\"><text text-anchor=\"middle\" x=\"0\" y=\"433\" style=\"font-family: 'Open Sans', verdana, arial, sans-serif; font-size: 12px; fill: rgb(42, 63, 95); fill-opacity: 1; white-space: pre; opacity: 1;\" transform=\"translate(191.03,0)\">Oct 2023</text></g><g class=\"xtick\"><text text-anchor=\"middle\" x=\"0\" y=\"433\" style=\"font-family: 'Open Sans', verdana, arial, sans-serif; font-size: 12px; fill: rgb(42, 63, 95); fill-opacity: 1; white-space: pre; opacity: 1;\" transform=\"translate(263.99,0)\">Jan 2024</text></g><g class=\"xtick\"><text text-anchor=\"middle\" x=\"0\" y=\"433\" style=\"font-family: 'Open Sans', verdana, arial, sans-serif; font-size: 12px; fill: rgb(42, 63, 95); fill-opacity: 1; white-space: pre; opacity: 1;\" transform=\"translate(336.15,0)\">Apr 2024</text></g><g class=\"xtick\"><text text-anchor=\"middle\" x=\"0\" y=\"433\" style=\"font-family: 'Open Sans', verdana, arial, sans-serif; font-size: 12px; fill: rgb(42, 63, 95); fill-opacity: 1; white-space: pre; opacity: 1;\" transform=\"translate(408.32,0)\">Jul 2024</text></g><g class=\"xtick\"><text text-anchor=\"middle\" x=\"0\" y=\"433\" style=\"font-family: 'Open Sans', verdana, arial, sans-serif; font-size: 12px; fill: rgb(42, 63, 95); fill-opacity: 1; white-space: pre; opacity: 1;\" transform=\"translate(481.28,0)\">Oct 2024</text></g></g><g class=\"yaxislayer-above\"><g class=\"ytick\"><text text-anchor=\"end\" x=\"79\" y=\"4.199999999999999\" transform=\"translate(0,404)\" style=\"font-family: 'Open Sans', verdana, arial, sans-serif; font-size: 12px; fill: rgb(42, 63, 95); fill-opacity: 1; white-space: pre; opacity: 1;\">0</text></g><g class=\"ytick\"><text text-anchor=\"end\" x=\"79\" y=\"4.199999999999999\" style=\"font-family: 'Open Sans', verdana, arial, sans-serif; font-size: 12px; fill: rgb(42, 63, 95); fill-opacity: 1; white-space: pre; opacity: 1;\" transform=\"translate(0,365.29)\">5k</text></g><g class=\"ytick\"><text text-anchor=\"end\" x=\"79\" y=\"4.199999999999999\" style=\"font-family: 'Open Sans', verdana, arial, sans-serif; font-size: 12px; fill: rgb(42, 63, 95); fill-opacity: 1; white-space: pre; opacity: 1;\" transform=\"translate(0,326.58000000000004)\">10k</text></g><g class=\"ytick\"><text text-anchor=\"end\" x=\"79\" y=\"4.199999999999999\" style=\"font-family: 'Open Sans', verdana, arial, sans-serif; font-size: 12px; fill: rgb(42, 63, 95); fill-opacity: 1; white-space: pre; opacity: 1;\" transform=\"translate(0,287.87)\">15k</text></g><g class=\"ytick\"><text text-anchor=\"end\" x=\"79\" y=\"4.199999999999999\" style=\"font-family: 'Open Sans', verdana, arial, sans-serif; font-size: 12px; fill: rgb(42, 63, 95); fill-opacity: 1; white-space: pre; opacity: 1;\" transform=\"translate(0,249.16)\">20k</text></g><g class=\"ytick\"><text text-anchor=\"end\" x=\"79\" y=\"4.199999999999999\" style=\"font-family: 'Open Sans', verdana, arial, sans-serif; font-size: 12px; fill: rgb(42, 63, 95); fill-opacity: 1; white-space: pre; opacity: 1;\" transform=\"translate(0,210.45)\">25k</text></g><g class=\"ytick\"><text text-anchor=\"end\" x=\"79\" y=\"4.199999999999999\" style=\"font-family: 'Open Sans', verdana, arial, sans-serif; font-size: 12px; fill: rgb(42, 63, 95); fill-opacity: 1; white-space: pre; opacity: 1;\" transform=\"translate(0,171.74)\">30k</text></g><g class=\"ytick\"><text text-anchor=\"end\" x=\"79\" y=\"4.199999999999999\" style=\"font-family: 'Open Sans', verdana, arial, sans-serif; font-size: 12px; fill: rgb(42, 63, 95); fill-opacity: 1; white-space: pre; opacity: 1;\" transform=\"translate(0,133.03)\">35k</text></g></g><g class=\"overaxes-above\"/></g></g><g class=\"polarlayer\"/><g class=\"smithlayer\"/><g class=\"ternarylayer\"/><g class=\"geolayer\"/><g class=\"funnelarealayer\"/><g class=\"pielayer\"/><g class=\"iciclelayer\"/><g class=\"treemaplayer\"/><g class=\"sunburstlayer\"/><g class=\"glimages\"/><defs id=\"topdefs-e906b1\"><g class=\"clips\"/><clipPath id=\"legende906b1\"><rect width=\"166\" height=\"29\" x=\"0\" y=\"0\"/></clipPath></defs><g class=\"layer-above\"><g class=\"imagelayer\"/><g class=\"shapelayer\"/></g><g class=\"infolayer\"><g class=\"legend\" pointer-events=\"all\" transform=\"translate(521.6600000000001,100)\"><rect class=\"bg\" shape-rendering=\"crispEdges\" width=\"166\" height=\"29\" x=\"0\" y=\"0\" style=\"stroke: rgb(68, 68, 68); stroke-opacity: 1; fill: rgb(255, 255, 255); fill-opacity: 1; stroke-width: 0px;\"/><g class=\"scrollbox\" transform=\"\" clip-path=\"url(#legende906b1)\"><g class=\"groups\"><g class=\"traces\" transform=\"translate(0,14.5)\" style=\"opacity: 1;\"><text class=\"legendtext\" text-anchor=\"start\" x=\"40\" y=\"4.680000000000001\" style=\"font-family: 'Open Sans', verdana, arial, sans-serif; font-size: 12px; fill: rgb(42, 63, 95); fill-opacity: 1; white-space: pre;\">DWD B minus DWD H</text><g class=\"layers\" style=\"opacity: 1;\"><g class=\"legendfill\"/><g class=\"legendlines\"><path class=\"js-line\" d=\"M5,0h30\" style=\"fill: none; stroke: rgb(239, 85, 59); stroke-opacity: 1; stroke-width: 2px;\"/></g><g class=\"legendsymbols\"><g class=\"legendpoints\"/></g></g><rect class=\"legendtoggle\" x=\"0\" y=\"-9.5\" width=\"160.96875\" height=\"19\" style=\"fill: rgb(0, 0, 0); fill-opacity: 0;\"/></g></g></g><rect class=\"scrollbar\" rx=\"20\" ry=\"3\" width=\"0\" height=\"0\" x=\"0\" y=\"0\" style=\"fill: rgb(128, 139, 164); fill-opacity: 1;\"/></g><g class=\"g-gtitle\"><text class=\"gtitle\" x=\"35\" y=\"50\" text-anchor=\"start\" dy=\"0em\" style=\"opacity: 1; font-family: 'Open Sans', verdana, arial, sans-serif; font-size: 17px; fill: rgb(42, 63, 95); fill-opacity: 1; white-space: pre;\">sun - OpenMeteo minus DWD H</text></g><g class=\"g-xtitle\"><text class=\"xtitle\" x=\"296.5\" y=\"461.3\" text-anchor=\"middle\" style=\"opacity: 1; font-family: 'Open Sans', verdana, arial, sans-serif; font-size: 14px; fill: rgb(42, 63, 95); fill-opacity: 1; white-space: pre;\">time</text></g><g class=\"g-ytitle\"><text class=\"ytitle\" transform=\"rotate(-90,39.56875,260)\" x=\"39.56875\" y=\"260\" text-anchor=\"middle\" style=\"opacity: 1; font-family: 'Open Sans', verdana, arial, sans-serif; font-size: 14px; fill: rgb(42, 63, 95); fill-opacity: 1; white-space: pre;\">y</text></g></g></svg>"
      ]
     },
     "metadata": {},
     "output_type": "display_data"
    }
   ],
   "source": [
    "import numpy as np\n",
    "import plotly.express as px\n",
    "\n",
    "fig = px.line(merged_wetter, x=\"time\", y=np.absolute(merged_wetter[\"rain\"]-merged_wetter[\"RSK_x\"]),title=\"rain - OpenMeteo minus DWD H\")\n",
    "fig.add_scatter(x=merged_wetter['time'], y=np.absolute(merged_wetter['RSK_y']-merged_wetter[\"RSK_x\"]), name='DWD B minus DWD H')\n",
    "fig.update_layout(yaxis_range=[0,50])\n",
    "fig.show('svg')\n",
    "\n",
    "fig = px.line(merged_wetter, x=\"time\", y=np.absolute(merged_wetter[\"wind\"]-merged_wetter[\"dwd_wind\"]),title=\"wind - OpenMeteo minus DWD H\")\n",
    "fig.add_scatter(x=merged_wetter['time'], y=np.absolute(merged_wetter['dwd_windB']-merged_wetter[\"dwd_wind\"]), name='DWD B minus DWD H')\n",
    "fig.update_layout(yaxis_range=[0,20])\n",
    "fig.show('svg')\n",
    "\n",
    "fig = px.line(merged_wetter, x=\"time\", y=np.absolute(merged_wetter[\"gust\"]-merged_wetter[\"dwd_gust\"]),title=\"gust - OpenMeteo minus DWD H\")\n",
    "fig.add_scatter(x=merged_wetter['time'], y=np.absolute(merged_wetter['dwd_gustB']-merged_wetter[\"dwd_gust\"]), name='DWD B minus DWD H')\n",
    "fig.update_layout(yaxis_range=[0,30])\n",
    "fig.show('svg')\n",
    "\n",
    "\n",
    "fig = px.line(merged_wetter, x=\"time\", y=np.absolute(merged_wetter[\"sun\"]-merged_wetter[\"dwd_sun\"]),title=\"sun - OpenMeteo minus DWD H\")\n",
    "fig.add_scatter(x=merged_wetter['time'], y=np.absolute(merged_wetter['dwd_sunB']-merged_wetter[\"dwd_sun\"]), name='DWD B minus DWD H')\n",
    "#fig.update_layout(yaxis_range=[-30,30])\n",
    "fig.show('svg')"
   ]
  },
  {
   "cell_type": "code",
   "execution_count": 7,
   "metadata": {},
   "outputs": [
    {
     "data": {
      "application/vnd.plotly.v1+json": {
       "config": {
        "plotlyServerURL": "https://plot.ly"
       },
       "data": [
        {
         "hovertemplate": "time=%{x}<br>dwd_wind=%{y}<extra></extra>",
         "legendgroup": "",
         "line": {
          "color": "#636efa",
          "dash": "solid"
         },
         "marker": {
          "symbol": "circle"
         },
         "mode": "lines",
         "name": "",
         "orientation": "v",
         "showlegend": false,
         "type": "scatter",
         "x": [
          "2023-05-14",
          "2023-05-20",
          "2023-05-21",
          "2023-05-27",
          "2023-05-28",
          "2023-06-03",
          "2023-06-04",
          "2023-06-10",
          "2023-06-11",
          "2023-06-17",
          "2023-06-18",
          "2023-06-24",
          "2023-06-25",
          "2023-07-01",
          "2023-07-02",
          "2023-07-08",
          "2023-07-09",
          "2023-07-15",
          "2023-07-16",
          "2023-07-22",
          "2023-07-23",
          "2023-07-29",
          "2023-07-30",
          "2023-08-05",
          "2023-08-06",
          "2023-08-12",
          "2023-08-13",
          "2023-08-19",
          "2023-08-20",
          "2023-08-26",
          "2023-08-27",
          "2023-09-02",
          "2023-09-03",
          "2023-09-09",
          "2023-09-10",
          "2023-09-16",
          "2023-09-17",
          "2023-09-23",
          "2023-09-24",
          "2023-09-30",
          "2023-10-01",
          "2023-10-07",
          "2023-10-08",
          "2023-10-14",
          "2023-10-15",
          "2023-10-21",
          "2023-10-22",
          "2023-10-28",
          "2023-10-29",
          "2023-11-04",
          "2023-11-05",
          "2023-11-11",
          "2023-11-12",
          "2023-11-18",
          "2023-11-19",
          "2023-11-25",
          "2023-11-26",
          "2023-12-09",
          "2023-12-10",
          "2023-12-16",
          "2023-12-17",
          "2023-12-23",
          "2023-12-24",
          "2023-12-30",
          "2023-12-31",
          "2024-01-06",
          "2024-01-07",
          "2024-01-13",
          "2024-01-14",
          "2024-01-20",
          "2024-01-21",
          "2024-01-27",
          "2024-01-28",
          "2024-02-03",
          "2024-02-04",
          "2024-02-10",
          "2024-02-11",
          "2024-02-17",
          "2024-02-18",
          "2024-02-24",
          "2024-02-25",
          "2024-03-02",
          "2024-03-03",
          "2024-03-09",
          "2024-03-10",
          "2024-03-16",
          "2024-03-17",
          "2024-03-23",
          "2024-03-24",
          "2024-03-30",
          "2024-03-31",
          "2024-04-06",
          "2024-04-07",
          "2024-04-13",
          "2024-04-14",
          "2024-04-20",
          "2024-04-21",
          "2024-04-27",
          "2024-04-28",
          "2024-05-04",
          "2024-05-05",
          "2024-05-11",
          "2024-05-12",
          "2024-05-18",
          "2024-05-19",
          "2024-05-25",
          "2024-05-26",
          "2024-06-01",
          "2024-06-02",
          "2024-06-08",
          "2024-06-09",
          "2024-06-15",
          "2024-06-16",
          "2024-06-22",
          "2024-06-23",
          "2024-06-29",
          "2024-06-30",
          "2024-07-06",
          "2024-07-07",
          "2024-07-13",
          "2024-07-14",
          "2024-07-20",
          "2024-07-21",
          "2024-07-27",
          "2024-07-28",
          "2024-08-03",
          "2024-08-04",
          "2024-08-10",
          "2024-08-11",
          "2024-08-17",
          "2024-08-18",
          "2024-08-24",
          "2024-08-25",
          "2024-08-31",
          "2024-09-01",
          "2024-09-07",
          "2024-09-08",
          "2024-09-14",
          "2024-09-15",
          "2024-09-21",
          "2024-09-22",
          "2024-09-28",
          "2024-09-29",
          "2024-10-05",
          "2024-10-06",
          "2024-10-12",
          "2024-10-13",
          "2024-10-19",
          "2024-10-20",
          "2024-10-26",
          "2024-10-27",
          "2024-11-02",
          "2024-11-03",
          "2024-11-09",
          "2024-11-10"
         ],
         "xaxis": "x",
         "y": [
          9.72,
          18,
          14.76,
          7.2,
          8.28,
          11.879999999999999,
          8.28,
          12.6,
          13.68,
          8.28,
          7.2,
          6.48,
          7.2,
          16.2,
          18.720000000000002,
          10.08,
          12.24,
          17.28,
          16.56,
          11.520000000000001,
          17.28,
          13.68,
          15.120000000000001,
          7.920000000000001,
          9,
          9.72,
          7.920000000000001,
          11.520000000000001,
          6.48,
          12.6,
          9.360000000000001,
          5.760000000000001,
          6.48,
          5.760000000000001,
          6.12,
          8.28,
          8.28,
          15.48,
          9,
          10.44,
          9.360000000000001,
          23.759999999999998,
          7.920000000000001,
          22.32,
          19.08,
          12.96,
          14.04,
          9.72,
          24.48,
          23.040000000000003,
          19.44,
          12.24,
          9,
          13.68,
          19.08,
          16.2,
          7.5600000000000005,
          18.36,
          21.96,
          17.64,
          19.08,
          19.08,
          28.8,
          18.720000000000002,
          21.240000000000002,
          16.56,
          15.48,
          19.8,
          23.040000000000003,
          17.64,
          22.32,
          12.96,
          12.96,
          23.040000000000003,
          26.64,
          11.879999999999999,
          11.16,
          15.48,
          14.04,
          16.56,
          15.840000000000002,
          14.4,
          13.32,
          17.64,
          19.44,
          18.720000000000002,
          8.64,
          14.76,
          24.12,
          9.360000000000001,
          8.28,
          13.68,
          14.04,
          14.76,
          19.8,
          15.48,
          14.76,
          14.4,
          15.120000000000001,
          7.920000000000001,
          14.76,
          8.28,
          15.48,
          8.28,
          6.48,
          7.920000000000001,
          9,
          14.4,
          20.16,
          13.68,
          15.840000000000002,
          18.36,
          16.2,
          17.64,
          11.520000000000001,
          9.72,
          13.68,
          21.96,
          14.04,
          15.840000000000002,
          10.08,
          10.8,
          7.5600000000000005,
          8.28,
          11.16,
          7.2,
          15.48,
          10.8,
          7.920000000000001,
          7.2,
          6.48,
          18,
          15.840000000000002,
          14.04,
          16.2,
          6.48,
          8.64,
          14.76,
          10.8,
          10.44,
          6.12,
          18,
          9,
          5.04,
          11.879999999999999,
          13.32,
          22.68,
          10.08,
          14.76,
          7.5600000000000005,
          10.08,
          8.64,
          4.680000000000001,
          11.16,
          5.4
         ],
         "yaxis": "y"
        },
        {
         "name": "OpenMeteo",
         "type": "scatter",
         "x": [
          "2023-05-14",
          "2023-05-20",
          "2023-05-21",
          "2023-05-27",
          "2023-05-28",
          "2023-06-03",
          "2023-06-04",
          "2023-06-10",
          "2023-06-11",
          "2023-06-17",
          "2023-06-18",
          "2023-06-24",
          "2023-06-25",
          "2023-07-01",
          "2023-07-02",
          "2023-07-08",
          "2023-07-09",
          "2023-07-15",
          "2023-07-16",
          "2023-07-22",
          "2023-07-23",
          "2023-07-29",
          "2023-07-30",
          "2023-08-05",
          "2023-08-06",
          "2023-08-12",
          "2023-08-13",
          "2023-08-19",
          "2023-08-20",
          "2023-08-26",
          "2023-08-27",
          "2023-09-02",
          "2023-09-03",
          "2023-09-09",
          "2023-09-10",
          "2023-09-16",
          "2023-09-17",
          "2023-09-23",
          "2023-09-24",
          "2023-09-30",
          "2023-10-01",
          "2023-10-07",
          "2023-10-08",
          "2023-10-14",
          "2023-10-15",
          "2023-10-21",
          "2023-10-22",
          "2023-10-28",
          "2023-10-29",
          "2023-11-04",
          "2023-11-05",
          "2023-11-11",
          "2023-11-12",
          "2023-11-18",
          "2023-11-19",
          "2023-11-25",
          "2023-11-26",
          "2023-12-02",
          "2023-12-03",
          "2023-12-09",
          "2023-12-10",
          "2023-12-16",
          "2023-12-17",
          "2023-12-23",
          "2023-12-24",
          "2023-12-30",
          "2023-12-31",
          "2024-01-06",
          "2024-01-07",
          "2024-01-13",
          "2024-01-14",
          "2024-01-20",
          "2024-01-21",
          "2024-01-27",
          "2024-01-28",
          "2024-02-03",
          "2024-02-04",
          "2024-02-10",
          "2024-02-11",
          "2024-02-17",
          "2024-02-18",
          "2024-02-24",
          "2024-02-25",
          "2024-03-02",
          "2024-03-03",
          "2024-03-09",
          "2024-03-10",
          "2024-03-16",
          "2024-03-17",
          "2024-03-23",
          "2024-03-24",
          "2024-03-30",
          "2024-03-31",
          "2024-04-06",
          "2024-04-07",
          "2024-04-13",
          "2024-04-14",
          "2024-04-20",
          "2024-04-21",
          "2024-04-27",
          "2024-04-28",
          "2024-05-04",
          "2024-05-05",
          "2024-05-11",
          "2024-05-12",
          "2024-05-18",
          "2024-05-19",
          "2024-05-25",
          "2024-05-26",
          "2024-06-01",
          "2024-06-02",
          "2024-06-08",
          "2024-06-09",
          "2024-06-15",
          "2024-06-16",
          "2024-06-22",
          "2024-06-23",
          "2024-06-29",
          "2024-06-30",
          "2024-07-06",
          "2024-07-07",
          "2024-07-13",
          "2024-07-14",
          "2024-07-20",
          "2024-07-21",
          "2024-07-27",
          "2024-07-28",
          "2024-08-03",
          "2024-08-04",
          "2024-08-10",
          "2024-08-11",
          "2024-08-17",
          "2024-08-18",
          "2024-08-24",
          "2024-08-25",
          "2024-08-31",
          "2024-09-01",
          "2024-09-07",
          "2024-09-08",
          "2024-09-14",
          "2024-09-15",
          "2024-09-21",
          "2024-09-22",
          "2024-09-28",
          "2024-09-29",
          "2024-10-05",
          "2024-10-06",
          "2024-10-12",
          "2024-10-13",
          "2024-10-19",
          "2024-10-20",
          "2024-10-26",
          "2024-10-27",
          "2024-11-02",
          "2024-11-03",
          "2024-11-09",
          "2024-11-10"
         ],
         "y": [
          11.4,
          21.3,
          17.7,
          10.1,
          17.4,
          13.8,
          14.1,
          15.8,
          14.3,
          10.2,
          14.8,
          9.4,
          10,
          22.7,
          31.1,
          13.4,
          12.9,
          24.2,
          27.2,
          17.8,
          27.6,
          23.1,
          26.4,
          9.2,
          15.5,
          21.8,
          14.4,
          27.6,
          12,
          21.2,
          14.2,
          8.1,
          9.7,
          8.2,
          8.3,
          10.9,
          14.1,
          21.4,
          12.7,
          17.7,
          15.8,
          29.7,
          12.4,
          29.5,
          24.2,
          16.5,
          22.5,
          15.6,
          27.8,
          25.9,
          32.8,
          22.8,
          15.8,
          21.7,
          29.3,
          21.5,
          12.3,
          13,
          14,
          24.4,
          32.7,
          21.5,
          22.1,
          30.5,
          34,
          25.1,
          24.4,
          15,
          17.7,
          27.7,
          27.2,
          25.4,
          25.4,
          19.8,
          19.8,
          27.7,
          33.4,
          15.8,
          15.9,
          18.5,
          21.9,
          20.3,
          20.1,
          14.7,
          15.7,
          21.1,
          24.1,
          24.8,
          15.1,
          25.2,
          30.5,
          15,
          14.2,
          17.7,
          21.1,
          25.3,
          23.4,
          20.1,
          19.5,
          15.5,
          19.8,
          12.7,
          27.5,
          14.4,
          16.6,
          11.6,
          15.6,
          11,
          12.1,
          17.4,
          20.4,
          23.3,
          21.3,
          29.2,
          19.5,
          22.8,
          15.1,
          10.8,
          19.2,
          27.6,
          19.6,
          24.3,
          17.7,
          16.7,
          13,
          10.3,
          19.8,
          12,
          23,
          19.8,
          10.7,
          13.5,
          10.9,
          25.7,
          25.1,
          15.6,
          16.9,
          10.9,
          13.1,
          24,
          15.3,
          15.1,
          10,
          24,
          15.6,
          9.8,
          16.6,
          18.8,
          36.3,
          16.6,
          18.1,
          12.8,
          20.3,
          14.7,
          8,
          13.3,
          8.7
         ]
        },
        {
         "name": "DWD Bremen",
         "type": "scatter",
         "x": [
          "2023-05-14",
          "2023-05-20",
          "2023-05-21",
          "2023-05-27",
          "2023-05-28",
          "2023-06-03",
          "2023-06-04",
          "2023-06-10",
          "2023-06-11",
          "2023-06-17",
          "2023-06-18",
          "2023-06-24",
          "2023-06-25",
          "2023-07-01",
          "2023-07-02",
          "2023-07-08",
          "2023-07-09",
          "2023-07-15",
          "2023-07-16",
          "2023-07-22",
          "2023-07-23",
          "2023-07-29",
          "2023-07-30",
          "2023-08-05",
          "2023-08-06",
          "2023-08-12",
          "2023-08-13",
          "2023-08-19",
          "2023-08-20",
          "2023-08-26",
          "2023-08-27",
          "2023-09-02",
          "2023-09-03",
          "2023-09-09",
          "2023-09-10",
          "2023-09-23",
          "2023-09-24",
          "2023-09-30",
          "2023-10-01",
          "2023-10-07",
          "2023-10-08",
          "2023-10-14",
          "2023-10-15",
          "2023-10-21",
          "2023-10-22",
          "2023-10-28",
          "2023-10-29",
          "2023-11-04",
          "2023-11-05",
          "2023-11-11",
          "2023-11-12",
          "2023-11-18",
          "2023-11-19",
          "2023-11-25",
          "2023-11-26",
          "2023-12-02",
          "2023-12-03",
          "2023-12-09",
          "2023-12-10",
          "2023-12-16",
          "2023-12-17",
          "2023-12-23",
          "2023-12-24",
          "2023-12-30",
          "2023-12-31",
          "2024-01-06",
          "2024-01-07",
          "2024-01-13",
          "2024-01-14",
          "2024-01-20",
          "2024-01-21",
          "2024-01-27",
          "2024-01-28",
          "2024-02-03",
          "2024-02-04",
          "2024-02-10",
          "2024-02-11",
          "2024-02-17",
          "2024-02-18",
          "2024-02-24",
          "2024-02-25",
          "2024-03-02",
          "2024-03-03",
          "2024-03-09",
          "2024-03-10",
          "2024-03-16",
          "2024-03-17",
          "2024-03-23",
          "2024-03-24",
          "2024-03-30",
          "2024-03-31",
          "2024-04-06",
          "2024-04-07",
          "2024-04-13",
          "2024-04-14",
          "2024-04-20",
          "2024-04-21",
          "2024-04-27",
          "2024-04-28",
          "2024-05-04",
          "2024-05-05",
          "2024-05-11",
          "2024-05-12",
          "2024-05-18",
          "2024-05-19",
          "2024-05-25",
          "2024-05-26",
          "2024-06-01",
          "2024-06-02",
          "2024-06-08",
          "2024-06-09",
          "2024-06-15",
          "2024-06-16",
          "2024-06-22",
          "2024-06-23",
          "2024-06-29",
          "2024-06-30",
          "2024-07-06",
          "2024-07-07",
          "2024-07-13",
          "2024-07-14",
          "2024-07-20",
          "2024-07-21",
          "2024-07-27",
          "2024-07-28",
          "2024-08-03",
          "2024-08-04",
          "2024-08-10",
          "2024-08-11",
          "2024-08-17",
          "2024-08-18",
          "2024-08-24",
          "2024-08-25",
          "2024-08-31",
          "2024-09-01",
          "2024-09-07",
          "2024-09-08",
          "2024-09-14",
          "2024-09-15",
          "2024-09-21",
          "2024-09-22",
          "2024-09-28",
          "2024-09-29",
          "2024-10-05",
          "2024-10-06",
          "2024-10-12",
          "2024-10-13",
          "2024-10-19",
          "2024-10-20",
          "2024-10-26",
          "2024-10-27",
          "2024-11-02",
          "2024-11-03",
          "2024-11-09",
          "2024-11-10"
         ],
         "y": [
          8.64,
          19.8,
          13.32,
          7.2,
          13.68,
          12.6,
          12.24,
          12.96,
          15.48,
          10.08,
          6.48,
          7.920000000000001,
          7.920000000000001,
          18,
          26.28,
          11.520000000000001,
          11.16,
          19.8,
          20.16,
          11.879999999999999,
          17.64,
          12.24,
          15.48,
          9.360000000000001,
          11.16,
          10.08,
          11.520000000000001,
          11.16,
          7.920000000000001,
          13.32,
          10.44,
          6.48,
          6.48,
          5.760000000000001,
          6.12,
          14.76,
          10.44,
          10.08,
          10.08,
          24.840000000000003,
          6.48,
          25.56,
          20.16,
          13.32,
          14.4,
          10.08,
          20.52,
          21.240000000000002,
          18,
          12.24,
          11.879999999999999,
          13.32,
          20.52,
          16.2,
          5.760000000000001,
          8.64,
          7.2,
          17.64,
          22.68,
          20.88,
          24.48,
          20.16,
          33.84,
          21.6,
          19.44,
          20.16,
          19.8,
          25.2,
          25.2,
          21.6,
          22.32,
          14.4,
          10.44,
          28.44,
          28.08,
          10.8,
          11.879999999999999,
          16.2,
          15.120000000000001,
          14.04,
          12.6,
          14.4,
          13.68,
          19.08,
          20.88,
          21.240000000000002,
          10.08,
          17.64,
          24.48,
          11.879999999999999,
          9.360000000000001,
          14.04,
          16.92,
          18,
          21.6,
          14.76,
          15.48,
          11.520000000000001,
          18.36,
          8.28,
          18.36,
          11.879999999999999,
          16.2,
          11.879999999999999,
          7.2,
          9.360000000000001,
          7.920000000000001,
          15.840000000000002,
          22.32,
          13.68,
          19.44,
          19.8,
          12.96,
          16.92,
          10.44,
          8.64,
          14.76,
          25.2,
          17.28,
          22.32,
          16.2,
          12.6,
          10.08,
          6.12,
          15.120000000000001,
          8.28,
          15.840000000000002,
          14.76,
          9.360000000000001,
          6.84,
          7.2,
          17.28,
          19.44,
          15.48,
          16.56,
          7.5600000000000005,
          8.64,
          12.96,
          7.2,
          10.44,
          6.12,
          19.08,
          9,
          5.760000000000001,
          12.6,
          12.6,
          26.64,
          9,
          14.4,
          7.2,
          10.08,
          8.28,
          3.6,
          9.72,
          7.5600000000000005
         ]
        }
       ],
       "layout": {
        "legend": {
         "tracegroupgap": 0
        },
        "template": {
         "data": {
          "bar": [
           {
            "error_x": {
             "color": "#2a3f5f"
            },
            "error_y": {
             "color": "#2a3f5f"
            },
            "marker": {
             "line": {
              "color": "#E5ECF6",
              "width": 0.5
             },
             "pattern": {
              "fillmode": "overlay",
              "size": 10,
              "solidity": 0.2
             }
            },
            "type": "bar"
           }
          ],
          "barpolar": [
           {
            "marker": {
             "line": {
              "color": "#E5ECF6",
              "width": 0.5
             },
             "pattern": {
              "fillmode": "overlay",
              "size": 10,
              "solidity": 0.2
             }
            },
            "type": "barpolar"
           }
          ],
          "carpet": [
           {
            "aaxis": {
             "endlinecolor": "#2a3f5f",
             "gridcolor": "white",
             "linecolor": "white",
             "minorgridcolor": "white",
             "startlinecolor": "#2a3f5f"
            },
            "baxis": {
             "endlinecolor": "#2a3f5f",
             "gridcolor": "white",
             "linecolor": "white",
             "minorgridcolor": "white",
             "startlinecolor": "#2a3f5f"
            },
            "type": "carpet"
           }
          ],
          "choropleth": [
           {
            "colorbar": {
             "outlinewidth": 0,
             "ticks": ""
            },
            "type": "choropleth"
           }
          ],
          "contour": [
           {
            "colorbar": {
             "outlinewidth": 0,
             "ticks": ""
            },
            "colorscale": [
             [
              0,
              "#0d0887"
             ],
             [
              0.1111111111111111,
              "#46039f"
             ],
             [
              0.2222222222222222,
              "#7201a8"
             ],
             [
              0.3333333333333333,
              "#9c179e"
             ],
             [
              0.4444444444444444,
              "#bd3786"
             ],
             [
              0.5555555555555556,
              "#d8576b"
             ],
             [
              0.6666666666666666,
              "#ed7953"
             ],
             [
              0.7777777777777778,
              "#fb9f3a"
             ],
             [
              0.8888888888888888,
              "#fdca26"
             ],
             [
              1,
              "#f0f921"
             ]
            ],
            "type": "contour"
           }
          ],
          "contourcarpet": [
           {
            "colorbar": {
             "outlinewidth": 0,
             "ticks": ""
            },
            "type": "contourcarpet"
           }
          ],
          "heatmap": [
           {
            "colorbar": {
             "outlinewidth": 0,
             "ticks": ""
            },
            "colorscale": [
             [
              0,
              "#0d0887"
             ],
             [
              0.1111111111111111,
              "#46039f"
             ],
             [
              0.2222222222222222,
              "#7201a8"
             ],
             [
              0.3333333333333333,
              "#9c179e"
             ],
             [
              0.4444444444444444,
              "#bd3786"
             ],
             [
              0.5555555555555556,
              "#d8576b"
             ],
             [
              0.6666666666666666,
              "#ed7953"
             ],
             [
              0.7777777777777778,
              "#fb9f3a"
             ],
             [
              0.8888888888888888,
              "#fdca26"
             ],
             [
              1,
              "#f0f921"
             ]
            ],
            "type": "heatmap"
           }
          ],
          "heatmapgl": [
           {
            "colorbar": {
             "outlinewidth": 0,
             "ticks": ""
            },
            "colorscale": [
             [
              0,
              "#0d0887"
             ],
             [
              0.1111111111111111,
              "#46039f"
             ],
             [
              0.2222222222222222,
              "#7201a8"
             ],
             [
              0.3333333333333333,
              "#9c179e"
             ],
             [
              0.4444444444444444,
              "#bd3786"
             ],
             [
              0.5555555555555556,
              "#d8576b"
             ],
             [
              0.6666666666666666,
              "#ed7953"
             ],
             [
              0.7777777777777778,
              "#fb9f3a"
             ],
             [
              0.8888888888888888,
              "#fdca26"
             ],
             [
              1,
              "#f0f921"
             ]
            ],
            "type": "heatmapgl"
           }
          ],
          "histogram": [
           {
            "marker": {
             "pattern": {
              "fillmode": "overlay",
              "size": 10,
              "solidity": 0.2
             }
            },
            "type": "histogram"
           }
          ],
          "histogram2d": [
           {
            "colorbar": {
             "outlinewidth": 0,
             "ticks": ""
            },
            "colorscale": [
             [
              0,
              "#0d0887"
             ],
             [
              0.1111111111111111,
              "#46039f"
             ],
             [
              0.2222222222222222,
              "#7201a8"
             ],
             [
              0.3333333333333333,
              "#9c179e"
             ],
             [
              0.4444444444444444,
              "#bd3786"
             ],
             [
              0.5555555555555556,
              "#d8576b"
             ],
             [
              0.6666666666666666,
              "#ed7953"
             ],
             [
              0.7777777777777778,
              "#fb9f3a"
             ],
             [
              0.8888888888888888,
              "#fdca26"
             ],
             [
              1,
              "#f0f921"
             ]
            ],
            "type": "histogram2d"
           }
          ],
          "histogram2dcontour": [
           {
            "colorbar": {
             "outlinewidth": 0,
             "ticks": ""
            },
            "colorscale": [
             [
              0,
              "#0d0887"
             ],
             [
              0.1111111111111111,
              "#46039f"
             ],
             [
              0.2222222222222222,
              "#7201a8"
             ],
             [
              0.3333333333333333,
              "#9c179e"
             ],
             [
              0.4444444444444444,
              "#bd3786"
             ],
             [
              0.5555555555555556,
              "#d8576b"
             ],
             [
              0.6666666666666666,
              "#ed7953"
             ],
             [
              0.7777777777777778,
              "#fb9f3a"
             ],
             [
              0.8888888888888888,
              "#fdca26"
             ],
             [
              1,
              "#f0f921"
             ]
            ],
            "type": "histogram2dcontour"
           }
          ],
          "mesh3d": [
           {
            "colorbar": {
             "outlinewidth": 0,
             "ticks": ""
            },
            "type": "mesh3d"
           }
          ],
          "parcoords": [
           {
            "line": {
             "colorbar": {
              "outlinewidth": 0,
              "ticks": ""
             }
            },
            "type": "parcoords"
           }
          ],
          "pie": [
           {
            "automargin": true,
            "type": "pie"
           }
          ],
          "scatter": [
           {
            "fillpattern": {
             "fillmode": "overlay",
             "size": 10,
             "solidity": 0.2
            },
            "type": "scatter"
           }
          ],
          "scatter3d": [
           {
            "line": {
             "colorbar": {
              "outlinewidth": 0,
              "ticks": ""
             }
            },
            "marker": {
             "colorbar": {
              "outlinewidth": 0,
              "ticks": ""
             }
            },
            "type": "scatter3d"
           }
          ],
          "scattercarpet": [
           {
            "marker": {
             "colorbar": {
              "outlinewidth": 0,
              "ticks": ""
             }
            },
            "type": "scattercarpet"
           }
          ],
          "scattergeo": [
           {
            "marker": {
             "colorbar": {
              "outlinewidth": 0,
              "ticks": ""
             }
            },
            "type": "scattergeo"
           }
          ],
          "scattergl": [
           {
            "marker": {
             "colorbar": {
              "outlinewidth": 0,
              "ticks": ""
             }
            },
            "type": "scattergl"
           }
          ],
          "scattermapbox": [
           {
            "marker": {
             "colorbar": {
              "outlinewidth": 0,
              "ticks": ""
             }
            },
            "type": "scattermapbox"
           }
          ],
          "scatterpolar": [
           {
            "marker": {
             "colorbar": {
              "outlinewidth": 0,
              "ticks": ""
             }
            },
            "type": "scatterpolar"
           }
          ],
          "scatterpolargl": [
           {
            "marker": {
             "colorbar": {
              "outlinewidth": 0,
              "ticks": ""
             }
            },
            "type": "scatterpolargl"
           }
          ],
          "scatterternary": [
           {
            "marker": {
             "colorbar": {
              "outlinewidth": 0,
              "ticks": ""
             }
            },
            "type": "scatterternary"
           }
          ],
          "surface": [
           {
            "colorbar": {
             "outlinewidth": 0,
             "ticks": ""
            },
            "colorscale": [
             [
              0,
              "#0d0887"
             ],
             [
              0.1111111111111111,
              "#46039f"
             ],
             [
              0.2222222222222222,
              "#7201a8"
             ],
             [
              0.3333333333333333,
              "#9c179e"
             ],
             [
              0.4444444444444444,
              "#bd3786"
             ],
             [
              0.5555555555555556,
              "#d8576b"
             ],
             [
              0.6666666666666666,
              "#ed7953"
             ],
             [
              0.7777777777777778,
              "#fb9f3a"
             ],
             [
              0.8888888888888888,
              "#fdca26"
             ],
             [
              1,
              "#f0f921"
             ]
            ],
            "type": "surface"
           }
          ],
          "table": [
           {
            "cells": {
             "fill": {
              "color": "#EBF0F8"
             },
             "line": {
              "color": "white"
             }
            },
            "header": {
             "fill": {
              "color": "#C8D4E3"
             },
             "line": {
              "color": "white"
             }
            },
            "type": "table"
           }
          ]
         },
         "layout": {
          "annotationdefaults": {
           "arrowcolor": "#2a3f5f",
           "arrowhead": 0,
           "arrowwidth": 1
          },
          "autotypenumbers": "strict",
          "coloraxis": {
           "colorbar": {
            "outlinewidth": 0,
            "ticks": ""
           }
          },
          "colorscale": {
           "diverging": [
            [
             0,
             "#8e0152"
            ],
            [
             0.1,
             "#c51b7d"
            ],
            [
             0.2,
             "#de77ae"
            ],
            [
             0.3,
             "#f1b6da"
            ],
            [
             0.4,
             "#fde0ef"
            ],
            [
             0.5,
             "#f7f7f7"
            ],
            [
             0.6,
             "#e6f5d0"
            ],
            [
             0.7,
             "#b8e186"
            ],
            [
             0.8,
             "#7fbc41"
            ],
            [
             0.9,
             "#4d9221"
            ],
            [
             1,
             "#276419"
            ]
           ],
           "sequential": [
            [
             0,
             "#0d0887"
            ],
            [
             0.1111111111111111,
             "#46039f"
            ],
            [
             0.2222222222222222,
             "#7201a8"
            ],
            [
             0.3333333333333333,
             "#9c179e"
            ],
            [
             0.4444444444444444,
             "#bd3786"
            ],
            [
             0.5555555555555556,
             "#d8576b"
            ],
            [
             0.6666666666666666,
             "#ed7953"
            ],
            [
             0.7777777777777778,
             "#fb9f3a"
            ],
            [
             0.8888888888888888,
             "#fdca26"
            ],
            [
             1,
             "#f0f921"
            ]
           ],
           "sequentialminus": [
            [
             0,
             "#0d0887"
            ],
            [
             0.1111111111111111,
             "#46039f"
            ],
            [
             0.2222222222222222,
             "#7201a8"
            ],
            [
             0.3333333333333333,
             "#9c179e"
            ],
            [
             0.4444444444444444,
             "#bd3786"
            ],
            [
             0.5555555555555556,
             "#d8576b"
            ],
            [
             0.6666666666666666,
             "#ed7953"
            ],
            [
             0.7777777777777778,
             "#fb9f3a"
            ],
            [
             0.8888888888888888,
             "#fdca26"
            ],
            [
             1,
             "#f0f921"
            ]
           ]
          },
          "colorway": [
           "#636efa",
           "#EF553B",
           "#00cc96",
           "#ab63fa",
           "#FFA15A",
           "#19d3f3",
           "#FF6692",
           "#B6E880",
           "#FF97FF",
           "#FECB52"
          ],
          "font": {
           "color": "#2a3f5f"
          },
          "geo": {
           "bgcolor": "white",
           "lakecolor": "white",
           "landcolor": "#E5ECF6",
           "showlakes": true,
           "showland": true,
           "subunitcolor": "white"
          },
          "hoverlabel": {
           "align": "left"
          },
          "hovermode": "closest",
          "mapbox": {
           "style": "light"
          },
          "paper_bgcolor": "white",
          "plot_bgcolor": "#E5ECF6",
          "polar": {
           "angularaxis": {
            "gridcolor": "white",
            "linecolor": "white",
            "ticks": ""
           },
           "bgcolor": "#E5ECF6",
           "radialaxis": {
            "gridcolor": "white",
            "linecolor": "white",
            "ticks": ""
           }
          },
          "scene": {
           "xaxis": {
            "backgroundcolor": "#E5ECF6",
            "gridcolor": "white",
            "gridwidth": 2,
            "linecolor": "white",
            "showbackground": true,
            "ticks": "",
            "zerolinecolor": "white"
           },
           "yaxis": {
            "backgroundcolor": "#E5ECF6",
            "gridcolor": "white",
            "gridwidth": 2,
            "linecolor": "white",
            "showbackground": true,
            "ticks": "",
            "zerolinecolor": "white"
           },
           "zaxis": {
            "backgroundcolor": "#E5ECF6",
            "gridcolor": "white",
            "gridwidth": 2,
            "linecolor": "white",
            "showbackground": true,
            "ticks": "",
            "zerolinecolor": "white"
           }
          },
          "shapedefaults": {
           "line": {
            "color": "#2a3f5f"
           }
          },
          "ternary": {
           "aaxis": {
            "gridcolor": "white",
            "linecolor": "white",
            "ticks": ""
           },
           "baxis": {
            "gridcolor": "white",
            "linecolor": "white",
            "ticks": ""
           },
           "bgcolor": "#E5ECF6",
           "caxis": {
            "gridcolor": "white",
            "linecolor": "white",
            "ticks": ""
           }
          },
          "title": {
           "x": 0.05
          },
          "xaxis": {
           "automargin": true,
           "gridcolor": "white",
           "linecolor": "white",
           "ticks": "",
           "title": {
            "standoff": 15
           },
           "zerolinecolor": "white",
           "zerolinewidth": 2
          },
          "yaxis": {
           "automargin": true,
           "gridcolor": "white",
           "linecolor": "white",
           "ticks": "",
           "title": {
            "standoff": 15
           },
           "zerolinecolor": "white",
           "zerolinewidth": 2
          }
         }
        },
        "title": {
         "text": "wind - blue: DWD Hannover"
        },
        "xaxis": {
         "anchor": "y",
         "domain": [
          0,
          1
         ],
         "title": {
          "text": "time"
         }
        },
        "yaxis": {
         "anchor": "x",
         "domain": [
          0,
          1
         ],
         "title": {
          "text": "dwd_wind"
         }
        }
       }
      }
     },
     "metadata": {},
     "output_type": "display_data"
    },
    {
     "data": {
      "application/vnd.plotly.v1+json": {
       "config": {
        "plotlyServerURL": "https://plot.ly"
       },
       "data": [
        {
         "hovertemplate": "time=%{x}<br>dwd_sun=%{y}<extra></extra>",
         "legendgroup": "",
         "line": {
          "color": "#636efa",
          "dash": "solid"
         },
         "marker": {
          "symbol": "circle"
         },
         "mode": "lines",
         "name": "",
         "orientation": "v",
         "showlegend": false,
         "type": "scatter",
         "x": [
          "2023-05-14",
          "2023-05-20",
          "2023-05-21",
          "2023-05-27",
          "2023-05-28",
          "2023-06-03",
          "2023-06-04",
          "2023-06-10",
          "2023-06-11",
          "2023-06-17",
          "2023-06-18",
          "2023-06-24",
          "2023-06-25",
          "2023-07-01",
          "2023-07-02",
          "2023-07-08",
          "2023-07-09",
          "2023-07-15",
          "2023-07-16",
          "2023-07-22",
          "2023-07-23",
          "2023-07-29",
          "2023-07-30",
          "2023-08-05",
          "2023-08-06",
          "2023-08-12",
          "2023-08-13",
          "2023-08-19",
          "2023-08-20",
          "2023-08-26",
          "2023-08-27",
          "2023-09-02",
          "2023-09-03",
          "2023-09-09",
          "2023-09-10",
          "2023-09-16",
          "2023-09-17",
          "2023-09-23",
          "2023-09-24",
          "2023-09-30",
          "2023-10-01",
          "2023-10-07",
          "2023-10-08",
          "2023-10-14",
          "2023-10-15",
          "2023-10-21",
          "2023-10-22",
          "2023-10-28",
          "2023-10-29",
          "2023-11-04",
          "2023-11-05",
          "2023-11-11",
          "2023-11-12",
          "2023-11-18",
          "2023-11-19",
          "2023-11-25",
          "2023-11-26",
          "2023-12-02",
          "2023-12-03",
          "2023-12-09",
          "2023-12-10",
          "2023-12-16",
          "2023-12-17",
          "2023-12-23",
          "2023-12-24",
          "2023-12-30",
          "2023-12-31",
          "2024-01-06",
          "2024-01-07",
          "2024-01-13",
          "2024-01-14",
          "2024-01-20",
          "2024-01-21",
          "2024-01-27",
          "2024-01-28",
          "2024-02-03",
          "2024-02-04",
          "2024-02-10",
          "2024-02-11",
          "2024-02-17",
          "2024-02-18",
          "2024-02-24",
          "2024-02-25",
          "2024-03-02",
          "2024-03-03",
          "2024-03-09",
          "2024-03-10",
          "2024-03-16",
          "2024-03-17",
          "2024-03-23",
          "2024-03-24",
          "2024-03-30",
          "2024-03-31",
          "2024-04-06",
          "2024-04-07",
          "2024-04-13",
          "2024-04-14",
          "2024-04-20",
          "2024-04-21",
          "2024-04-27",
          "2024-04-28",
          "2024-05-04",
          "2024-05-05",
          "2024-05-11",
          "2024-05-12",
          "2024-05-18",
          "2024-05-19",
          "2024-05-25",
          "2024-05-26",
          "2024-06-01",
          "2024-06-02",
          "2024-06-08",
          "2024-06-09",
          "2024-06-15",
          "2024-06-16",
          "2024-06-22",
          "2024-06-23",
          "2024-06-29",
          "2024-06-30",
          "2024-07-06",
          "2024-07-07",
          "2024-07-13",
          "2024-07-14",
          "2024-07-20",
          "2024-07-21",
          "2024-07-27",
          "2024-07-28",
          "2024-08-03",
          "2024-08-04",
          "2024-08-10",
          "2024-08-11",
          "2024-08-17",
          "2024-08-18",
          "2024-08-24",
          "2024-08-25",
          "2024-08-31",
          "2024-09-01",
          "2024-09-07",
          "2024-09-08",
          "2024-09-14",
          "2024-09-15",
          "2024-09-21",
          "2024-09-22",
          "2024-09-28",
          "2024-09-29",
          "2024-10-05",
          "2024-10-06",
          "2024-10-12",
          "2024-10-13",
          "2024-10-19",
          "2024-10-20",
          "2024-10-26",
          "2024-10-27",
          "2024-11-02",
          "2024-11-03",
          "2024-11-09",
          "2024-11-10"
         ],
         "xaxis": "x",
         "y": [
          41400,
          10800,
          17640,
          51480,
          51120,
          54720,
          54000,
          45720,
          54720,
          28800,
          46440,
          51120,
          51840,
          0,
          20520,
          53640,
          43560,
          23760,
          40320,
          13680,
          360,
          20160,
          25560,
          14759.999999999998,
          25920,
          3960.0000000000005,
          31319.999999999996,
          22320,
          40680,
          33840,
          8640,
          15480,
          35640,
          43200,
          41040,
          32400,
          19440,
          15840.000000000002,
          25560,
          28080,
          3600,
          360,
          19800,
          23400,
          17280,
          9720,
          4680,
          2880,
          6480,
          9720,
          1440,
          0,
          1440,
          2880,
          6120,
          3960.0000000000005,
          0,
          0,
          0,
          12600,
          0,
          0,
          8640,
          0,
          0,
          5760,
          1080,
          0,
          360,
          0,
          0,
          21240,
          720,
          25920,
          26640,
          0,
          0,
          11160,
          0,
          13680,
          0,
          12600,
          3600,
          25200,
          26280,
          34920,
          3960.0000000000005,
          7200,
          26640,
          16560,
          2160,
          2880,
          13320,
          26640,
          17640,
          35280,
          31680.000000000004,
          18000,
          30960,
          31680.000000000004,
          7920.000000000001,
          10440,
          3960.0000000000005,
          34920,
          49320,
          10080,
          21960,
          23760,
          38160,
          28800,
          0,
          37440,
          38880,
          22320,
          16200,
          34200,
          38520,
          45000,
          1080,
          27720,
          33120,
          8280,
          38880,
          50400,
          19440,
          5040,
          25200,
          35161.2,
          21661.2,
          27658.8,
          46440,
          0,
          118.80000000000001,
          37440,
          31438.800000000003,
          25498.8,
          44161.2,
          40320,
          19440,
          34740,
          29581.2,
          39841.2,
          39718.799999999996,
          21538.8,
          25138.8,
          12600,
          18180,
          12538.800000000001,
          6778.8,
          0,
          20221.2,
          30600,
          5338.8,
          21661.2,
          28800,
          0,
          0
         ],
         "yaxis": "y"
        },
        {
         "name": "OpenMeteo",
         "type": "scatter",
         "x": [
          "2023-05-14",
          "2023-05-20",
          "2023-05-21",
          "2023-05-27",
          "2023-05-28",
          "2023-06-03",
          "2023-06-04",
          "2023-06-10",
          "2023-06-11",
          "2023-06-17",
          "2023-06-18",
          "2023-06-24",
          "2023-06-25",
          "2023-07-01",
          "2023-07-02",
          "2023-07-08",
          "2023-07-09",
          "2023-07-15",
          "2023-07-16",
          "2023-07-22",
          "2023-07-23",
          "2023-07-29",
          "2023-07-30",
          "2023-08-05",
          "2023-08-06",
          "2023-08-12",
          "2023-08-13",
          "2023-08-19",
          "2023-08-20",
          "2023-08-26",
          "2023-08-27",
          "2023-09-02",
          "2023-09-03",
          "2023-09-09",
          "2023-09-10",
          "2023-09-16",
          "2023-09-17",
          "2023-09-23",
          "2023-09-24",
          "2023-09-30",
          "2023-10-01",
          "2023-10-07",
          "2023-10-08",
          "2023-10-14",
          "2023-10-15",
          "2023-10-21",
          "2023-10-22",
          "2023-10-28",
          "2023-10-29",
          "2023-11-04",
          "2023-11-05",
          "2023-11-11",
          "2023-11-12",
          "2023-11-18",
          "2023-11-19",
          "2023-11-25",
          "2023-11-26",
          "2023-12-02",
          "2023-12-03",
          "2023-12-09",
          "2023-12-10",
          "2023-12-16",
          "2023-12-17",
          "2023-12-23",
          "2023-12-24",
          "2023-12-30",
          "2023-12-31",
          "2024-01-06",
          "2024-01-07",
          "2024-01-13",
          "2024-01-14",
          "2024-01-20",
          "2024-01-21",
          "2024-01-27",
          "2024-01-28",
          "2024-02-03",
          "2024-02-04",
          "2024-02-10",
          "2024-02-11",
          "2024-02-17",
          "2024-02-18",
          "2024-02-24",
          "2024-02-25",
          "2024-03-02",
          "2024-03-03",
          "2024-03-09",
          "2024-03-10",
          "2024-03-16",
          "2024-03-17",
          "2024-03-23",
          "2024-03-24",
          "2024-03-30",
          "2024-03-31",
          "2024-04-06",
          "2024-04-07",
          "2024-04-13",
          "2024-04-14",
          "2024-04-20",
          "2024-04-21",
          "2024-04-27",
          "2024-04-28",
          "2024-05-04",
          "2024-05-05",
          "2024-05-11",
          "2024-05-12",
          "2024-05-18",
          "2024-05-19",
          "2024-05-25",
          "2024-05-26",
          "2024-06-01",
          "2024-06-02",
          "2024-06-08",
          "2024-06-09",
          "2024-06-15",
          "2024-06-16",
          "2024-06-22",
          "2024-06-23",
          "2024-06-29",
          "2024-06-30",
          "2024-07-06",
          "2024-07-07",
          "2024-07-13",
          "2024-07-14",
          "2024-07-20",
          "2024-07-21",
          "2024-07-27",
          "2024-07-28",
          "2024-08-03",
          "2024-08-04",
          "2024-08-10",
          "2024-08-11",
          "2024-08-17",
          "2024-08-18",
          "2024-08-24",
          "2024-08-25",
          "2024-08-31",
          "2024-09-01",
          "2024-09-07",
          "2024-09-08",
          "2024-09-14",
          "2024-09-15",
          "2024-09-21",
          "2024-09-22",
          "2024-09-28",
          "2024-09-29",
          "2024-10-05",
          "2024-10-06",
          "2024-10-12",
          "2024-10-13",
          "2024-10-19",
          "2024-10-20",
          "2024-10-26",
          "2024-10-27",
          "2024-11-02",
          "2024-11-03",
          "2024-11-09",
          "2024-11-10"
         ],
         "y": [
          51144.92,
          30853.44,
          35297.32,
          53274.95,
          53401.25,
          54035.74,
          54096.84,
          54446.2,
          54345.2,
          54350.7,
          49522.88,
          50751,
          54139,
          909.89,
          37693.24,
          54057.89,
          45897.26,
          43934.82,
          53170.53,
          33775.72,
          17817.42,
          31584.94,
          47466.86,
          48491.2,
          43357.64,
          22888.54,
          42918.13,
          30083.04,
          43200,
          45771.64,
          30675.44,
          34131.1,
          39918.08,
          42704.48,
          41239.86,
          40577.2,
          35161.43,
          30405.59,
          38871.09,
          36000,
          14908.47,
          823.27,
          19357.7,
          34617.67,
          34362.95,
          27217.75,
          28901.75,
          23026.69,
          19258.38,
          10234.81,
          12623.44,
          2632.43,
          27489.17,
          13815.47,
          24935.62,
          13230.59,
          12064.61,
          0,
          601.32,
          17937.15,
          0,
          148.53,
          3600,
          0,
          0,
          21363.65,
          478.98,
          0,
          1270.4,
          0,
          3533.37,
          25160.2,
          3600,
          26256.7,
          26696.73,
          90.73,
          0,
          23394.96,
          0,
          9471.06,
          0,
          29094.62,
          25510.07,
          34555.48,
          34762.7,
          37239.77,
          34843.82,
          24395.84,
          23101.42,
          27483.94,
          3884.72,
          32400,
          20265.39,
          36512.11,
          30104.15,
          41063.87,
          37291.42,
          45914.1,
          46795.79,
          40574.99,
          25664.58,
          27623.67,
          41159.52,
          44452.62,
          51278.2,
          35964.67,
          40995.8,
          46488.69,
          47284.18,
          39600,
          19239.58,
          53538.23,
          48456.1,
          39600,
          36732.47,
          40583.74,
          53015.88,
          52605.04,
          17913.95,
          42404.66,
          49794.14,
          45253.73,
          50400,
          50614.36,
          31770.95,
          23148.16,
          44684.98,
          41935.82,
          37586.67,
          47532.59,
          46708.82,
          14624.82,
          5641.14,
          46338.18,
          42609.88,
          38911.25,
          44901.51,
          42104.88,
          34447.22,
          31677.14,
          39683.37,
          39727.6,
          39349.46,
          37830.77,
          36581.21,
          29792.93,
          31856.83,
          20662.82,
          26642.41,
          16723.56,
          19972.91,
          30985.98,
          19325.33,
          20770.42,
          28972.62,
          11028.59,
          0
         ]
        },
        {
         "name": "DWD Bremen",
         "type": "scatter",
         "x": [
          "2023-05-14",
          "2023-05-20",
          "2023-05-21",
          "2023-05-27",
          "2023-05-28",
          "2023-06-03",
          "2023-06-04",
          "2023-06-10",
          "2023-06-11",
          "2023-06-17",
          "2023-06-18",
          "2023-06-24",
          "2023-06-25",
          "2023-07-01",
          "2023-07-02",
          "2023-07-08",
          "2023-07-09",
          "2023-07-15",
          "2023-07-16",
          "2023-07-22",
          "2023-07-23",
          "2023-07-29",
          "2023-07-30",
          "2023-08-05",
          "2023-08-06",
          "2023-08-12",
          "2023-08-13",
          "2023-08-19",
          "2023-08-20",
          "2023-08-26",
          "2023-08-27",
          "2023-09-02",
          "2023-09-03",
          "2023-09-09",
          "2023-09-10",
          "2023-09-16",
          "2023-09-17",
          "2023-09-23",
          "2023-09-24",
          "2023-09-30",
          "2023-10-01",
          "2023-10-07",
          "2023-10-08",
          "2023-10-14",
          "2023-10-15",
          "2023-10-21",
          "2023-10-22",
          "2023-10-28",
          "2023-10-29",
          "2023-11-04",
          "2023-11-05",
          "2023-11-11",
          "2023-11-12",
          "2023-11-18",
          "2023-11-19",
          "2023-11-25",
          "2023-11-26",
          "2023-12-02",
          "2023-12-03",
          "2023-12-09",
          "2023-12-10",
          "2023-12-16",
          "2023-12-17",
          "2023-12-23",
          "2023-12-24",
          "2023-12-30",
          "2023-12-31",
          "2024-01-06",
          "2024-01-07",
          "2024-01-13",
          "2024-01-14",
          "2024-01-20",
          "2024-01-21",
          "2024-01-27",
          "2024-01-28",
          "2024-02-03",
          "2024-02-04",
          "2024-02-10",
          "2024-02-11",
          "2024-02-17",
          "2024-02-18",
          "2024-02-24",
          "2024-02-25",
          "2024-03-02",
          "2024-03-03",
          "2024-03-09",
          "2024-03-10",
          "2024-03-16",
          "2024-03-17",
          "2024-03-23",
          "2024-03-24",
          "2024-03-30",
          "2024-03-31",
          "2024-04-06",
          "2024-04-07",
          "2024-04-13",
          "2024-04-14",
          "2024-04-20",
          "2024-04-21",
          "2024-04-27",
          "2024-04-28",
          "2024-05-04",
          "2024-05-05",
          "2024-05-11",
          "2024-05-12",
          "2024-05-18",
          "2024-05-19",
          "2024-05-25",
          "2024-05-26",
          "2024-06-01",
          "2024-06-02",
          "2024-06-08",
          "2024-06-09",
          "2024-06-15",
          "2024-06-16",
          "2024-06-22",
          "2024-06-23",
          "2024-06-29",
          "2024-06-30",
          "2024-07-06",
          "2024-07-07",
          "2024-07-13",
          "2024-07-14",
          "2024-07-20",
          "2024-07-21",
          "2024-07-27",
          "2024-07-28",
          "2024-08-03",
          "2024-08-04",
          "2024-08-10",
          "2024-08-11",
          "2024-08-17",
          "2024-08-18",
          "2024-08-24",
          "2024-08-25",
          "2024-08-31",
          "2024-09-01",
          "2024-09-07",
          "2024-09-08",
          "2024-09-14",
          "2024-09-15",
          "2024-09-21",
          "2024-09-22",
          "2024-09-28",
          "2024-09-29",
          "2024-10-05",
          "2024-10-06",
          "2024-10-12",
          "2024-10-13",
          "2024-10-19",
          "2024-10-20",
          "2024-10-26",
          "2024-10-27",
          "2024-11-02",
          "2024-11-03",
          "2024-11-09",
          "2024-11-10"
         ],
         "y": [
          34200,
          28080,
          10440,
          51120,
          49320,
          57240,
          54720,
          44280,
          52200,
          34200,
          50760,
          36360,
          52200,
          1080,
          32400,
          54720,
          41760,
          35640,
          21960,
          11880,
          3960.0000000000005,
          19080,
          18720,
          27720,
          21960,
          11160,
          33840,
          16200,
          42840,
          20520,
          23760,
          18720,
          37800,
          42840,
          30240,
          25200,
          22680,
          12960,
          25560,
          26640,
          0,
          0,
          14040,
          28800,
          18000,
          12960,
          4680,
          0,
          13680,
          2160,
          1080,
          0,
          7920.000000000001,
          0,
          2520,
          19080,
          0,
          0,
          0,
          10080,
          0,
          0,
          360,
          0,
          0,
          5040,
          360,
          0,
          18000,
          0,
          4680,
          20880,
          720,
          27000,
          29519.999999999996,
          0,
          0,
          11520,
          0,
          11880,
          0,
          9360,
          4320,
          29160,
          30240,
          36720,
          14759.999999999998,
          15480,
          20880,
          22320,
          1080,
          7920.000000000001,
          8280,
          19440,
          31319.999999999996,
          33480,
          28800,
          27360,
          30960,
          26640,
          14759.999999999998,
          26280,
          6840,
          46800,
          52920,
          18720,
          10080,
          12600,
          37800,
          41400,
          0,
          26280,
          26280,
          14759.999999999998,
          11520,
          18360,
          37080,
          44640,
          7200,
          26280,
          34920,
          10080,
          41400,
          49680,
          22320,
          20520,
          42840,
          26701.2,
          28501.2,
          31618.8,
          40860,
          6238.8,
          9421.2,
          30358.8,
          31438.800000000003,
          21538.8,
          44881.200000000004,
          31319.999999999996,
          13561.199999999999,
          26938.8,
          11160,
          41101.2,
          37501.2,
          24958.8,
          32518.8,
          35038.8,
          27658.8,
          16138.8,
          15541.2,
          0,
          14641.2,
          28198.8,
          11041.2,
          17100,
          30481.2,
          0,
          0
         ]
        }
       ],
       "layout": {
        "legend": {
         "tracegroupgap": 0
        },
        "template": {
         "data": {
          "bar": [
           {
            "error_x": {
             "color": "#2a3f5f"
            },
            "error_y": {
             "color": "#2a3f5f"
            },
            "marker": {
             "line": {
              "color": "#E5ECF6",
              "width": 0.5
             },
             "pattern": {
              "fillmode": "overlay",
              "size": 10,
              "solidity": 0.2
             }
            },
            "type": "bar"
           }
          ],
          "barpolar": [
           {
            "marker": {
             "line": {
              "color": "#E5ECF6",
              "width": 0.5
             },
             "pattern": {
              "fillmode": "overlay",
              "size": 10,
              "solidity": 0.2
             }
            },
            "type": "barpolar"
           }
          ],
          "carpet": [
           {
            "aaxis": {
             "endlinecolor": "#2a3f5f",
             "gridcolor": "white",
             "linecolor": "white",
             "minorgridcolor": "white",
             "startlinecolor": "#2a3f5f"
            },
            "baxis": {
             "endlinecolor": "#2a3f5f",
             "gridcolor": "white",
             "linecolor": "white",
             "minorgridcolor": "white",
             "startlinecolor": "#2a3f5f"
            },
            "type": "carpet"
           }
          ],
          "choropleth": [
           {
            "colorbar": {
             "outlinewidth": 0,
             "ticks": ""
            },
            "type": "choropleth"
           }
          ],
          "contour": [
           {
            "colorbar": {
             "outlinewidth": 0,
             "ticks": ""
            },
            "colorscale": [
             [
              0,
              "#0d0887"
             ],
             [
              0.1111111111111111,
              "#46039f"
             ],
             [
              0.2222222222222222,
              "#7201a8"
             ],
             [
              0.3333333333333333,
              "#9c179e"
             ],
             [
              0.4444444444444444,
              "#bd3786"
             ],
             [
              0.5555555555555556,
              "#d8576b"
             ],
             [
              0.6666666666666666,
              "#ed7953"
             ],
             [
              0.7777777777777778,
              "#fb9f3a"
             ],
             [
              0.8888888888888888,
              "#fdca26"
             ],
             [
              1,
              "#f0f921"
             ]
            ],
            "type": "contour"
           }
          ],
          "contourcarpet": [
           {
            "colorbar": {
             "outlinewidth": 0,
             "ticks": ""
            },
            "type": "contourcarpet"
           }
          ],
          "heatmap": [
           {
            "colorbar": {
             "outlinewidth": 0,
             "ticks": ""
            },
            "colorscale": [
             [
              0,
              "#0d0887"
             ],
             [
              0.1111111111111111,
              "#46039f"
             ],
             [
              0.2222222222222222,
              "#7201a8"
             ],
             [
              0.3333333333333333,
              "#9c179e"
             ],
             [
              0.4444444444444444,
              "#bd3786"
             ],
             [
              0.5555555555555556,
              "#d8576b"
             ],
             [
              0.6666666666666666,
              "#ed7953"
             ],
             [
              0.7777777777777778,
              "#fb9f3a"
             ],
             [
              0.8888888888888888,
              "#fdca26"
             ],
             [
              1,
              "#f0f921"
             ]
            ],
            "type": "heatmap"
           }
          ],
          "heatmapgl": [
           {
            "colorbar": {
             "outlinewidth": 0,
             "ticks": ""
            },
            "colorscale": [
             [
              0,
              "#0d0887"
             ],
             [
              0.1111111111111111,
              "#46039f"
             ],
             [
              0.2222222222222222,
              "#7201a8"
             ],
             [
              0.3333333333333333,
              "#9c179e"
             ],
             [
              0.4444444444444444,
              "#bd3786"
             ],
             [
              0.5555555555555556,
              "#d8576b"
             ],
             [
              0.6666666666666666,
              "#ed7953"
             ],
             [
              0.7777777777777778,
              "#fb9f3a"
             ],
             [
              0.8888888888888888,
              "#fdca26"
             ],
             [
              1,
              "#f0f921"
             ]
            ],
            "type": "heatmapgl"
           }
          ],
          "histogram": [
           {
            "marker": {
             "pattern": {
              "fillmode": "overlay",
              "size": 10,
              "solidity": 0.2
             }
            },
            "type": "histogram"
           }
          ],
          "histogram2d": [
           {
            "colorbar": {
             "outlinewidth": 0,
             "ticks": ""
            },
            "colorscale": [
             [
              0,
              "#0d0887"
             ],
             [
              0.1111111111111111,
              "#46039f"
             ],
             [
              0.2222222222222222,
              "#7201a8"
             ],
             [
              0.3333333333333333,
              "#9c179e"
             ],
             [
              0.4444444444444444,
              "#bd3786"
             ],
             [
              0.5555555555555556,
              "#d8576b"
             ],
             [
              0.6666666666666666,
              "#ed7953"
             ],
             [
              0.7777777777777778,
              "#fb9f3a"
             ],
             [
              0.8888888888888888,
              "#fdca26"
             ],
             [
              1,
              "#f0f921"
             ]
            ],
            "type": "histogram2d"
           }
          ],
          "histogram2dcontour": [
           {
            "colorbar": {
             "outlinewidth": 0,
             "ticks": ""
            },
            "colorscale": [
             [
              0,
              "#0d0887"
             ],
             [
              0.1111111111111111,
              "#46039f"
             ],
             [
              0.2222222222222222,
              "#7201a8"
             ],
             [
              0.3333333333333333,
              "#9c179e"
             ],
             [
              0.4444444444444444,
              "#bd3786"
             ],
             [
              0.5555555555555556,
              "#d8576b"
             ],
             [
              0.6666666666666666,
              "#ed7953"
             ],
             [
              0.7777777777777778,
              "#fb9f3a"
             ],
             [
              0.8888888888888888,
              "#fdca26"
             ],
             [
              1,
              "#f0f921"
             ]
            ],
            "type": "histogram2dcontour"
           }
          ],
          "mesh3d": [
           {
            "colorbar": {
             "outlinewidth": 0,
             "ticks": ""
            },
            "type": "mesh3d"
           }
          ],
          "parcoords": [
           {
            "line": {
             "colorbar": {
              "outlinewidth": 0,
              "ticks": ""
             }
            },
            "type": "parcoords"
           }
          ],
          "pie": [
           {
            "automargin": true,
            "type": "pie"
           }
          ],
          "scatter": [
           {
            "fillpattern": {
             "fillmode": "overlay",
             "size": 10,
             "solidity": 0.2
            },
            "type": "scatter"
           }
          ],
          "scatter3d": [
           {
            "line": {
             "colorbar": {
              "outlinewidth": 0,
              "ticks": ""
             }
            },
            "marker": {
             "colorbar": {
              "outlinewidth": 0,
              "ticks": ""
             }
            },
            "type": "scatter3d"
           }
          ],
          "scattercarpet": [
           {
            "marker": {
             "colorbar": {
              "outlinewidth": 0,
              "ticks": ""
             }
            },
            "type": "scattercarpet"
           }
          ],
          "scattergeo": [
           {
            "marker": {
             "colorbar": {
              "outlinewidth": 0,
              "ticks": ""
             }
            },
            "type": "scattergeo"
           }
          ],
          "scattergl": [
           {
            "marker": {
             "colorbar": {
              "outlinewidth": 0,
              "ticks": ""
             }
            },
            "type": "scattergl"
           }
          ],
          "scattermapbox": [
           {
            "marker": {
             "colorbar": {
              "outlinewidth": 0,
              "ticks": ""
             }
            },
            "type": "scattermapbox"
           }
          ],
          "scatterpolar": [
           {
            "marker": {
             "colorbar": {
              "outlinewidth": 0,
              "ticks": ""
             }
            },
            "type": "scatterpolar"
           }
          ],
          "scatterpolargl": [
           {
            "marker": {
             "colorbar": {
              "outlinewidth": 0,
              "ticks": ""
             }
            },
            "type": "scatterpolargl"
           }
          ],
          "scatterternary": [
           {
            "marker": {
             "colorbar": {
              "outlinewidth": 0,
              "ticks": ""
             }
            },
            "type": "scatterternary"
           }
          ],
          "surface": [
           {
            "colorbar": {
             "outlinewidth": 0,
             "ticks": ""
            },
            "colorscale": [
             [
              0,
              "#0d0887"
             ],
             [
              0.1111111111111111,
              "#46039f"
             ],
             [
              0.2222222222222222,
              "#7201a8"
             ],
             [
              0.3333333333333333,
              "#9c179e"
             ],
             [
              0.4444444444444444,
              "#bd3786"
             ],
             [
              0.5555555555555556,
              "#d8576b"
             ],
             [
              0.6666666666666666,
              "#ed7953"
             ],
             [
              0.7777777777777778,
              "#fb9f3a"
             ],
             [
              0.8888888888888888,
              "#fdca26"
             ],
             [
              1,
              "#f0f921"
             ]
            ],
            "type": "surface"
           }
          ],
          "table": [
           {
            "cells": {
             "fill": {
              "color": "#EBF0F8"
             },
             "line": {
              "color": "white"
             }
            },
            "header": {
             "fill": {
              "color": "#C8D4E3"
             },
             "line": {
              "color": "white"
             }
            },
            "type": "table"
           }
          ]
         },
         "layout": {
          "annotationdefaults": {
           "arrowcolor": "#2a3f5f",
           "arrowhead": 0,
           "arrowwidth": 1
          },
          "autotypenumbers": "strict",
          "coloraxis": {
           "colorbar": {
            "outlinewidth": 0,
            "ticks": ""
           }
          },
          "colorscale": {
           "diverging": [
            [
             0,
             "#8e0152"
            ],
            [
             0.1,
             "#c51b7d"
            ],
            [
             0.2,
             "#de77ae"
            ],
            [
             0.3,
             "#f1b6da"
            ],
            [
             0.4,
             "#fde0ef"
            ],
            [
             0.5,
             "#f7f7f7"
            ],
            [
             0.6,
             "#e6f5d0"
            ],
            [
             0.7,
             "#b8e186"
            ],
            [
             0.8,
             "#7fbc41"
            ],
            [
             0.9,
             "#4d9221"
            ],
            [
             1,
             "#276419"
            ]
           ],
           "sequential": [
            [
             0,
             "#0d0887"
            ],
            [
             0.1111111111111111,
             "#46039f"
            ],
            [
             0.2222222222222222,
             "#7201a8"
            ],
            [
             0.3333333333333333,
             "#9c179e"
            ],
            [
             0.4444444444444444,
             "#bd3786"
            ],
            [
             0.5555555555555556,
             "#d8576b"
            ],
            [
             0.6666666666666666,
             "#ed7953"
            ],
            [
             0.7777777777777778,
             "#fb9f3a"
            ],
            [
             0.8888888888888888,
             "#fdca26"
            ],
            [
             1,
             "#f0f921"
            ]
           ],
           "sequentialminus": [
            [
             0,
             "#0d0887"
            ],
            [
             0.1111111111111111,
             "#46039f"
            ],
            [
             0.2222222222222222,
             "#7201a8"
            ],
            [
             0.3333333333333333,
             "#9c179e"
            ],
            [
             0.4444444444444444,
             "#bd3786"
            ],
            [
             0.5555555555555556,
             "#d8576b"
            ],
            [
             0.6666666666666666,
             "#ed7953"
            ],
            [
             0.7777777777777778,
             "#fb9f3a"
            ],
            [
             0.8888888888888888,
             "#fdca26"
            ],
            [
             1,
             "#f0f921"
            ]
           ]
          },
          "colorway": [
           "#636efa",
           "#EF553B",
           "#00cc96",
           "#ab63fa",
           "#FFA15A",
           "#19d3f3",
           "#FF6692",
           "#B6E880",
           "#FF97FF",
           "#FECB52"
          ],
          "font": {
           "color": "#2a3f5f"
          },
          "geo": {
           "bgcolor": "white",
           "lakecolor": "white",
           "landcolor": "#E5ECF6",
           "showlakes": true,
           "showland": true,
           "subunitcolor": "white"
          },
          "hoverlabel": {
           "align": "left"
          },
          "hovermode": "closest",
          "mapbox": {
           "style": "light"
          },
          "paper_bgcolor": "white",
          "plot_bgcolor": "#E5ECF6",
          "polar": {
           "angularaxis": {
            "gridcolor": "white",
            "linecolor": "white",
            "ticks": ""
           },
           "bgcolor": "#E5ECF6",
           "radialaxis": {
            "gridcolor": "white",
            "linecolor": "white",
            "ticks": ""
           }
          },
          "scene": {
           "xaxis": {
            "backgroundcolor": "#E5ECF6",
            "gridcolor": "white",
            "gridwidth": 2,
            "linecolor": "white",
            "showbackground": true,
            "ticks": "",
            "zerolinecolor": "white"
           },
           "yaxis": {
            "backgroundcolor": "#E5ECF6",
            "gridcolor": "white",
            "gridwidth": 2,
            "linecolor": "white",
            "showbackground": true,
            "ticks": "",
            "zerolinecolor": "white"
           },
           "zaxis": {
            "backgroundcolor": "#E5ECF6",
            "gridcolor": "white",
            "gridwidth": 2,
            "linecolor": "white",
            "showbackground": true,
            "ticks": "",
            "zerolinecolor": "white"
           }
          },
          "shapedefaults": {
           "line": {
            "color": "#2a3f5f"
           }
          },
          "ternary": {
           "aaxis": {
            "gridcolor": "white",
            "linecolor": "white",
            "ticks": ""
           },
           "baxis": {
            "gridcolor": "white",
            "linecolor": "white",
            "ticks": ""
           },
           "bgcolor": "#E5ECF6",
           "caxis": {
            "gridcolor": "white",
            "linecolor": "white",
            "ticks": ""
           }
          },
          "title": {
           "x": 0.05
          },
          "xaxis": {
           "automargin": true,
           "gridcolor": "white",
           "linecolor": "white",
           "ticks": "",
           "title": {
            "standoff": 15
           },
           "zerolinecolor": "white",
           "zerolinewidth": 2
          },
          "yaxis": {
           "automargin": true,
           "gridcolor": "white",
           "linecolor": "white",
           "ticks": "",
           "title": {
            "standoff": 15
           },
           "zerolinecolor": "white",
           "zerolinewidth": 2
          }
         }
        },
        "title": {
         "text": "sun - blue: DWD Hannover"
        },
        "xaxis": {
         "anchor": "y",
         "domain": [
          0,
          1
         ],
         "title": {
          "text": "time"
         }
        },
        "yaxis": {
         "anchor": "x",
         "domain": [
          0,
          1
         ],
         "title": {
          "text": "dwd_sun"
         }
        }
       }
      }
     },
     "metadata": {},
     "output_type": "display_data"
    }
   ],
   "source": [
    "import plotly.express as px\n",
    "\n",
    "fig = px.scatter(merged_wetter[merged_wetter['RSK_x']>=0], x=\"time\", y=\"RSK_x\",title=\"rain - blue: DWD Hannover\")\n",
    "\n",
    "fig.add_scatter(x=merged_wetter['time'], y=merged_wetter['rain'],mode='markers', name='OpenMeteo')\n",
    "fig.add_scatter(x=Bremen_daily['time'], y=Bremen_daily['RSK'],mode='markers', name='DWD Bremen')\n",
    "\n",
    "#fig.show()\n",
    "\n",
    "fig = px.line(merged_wetter[merged_wetter['dwd_wind']>=0], x=\"time\", y=\"dwd_wind\",title=\"wind - blue: DWD Hannover\")\n",
    "\n",
    "fig.add_scatter(x=merged_wetter['time'], y=merged_wetter['wind'], name='OpenMeteo')\n",
    "fig.add_scatter(x=Bremen_daily[Bremen_daily['dwd_windB']>=0]['time'], y=Bremen_daily[Bremen_daily['dwd_windB']>=0]['dwd_windB'], name='DWD Bremen')\n",
    "\n",
    "fig.show('svg')\n",
    "\n",
    "fig = px.line(merged_wetter[merged_wetter['dwd_gust']>=0], x=\"time\", y=\"dwd_gust\",title=\"gust - blue: DWD Hannover\")\n",
    "\n",
    "fig.add_scatter(x=merged_wetter['time'], y=merged_wetter['gust'], name='OpenMeteo')\n",
    "fig.add_scatter(x=Bremen_daily[Bremen_daily['dwd_gustB']>=0]['time'], y=Bremen_daily[Bremen_daily['dwd_gustB']>=0]['dwd_gustB'], name='DWD Bremen')\n",
    "\n",
    "#fig.show()\n",
    "\n",
    "fig = px.line(merged_wetter[merged_wetter['dwd_sun']>=0], x=\"time\", y=\"dwd_sun\",title=\"sun - blue: DWD Hannover\")\n",
    "\n",
    "fig.add_scatter(x=merged_wetter['time'], y=merged_wetter['sun'], name='OpenMeteo')\n",
    "fig.add_scatter(x=Bremen_daily[Bremen_daily['dwd_sunB']>=0]['time'], y=Bremen_daily[Bremen_daily['dwd_sunB']>=0]['dwd_sunB'], name='DWD Bremen')\n",
    "\n",
    "fig.show('svg')"
   ]
  },
  {
   "cell_type": "markdown",
   "metadata": {},
   "source": [
    "## Get DHV XC flight data\n",
    "\n",
    "* Metzingen\n",
    "* Lüdingen\n",
    "* Leese, Estorf (GC Landesbergen)"
   ]
  },
  {
   "cell_type": "code",
   "execution_count": 8,
   "metadata": {},
   "outputs": [
    {
     "name": "stdout",
     "output_type": "stream",
     "text": [
      "4000\n"
     ]
    },
    {
     "data": {
      "text/html": [
       "<div>\n",
       "<style scoped>\n",
       "    .dataframe tbody tr th:only-of-type {\n",
       "        vertical-align: middle;\n",
       "    }\n",
       "\n",
       "    .dataframe tbody tr th {\n",
       "        vertical-align: top;\n",
       "    }\n",
       "\n",
       "    .dataframe thead th {\n",
       "        text-align: right;\n",
       "    }\n",
       "</style>\n",
       "<table border=\"1\" class=\"dataframe\">\n",
       "  <thead>\n",
       "    <tr style=\"text-align: right;\">\n",
       "      <th></th>\n",
       "      <th>FlightDate</th>\n",
       "      <th>Takeoff</th>\n",
       "      <th>Glider</th>\n",
       "      <th>Duration</th>\n",
       "      <th>UtcOffset</th>\n",
       "      <th>FlightStartTime</th>\n",
       "    </tr>\n",
       "  </thead>\n",
       "  <tbody>\n",
       "    <tr>\n",
       "      <th>3995</th>\n",
       "      <td>2021-04-20</td>\n",
       "      <td>Lüdingen</td>\n",
       "      <td>Arriba 3 S</td>\n",
       "      <td>513</td>\n",
       "      <td>2</td>\n",
       "      <td>2021-04-20 16:43:38</td>\n",
       "    </tr>\n",
       "    <tr>\n",
       "      <th>3996</th>\n",
       "      <td>2021-04-20</td>\n",
       "      <td>Lüdingen</td>\n",
       "      <td>MiuraRS - ML [LTF A]</td>\n",
       "      <td>516</td>\n",
       "      <td>2</td>\n",
       "      <td>2021-04-20 20:02:08</td>\n",
       "    </tr>\n",
       "    <tr>\n",
       "      <th>3997</th>\n",
       "      <td>2021-04-20</td>\n",
       "      <td>Lüdingen</td>\n",
       "      <td>BuzzZ5</td>\n",
       "      <td>576</td>\n",
       "      <td>2</td>\n",
       "      <td>2021-04-20 13:36:34</td>\n",
       "    </tr>\n",
       "    <tr>\n",
       "      <th>3998</th>\n",
       "      <td>2021-04-20</td>\n",
       "      <td>Lüdingen</td>\n",
       "      <td>MiuraRS - ML [LTF A]</td>\n",
       "      <td>477</td>\n",
       "      <td>2</td>\n",
       "      <td>2021-04-20 15:39:31</td>\n",
       "    </tr>\n",
       "    <tr>\n",
       "      <th>3999</th>\n",
       "      <td>2021-04-20</td>\n",
       "      <td>Lüdingen</td>\n",
       "      <td>Alpha 6</td>\n",
       "      <td>533</td>\n",
       "      <td>2</td>\n",
       "      <td>2021-04-20 15:50:03</td>\n",
       "    </tr>\n",
       "  </tbody>\n",
       "</table>\n",
       "</div>"
      ],
      "text/plain": [
       "      FlightDate   Takeoff                Glider Duration UtcOffset  \\\n",
       "3995  2021-04-20  Lüdingen            Arriba 3 S      513         2   \n",
       "3996  2021-04-20  Lüdingen  MiuraRS - ML [LTF A]      516         2   \n",
       "3997  2021-04-20  Lüdingen                BuzzZ5      576         2   \n",
       "3998  2021-04-20  Lüdingen  MiuraRS - ML [LTF A]      477         2   \n",
       "3999  2021-04-20  Lüdingen               Alpha 6      533         2   \n",
       "\n",
       "          FlightStartTime  \n",
       "3995  2021-04-20 16:43:38  \n",
       "3996  2021-04-20 20:02:08  \n",
       "3997  2021-04-20 13:36:34  \n",
       "3998  2021-04-20 15:39:31  \n",
       "3999  2021-04-20 15:50:03  "
      ]
     },
     "execution_count": 8,
     "metadata": {},
     "output_type": "execute_result"
    }
   ],
   "source": [
    "import requests\n",
    "import urllib\n",
    "import pandas as pd\n",
    "\n",
    "PAGE_SIZE = 500\n",
    "\n",
    "places = {\n",
    "    'Metzingen':11185,\n",
    "    'Rammelsberg': 9427,\n",
    "    'Estorf': 11001,\n",
    "    'Leese': 10746,\n",
    "    'Porta': 9712,\n",
    "    'Lüdingen':9759,\n",
    "    'Brunsberg': 9844,\n",
    "    'Kella': 9521,\n",
    "    'Börry': 9403\n",
    "}\n",
    "\n",
    "results = []\n",
    "for place in ['Metzingen','Estorf','Leese','Lüdingen']:\n",
    "    limit = PAGE_SIZE\n",
    "    for start in [0,PAGE_SIZE]:\n",
    "        query = {\"navpars\":{\"start\":start,\"limit\":limit,\"sort\":[{\"field\":\"FlightDate\",\"dir\":-1},{\"field\":\"BestTaskPoints\",\"dir\":-1}]}}\n",
    "        # for some reason, \" is replaced by ' and spaces are added which is replaced by +\n",
    "        decoded_url = f\"https://de.dhv-xc.de/api/fli/flights?s?fkcat%5B%5D=1&fkto%5B%5D={places[place]}&{urllib.parse.urlencode(query,quote_via=urllib.parse.quote_plus).replace('%27', '%22').replace('+', '')}\"\n",
    "        #print(decoded_url)\n",
    "        r = requests.get(decoded_url)\n",
    "        if r.status_code==200:\n",
    "            response = r.json()\n",
    "            df0 = pd.DataFrame(response['data'])\n",
    "            #print(df.columns.values)\n",
    "            results.extend(df0[['FlightDate', 'TakeoffWaypointName' , 'Glider' ,'FlightDuration','UtcOffset', 'FlightStartTime']].values)\n",
    "\n",
    "\n",
    "df_results = pd.DataFrame(results,columns=['FlightDate','Takeoff', 'Glider' ,'Duration','UtcOffset', 'FlightStartTime'])\n",
    "print(len(df_results))\n",
    "df_results.tail()"
   ]
  },
  {
   "cell_type": "markdown",
   "metadata": {},
   "source": [
    "## Merge weather and flight data for training and testing\n",
    "\n",
    "* Weather data : OpenMeteo daily @ Hannover\n",
    "* Flight data: Sundays and Saturdays, all 4 locations\n",
    "\n",
    "* Training data < 2024\n",
    "* Test data >= 2024"
   ]
  },
  {
   "cell_type": "code",
   "execution_count": 10,
   "metadata": {},
   "outputs": [
    {
     "name": "stdout",
     "output_type": "stream",
     "text": [
      "Hannover Station 2014 {'lat': 52.4644, 'long': 9.6779}\n"
     ]
    }
   ],
   "source": [
    "import numpy as np\n",
    "from datetime import datetime\n",
    "print(loc, locations[loc])\n",
    "df['Weekday'] = df.apply(lambda row:datetime.strftime(datetime.strptime(row['time'],'%Y-%m-%d'),'%a'), axis=1)\n",
    "df['alignment'] =  df.apply(lambda row: np.cos(row['wind_direction_10m_dominant']*np.pi/180.)**2,axis=1)\n",
    "df = df[df['Weekday'].isin(['Sat','Sun'])]\n",
    "#print(df.head())\n",
    "\n",
    "dhv_aggr = df_results[df_results['FlightDate'] >= '2022-01-01'].groupby('FlightDate')['Duration'].count().reset_index()\n",
    "dhv_aggr['Weekday'] = dhv_aggr.apply(lambda row:  datetime.strftime(datetime.strptime(row['FlightDate'],'%Y-%m-%d'),'%a'), axis=1)\n",
    "dhv_aggr.rename(columns={'FlightDate':'time'},inplace=True)\n",
    "#dhv_aggr.head()\n",
    "\n",
    "dfm = df.merge(dhv_aggr, on='time', how='left')\n",
    "dfm.rename(columns={'sunshine_duration':'sun','rain_sum':'rain','wind_speed_10m_max':'wind','wind_gusts_10m_max':'gust','wind_direction_10m_dominant':'dir','Duration':'flights'},inplace=True)\n",
    "dfm = dfm.drop(['Weekday_y'] ,axis=1).fillna(0)"
   ]
  },
  {
   "cell_type": "markdown",
   "metadata": {},
   "source": [
    "## Train model\n",
    "\n",
    "* RandomForestRegressor with estimators (decision trees)"
   ]
  },
  {
   "cell_type": "code",
   "execution_count": 15,
   "metadata": {},
   "outputs": [
    {
     "name": "stdout",
     "output_type": "stream",
     "text": [
      "(105, 4) (105,)\n"
     ]
    }
   ],
   "source": [
    "\n",
    "from sklearn.ensemble import RandomForestRegressor\n",
    "from sklearn.tree import DecisionTreeRegressor, plot_tree\n",
    "import numpy as np\n",
    "\n",
    "features = ['wind','gust','rain','sun']\n",
    "\n",
    "test_filter =(dfm['time'] >= '2024-01-01')\n",
    "train_filter = (dfm['time'] < '2024-01-01') & (dfm['time'] >= '2023-01-01')\n",
    "xtrain = dfm[train_filter][features].to_numpy()\n",
    "ytrain = dfm[train_filter]['flights'].to_numpy()\n",
    "\n",
    "print(np.shape(xtrain),np.shape(ytrain))\n",
    "\n",
    "regr = RandomForestRegressor(random_state=0,n_estimators=200,max_depth=4)\n",
    "regr.fit(xtrain,ytrain)\n",
    "\n",
    "\n",
    "dfm['predict'] = dfm[test_filter | train_filter].apply(lambda row: regr.predict([row[features].to_numpy()])[0], axis=1)"
   ]
  },
  {
   "cell_type": "markdown",
   "metadata": {},
   "source": [
    "## Evaluate\n",
    "\n",
    "* Choose some threshold to define categories\n",
    "* Calculate  measures"
   ]
  },
  {
   "cell_type": "code",
   "execution_count": 19,
   "metadata": {},
   "outputs": [
    {
     "name": "stdout",
     "output_type": "stream",
     "text": [
      "true pos 20\n",
      "true neg 56\n",
      "false pos 10\n",
      "false neg 4\n",
      "precision: 0.6666666666666666 recall: 0.8333333333333334\n",
      "\n",
      "false negatives\n",
      "\n",
      " |     | time       |     sun |   rain |   wind |   gust |   dir | Weekday_x   |   alignment |   flights |   predict |\n",
      "|----:|:-----------|--------:|-------:|-------:|-------:|------:|:------------|------------:|----------:|----------:|\n",
      "| 217 | 2024-01-28 | 26696.7 |    0   |   19.8 |   35.6 |   158 | Sun         |   0.85967   |         2 |  0.448378 |\n",
      "| 235 | 2024-03-31 | 20265.4 |    3.1 |   14.2 |   26.3 |    97 | Sun         |   0.0148521 |        13 |  1.51841  |\n",
      "| 241 | 2024-04-21 | 46795.8 |    0.8 |   19.5 |   41.4 |    49 | Sun         |   0.430413  |         2 |  0.299912 |\n",
      "| 287 | 2024-09-29 | 36581.2 |    0.1 |   15.6 |   28.4 |   209 | Sun         |   0.76496   |        42 |  1.4478   |\n",
      "\n",
      "false positives\n",
      "\n",
      " |     | time       |      sun |   rain |   wind |   gust |   dir | Weekday_x   |   alignment |   flights |   predict |\n",
      "|----:|:-----------|---------:|-------:|-------:|-------:|------:|:------------|------------:|----------:|----------:|\n",
      "| 247 | 2024-05-12 | 51278.2  |    0   |   16.6 |   36.7 |   100 | Sun         |  0.0301537  |         0 |  14.6333  |\n",
      "| 248 | 2024-05-18 | 35964.7  |    1.4 |   11.6 |   30.6 |    78 | Sat         |  0.0432273  |         0 |   3.63218 |\n",
      "| 249 | 2024-05-19 | 40995.8  |    5.8 |   15.6 |   32.4 |   357 | Sun         |  0.997261   |         0 |   2.2535  |\n",
      "| 252 | 2024-06-01 | 39600    |    3.4 |   17.4 |   36   |   331 | Sat         |  0.76496    |         0 |   3.3809  |\n",
      "| 254 | 2024-06-08 | 53538.2  |    0.2 |   23.3 |   48.6 |   252 | Sat         |  0.0954915  |         0 |  15.6904  |\n",
      "| 255 | 2024-06-09 | 48456.1  |    0   |   21.3 |   44.3 |   266 | Sun         |  0.00486597 |         0 |  10.8627  |\n",
      "| 268 | 2024-07-27 | 23148.2  |   14.4 |   10.3 |   22.7 |    37 | Sat         |  0.637819   |         0 |   6.70605 |\n",
      "| 275 | 2024-08-18 |  5641.14 |    4.1 |   10.9 |   23.4 |    13 | Sun         |  0.949397   |         0 |   3.89168 |\n",
      "| 283 | 2024-09-15 | 39683.4  |    0   |   15.3 |   31.7 |   321 | Sun         |  0.603956   |         0 |   2.24608 |\n",
      "| 299 | 2024-11-10 |     0    |    0   |    8.7 |   17.6 |   147 | Sun         |  0.703368   |         0 |   8.08555 |\n"
     ]
    }
   ],
   "source": [
    "thr = 2.0\n",
    "\n",
    "tp = dfm[test_filter & (dfm['flights'] > 0) & (dfm['predict'] >= thr)]\n",
    "tn = len(dfm[test_filter & ~(dfm['flights'] > 0) & ~(dfm['predict'] >= thr)])\n",
    "fp = dfm[test_filter & ~(dfm['flights'] > 0) & (dfm['predict'] >= thr)]\n",
    "fn = dfm[test_filter & (dfm['flights'] > 0) & ~(dfm['predict'] >= thr)]\n",
    "\n",
    "print('true pos', len(tp))\n",
    "print('true neg', tn)\n",
    "print('false pos', len(fp))\n",
    "print('false neg', len(fn))\n",
    "\n",
    "print('precision:', len(tp)/(len(tp)+len(fp)), 'recall:', len(tp)/(len(tp)+len(fn)) )\n",
    "#print(\"true positives\",\"\\n\", tp.to_markdown())\n",
    "print(\"\\nfalse negatives\\n\\n\", fn.to_markdown())\n",
    "print(\"\\nfalse positives\\n\\n\",fp.to_markdown())"
   ]
  }
 ],
 "metadata": {
  "kernelspec": {
   "display_name": "Python 3",
   "language": "python",
   "name": "python3"
  },
  "language_info": {
   "codemirror_mode": {
    "name": "ipython",
    "version": 3
   },
   "file_extension": ".py",
   "mimetype": "text/x-python",
   "name": "python",
   "nbconvert_exporter": "python",
   "pygments_lexer": "ipython3",
   "version": "3.11.8"
  }
 },
 "nbformat": 4,
 "nbformat_minor": 2
}
