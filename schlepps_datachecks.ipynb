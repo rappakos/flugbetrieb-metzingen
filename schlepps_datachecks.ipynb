{
 "cells": [
  {
   "cell_type": "code",
   "execution_count": 49,
   "metadata": {},
   "outputs": [
    {
     "name": "stdout",
     "output_type": "stream",
     "text": [
      "Flugtage, total: 25\n"
     ]
    },
    {
     "ename": "AttributeError",
     "evalue": "'numpy.ndarray' object has no attribute 'count'",
     "output_type": "error",
     "traceback": [
      "\u001b[1;31m---------------------------------------------------------------------------\u001b[0m",
      "\u001b[1;31mAttributeError\u001b[0m                            Traceback (most recent call last)",
      "Cell \u001b[1;32mIn[49], line 42\u001b[0m\n\u001b[0;32m     39\u001b[0m df \u001b[38;5;241m=\u001b[39m pd\u001b[38;5;241m.\u001b[39mDataFrame(flat_data, columns\u001b[38;5;241m=\u001b[39m[\u001b[38;5;124m'\u001b[39m\u001b[38;5;124mdatum\u001b[39m\u001b[38;5;124m'\u001b[39m,\u001b[38;5;124m'\u001b[39m\u001b[38;5;124mwf\u001b[39m\u001b[38;5;124m'\u001b[39m,\u001b[38;5;124m'\u001b[39m\u001b[38;5;124mewf\u001b[39m\u001b[38;5;124m'\u001b[39m,\u001b[38;5;124m'\u001b[39m\u001b[38;5;124mschlepps\u001b[39m\u001b[38;5;124m'\u001b[39m,\u001b[38;5;124m'\u001b[39m\u001b[38;5;124mhauptsaison\u001b[39m\u001b[38;5;124m'\u001b[39m,\u001b[38;5;124m'\u001b[39m\u001b[38;5;124mwochenende\u001b[39m\u001b[38;5;124m'\u001b[39m,\u001b[38;5;124m'\u001b[39m\u001b[38;5;124mdienst\u001b[39m\u001b[38;5;124m'\u001b[39m,\u001b[38;5;124m'\u001b[39m\u001b[38;5;124msonntag\u001b[39m\u001b[38;5;124m'\u001b[39m])\n\u001b[0;32m     41\u001b[0m \u001b[38;5;66;03m#print(df.tail(10))\u001b[39;00m\n\u001b[1;32m---> 42\u001b[0m \u001b[38;5;28mprint\u001b[39m(\u001b[38;5;124m\"\u001b[39m\u001b[38;5;124mWF, total\u001b[39m\u001b[38;5;124m\"\u001b[39m, \u001b[43mdf\u001b[49m\u001b[43m[\u001b[49m\u001b[38;5;124;43m'\u001b[39;49m\u001b[38;5;124;43mwf\u001b[39;49m\u001b[38;5;124;43m'\u001b[39;49m\u001b[43m]\u001b[49m\u001b[38;5;241;43m.\u001b[39;49m\u001b[43munique\u001b[49m\u001b[43m(\u001b[49m\u001b[43m)\u001b[49m\u001b[38;5;241;43m.\u001b[39;49m\u001b[43mcount\u001b[49m())\n\u001b[0;32m     43\u001b[0m \u001b[38;5;28mprint\u001b[39m(\u001b[38;5;124m\"\u001b[39m\u001b[38;5;124mSchlepps, total\u001b[39m\u001b[38;5;124m\"\u001b[39m, df[\u001b[38;5;124m'\u001b[39m\u001b[38;5;124mschlepps\u001b[39m\u001b[38;5;124m'\u001b[39m]\u001b[38;5;241m.\u001b[39msum())\n\u001b[0;32m     44\u001b[0m \u001b[38;5;28mprint\u001b[39m(\u001b[38;5;124m\"\u001b[39m\u001b[38;5;124mSchlepps, hauptsaison\u001b[39m\u001b[38;5;124m\"\u001b[39m, df[df[\u001b[38;5;124m'\u001b[39m\u001b[38;5;124mhauptsaison\u001b[39m\u001b[38;5;124m'\u001b[39m]][\u001b[38;5;124m'\u001b[39m\u001b[38;5;124mschlepps\u001b[39m\u001b[38;5;124m'\u001b[39m]\u001b[38;5;241m.\u001b[39msum())\n",
      "\u001b[1;31mAttributeError\u001b[0m: 'numpy.ndarray' object has no attribute 'count'"
     ]
    }
   ],
   "source": [
    "import json \n",
    "import pandas as pd\n",
    "from datetime import datetime\n",
    "\n",
    "with open('schlepps_2024.json') as f:\n",
    "    raw_data = json.load(f)\n",
    "\n",
    "weekdays_de = {\n",
    "    0: \"montag\",\n",
    "    1: \"dienstag\",\n",
    "    2: \"mittwoch\",\n",
    "    3: \"donnerstag\",\n",
    "    4: \"freitag\",\n",
    "    5: \"samstag\",\n",
    "    6: \"sonntag\"\n",
    "}\n",
    "\n",
    "# Flugtage\n",
    "print(\"Flugtage, total:\", len(raw_data))\n",
    "flat_data = []\n",
    "for k in raw_data:\n",
    "    d = datetime.fromisoformat(k)\n",
    "    #print(k,d.month, d.weekday())\n",
    "    assert(weekdays_de[d.weekday()]==raw_data[k]['weekday'])\n",
    "    d_schlepps, dienst = raw_data[k]['wf'], raw_data[k]['dienst'],\n",
    "    for wf in d_schlepps:\n",
    "        row = [k, \n",
    "                wf.split(' ')[0],\n",
    "                None if ' ' not in wf else wf.split(' ')[1],\n",
    "                d_schlepps[wf], \n",
    "                d.month in range(4,10), \n",
    "                d.weekday() in [5,6],\n",
    "                dienst !=\"\" and dienst in wf, # should include (ewf)\n",
    "                d.weekday() == 6\n",
    "                ]\n",
    "\n",
    "        flat_data.append(row)\n",
    "\n",
    "df = pd.DataFrame(flat_data, columns=['datum','wf','ewf','schlepps','hauptsaison','wochenende','dienst','sonntag'])\n",
    "\n",
    "#print(df.tail(10))\n",
    "print(\"WF, total\", len(df['wf'].unique()))\n",
    "print(\"Schlepps, total\", df['schlepps'].sum())\n",
    "print(\"Schlepps, hauptsaison\", df[df['hauptsaison']]['schlepps'].sum())\n",
    "print(\"Schlepps, hauptsaison+wochenende\", df[df['hauptsaison'] & df['wochenende']]['schlepps'].sum())\n",
    "print(\"Schlepps, dienst\", df[df['dienst']]['schlepps'].sum())\n",
    "print(\"Schlepps, dienst Sonntag\", df[df['dienst'] & df['sonntag'] ]['schlepps'].sum())\n",
    "\n",
    "df_by_wf = df[['wf','schlepps']].groupby(by=\"wf\").sum().sort_values(by='schlepps',ascending=False).copy(deep=True)\n",
    "df_by_ewf = df[['ewf','schlepps']].groupby(by=\"ewf\").sum().sort_values(by='schlepps',ascending=False).copy(deep=True)\n",
    "\n",
    "print(\"Schlepps, Durchschnitt pro WF\", round(df_by_wf['schlepps'].mean(),1))\n",
    "\n",
    "print(df_by_ewf.head())\n",
    "print(df_by_wf.head())\n",
    "\n"
   ]
  }
 ],
 "metadata": {
  "kernelspec": {
   "display_name": "Python 3",
   "language": "python",
   "name": "python3"
  },
  "language_info": {
   "codemirror_mode": {
    "name": "ipython",
    "version": 3
   },
   "file_extension": ".py",
   "mimetype": "text/x-python",
   "name": "python",
   "nbconvert_exporter": "python",
   "pygments_lexer": "ipython3",
   "version": "3.11.8"
  }
 },
 "nbformat": 4,
 "nbformat_minor": 2
}
